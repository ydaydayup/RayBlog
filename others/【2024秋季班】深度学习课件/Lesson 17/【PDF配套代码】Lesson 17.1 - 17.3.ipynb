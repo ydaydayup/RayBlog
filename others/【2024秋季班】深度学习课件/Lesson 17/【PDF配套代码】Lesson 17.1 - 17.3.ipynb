{
 "cells": [
  {
   "cell_type": "markdown",
   "metadata": {},
   "source": [
    "# 一、数据"
   ]
  },
  {
   "cell_type": "markdown",
   "metadata": {},
   "source": [
    "## 经典数据集"
   ]
  },
  {
   "cell_type": "markdown",
   "metadata": {},
   "source": [
    "### 1 入门数据集：MNIST一族以及其他字母/数字数据集"
   ]
  },
  {
   "cell_type": "code",
   "execution_count": 1,
   "metadata": {},
   "outputs": [],
   "source": [
    "#在频繁调用数据的过程中，可能出现环境问题，导致jupyter整个崩溃刷新\n",
    "#为解决/避免该问题，对环境进行了部分修改\n",
    "import os\n",
    "os.environ[\"KMP_DUPLICATE_LIB_OK\"]=\"TRUE\""
   ]
  },
  {
   "cell_type": "code",
   "execution_count": 2,
   "metadata": {},
   "outputs": [],
   "source": [
    "import torchvision\n",
    "import torchvision.transforms as transforms"
   ]
  },
  {
   "cell_type": "code",
   "execution_count": 3,
   "metadata": {},
   "outputs": [],
   "source": [
    "fmnist = torchvision.datasets.FashionMNIST(root ='F:\\datasets'\n",
    "                                          ,train = True #根据类的不同，参数可能发生变化\n",
    "                                          ,download = False #未下载则设置为True\n",
    "                                          ,transform = transforms.ToTensor())"
   ]
  },
  {
   "cell_type": "code",
   "execution_count": 4,
   "metadata": {},
   "outputs": [],
   "source": [
    "svhn = torchvision.datasets.SVHN(root ='F:\\datasets\\SVHN'\n",
    "                                 ,split =\"train\" #\"test\",\"val\"\n",
    "                                 ,download = False\n",
    "                                 ,transform = transforms.ToTensor())"
   ]
  },
  {
   "cell_type": "code",
   "execution_count": 5,
   "metadata": {},
   "outputs": [],
   "source": [
    "omnist = torchvision.datasets.Omniglot(root ='F:\\datasets'\n",
    "                                       ,background = True\n",
    "                                       ,download = False\n",
    "                                       ,transform = transforms.ToTensor())"
   ]
  },
  {
   "cell_type": "code",
   "execution_count": 6,
   "metadata": {},
   "outputs": [
    {
     "data": {
      "text/plain": [
       "Dataset Omniglot\n",
       "    Number of datapoints: 19280\n",
       "    Root location: F:\\datasets\\omniglot-py\n",
       "    StandardTransform\n",
       "Transform: ToTensor()"
      ]
     },
     "execution_count": 6,
     "metadata": {},
     "output_type": "execute_result"
    }
   ],
   "source": [
    "#如返回结果所示，除了样本量之外什么都无法看见\n",
    "omnist"
   ]
  },
  {
   "cell_type": "code",
   "execution_count": 7,
   "metadata": {},
   "outputs": [
    {
     "data": {
      "text/plain": [
       "Dataset FashionMNIST\n",
       "    Number of datapoints: 60000\n",
       "    Root location: F:\\datasets\n",
       "    Split: Train\n",
       "    StandardTransform\n",
       "Transform: ToTensor()"
      ]
     },
     "execution_count": 7,
     "metadata": {},
     "output_type": "execute_result"
    }
   ],
   "source": [
    "fmnist"
   ]
  },
  {
   "cell_type": "code",
   "execution_count": 8,
   "metadata": {},
   "outputs": [
    {
     "data": {
      "text/plain": [
       "Dataset SVHN\n",
       "    Number of datapoints: 73257\n",
       "    Root location: F:\\datasets\\SVHN\n",
       "    Split: train\n",
       "    StandardTransform\n",
       "Transform: ToTensor()"
      ]
     },
     "execution_count": 8,
     "metadata": {},
     "output_type": "execute_result"
    }
   ],
   "source": [
    "svhn"
   ]
  },
  {
   "cell_type": "code",
   "execution_count": 9,
   "metadata": {},
   "outputs": [
    {
     "data": {
      "text/plain": [
       "tensor([9, 0, 0,  ..., 3, 0, 5])"
      ]
     },
     "execution_count": 9,
     "metadata": {},
     "output_type": "execute_result"
    }
   ],
   "source": [
    "fmnist.targets"
   ]
  },
  {
   "cell_type": "code",
   "execution_count": 10,
   "metadata": {},
   "outputs": [
    {
     "name": "stdout",
     "output_type": "stream",
     "text": [
      "torch.Size([60000, 28, 28])\n",
      "(73257, 3, 32, 32)\n"
     ]
    },
    {
     "ename": "AttributeError",
     "evalue": "'Omniglot' object has no attribute 'data'",
     "output_type": "error",
     "traceback": [
      "\u001b[1;31m---------------------------------------------------------------------------\u001b[0m",
      "\u001b[1;31mAttributeError\u001b[0m                            Traceback (most recent call last)",
      "\u001b[1;32m<ipython-input-10-aebc7b320bc4>\u001b[0m in \u001b[0;36m<module>\u001b[1;34m\u001b[0m\n\u001b[0;32m      2\u001b[0m \u001b[1;31m#这其实可以理解，当面临的任务不同时，每个数据集的标签排布方式和意义也都不同，因此不太可能使用相同的API进行调用\u001b[0m\u001b[1;33m\u001b[0m\u001b[1;33m\u001b[0m\u001b[1;33m\u001b[0m\u001b[0m\n\u001b[0;32m      3\u001b[0m \u001b[1;32mfor\u001b[0m \u001b[0mi\u001b[0m \u001b[1;32min\u001b[0m \u001b[1;33m[\u001b[0m\u001b[0mfmnist\u001b[0m\u001b[1;33m,\u001b[0m\u001b[0msvhn\u001b[0m\u001b[1;33m,\u001b[0m\u001b[0momnist\u001b[0m\u001b[1;33m]\u001b[0m\u001b[1;33m:\u001b[0m\u001b[1;33m\u001b[0m\u001b[1;33m\u001b[0m\u001b[0m\n\u001b[1;32m----> 4\u001b[1;33m     \u001b[0mprint\u001b[0m\u001b[1;33m(\u001b[0m\u001b[0mi\u001b[0m\u001b[1;33m.\u001b[0m\u001b[0mdata\u001b[0m\u001b[1;33m.\u001b[0m\u001b[0mshape\u001b[0m\u001b[1;33m)\u001b[0m\u001b[1;33m\u001b[0m\u001b[1;33m\u001b[0m\u001b[0m\n\u001b[0m",
      "\u001b[1;31mAttributeError\u001b[0m: 'Omniglot' object has no attribute 'data'"
     ]
    }
   ],
   "source": [
    "#之前我们使用.data的方式查看特征，.target的方式查看标签，但如下所示，不同的数据集并不共享调用的API\n",
    "#这其实可以理解，当面临的任务不同时，每个数据集的标签排布方式和意义也都不同，因此不太可能使用相同的API进行调用\n",
    "for i in [fmnist,svhn,omnist]:\n",
    "    print(i.data.shape)"
   ]
  },
  {
   "cell_type": "code",
   "execution_count": 11,
   "metadata": {},
   "outputs": [
    {
     "name": "stdout",
     "output_type": "stream",
     "text": [
      "torch.Size([60000])\n"
     ]
    },
    {
     "ename": "AttributeError",
     "evalue": "'SVHN' object has no attribute 'targets'",
     "output_type": "error",
     "traceback": [
      "\u001b[1;31m---------------------------------------------------------------------------\u001b[0m",
      "\u001b[1;31mAttributeError\u001b[0m                            Traceback (most recent call last)",
      "\u001b[1;32m<ipython-input-11-9a276e929385>\u001b[0m in \u001b[0;36m<module>\u001b[1;34m\u001b[0m\n\u001b[0;32m      1\u001b[0m \u001b[1;32mfor\u001b[0m \u001b[0mi\u001b[0m \u001b[1;32min\u001b[0m \u001b[1;33m[\u001b[0m\u001b[0mfmnist\u001b[0m\u001b[1;33m,\u001b[0m\u001b[0msvhn\u001b[0m\u001b[1;33m,\u001b[0m\u001b[0momnist\u001b[0m\u001b[1;33m]\u001b[0m\u001b[1;33m:\u001b[0m\u001b[1;33m\u001b[0m\u001b[1;33m\u001b[0m\u001b[0m\n\u001b[1;32m----> 2\u001b[1;33m     \u001b[0mprint\u001b[0m\u001b[1;33m(\u001b[0m\u001b[0mi\u001b[0m\u001b[1;33m.\u001b[0m\u001b[0mtargets\u001b[0m\u001b[1;33m.\u001b[0m\u001b[0mshape\u001b[0m\u001b[1;33m)\u001b[0m\u001b[1;33m\u001b[0m\u001b[1;33m\u001b[0m\u001b[0m\n\u001b[0m",
      "\u001b[1;31mAttributeError\u001b[0m: 'SVHN' object has no attribute 'targets'"
     ]
    }
   ],
   "source": [
    "for i in [fmnist,svhn,omnist]:\n",
    "    print(i.targets.shape)"
   ]
  },
  {
   "cell_type": "code",
   "execution_count": 12,
   "metadata": {},
   "outputs": [
    {
     "data": {
      "text/plain": [
       "torch.Size([1, 105, 105])"
      ]
     },
     "execution_count": 12,
     "metadata": {},
     "output_type": "execute_result"
    }
   ],
   "source": [
    "#如果你想查看每个数据集都可以调用哪些属性，必须要进入到数据集的源码进行查看\n",
    "#如果不想读源码，也可以直接使用下面的方式进行简单的调用\n",
    "#索引的方式调用单个样本\n",
    "omnist[0][0].shape"
   ]
  },
  {
   "cell_type": "code",
   "execution_count": 13,
   "metadata": {},
   "outputs": [
    {
     "data": {
      "text/plain": [
       "19280"
      ]
     },
     "execution_count": 13,
     "metadata": {},
     "output_type": "execute_result"
    }
   ],
   "source": [
    "len(omnist) #查看样本量"
   ]
  },
  {
   "cell_type": "code",
   "execution_count": 14,
   "metadata": {},
   "outputs": [
    {
     "data": {
      "text/plain": [
       "19280"
      ]
     },
     "execution_count": 14,
     "metadata": {},
     "output_type": "execute_result"
    }
   ],
   "source": [
    "omnist.__len__()"
   ]
  },
  {
   "cell_type": "code",
   "execution_count": 15,
   "metadata": {},
   "outputs": [
    {
     "name": "stdout",
     "output_type": "stream",
     "text": [
      "torch.Size([1, 28, 28]) 9\n",
      "torch.Size([3, 32, 32]) 1\n",
      "torch.Size([1, 105, 105]) 0\n"
     ]
    }
   ],
   "source": [
    "#报错概率最低的查看方式\n",
    "for i in [fmnist,svhn,omnist]:\n",
    "    for x,y in i:\n",
    "        print(x.shape,y)\n",
    "        break"
   ]
  },
  {
   "cell_type": "code",
   "execution_count": 16,
   "metadata": {},
   "outputs": [],
   "source": [
    "#可视化\n",
    "#实际上，在读图时如果不加ToTensor的预处理，很可能直接读出PIL文件\n",
    "#PIL可以直接可视化\n",
    "fmnist = torchvision.datasets.FashionMNIST(root ='F:\\datasets'\n",
    "                                          ,train =True #根据类的不同，参数可能发生变化\n",
    "                                          ,download =False #未下载则设置为True\n",
    "                                         ,transform = transforms.ToTensor()\n",
    "                                          )"
   ]
  },
  {
   "cell_type": "code",
   "execution_count": 17,
   "metadata": {
    "collapsed": true,
    "jupyter": {
     "outputs_hidden": true
    }
   },
   "outputs": [
    {
     "data": {
      "text/plain": [
       "(tensor([[[0.0000, 0.0000, 0.0000, 0.0000, 0.0000, 0.0000, 0.0000, 0.0000,\n",
       "           0.0000, 0.0000, 0.0000, 0.0000, 0.0000, 0.0000, 0.0000, 0.0000,\n",
       "           0.0000, 0.0000, 0.0000, 0.0000, 0.0000, 0.0000, 0.0000, 0.0000,\n",
       "           0.0000, 0.0000, 0.0000, 0.0000],\n",
       "          [0.0000, 0.0000, 0.0000, 0.0000, 0.0000, 0.0000, 0.0000, 0.0000,\n",
       "           0.0000, 0.0000, 0.0000, 0.0000, 0.0000, 0.0000, 0.0000, 0.0000,\n",
       "           0.0000, 0.0000, 0.0000, 0.0000, 0.0000, 0.0000, 0.0000, 0.0000,\n",
       "           0.0000, 0.0000, 0.0000, 0.0000],\n",
       "          [0.0000, 0.0000, 0.0000, 0.0000, 0.0000, 0.0000, 0.0000, 0.0000,\n",
       "           0.0000, 0.0000, 0.0000, 0.0000, 0.0000, 0.0000, 0.0000, 0.0000,\n",
       "           0.0000, 0.0000, 0.0000, 0.0000, 0.0000, 0.0000, 0.0000, 0.0000,\n",
       "           0.0000, 0.0000, 0.0000, 0.0000],\n",
       "          [0.0000, 0.0000, 0.0000, 0.0000, 0.0000, 0.0000, 0.0000, 0.0000,\n",
       "           0.0000, 0.0000, 0.0000, 0.0000, 0.0039, 0.0000, 0.0000, 0.0510,\n",
       "           0.2863, 0.0000, 0.0000, 0.0039, 0.0157, 0.0000, 0.0000, 0.0000,\n",
       "           0.0000, 0.0039, 0.0039, 0.0000],\n",
       "          [0.0000, 0.0000, 0.0000, 0.0000, 0.0000, 0.0000, 0.0000, 0.0000,\n",
       "           0.0000, 0.0000, 0.0000, 0.0000, 0.0118, 0.0000, 0.1412, 0.5333,\n",
       "           0.4980, 0.2431, 0.2118, 0.0000, 0.0000, 0.0000, 0.0039, 0.0118,\n",
       "           0.0157, 0.0000, 0.0000, 0.0118],\n",
       "          [0.0000, 0.0000, 0.0000, 0.0000, 0.0000, 0.0000, 0.0000, 0.0000,\n",
       "           0.0000, 0.0000, 0.0000, 0.0000, 0.0235, 0.0000, 0.4000, 0.8000,\n",
       "           0.6902, 0.5255, 0.5647, 0.4824, 0.0902, 0.0000, 0.0000, 0.0000,\n",
       "           0.0000, 0.0471, 0.0392, 0.0000],\n",
       "          [0.0000, 0.0000, 0.0000, 0.0000, 0.0000, 0.0000, 0.0000, 0.0000,\n",
       "           0.0000, 0.0000, 0.0000, 0.0000, 0.0000, 0.0000, 0.6078, 0.9255,\n",
       "           0.8118, 0.6980, 0.4196, 0.6118, 0.6314, 0.4275, 0.2510, 0.0902,\n",
       "           0.3020, 0.5098, 0.2824, 0.0588],\n",
       "          [0.0000, 0.0000, 0.0000, 0.0000, 0.0000, 0.0000, 0.0000, 0.0000,\n",
       "           0.0000, 0.0000, 0.0000, 0.0039, 0.0000, 0.2706, 0.8118, 0.8745,\n",
       "           0.8549, 0.8471, 0.8471, 0.6392, 0.4980, 0.4745, 0.4784, 0.5725,\n",
       "           0.5529, 0.3451, 0.6745, 0.2588],\n",
       "          [0.0000, 0.0000, 0.0000, 0.0000, 0.0000, 0.0000, 0.0000, 0.0000,\n",
       "           0.0000, 0.0039, 0.0039, 0.0039, 0.0000, 0.7843, 0.9098, 0.9098,\n",
       "           0.9137, 0.8980, 0.8745, 0.8745, 0.8431, 0.8353, 0.6431, 0.4980,\n",
       "           0.4824, 0.7686, 0.8980, 0.0000],\n",
       "          [0.0000, 0.0000, 0.0000, 0.0000, 0.0000, 0.0000, 0.0000, 0.0000,\n",
       "           0.0000, 0.0000, 0.0000, 0.0000, 0.0000, 0.7176, 0.8824, 0.8471,\n",
       "           0.8745, 0.8941, 0.9216, 0.8902, 0.8784, 0.8706, 0.8784, 0.8667,\n",
       "           0.8745, 0.9608, 0.6784, 0.0000],\n",
       "          [0.0000, 0.0000, 0.0000, 0.0000, 0.0000, 0.0000, 0.0000, 0.0000,\n",
       "           0.0000, 0.0000, 0.0000, 0.0000, 0.0000, 0.7569, 0.8941, 0.8549,\n",
       "           0.8353, 0.7765, 0.7059, 0.8314, 0.8235, 0.8275, 0.8353, 0.8745,\n",
       "           0.8627, 0.9529, 0.7922, 0.0000],\n",
       "          [0.0000, 0.0000, 0.0000, 0.0000, 0.0000, 0.0000, 0.0000, 0.0000,\n",
       "           0.0000, 0.0039, 0.0118, 0.0000, 0.0471, 0.8588, 0.8627, 0.8314,\n",
       "           0.8549, 0.7529, 0.6627, 0.8902, 0.8157, 0.8549, 0.8784, 0.8314,\n",
       "           0.8863, 0.7725, 0.8196, 0.2039],\n",
       "          [0.0000, 0.0000, 0.0000, 0.0000, 0.0000, 0.0000, 0.0000, 0.0000,\n",
       "           0.0000, 0.0000, 0.0235, 0.0000, 0.3882, 0.9569, 0.8706, 0.8627,\n",
       "           0.8549, 0.7961, 0.7765, 0.8667, 0.8431, 0.8353, 0.8706, 0.8627,\n",
       "           0.9608, 0.4667, 0.6549, 0.2196],\n",
       "          [0.0000, 0.0000, 0.0000, 0.0000, 0.0000, 0.0000, 0.0000, 0.0000,\n",
       "           0.0000, 0.0157, 0.0000, 0.0000, 0.2157, 0.9255, 0.8941, 0.9020,\n",
       "           0.8941, 0.9412, 0.9098, 0.8353, 0.8549, 0.8745, 0.9176, 0.8510,\n",
       "           0.8510, 0.8196, 0.3608, 0.0000],\n",
       "          [0.0000, 0.0000, 0.0039, 0.0157, 0.0235, 0.0275, 0.0078, 0.0000,\n",
       "           0.0000, 0.0000, 0.0000, 0.0000, 0.9294, 0.8863, 0.8510, 0.8745,\n",
       "           0.8706, 0.8588, 0.8706, 0.8667, 0.8471, 0.8745, 0.8980, 0.8431,\n",
       "           0.8549, 1.0000, 0.3020, 0.0000],\n",
       "          [0.0000, 0.0118, 0.0000, 0.0000, 0.0000, 0.0000, 0.0000, 0.0000,\n",
       "           0.0000, 0.2431, 0.5686, 0.8000, 0.8941, 0.8118, 0.8353, 0.8667,\n",
       "           0.8549, 0.8157, 0.8275, 0.8549, 0.8784, 0.8745, 0.8588, 0.8431,\n",
       "           0.8784, 0.9569, 0.6235, 0.0000],\n",
       "          [0.0000, 0.0000, 0.0000, 0.0000, 0.0706, 0.1725, 0.3216, 0.4196,\n",
       "           0.7412, 0.8941, 0.8627, 0.8706, 0.8510, 0.8863, 0.7843, 0.8039,\n",
       "           0.8275, 0.9020, 0.8784, 0.9176, 0.6902, 0.7373, 0.9804, 0.9725,\n",
       "           0.9137, 0.9333, 0.8431, 0.0000],\n",
       "          [0.0000, 0.2235, 0.7333, 0.8157, 0.8784, 0.8667, 0.8784, 0.8157,\n",
       "           0.8000, 0.8392, 0.8157, 0.8196, 0.7843, 0.6235, 0.9608, 0.7569,\n",
       "           0.8078, 0.8745, 1.0000, 1.0000, 0.8667, 0.9176, 0.8667, 0.8275,\n",
       "           0.8627, 0.9098, 0.9647, 0.0000],\n",
       "          [0.0118, 0.7922, 0.8941, 0.8784, 0.8667, 0.8275, 0.8275, 0.8392,\n",
       "           0.8039, 0.8039, 0.8039, 0.8627, 0.9412, 0.3137, 0.5882, 1.0000,\n",
       "           0.8980, 0.8667, 0.7373, 0.6039, 0.7490, 0.8235, 0.8000, 0.8196,\n",
       "           0.8706, 0.8941, 0.8824, 0.0000],\n",
       "          [0.3843, 0.9137, 0.7765, 0.8235, 0.8706, 0.8980, 0.8980, 0.9176,\n",
       "           0.9765, 0.8627, 0.7608, 0.8431, 0.8510, 0.9451, 0.2549, 0.2863,\n",
       "           0.4157, 0.4588, 0.6588, 0.8588, 0.8667, 0.8431, 0.8510, 0.8745,\n",
       "           0.8745, 0.8784, 0.8980, 0.1137],\n",
       "          [0.2941, 0.8000, 0.8314, 0.8000, 0.7569, 0.8039, 0.8275, 0.8824,\n",
       "           0.8471, 0.7255, 0.7725, 0.8078, 0.7765, 0.8353, 0.9412, 0.7647,\n",
       "           0.8902, 0.9608, 0.9373, 0.8745, 0.8549, 0.8314, 0.8196, 0.8706,\n",
       "           0.8627, 0.8667, 0.9020, 0.2627],\n",
       "          [0.1882, 0.7961, 0.7176, 0.7608, 0.8353, 0.7725, 0.7255, 0.7451,\n",
       "           0.7608, 0.7529, 0.7922, 0.8392, 0.8588, 0.8667, 0.8627, 0.9255,\n",
       "           0.8824, 0.8471, 0.7804, 0.8078, 0.7294, 0.7098, 0.6941, 0.6745,\n",
       "           0.7098, 0.8039, 0.8078, 0.4510],\n",
       "          [0.0000, 0.4784, 0.8588, 0.7569, 0.7020, 0.6706, 0.7176, 0.7686,\n",
       "           0.8000, 0.8235, 0.8353, 0.8118, 0.8275, 0.8235, 0.7843, 0.7686,\n",
       "           0.7608, 0.7490, 0.7647, 0.7490, 0.7765, 0.7529, 0.6902, 0.6118,\n",
       "           0.6549, 0.6941, 0.8235, 0.3608],\n",
       "          [0.0000, 0.0000, 0.2902, 0.7412, 0.8314, 0.7490, 0.6863, 0.6745,\n",
       "           0.6863, 0.7098, 0.7255, 0.7373, 0.7412, 0.7373, 0.7569, 0.7765,\n",
       "           0.8000, 0.8196, 0.8235, 0.8235, 0.8275, 0.7373, 0.7373, 0.7608,\n",
       "           0.7529, 0.8471, 0.6667, 0.0000],\n",
       "          [0.0078, 0.0000, 0.0000, 0.0000, 0.2588, 0.7843, 0.8706, 0.9294,\n",
       "           0.9373, 0.9490, 0.9647, 0.9529, 0.9569, 0.8667, 0.8627, 0.7569,\n",
       "           0.7490, 0.7020, 0.7137, 0.7137, 0.7098, 0.6902, 0.6510, 0.6588,\n",
       "           0.3882, 0.2275, 0.0000, 0.0000],\n",
       "          [0.0000, 0.0000, 0.0000, 0.0000, 0.0000, 0.0000, 0.0000, 0.1569,\n",
       "           0.2392, 0.1725, 0.2824, 0.1608, 0.1373, 0.0000, 0.0000, 0.0000,\n",
       "           0.0000, 0.0000, 0.0000, 0.0000, 0.0000, 0.0000, 0.0000, 0.0000,\n",
       "           0.0000, 0.0000, 0.0000, 0.0000],\n",
       "          [0.0000, 0.0000, 0.0000, 0.0000, 0.0000, 0.0000, 0.0000, 0.0000,\n",
       "           0.0000, 0.0000, 0.0000, 0.0000, 0.0000, 0.0000, 0.0000, 0.0000,\n",
       "           0.0000, 0.0000, 0.0000, 0.0000, 0.0000, 0.0000, 0.0000, 0.0000,\n",
       "           0.0000, 0.0000, 0.0000, 0.0000],\n",
       "          [0.0000, 0.0000, 0.0000, 0.0000, 0.0000, 0.0000, 0.0000, 0.0000,\n",
       "           0.0000, 0.0000, 0.0000, 0.0000, 0.0000, 0.0000, 0.0000, 0.0000,\n",
       "           0.0000, 0.0000, 0.0000, 0.0000, 0.0000, 0.0000, 0.0000, 0.0000,\n",
       "           0.0000, 0.0000, 0.0000, 0.0000]]]),\n",
       " 9)"
      ]
     },
     "execution_count": 17,
     "metadata": {},
     "output_type": "execute_result"
    }
   ],
   "source": [
    "fmnist[0]"
   ]
  },
  {
   "cell_type": "code",
   "execution_count": 18,
   "metadata": {
    "collapsed": true,
    "jupyter": {
     "outputs_hidden": true
    }
   },
   "outputs": [
    {
     "data": {
      "text/plain": [
       "tensor([[[0.0000, 0.0000, 0.0000, 0.0000, 0.0000, 0.0000, 0.0000, 0.0000,\n",
       "          0.0000, 0.0000, 0.0000, 0.0000, 0.0000, 0.0000, 0.0000, 0.0000,\n",
       "          0.0000, 0.0000, 0.0000, 0.0000, 0.0000, 0.0000, 0.0000, 0.0000,\n",
       "          0.0000, 0.0000, 0.0000, 0.0000],\n",
       "         [0.0000, 0.0000, 0.0000, 0.0000, 0.0000, 0.0000, 0.0000, 0.0000,\n",
       "          0.0000, 0.0000, 0.0000, 0.0000, 0.0000, 0.0000, 0.0000, 0.0000,\n",
       "          0.0000, 0.0000, 0.0000, 0.0000, 0.0000, 0.0000, 0.0000, 0.0000,\n",
       "          0.0000, 0.0000, 0.0000, 0.0000],\n",
       "         [0.0000, 0.0000, 0.0000, 0.0000, 0.0000, 0.0000, 0.0000, 0.0000,\n",
       "          0.0000, 0.0000, 0.0000, 0.0000, 0.0000, 0.0000, 0.0000, 0.0000,\n",
       "          0.0000, 0.0000, 0.0000, 0.0000, 0.0000, 0.0000, 0.0000, 0.0000,\n",
       "          0.0000, 0.0000, 0.0000, 0.0000],\n",
       "         [0.0000, 0.0000, 0.0000, 0.0000, 0.0000, 0.0000, 0.0000, 0.0000,\n",
       "          0.0000, 0.0000, 0.0000, 0.0000, 0.0039, 0.0000, 0.0000, 0.0510,\n",
       "          0.2863, 0.0000, 0.0000, 0.0039, 0.0157, 0.0000, 0.0000, 0.0000,\n",
       "          0.0000, 0.0039, 0.0039, 0.0000],\n",
       "         [0.0000, 0.0000, 0.0000, 0.0000, 0.0000, 0.0000, 0.0000, 0.0000,\n",
       "          0.0000, 0.0000, 0.0000, 0.0000, 0.0118, 0.0000, 0.1412, 0.5333,\n",
       "          0.4980, 0.2431, 0.2118, 0.0000, 0.0000, 0.0000, 0.0039, 0.0118,\n",
       "          0.0157, 0.0000, 0.0000, 0.0118],\n",
       "         [0.0000, 0.0000, 0.0000, 0.0000, 0.0000, 0.0000, 0.0000, 0.0000,\n",
       "          0.0000, 0.0000, 0.0000, 0.0000, 0.0235, 0.0000, 0.4000, 0.8000,\n",
       "          0.6902, 0.5255, 0.5647, 0.4824, 0.0902, 0.0000, 0.0000, 0.0000,\n",
       "          0.0000, 0.0471, 0.0392, 0.0000],\n",
       "         [0.0000, 0.0000, 0.0000, 0.0000, 0.0000, 0.0000, 0.0000, 0.0000,\n",
       "          0.0000, 0.0000, 0.0000, 0.0000, 0.0000, 0.0000, 0.6078, 0.9255,\n",
       "          0.8118, 0.6980, 0.4196, 0.6118, 0.6314, 0.4275, 0.2510, 0.0902,\n",
       "          0.3020, 0.5098, 0.2824, 0.0588],\n",
       "         [0.0000, 0.0000, 0.0000, 0.0000, 0.0000, 0.0000, 0.0000, 0.0000,\n",
       "          0.0000, 0.0000, 0.0000, 0.0039, 0.0000, 0.2706, 0.8118, 0.8745,\n",
       "          0.8549, 0.8471, 0.8471, 0.6392, 0.4980, 0.4745, 0.4784, 0.5725,\n",
       "          0.5529, 0.3451, 0.6745, 0.2588],\n",
       "         [0.0000, 0.0000, 0.0000, 0.0000, 0.0000, 0.0000, 0.0000, 0.0000,\n",
       "          0.0000, 0.0039, 0.0039, 0.0039, 0.0000, 0.7843, 0.9098, 0.9098,\n",
       "          0.9137, 0.8980, 0.8745, 0.8745, 0.8431, 0.8353, 0.6431, 0.4980,\n",
       "          0.4824, 0.7686, 0.8980, 0.0000],\n",
       "         [0.0000, 0.0000, 0.0000, 0.0000, 0.0000, 0.0000, 0.0000, 0.0000,\n",
       "          0.0000, 0.0000, 0.0000, 0.0000, 0.0000, 0.7176, 0.8824, 0.8471,\n",
       "          0.8745, 0.8941, 0.9216, 0.8902, 0.8784, 0.8706, 0.8784, 0.8667,\n",
       "          0.8745, 0.9608, 0.6784, 0.0000],\n",
       "         [0.0000, 0.0000, 0.0000, 0.0000, 0.0000, 0.0000, 0.0000, 0.0000,\n",
       "          0.0000, 0.0000, 0.0000, 0.0000, 0.0000, 0.7569, 0.8941, 0.8549,\n",
       "          0.8353, 0.7765, 0.7059, 0.8314, 0.8235, 0.8275, 0.8353, 0.8745,\n",
       "          0.8627, 0.9529, 0.7922, 0.0000],\n",
       "         [0.0000, 0.0000, 0.0000, 0.0000, 0.0000, 0.0000, 0.0000, 0.0000,\n",
       "          0.0000, 0.0039, 0.0118, 0.0000, 0.0471, 0.8588, 0.8627, 0.8314,\n",
       "          0.8549, 0.7529, 0.6627, 0.8902, 0.8157, 0.8549, 0.8784, 0.8314,\n",
       "          0.8863, 0.7725, 0.8196, 0.2039],\n",
       "         [0.0000, 0.0000, 0.0000, 0.0000, 0.0000, 0.0000, 0.0000, 0.0000,\n",
       "          0.0000, 0.0000, 0.0235, 0.0000, 0.3882, 0.9569, 0.8706, 0.8627,\n",
       "          0.8549, 0.7961, 0.7765, 0.8667, 0.8431, 0.8353, 0.8706, 0.8627,\n",
       "          0.9608, 0.4667, 0.6549, 0.2196],\n",
       "         [0.0000, 0.0000, 0.0000, 0.0000, 0.0000, 0.0000, 0.0000, 0.0000,\n",
       "          0.0000, 0.0157, 0.0000, 0.0000, 0.2157, 0.9255, 0.8941, 0.9020,\n",
       "          0.8941, 0.9412, 0.9098, 0.8353, 0.8549, 0.8745, 0.9176, 0.8510,\n",
       "          0.8510, 0.8196, 0.3608, 0.0000],\n",
       "         [0.0000, 0.0000, 0.0039, 0.0157, 0.0235, 0.0275, 0.0078, 0.0000,\n",
       "          0.0000, 0.0000, 0.0000, 0.0000, 0.9294, 0.8863, 0.8510, 0.8745,\n",
       "          0.8706, 0.8588, 0.8706, 0.8667, 0.8471, 0.8745, 0.8980, 0.8431,\n",
       "          0.8549, 1.0000, 0.3020, 0.0000],\n",
       "         [0.0000, 0.0118, 0.0000, 0.0000, 0.0000, 0.0000, 0.0000, 0.0000,\n",
       "          0.0000, 0.2431, 0.5686, 0.8000, 0.8941, 0.8118, 0.8353, 0.8667,\n",
       "          0.8549, 0.8157, 0.8275, 0.8549, 0.8784, 0.8745, 0.8588, 0.8431,\n",
       "          0.8784, 0.9569, 0.6235, 0.0000],\n",
       "         [0.0000, 0.0000, 0.0000, 0.0000, 0.0706, 0.1725, 0.3216, 0.4196,\n",
       "          0.7412, 0.8941, 0.8627, 0.8706, 0.8510, 0.8863, 0.7843, 0.8039,\n",
       "          0.8275, 0.9020, 0.8784, 0.9176, 0.6902, 0.7373, 0.9804, 0.9725,\n",
       "          0.9137, 0.9333, 0.8431, 0.0000],\n",
       "         [0.0000, 0.2235, 0.7333, 0.8157, 0.8784, 0.8667, 0.8784, 0.8157,\n",
       "          0.8000, 0.8392, 0.8157, 0.8196, 0.7843, 0.6235, 0.9608, 0.7569,\n",
       "          0.8078, 0.8745, 1.0000, 1.0000, 0.8667, 0.9176, 0.8667, 0.8275,\n",
       "          0.8627, 0.9098, 0.9647, 0.0000],\n",
       "         [0.0118, 0.7922, 0.8941, 0.8784, 0.8667, 0.8275, 0.8275, 0.8392,\n",
       "          0.8039, 0.8039, 0.8039, 0.8627, 0.9412, 0.3137, 0.5882, 1.0000,\n",
       "          0.8980, 0.8667, 0.7373, 0.6039, 0.7490, 0.8235, 0.8000, 0.8196,\n",
       "          0.8706, 0.8941, 0.8824, 0.0000],\n",
       "         [0.3843, 0.9137, 0.7765, 0.8235, 0.8706, 0.8980, 0.8980, 0.9176,\n",
       "          0.9765, 0.8627, 0.7608, 0.8431, 0.8510, 0.9451, 0.2549, 0.2863,\n",
       "          0.4157, 0.4588, 0.6588, 0.8588, 0.8667, 0.8431, 0.8510, 0.8745,\n",
       "          0.8745, 0.8784, 0.8980, 0.1137],\n",
       "         [0.2941, 0.8000, 0.8314, 0.8000, 0.7569, 0.8039, 0.8275, 0.8824,\n",
       "          0.8471, 0.7255, 0.7725, 0.8078, 0.7765, 0.8353, 0.9412, 0.7647,\n",
       "          0.8902, 0.9608, 0.9373, 0.8745, 0.8549, 0.8314, 0.8196, 0.8706,\n",
       "          0.8627, 0.8667, 0.9020, 0.2627],\n",
       "         [0.1882, 0.7961, 0.7176, 0.7608, 0.8353, 0.7725, 0.7255, 0.7451,\n",
       "          0.7608, 0.7529, 0.7922, 0.8392, 0.8588, 0.8667, 0.8627, 0.9255,\n",
       "          0.8824, 0.8471, 0.7804, 0.8078, 0.7294, 0.7098, 0.6941, 0.6745,\n",
       "          0.7098, 0.8039, 0.8078, 0.4510],\n",
       "         [0.0000, 0.4784, 0.8588, 0.7569, 0.7020, 0.6706, 0.7176, 0.7686,\n",
       "          0.8000, 0.8235, 0.8353, 0.8118, 0.8275, 0.8235, 0.7843, 0.7686,\n",
       "          0.7608, 0.7490, 0.7647, 0.7490, 0.7765, 0.7529, 0.6902, 0.6118,\n",
       "          0.6549, 0.6941, 0.8235, 0.3608],\n",
       "         [0.0000, 0.0000, 0.2902, 0.7412, 0.8314, 0.7490, 0.6863, 0.6745,\n",
       "          0.6863, 0.7098, 0.7255, 0.7373, 0.7412, 0.7373, 0.7569, 0.7765,\n",
       "          0.8000, 0.8196, 0.8235, 0.8235, 0.8275, 0.7373, 0.7373, 0.7608,\n",
       "          0.7529, 0.8471, 0.6667, 0.0000],\n",
       "         [0.0078, 0.0000, 0.0000, 0.0000, 0.2588, 0.7843, 0.8706, 0.9294,\n",
       "          0.9373, 0.9490, 0.9647, 0.9529, 0.9569, 0.8667, 0.8627, 0.7569,\n",
       "          0.7490, 0.7020, 0.7137, 0.7137, 0.7098, 0.6902, 0.6510, 0.6588,\n",
       "          0.3882, 0.2275, 0.0000, 0.0000],\n",
       "         [0.0000, 0.0000, 0.0000, 0.0000, 0.0000, 0.0000, 0.0000, 0.1569,\n",
       "          0.2392, 0.1725, 0.2824, 0.1608, 0.1373, 0.0000, 0.0000, 0.0000,\n",
       "          0.0000, 0.0000, 0.0000, 0.0000, 0.0000, 0.0000, 0.0000, 0.0000,\n",
       "          0.0000, 0.0000, 0.0000, 0.0000],\n",
       "         [0.0000, 0.0000, 0.0000, 0.0000, 0.0000, 0.0000, 0.0000, 0.0000,\n",
       "          0.0000, 0.0000, 0.0000, 0.0000, 0.0000, 0.0000, 0.0000, 0.0000,\n",
       "          0.0000, 0.0000, 0.0000, 0.0000, 0.0000, 0.0000, 0.0000, 0.0000,\n",
       "          0.0000, 0.0000, 0.0000, 0.0000],\n",
       "         [0.0000, 0.0000, 0.0000, 0.0000, 0.0000, 0.0000, 0.0000, 0.0000,\n",
       "          0.0000, 0.0000, 0.0000, 0.0000, 0.0000, 0.0000, 0.0000, 0.0000,\n",
       "          0.0000, 0.0000, 0.0000, 0.0000, 0.0000, 0.0000, 0.0000, 0.0000,\n",
       "          0.0000, 0.0000, 0.0000, 0.0000]]])"
      ]
     },
     "execution_count": 18,
     "metadata": {},
     "output_type": "execute_result"
    }
   ],
   "source": [
    "fmnist[0][0] #尺寸较小，难以看清"
   ]
  },
  {
   "cell_type": "code",
   "execution_count": 19,
   "metadata": {},
   "outputs": [],
   "source": [
    "#同时，当数据集很大时，我们希望最好只读取一遍，所以一般还是会加上ToTensor\n",
    "#此时我们就需要自己编写可视化的函数\n",
    "\n",
    "#使用numpy和matplotlib将图像可视化\n",
    "import matplotlib.pyplot as plt\n",
    "import numpy as np\n",
    "import random\n",
    "\n",
    "#让每个数据集随机显示5张图像\n",
    "def plotsample(data):\n",
    "    fig, axs = plt.subplots(1,5,figsize=(10,10)) #建立子图\n",
    "    for i in range(5):\n",
    "        num = random.randint(0,len(data)-1) #首先选取随机数，随机选取五次\n",
    "        #抽取数据中对应的图像对象，make_grid函数可将任意格式的图像的通道数升为3，而不改变图像原始的数据\n",
    "        #而展示图像用的imshow函数最常见的输入格式也是3通道\n",
    "        npimg = torchvision.utils.make_grid(data[num][0]).numpy()\n",
    "        nplabel = data[num][1] #提取标签\n",
    "        #将图像由(3, weight, height)转化为(weight, height, 3)，并放入imshow函数中读取\n",
    "        axs[i].imshow(np.transpose(npimg, (1, 2, 0))) \n",
    "        axs[i].set_title(nplabel) #给每个子图加上标签\n",
    "        axs[i].axis(\"off\") #消除每个子图的坐标轴"
   ]
  },
  {
   "cell_type": "code",
   "execution_count": 20,
   "metadata": {},
   "outputs": [
    {
     "data": {
      "image/png": "[encoded data removed]",
      "text/plain": [
       "<Figure size 720x720 with 5 Axes>"
      ]
     },
     "metadata": {
      "needs_background": "light"
     },
     "output_type": "display_data"
    }
   ],
   "source": [
    "#可以自行修改plotsample函数，为可视化实现更高的自由度\n",
    "plotsample(omnist)"
   ]
  },
  {
   "cell_type": "code",
   "execution_count": 21,
   "metadata": {},
   "outputs": [
    {
     "data": {
      "image/png": "[encoded data removed]",
      "text/plain": [
       "<Figure size 720x720 with 5 Axes>"
      ]
     },
     "metadata": {
      "needs_background": "light"
     },
     "output_type": "display_data"
    }
   ],
   "source": [
    "plotsample(svhn)"
   ]
  },
  {
   "cell_type": "code",
   "execution_count": 22,
   "metadata": {},
   "outputs": [
    {
     "data": {
      "image/png": "[encoded data removed]",
      "text/plain": [
       "<Figure size 720x720 with 5 Axes>"
      ]
     },
     "metadata": {
      "needs_background": "light"
     },
     "output_type": "display_data"
    }
   ],
   "source": [
    "plotsample(fmnist)"
   ]
  },
  {
   "cell_type": "markdown",
   "metadata": {},
   "source": [
    "### 2 竞赛数据集"
   ]
  },
  {
   "cell_type": "code",
   "execution_count": 23,
   "metadata": {},
   "outputs": [],
   "source": [
    "#导入一个类别\n",
    "data_train = torchvision.datasets.LSUN(root=r\"F:\\datasets2\\lsun-master\\data\"\n",
    "                                       ,classes=[\"church_outdoor_train\"] #标签类别\n",
    "                                       ,transform = transforms.ToTensor()\n",
    "                                      )"
   ]
  },
  {
   "cell_type": "code",
   "execution_count": 24,
   "metadata": {},
   "outputs": [
    {
     "data": {
      "text/plain": [
       "Dataset LSUN\n",
       "    Number of datapoints: 126227\n",
       "    Root location: F:\\datasets2\\lsun-master\\data\n",
       "    Classes: ['church_outdoor_train']\n",
       "    StandardTransform\n",
       "Transform: ToTensor()"
      ]
     },
     "execution_count": 24,
     "metadata": {},
     "output_type": "execute_result"
    }
   ],
   "source": [
    "data_train"
   ]
  },
  {
   "cell_type": "code",
   "execution_count": 25,
   "metadata": {},
   "outputs": [],
   "source": [
    "data_val = torchvision.datasets.LSUN(root=r\"F:\\datasets2\\lsun-master\\data\"\n",
    "                                     ,classes=[\"church_outdoor_val\"]\n",
    "                                     ,transform = transforms.ToTensor())"
   ]
  },
  {
   "cell_type": "code",
   "execution_count": 26,
   "metadata": {},
   "outputs": [
    {
     "data": {
      "text/plain": [
       "Dataset LSUN\n",
       "    Number of datapoints: 300\n",
       "    Root location: F:\\datasets2\\lsun-master\\data\n",
       "    Classes: ['church_outdoor_val']\n",
       "    StandardTransform\n",
       "Transform: ToTensor()"
      ]
     },
     "execution_count": 26,
     "metadata": {},
     "output_type": "execute_result"
    }
   ],
   "source": [
    "data_val"
   ]
  },
  {
   "cell_type": "code",
   "execution_count": 27,
   "metadata": {},
   "outputs": [
    {
     "data": {
      "text/plain": [
       "tensor([[[0.8471, 0.8471, 0.8471,  ..., 0.9373, 0.9098, 0.5961],\n",
       "         [0.8471, 0.8471, 0.8471,  ..., 0.9412, 0.9176, 0.6471],\n",
       "         [0.8471, 0.8471, 0.8471,  ..., 0.9412, 0.9294, 0.7333],\n",
       "         ...,\n",
       "         [0.4902, 0.4902, 0.4902,  ..., 0.2902, 0.2863, 0.2824],\n",
       "         [0.4980, 0.4980, 0.4980,  ..., 0.3098, 0.3059, 0.3020],\n",
       "         [0.4941, 0.4941, 0.4941,  ..., 0.3333, 0.3333, 0.3333]],\n",
       "\n",
       "        [[0.8510, 0.8510, 0.8510,  ..., 0.9294, 0.9020, 0.5882],\n",
       "         [0.8510, 0.8510, 0.8510,  ..., 0.9333, 0.9098, 0.6392],\n",
       "         [0.8510, 0.8510, 0.8510,  ..., 0.9333, 0.9216, 0.7255],\n",
       "         ...,\n",
       "         [0.4824, 0.4824, 0.4824,  ..., 0.1529, 0.1490, 0.1451],\n",
       "         [0.4902, 0.4902, 0.4902,  ..., 0.1725, 0.1686, 0.1647],\n",
       "         [0.4863, 0.4863, 0.4863,  ..., 0.1961, 0.1961, 0.1961]],\n",
       "\n",
       "        [[0.8588, 0.8588, 0.8588,  ..., 0.9725, 0.9451, 0.6314],\n",
       "         [0.8588, 0.8588, 0.8588,  ..., 0.9765, 0.9529, 0.6824],\n",
       "         [0.8588, 0.8588, 0.8588,  ..., 0.9765, 0.9647, 0.7686],\n",
       "         ...,\n",
       "         [0.4314, 0.4314, 0.4314,  ..., 0.0667, 0.0706, 0.0667],\n",
       "         [0.4392, 0.4392, 0.4392,  ..., 0.0863, 0.0902, 0.0863],\n",
       "         [0.4353, 0.4353, 0.4353,  ..., 0.1098, 0.1176, 0.1176]]])"
      ]
     },
     "execution_count": 27,
     "metadata": {},
     "output_type": "execute_result"
    }
   ],
   "source": [
    "data_train[3][0]"
   ]
  },
  {
   "cell_type": "code",
   "execution_count": 28,
   "metadata": {},
   "outputs": [
    {
     "data": {
      "image/png": "[encoded data removed]",
      "text/plain": [
       "<Figure size 720x720 with 5 Axes>"
      ]
     },
     "metadata": {
      "needs_background": "light"
     },
     "output_type": "display_data"
    }
   ],
   "source": [
    "plotsample(data_val)"
   ]
  },
  {
   "cell_type": "code",
   "execution_count": 29,
   "metadata": {
    "collapsed": true,
    "jupyter": {
     "outputs_hidden": true
    }
   },
   "outputs": [
    {
     "name": "stdout",
     "output_type": "stream",
     "text": [
      "torch.Size([3, 256, 341])\n",
      "0\n",
      "torch.Size([3, 341, 256])\n",
      "0\n",
      "torch.Size([3, 358, 256])\n",
      "0\n",
      "torch.Size([3, 256, 341])\n",
      "0\n",
      "torch.Size([3, 383, 256])\n",
      "0\n",
      "torch.Size([3, 256, 360])\n",
      "0\n",
      "torch.Size([3, 256, 358])\n",
      "0\n",
      "torch.Size([3, 377, 256])\n",
      "0\n",
      "torch.Size([3, 341, 256])\n",
      "0\n",
      "torch.Size([3, 341, 256])\n",
      "0\n",
      "torch.Size([3, 256, 360])\n",
      "0\n",
      "torch.Size([3, 256, 292])\n",
      "0\n",
      "torch.Size([3, 341, 256])\n",
      "0\n",
      "torch.Size([3, 256, 256])\n",
      "0\n",
      "torch.Size([3, 256, 341])\n",
      "0\n",
      "torch.Size([3, 256, 363])\n",
      "0\n",
      "torch.Size([3, 256, 341])\n",
      "0\n",
      "torch.Size([3, 349, 256])\n",
      "0\n",
      "torch.Size([3, 256, 384])\n",
      "0\n",
      "torch.Size([3, 386, 256])\n",
      "0\n",
      "torch.Size([3, 271, 256])\n",
      "0\n",
      "torch.Size([3, 256, 340])\n",
      "0\n",
      "torch.Size([3, 256, 256])\n",
      "0\n",
      "torch.Size([3, 256, 380])\n",
      "0\n",
      "torch.Size([3, 256, 387])\n",
      "0\n",
      "torch.Size([3, 256, 341])\n",
      "0\n",
      "torch.Size([3, 256, 341])\n",
      "0\n",
      "torch.Size([3, 256, 383])\n",
      "0\n",
      "torch.Size([3, 256, 341])\n",
      "0\n",
      "torch.Size([3, 386, 256])\n",
      "0\n",
      "torch.Size([3, 256, 446])\n",
      "0\n",
      "torch.Size([3, 256, 361])\n",
      "0\n",
      "torch.Size([3, 341, 256])\n",
      "0\n",
      "torch.Size([3, 256, 341])\n",
      "0\n",
      "torch.Size([3, 376, 256])\n",
      "0\n",
      "torch.Size([3, 256, 333])\n",
      "0\n",
      "torch.Size([3, 256, 321])\n",
      "0\n",
      "torch.Size([3, 384, 256])\n",
      "0\n",
      "torch.Size([3, 358, 256])\n",
      "0\n",
      "torch.Size([3, 384, 256])\n",
      "0\n",
      "torch.Size([3, 341, 256])\n",
      "0\n",
      "torch.Size([3, 256, 455])\n",
      "0\n",
      "torch.Size([3, 256, 341])\n",
      "0\n",
      "torch.Size([3, 256, 321])\n",
      "0\n",
      "torch.Size([3, 256, 341])\n",
      "0\n",
      "torch.Size([3, 256, 386])\n",
      "0\n",
      "torch.Size([3, 256, 391])\n",
      "0\n",
      "torch.Size([3, 256, 385])\n",
      "0\n",
      "torch.Size([3, 256, 339])\n",
      "0\n",
      "torch.Size([3, 256, 326])\n",
      "0\n",
      "torch.Size([3, 256, 384])\n",
      "0\n",
      "torch.Size([3, 256, 341])\n",
      "0\n",
      "torch.Size([3, 256, 341])\n",
      "0\n",
      "torch.Size([3, 382, 256])\n",
      "0\n",
      "torch.Size([3, 401, 256])\n",
      "0\n",
      "torch.Size([3, 256, 483])\n",
      "0\n",
      "torch.Size([3, 256, 341])\n",
      "0\n",
      "torch.Size([3, 401, 256])\n",
      "0\n",
      "torch.Size([3, 358, 256])\n",
      "0\n",
      "torch.Size([3, 256, 385])\n",
      "0\n",
      "torch.Size([3, 256, 360])\n",
      "0\n",
      "torch.Size([3, 256, 341])\n",
      "0\n",
      "torch.Size([3, 256, 382])\n",
      "0\n",
      "torch.Size([3, 256, 278])\n",
      "0\n",
      "torch.Size([3, 256, 384])\n",
      "0\n",
      "torch.Size([3, 256, 383])\n",
      "0\n",
      "torch.Size([3, 256, 341])\n",
      "0\n",
      "torch.Size([3, 256, 341])\n",
      "0\n",
      "torch.Size([3, 256, 333])\n",
      "0\n",
      "torch.Size([3, 256, 341])\n",
      "0\n",
      "torch.Size([3, 341, 256])\n",
      "0\n",
      "torch.Size([3, 320, 256])\n",
      "0\n",
      "torch.Size([3, 256, 321])\n",
      "0\n",
      "torch.Size([3, 256, 320])\n",
      "0\n",
      "torch.Size([3, 256, 341])\n",
      "0\n",
      "torch.Size([3, 256, 341])\n",
      "0\n",
      "torch.Size([3, 336, 256])\n",
      "0\n",
      "torch.Size([3, 384, 256])\n",
      "0\n",
      "torch.Size([3, 256, 377])\n",
      "0\n",
      "torch.Size([3, 374, 256])\n",
      "0\n",
      "torch.Size([3, 256, 341])\n",
      "0\n",
      "torch.Size([3, 256, 382])\n",
      "0\n",
      "torch.Size([3, 394, 256])\n",
      "0\n",
      "torch.Size([3, 256, 358])\n",
      "0\n",
      "torch.Size([3, 402, 256])\n",
      "0\n",
      "torch.Size([3, 256, 407])\n",
      "0\n",
      "torch.Size([3, 341, 256])\n",
      "0\n",
      "torch.Size([3, 256, 341])\n",
      "0\n",
      "torch.Size([3, 256, 285])\n",
      "0\n",
      "torch.Size([3, 368, 256])\n",
      "0\n",
      "torch.Size([3, 256, 341])\n",
      "0\n",
      "torch.Size([3, 256, 341])\n",
      "0\n",
      "torch.Size([3, 384, 256])\n",
      "0\n",
      "torch.Size([3, 256, 341])\n",
      "0\n",
      "torch.Size([3, 256, 341])\n",
      "0\n",
      "torch.Size([3, 256, 340])\n",
      "0\n",
      "torch.Size([3, 256, 384])\n",
      "0\n",
      "torch.Size([3, 403, 256])\n",
      "0\n",
      "torch.Size([3, 256, 481])\n",
      "0\n",
      "torch.Size([3, 256, 360])\n",
      "0\n",
      "torch.Size([3, 384, 256])\n",
      "0\n",
      "torch.Size([3, 256, 382])\n",
      "0\n",
      "torch.Size([3, 341, 256])\n",
      "0\n",
      "torch.Size([3, 256, 395])\n",
      "0\n",
      "torch.Size([3, 256, 386])\n",
      "0\n",
      "torch.Size([3, 384, 256])\n",
      "0\n",
      "torch.Size([3, 341, 256])\n",
      "0\n",
      "torch.Size([3, 256, 320])\n",
      "0\n",
      "torch.Size([3, 256, 341])\n",
      "0\n",
      "torch.Size([3, 382, 256])\n",
      "0\n",
      "torch.Size([3, 329, 256])\n",
      "0\n",
      "torch.Size([3, 401, 256])\n",
      "0\n",
      "torch.Size([3, 455, 256])\n",
      "0\n",
      "torch.Size([3, 256, 360])\n",
      "0\n",
      "torch.Size([3, 341, 256])\n",
      "0\n",
      "torch.Size([3, 256, 341])\n",
      "0\n",
      "torch.Size([3, 256, 384])\n",
      "0\n",
      "torch.Size([3, 384, 256])\n",
      "0\n",
      "torch.Size([3, 256, 341])\n",
      "0\n",
      "torch.Size([3, 256, 337])\n",
      "0\n",
      "torch.Size([3, 382, 256])\n",
      "0\n",
      "torch.Size([3, 256, 319])\n",
      "0\n",
      "torch.Size([3, 256, 410])\n",
      "0\n",
      "torch.Size([3, 341, 256])\n",
      "0\n",
      "torch.Size([3, 256, 455])\n",
      "0\n",
      "torch.Size([3, 256, 388])\n",
      "0\n",
      "torch.Size([3, 256, 341])\n",
      "0\n",
      "torch.Size([3, 256, 361])\n",
      "0\n",
      "torch.Size([3, 256, 413])\n",
      "0\n",
      "torch.Size([3, 256, 341])\n",
      "0\n",
      "torch.Size([3, 341, 256])\n",
      "0\n",
      "torch.Size([3, 341, 256])\n",
      "0\n",
      "torch.Size([3, 265, 256])\n",
      "0\n",
      "torch.Size([3, 341, 256])\n",
      "0\n",
      "torch.Size([3, 256, 341])\n",
      "0\n",
      "torch.Size([3, 256, 341])\n",
      "0\n",
      "torch.Size([3, 385, 256])\n",
      "0\n",
      "torch.Size([3, 384, 256])\n",
      "0\n",
      "torch.Size([3, 256, 467])\n",
      "0\n",
      "torch.Size([3, 341, 256])\n",
      "0\n",
      "torch.Size([3, 389, 256])\n",
      "0\n",
      "torch.Size([3, 330, 256])\n",
      "0\n",
      "torch.Size([3, 256, 627])\n",
      "0\n",
      "torch.Size([3, 256, 341])\n",
      "0\n",
      "torch.Size([3, 256, 384])\n",
      "0\n",
      "torch.Size([3, 256, 341])\n",
      "0\n",
      "torch.Size([3, 256, 341])\n",
      "0\n",
      "torch.Size([3, 256, 341])\n",
      "0\n",
      "torch.Size([3, 413, 256])\n",
      "0\n",
      "torch.Size([3, 256, 330])\n",
      "0\n",
      "torch.Size([3, 256, 511])\n",
      "0\n",
      "torch.Size([3, 256, 341])\n",
      "0\n",
      "torch.Size([3, 256, 384])\n",
      "0\n",
      "torch.Size([3, 335, 256])\n",
      "0\n",
      "torch.Size([3, 256, 455])\n",
      "0\n",
      "torch.Size([3, 256, 361])\n",
      "0\n",
      "torch.Size([3, 256, 269])\n",
      "0\n",
      "torch.Size([3, 256, 360])\n",
      "0\n",
      "torch.Size([3, 256, 268])\n",
      "0\n",
      "torch.Size([3, 256, 341])\n",
      "0\n",
      "torch.Size([3, 256, 341])\n",
      "0\n",
      "torch.Size([3, 256, 481])\n",
      "0\n",
      "torch.Size([3, 256, 341])\n",
      "0\n",
      "torch.Size([3, 256, 368])\n",
      "0\n",
      "torch.Size([3, 340, 256])\n",
      "0\n",
      "torch.Size([3, 256, 385])\n",
      "0\n",
      "torch.Size([3, 256, 667])\n",
      "0\n",
      "torch.Size([3, 360, 256])\n",
      "0\n",
      "torch.Size([3, 256, 310])\n",
      "0\n",
      "torch.Size([3, 332, 256])\n",
      "0\n",
      "torch.Size([3, 256, 408])\n",
      "0\n",
      "torch.Size([3, 256, 341])\n",
      "0\n",
      "torch.Size([3, 256, 341])\n",
      "0\n",
      "torch.Size([3, 256, 409])\n",
      "0\n",
      "torch.Size([3, 384, 256])\n",
      "0\n",
      "torch.Size([3, 256, 341])\n",
      "0\n",
      "torch.Size([3, 256, 340])\n",
      "0\n",
      "torch.Size([3, 256, 320])\n",
      "0\n",
      "torch.Size([3, 256, 342])\n",
      "0\n",
      "torch.Size([3, 256, 341])\n",
      "0\n",
      "torch.Size([3, 256, 385])\n",
      "0\n",
      "torch.Size([3, 384, 256])\n",
      "0\n",
      "torch.Size([3, 256, 381])\n",
      "0\n",
      "torch.Size([3, 256, 341])\n",
      "0\n",
      "torch.Size([3, 341, 256])\n",
      "0\n",
      "torch.Size([3, 256, 385])\n",
      "0\n",
      "torch.Size([3, 256, 361])\n",
      "0\n",
      "torch.Size([3, 384, 256])\n",
      "0\n",
      "torch.Size([3, 292, 256])\n",
      "0\n",
      "torch.Size([3, 256, 341])\n",
      "0\n",
      "torch.Size([3, 256, 358])\n",
      "0\n",
      "torch.Size([3, 256, 384])\n",
      "0\n",
      "torch.Size([3, 256, 409])\n",
      "0\n",
      "torch.Size([3, 256, 372])\n",
      "0\n",
      "torch.Size([3, 256, 517])\n",
      "0\n",
      "torch.Size([3, 256, 341])\n",
      "0\n",
      "torch.Size([3, 256, 379])\n",
      "0\n",
      "torch.Size([3, 256, 374])\n",
      "0\n",
      "torch.Size([3, 256, 341])\n",
      "0\n",
      "torch.Size([3, 256, 341])\n",
      "0\n",
      "torch.Size([3, 256, 360])\n",
      "0\n",
      "torch.Size([3, 256, 382])\n",
      "0\n",
      "torch.Size([3, 256, 384])\n",
      "0\n",
      "torch.Size([3, 341, 256])\n",
      "0\n",
      "torch.Size([3, 401, 256])\n",
      "0\n",
      "torch.Size([3, 256, 341])\n",
      "0\n",
      "torch.Size([3, 384, 256])\n",
      "0\n",
      "torch.Size([3, 341, 256])\n",
      "0\n",
      "torch.Size([3, 341, 256])\n",
      "0\n",
      "torch.Size([3, 256, 406])\n",
      "0\n",
      "torch.Size([3, 256, 363])\n",
      "0\n",
      "torch.Size([3, 256, 355])\n",
      "0\n",
      "torch.Size([3, 256, 341])\n",
      "0\n",
      "torch.Size([3, 256, 335])\n",
      "0\n",
      "torch.Size([3, 256, 341])\n",
      "0\n",
      "torch.Size([3, 256, 365])\n",
      "0\n",
      "torch.Size([3, 256, 341])\n",
      "0\n",
      "torch.Size([3, 341, 256])\n",
      "0\n",
      "torch.Size([3, 256, 364])\n",
      "0\n",
      "torch.Size([3, 383, 256])\n",
      "0\n",
      "torch.Size([3, 256, 341])\n",
      "0\n",
      "torch.Size([3, 256, 383])\n",
      "0\n",
      "torch.Size([3, 256, 342])\n",
      "0\n",
      "torch.Size([3, 256, 286])\n",
      "0\n",
      "torch.Size([3, 256, 256])\n",
      "0\n",
      "torch.Size([3, 256, 319])\n",
      "0\n",
      "torch.Size([3, 256, 341])\n",
      "0\n",
      "torch.Size([3, 385, 256])\n",
      "0\n",
      "torch.Size([3, 349, 256])\n",
      "0\n",
      "torch.Size([3, 256, 341])\n",
      "0\n",
      "torch.Size([3, 256, 341])\n",
      "0\n",
      "torch.Size([3, 342, 256])\n",
      "0\n",
      "torch.Size([3, 256, 312])\n",
      "0\n",
      "torch.Size([3, 256, 320])\n",
      "0\n",
      "torch.Size([3, 256, 385])\n",
      "0\n",
      "torch.Size([3, 256, 360])\n",
      "0\n",
      "torch.Size([3, 256, 360])\n",
      "0\n",
      "torch.Size([3, 256, 384])\n",
      "0\n",
      "torch.Size([3, 341, 256])\n",
      "0\n",
      "torch.Size([3, 422, 256])\n",
      "0\n",
      "torch.Size([3, 256, 384])\n",
      "0\n",
      "torch.Size([3, 256, 383])\n",
      "0\n",
      "torch.Size([3, 256, 341])\n",
      "0\n",
      "torch.Size([3, 256, 384])\n",
      "0\n",
      "torch.Size([3, 382, 256])\n",
      "0\n",
      "torch.Size([3, 386, 256])\n",
      "0\n",
      "torch.Size([3, 394, 256])\n",
      "0\n",
      "torch.Size([3, 389, 256])\n",
      "0\n",
      "torch.Size([3, 341, 256])\n",
      "0\n",
      "torch.Size([3, 256, 361])\n",
      "0\n",
      "torch.Size([3, 256, 341])\n",
      "0\n",
      "torch.Size([3, 256, 389])\n",
      "0\n",
      "torch.Size([3, 256, 377])\n",
      "0\n",
      "torch.Size([3, 341, 256])\n",
      "0\n",
      "torch.Size([3, 256, 357])\n",
      "0\n",
      "torch.Size([3, 256, 341])\n",
      "0\n",
      "torch.Size([3, 341, 256])\n",
      "0\n",
      "torch.Size([3, 256, 361])\n",
      "0\n",
      "torch.Size([3, 341, 256])\n",
      "0\n",
      "torch.Size([3, 256, 455])\n",
      "0\n",
      "torch.Size([3, 256, 341])\n",
      "0\n",
      "torch.Size([3, 256, 256])\n",
      "0\n",
      "torch.Size([3, 256, 383])\n",
      "0\n",
      "torch.Size([3, 432, 256])\n",
      "0\n",
      "torch.Size([3, 256, 341])\n",
      "0\n",
      "torch.Size([3, 256, 384])\n",
      "0\n",
      "torch.Size([3, 256, 294])\n",
      "0\n",
      "torch.Size([3, 316, 256])\n",
      "0\n",
      "torch.Size([3, 334, 256])\n",
      "0\n",
      "torch.Size([3, 401, 256])\n",
      "0\n",
      "torch.Size([3, 256, 374])\n",
      "0\n",
      "torch.Size([3, 385, 256])\n",
      "0\n",
      "torch.Size([3, 256, 341])\n",
      "0\n",
      "torch.Size([3, 256, 268])\n",
      "0\n",
      "torch.Size([3, 304, 256])\n",
      "0\n",
      "torch.Size([3, 256, 391])\n",
      "0\n",
      "torch.Size([3, 256, 361])\n",
      "0\n",
      "torch.Size([3, 256, 341])\n",
      "0\n",
      "torch.Size([3, 393, 256])\n",
      "0\n",
      "torch.Size([3, 256, 384])\n",
      "0\n",
      "torch.Size([3, 310, 256])\n",
      "0\n",
      "torch.Size([3, 401, 256])\n",
      "0\n",
      "torch.Size([3, 401, 256])\n",
      "0\n",
      "torch.Size([3, 256, 341])\n",
      "0\n",
      "torch.Size([3, 256, 386])\n",
      "0\n",
      "torch.Size([3, 256, 382])\n",
      "0\n",
      "torch.Size([3, 256, 384])\n",
      "0\n",
      "torch.Size([3, 256, 385])\n",
      "0\n",
      "torch.Size([3, 256, 358])\n",
      "0\n",
      "torch.Size([3, 403, 256])\n",
      "0\n",
      "torch.Size([3, 341, 256])\n",
      "0\n",
      "torch.Size([3, 256, 394])\n",
      "0\n",
      "torch.Size([3, 256, 360])\n",
      "0\n",
      "torch.Size([3, 341, 256])\n",
      "0\n",
      "torch.Size([3, 256, 360])\n",
      "0\n",
      "torch.Size([3, 256, 361])\n",
      "0\n",
      "torch.Size([3, 256, 341])\n",
      "0\n",
      "torch.Size([3, 256, 334])\n",
      "0\n",
      "torch.Size([3, 256, 383])\n",
      "0\n",
      "torch.Size([3, 256, 256])\n",
      "0\n"
     ]
    }
   ],
   "source": [
    "for x, y in data_val:\n",
    "    print(x.shape)\n",
    "    print(y)"
   ]
  },
  {
   "cell_type": "code",
   "execution_count": 30,
   "metadata": {},
   "outputs": [],
   "source": [
    "#只导入一个类别时，该类别是没有标签的\n",
    "check_ = 0\n",
    "for x,y in data_val:\n",
    "    check_+=y"
   ]
  },
  {
   "cell_type": "code",
   "execution_count": 31,
   "metadata": {},
   "outputs": [
    {
     "data": {
      "text/plain": [
       "0"
      ]
     },
     "execution_count": 31,
     "metadata": {},
     "output_type": "execute_result"
    }
   ],
   "source": [
    "check_"
   ]
  },
  {
   "cell_type": "code",
   "execution_count": 32,
   "metadata": {},
   "outputs": [],
   "source": [
    "#想要进行训练，至少得导入两个类别，进行二分类\n",
    "data_train = torchvision.datasets.LSUN(root=r\"F:\\datasets2\\lsun-master\\data\"\n",
    "                                       ,classes=[\"church_outdoor_train\",\"classroom_train\"]\n",
    "                                       ,transform = transforms.ToTensor())"
   ]
  },
  {
   "cell_type": "code",
   "execution_count": 33,
   "metadata": {},
   "outputs": [
    {
     "data": {
      "text/plain": [
       "Dataset LSUN\n",
       "    Number of datapoints: 294330\n",
       "    Root location: F:\\datasets2\\lsun-master\\data\n",
       "    Classes: ['church_outdoor_train', 'classroom_train']\n",
       "    StandardTransform\n",
       "Transform: ToTensor()"
      ]
     },
     "execution_count": 33,
     "metadata": {},
     "output_type": "execute_result"
    }
   ],
   "source": [
    "data_train"
   ]
  },
  {
   "cell_type": "code",
   "execution_count": 34,
   "metadata": {},
   "outputs": [],
   "source": [
    "data_val = torchvision.datasets.LSUN(root=r\"F:\\datasets2\\lsun-master\\data\"\n",
    "                                     ,classes=[\"church_outdoor_val\",\"classroom_val\"]\n",
    "                                     ,transform = transforms.ToTensor())"
   ]
  },
  {
   "cell_type": "code",
   "execution_count": 35,
   "metadata": {},
   "outputs": [
    {
     "data": {
      "text/plain": [
       "Dataset LSUN\n",
       "    Number of datapoints: 600\n",
       "    Root location: F:\\datasets2\\lsun-master\\data\n",
       "    Classes: ['church_outdoor_val', 'classroom_val']\n",
       "    StandardTransform\n",
       "Transform: ToTensor()"
      ]
     },
     "execution_count": 35,
     "metadata": {},
     "output_type": "execute_result"
    }
   ],
   "source": [
    "data_val"
   ]
  },
  {
   "cell_type": "code",
   "execution_count": 36,
   "metadata": {},
   "outputs": [
    {
     "data": {
      "text/plain": [
       "(tensor([[[0.1804, 0.1843, 0.1804,  ..., 0.4902, 0.4863, 0.4863],\n",
       "          [0.1922, 0.1961, 0.1961,  ..., 0.4902, 0.4902, 0.4863],\n",
       "          [0.1608, 0.1686, 0.1765,  ..., 0.4941, 0.4902, 0.4902],\n",
       "          ...,\n",
       "          [0.1137, 0.1686, 0.1882,  ..., 0.1804, 0.1765, 0.1804],\n",
       "          [0.1294, 0.1804, 0.1922,  ..., 0.1686, 0.1725, 0.1765],\n",
       "          [0.1255, 0.1725, 0.1765,  ..., 0.1882, 0.1843, 0.1804]],\n",
       " \n",
       "         [[0.1608, 0.1647, 0.1608,  ..., 0.6863, 0.6824, 0.6824],\n",
       "          [0.1725, 0.1765, 0.1765,  ..., 0.6863, 0.6863, 0.6824],\n",
       "          [0.1412, 0.1490, 0.1569,  ..., 0.6902, 0.6863, 0.6863],\n",
       "          ...,\n",
       "          [0.1647, 0.2196, 0.2314,  ..., 0.2353, 0.2314, 0.2353],\n",
       "          [0.1843, 0.2353, 0.2471,  ..., 0.2314, 0.2353, 0.2392],\n",
       "          [0.1804, 0.2275, 0.2314,  ..., 0.2510, 0.2471, 0.2431]],\n",
       " \n",
       "         [[0.1451, 0.1490, 0.1451,  ..., 0.8863, 0.8824, 0.8824],\n",
       "          [0.1569, 0.1608, 0.1608,  ..., 0.8863, 0.8863, 0.8824],\n",
       "          [0.1255, 0.1333, 0.1412,  ..., 0.8902, 0.8863, 0.8863],\n",
       "          ...,\n",
       "          [0.1882, 0.2431, 0.2549,  ..., 0.2863, 0.2824, 0.2863],\n",
       "          [0.1961, 0.2471, 0.2588,  ..., 0.2902, 0.2941, 0.2980],\n",
       "          [0.1922, 0.2392, 0.2431,  ..., 0.3098, 0.3059, 0.3020]]]),\n",
       " 0)"
      ]
     },
     "execution_count": 36,
     "metadata": {},
     "output_type": "execute_result"
    }
   ],
   "source": [
    "data_val[298]"
   ]
  },
  {
   "cell_type": "code",
   "execution_count": 37,
   "metadata": {},
   "outputs": [
    {
     "data": {
      "text/plain": [
       "(tensor([[[0.4471, 0.4196, 0.4196,  ..., 0.0627, 0.0392, 0.0314],\n",
       "          [0.3882, 0.3843, 0.4039,  ..., 0.0588, 0.0863, 0.1020],\n",
       "          [0.4157, 0.3843, 0.3725,  ..., 0.1647, 0.1922, 0.2078],\n",
       "          ...,\n",
       "          [0.4078, 0.3961, 0.4235,  ..., 0.2392, 0.2235, 0.2667],\n",
       "          [0.3961, 0.3922, 0.4275,  ..., 0.2549, 0.2588, 0.2549],\n",
       "          [0.3922, 0.3922, 0.4314,  ..., 0.2431, 0.2784, 0.2549]],\n",
       " \n",
       "         [[0.4118, 0.3882, 0.3882,  ..., 0.0627, 0.0392, 0.0314],\n",
       "          [0.2745, 0.2706, 0.3020,  ..., 0.0588, 0.0863, 0.1020],\n",
       "          [0.1765, 0.1569, 0.1490,  ..., 0.1647, 0.1922, 0.2078],\n",
       "          ...,\n",
       "          [0.3451, 0.3333, 0.3608,  ..., 0.2039, 0.1882, 0.2314],\n",
       "          [0.3333, 0.3294, 0.3686,  ..., 0.2196, 0.2235, 0.2196],\n",
       "          [0.3294, 0.3294, 0.3725,  ..., 0.2078, 0.2431, 0.2196]],\n",
       " \n",
       "         [[0.2588, 0.2353, 0.2353,  ..., 0.0549, 0.0314, 0.0235],\n",
       "          [0.1490, 0.1451, 0.1725,  ..., 0.0510, 0.0784, 0.0941],\n",
       "          [0.0941, 0.0784, 0.0706,  ..., 0.1569, 0.1843, 0.2000],\n",
       "          ...,\n",
       "          [0.2824, 0.2706, 0.2980,  ..., 0.1843, 0.1686, 0.2118],\n",
       "          [0.2706, 0.2667, 0.2941,  ..., 0.2000, 0.2039, 0.2000],\n",
       "          [0.2667, 0.2667, 0.2980,  ..., 0.1882, 0.2235, 0.2000]]]),\n",
       " 1)"
      ]
     },
     "execution_count": 37,
     "metadata": {},
     "output_type": "execute_result"
    }
   ],
   "source": [
    "data_val[500]"
   ]
  },
  {
   "cell_type": "code",
   "execution_count": 38,
   "metadata": {
    "collapsed": true,
    "jupyter": {
     "outputs_hidden": true
    }
   },
   "outputs": [
    {
     "name": "stdout",
     "output_type": "stream",
     "text": [
      "0\n",
      "0\n",
      "0\n",
      "0\n",
      "0\n",
      "0\n",
      "0\n",
      "0\n",
      "0\n",
      "0\n",
      "0\n",
      "0\n",
      "0\n",
      "0\n",
      "0\n",
      "0\n",
      "0\n",
      "0\n",
      "0\n",
      "0\n",
      "0\n",
      "0\n",
      "0\n",
      "0\n",
      "0\n",
      "0\n",
      "0\n",
      "0\n",
      "0\n",
      "0\n",
      "0\n",
      "0\n",
      "0\n",
      "0\n",
      "0\n",
      "0\n",
      "0\n",
      "0\n",
      "0\n",
      "0\n",
      "0\n",
      "0\n",
      "0\n",
      "0\n",
      "0\n",
      "0\n",
      "0\n",
      "0\n",
      "0\n",
      "0\n",
      "0\n",
      "0\n",
      "0\n",
      "0\n",
      "0\n",
      "0\n",
      "0\n",
      "0\n",
      "0\n",
      "0\n",
      "0\n",
      "0\n",
      "0\n",
      "0\n",
      "0\n",
      "0\n",
      "0\n",
      "0\n",
      "0\n",
      "0\n",
      "0\n",
      "0\n",
      "0\n",
      "0\n",
      "0\n",
      "0\n",
      "0\n",
      "0\n",
      "0\n",
      "0\n",
      "0\n",
      "0\n",
      "0\n",
      "0\n",
      "0\n",
      "0\n",
      "0\n",
      "0\n",
      "0\n",
      "0\n",
      "0\n",
      "0\n",
      "0\n",
      "0\n",
      "0\n",
      "0\n",
      "0\n",
      "0\n",
      "0\n",
      "0\n",
      "0\n",
      "0\n",
      "0\n",
      "0\n",
      "0\n",
      "0\n",
      "0\n",
      "0\n",
      "0\n",
      "0\n",
      "0\n",
      "0\n",
      "0\n",
      "0\n",
      "0\n",
      "0\n",
      "0\n",
      "0\n",
      "0\n",
      "0\n",
      "0\n",
      "0\n",
      "0\n",
      "0\n",
      "0\n",
      "0\n",
      "0\n",
      "0\n",
      "0\n",
      "0\n",
      "0\n",
      "0\n",
      "0\n",
      "0\n",
      "0\n",
      "0\n",
      "0\n",
      "0\n",
      "0\n",
      "0\n",
      "0\n",
      "0\n",
      "0\n",
      "0\n",
      "0\n",
      "0\n",
      "0\n",
      "0\n",
      "0\n",
      "0\n",
      "0\n",
      "0\n",
      "0\n",
      "0\n",
      "0\n",
      "0\n",
      "0\n",
      "0\n",
      "0\n",
      "0\n",
      "0\n",
      "0\n",
      "0\n",
      "0\n",
      "0\n",
      "0\n",
      "0\n",
      "0\n",
      "0\n",
      "0\n",
      "0\n",
      "0\n",
      "0\n",
      "0\n",
      "0\n",
      "0\n",
      "0\n",
      "0\n",
      "0\n",
      "0\n",
      "0\n",
      "0\n",
      "0\n",
      "0\n",
      "0\n",
      "0\n",
      "0\n",
      "0\n",
      "0\n",
      "0\n",
      "0\n",
      "0\n",
      "0\n",
      "0\n",
      "0\n",
      "0\n",
      "0\n",
      "0\n",
      "0\n",
      "0\n",
      "0\n",
      "0\n",
      "0\n",
      "0\n",
      "0\n",
      "0\n",
      "0\n",
      "0\n",
      "0\n",
      "0\n",
      "0\n",
      "0\n",
      "0\n",
      "0\n",
      "0\n",
      "0\n",
      "0\n",
      "0\n",
      "0\n",
      "0\n",
      "0\n",
      "0\n",
      "0\n",
      "0\n",
      "0\n",
      "0\n",
      "0\n",
      "0\n",
      "0\n",
      "0\n",
      "0\n",
      "0\n",
      "0\n",
      "0\n",
      "0\n",
      "0\n",
      "0\n",
      "0\n",
      "0\n",
      "0\n",
      "0\n",
      "0\n",
      "0\n",
      "0\n",
      "0\n",
      "0\n",
      "0\n",
      "0\n",
      "0\n",
      "0\n",
      "0\n",
      "0\n",
      "0\n",
      "0\n",
      "0\n",
      "0\n",
      "0\n",
      "0\n",
      "0\n",
      "0\n",
      "0\n",
      "0\n",
      "0\n",
      "0\n",
      "0\n",
      "0\n",
      "0\n",
      "0\n",
      "0\n",
      "0\n",
      "0\n",
      "0\n",
      "0\n",
      "0\n",
      "0\n",
      "0\n",
      "0\n",
      "0\n",
      "0\n",
      "0\n",
      "0\n",
      "0\n",
      "0\n",
      "0\n",
      "0\n",
      "0\n",
      "0\n",
      "0\n",
      "0\n",
      "0\n",
      "0\n",
      "0\n",
      "0\n",
      "0\n",
      "0\n",
      "0\n",
      "0\n",
      "0\n",
      "0\n",
      "0\n",
      "1\n",
      "1\n",
      "1\n",
      "1\n",
      "1\n",
      "1\n",
      "1\n",
      "1\n",
      "1\n",
      "1\n",
      "1\n",
      "1\n",
      "1\n",
      "1\n",
      "1\n",
      "1\n",
      "1\n",
      "1\n",
      "1\n",
      "1\n",
      "1\n",
      "1\n",
      "1\n",
      "1\n",
      "1\n",
      "1\n",
      "1\n",
      "1\n",
      "1\n",
      "1\n",
      "1\n",
      "1\n",
      "1\n",
      "1\n",
      "1\n",
      "1\n",
      "1\n",
      "1\n",
      "1\n",
      "1\n",
      "1\n",
      "1\n",
      "1\n",
      "1\n",
      "1\n",
      "1\n",
      "1\n",
      "1\n",
      "1\n",
      "1\n",
      "1\n",
      "1\n",
      "1\n",
      "1\n",
      "1\n",
      "1\n",
      "1\n",
      "1\n",
      "1\n",
      "1\n",
      "1\n",
      "1\n",
      "1\n",
      "1\n",
      "1\n",
      "1\n",
      "1\n",
      "1\n",
      "1\n",
      "1\n",
      "1\n",
      "1\n",
      "1\n",
      "1\n",
      "1\n",
      "1\n",
      "1\n",
      "1\n",
      "1\n",
      "1\n",
      "1\n",
      "1\n",
      "1\n",
      "1\n",
      "1\n",
      "1\n",
      "1\n",
      "1\n",
      "1\n",
      "1\n",
      "1\n",
      "1\n",
      "1\n",
      "1\n",
      "1\n",
      "1\n",
      "1\n",
      "1\n",
      "1\n",
      "1\n",
      "1\n",
      "1\n",
      "1\n",
      "1\n",
      "1\n",
      "1\n",
      "1\n",
      "1\n",
      "1\n",
      "1\n",
      "1\n",
      "1\n",
      "1\n",
      "1\n",
      "1\n",
      "1\n",
      "1\n",
      "1\n",
      "1\n",
      "1\n",
      "1\n",
      "1\n",
      "1\n",
      "1\n",
      "1\n",
      "1\n",
      "1\n",
      "1\n",
      "1\n",
      "1\n",
      "1\n",
      "1\n",
      "1\n",
      "1\n",
      "1\n",
      "1\n",
      "1\n",
      "1\n",
      "1\n",
      "1\n",
      "1\n",
      "1\n",
      "1\n",
      "1\n",
      "1\n",
      "1\n",
      "1\n",
      "1\n",
      "1\n",
      "1\n",
      "1\n",
      "1\n",
      "1\n",
      "1\n",
      "1\n",
      "1\n",
      "1\n",
      "1\n",
      "1\n",
      "1\n",
      "1\n",
      "1\n",
      "1\n",
      "1\n",
      "1\n",
      "1\n",
      "1\n",
      "1\n",
      "1\n",
      "1\n",
      "1\n",
      "1\n",
      "1\n",
      "1\n",
      "1\n",
      "1\n",
      "1\n",
      "1\n",
      "1\n",
      "1\n",
      "1\n",
      "1\n",
      "1\n",
      "1\n",
      "1\n",
      "1\n",
      "1\n",
      "1\n",
      "1\n",
      "1\n",
      "1\n",
      "1\n",
      "1\n",
      "1\n",
      "1\n",
      "1\n",
      "1\n",
      "1\n",
      "1\n",
      "1\n",
      "1\n",
      "1\n",
      "1\n",
      "1\n",
      "1\n",
      "1\n",
      "1\n",
      "1\n",
      "1\n",
      "1\n",
      "1\n",
      "1\n",
      "1\n",
      "1\n",
      "1\n",
      "1\n",
      "1\n",
      "1\n",
      "1\n",
      "1\n",
      "1\n",
      "1\n",
      "1\n",
      "1\n",
      "1\n",
      "1\n",
      "1\n",
      "1\n",
      "1\n",
      "1\n",
      "1\n",
      "1\n",
      "1\n",
      "1\n",
      "1\n",
      "1\n",
      "1\n",
      "1\n",
      "1\n",
      "1\n",
      "1\n",
      "1\n",
      "1\n",
      "1\n",
      "1\n",
      "1\n",
      "1\n",
      "1\n",
      "1\n",
      "1\n",
      "1\n",
      "1\n",
      "1\n",
      "1\n",
      "1\n",
      "1\n",
      "1\n",
      "1\n",
      "1\n",
      "1\n",
      "1\n",
      "1\n",
      "1\n",
      "1\n",
      "1\n",
      "1\n",
      "1\n",
      "1\n",
      "1\n",
      "1\n",
      "1\n",
      "1\n",
      "1\n",
      "1\n",
      "1\n",
      "1\n",
      "1\n",
      "1\n",
      "1\n",
      "1\n",
      "1\n",
      "1\n",
      "1\n",
      "1\n",
      "1\n",
      "1\n",
      "1\n",
      "1\n",
      "1\n",
      "1\n",
      "1\n",
      "1\n",
      "1\n",
      "1\n",
      "1\n",
      "1\n",
      "1\n",
      "1\n",
      "1\n",
      "1\n"
     ]
    }
   ],
   "source": [
    "#此时标签会自动标注为0和1\n",
    "#循环代码别在data_train上运行，时间会爆炸\n",
    "for x,y in data_val:\n",
    "    print(y)\n",
    "    #break"
   ]
  },
  {
   "cell_type": "code",
   "execution_count": 39,
   "metadata": {},
   "outputs": [],
   "source": [
    "#每个类别的验证集的大小都是300，因此两个类别就是共600个样本\n",
    "check_ = 0\n",
    "for x,y in data_val:\n",
    "    check_+=y"
   ]
  },
  {
   "cell_type": "code",
   "execution_count": 40,
   "metadata": {},
   "outputs": [
    {
     "data": {
      "text/plain": [
       "300"
      ]
     },
     "execution_count": 40,
     "metadata": {},
     "output_type": "execute_result"
    }
   ],
   "source": [
    "check_"
   ]
  },
  {
   "cell_type": "markdown",
   "metadata": {},
   "source": [
    "### 3 其他常用数据集"
   ]
  },
  {
   "cell_type": "code",
   "execution_count": 41,
   "metadata": {},
   "outputs": [],
   "source": [
    "#import torch, torchvision\n",
    "#import torchvision.transforms as transforms\n",
    "#import matplotlib.pyplot as plt\n",
    "#import numpy as np\n",
    "\n",
    "#CIFAR10\n",
    "#注意我的根目录到了哪一层\n",
    "data = torchvision.datasets.CIFAR10(root = \"F:\\datasets3\\cifar\"\n",
    "                                   ,train=True\n",
    "                                   ,download=False\n",
    "                                   ,transform = transforms.ToTensor()\n",
    "                                   )"
   ]
  },
  {
   "cell_type": "code",
   "execution_count": 42,
   "metadata": {},
   "outputs": [
    {
     "data": {
      "text/plain": [
       "torch.Size([3, 32, 32])"
      ]
     },
     "execution_count": 42,
     "metadata": {},
     "output_type": "execute_result"
    }
   ],
   "source": [
    "#非常规整而且完整的数据集\n",
    "#几乎就是彩图版MNIST\n",
    "data[0][0].shape"
   ]
  },
  {
   "cell_type": "code",
   "execution_count": 43,
   "metadata": {},
   "outputs": [
    {
     "name": "stdout",
     "output_type": "stream",
     "text": [
      "tensor([[[0.2314, 0.1686, 0.1961,  ..., 0.6196, 0.5961, 0.5804],\n",
      "         [0.0627, 0.0000, 0.0706,  ..., 0.4824, 0.4667, 0.4784],\n",
      "         [0.0980, 0.0627, 0.1922,  ..., 0.4627, 0.4706, 0.4275],\n",
      "         ...,\n",
      "         [0.8157, 0.7882, 0.7765,  ..., 0.6275, 0.2196, 0.2078],\n",
      "         [0.7059, 0.6784, 0.7294,  ..., 0.7216, 0.3804, 0.3255],\n",
      "         [0.6941, 0.6588, 0.7020,  ..., 0.8471, 0.5922, 0.4824]],\n",
      "\n",
      "        [[0.2431, 0.1804, 0.1882,  ..., 0.5176, 0.4902, 0.4863],\n",
      "         [0.0784, 0.0000, 0.0314,  ..., 0.3451, 0.3255, 0.3412],\n",
      "         [0.0941, 0.0275, 0.1059,  ..., 0.3294, 0.3294, 0.2863],\n",
      "         ...,\n",
      "         [0.6667, 0.6000, 0.6314,  ..., 0.5216, 0.1216, 0.1333],\n",
      "         [0.5451, 0.4824, 0.5647,  ..., 0.5804, 0.2431, 0.2078],\n",
      "         [0.5647, 0.5059, 0.5569,  ..., 0.7216, 0.4627, 0.3608]],\n",
      "\n",
      "        [[0.2471, 0.1765, 0.1686,  ..., 0.4235, 0.4000, 0.4039],\n",
      "         [0.0784, 0.0000, 0.0000,  ..., 0.2157, 0.1961, 0.2235],\n",
      "         [0.0824, 0.0000, 0.0314,  ..., 0.1961, 0.1961, 0.1647],\n",
      "         ...,\n",
      "         [0.3765, 0.1333, 0.1020,  ..., 0.2745, 0.0275, 0.0784],\n",
      "         [0.3765, 0.1647, 0.1176,  ..., 0.3686, 0.1333, 0.1333],\n",
      "         [0.4549, 0.3686, 0.3412,  ..., 0.5490, 0.3294, 0.2824]]]) 6\n"
     ]
    }
   ],
   "source": [
    "for x,y in data:\n",
    "    print(x,y)\n",
    "    break"
   ]
  },
  {
   "cell_type": "code",
   "execution_count": 44,
   "metadata": {},
   "outputs": [
    {
     "data": {
      "text/plain": [
       "(50000, 32, 32, 3)"
      ]
     },
     "execution_count": 44,
     "metadata": {},
     "output_type": "execute_result"
    }
   ],
   "source": [
    "data.data.shape"
   ]
  },
  {
   "cell_type": "code",
   "execution_count": 45,
   "metadata": {},
   "outputs": [
    {
     "data": {
      "text/plain": [
       "['airplane',\n",
       " 'automobile',\n",
       " 'bird',\n",
       " 'cat',\n",
       " 'deer',\n",
       " 'dog',\n",
       " 'frog',\n",
       " 'horse',\n",
       " 'ship',\n",
       " 'truck']"
      ]
     },
     "execution_count": 45,
     "metadata": {},
     "output_type": "execute_result"
    }
   ],
   "source": [
    "data.classes"
   ]
  },
  {
   "cell_type": "code",
   "execution_count": 46,
   "metadata": {},
   "outputs": [
    {
     "data": {
      "text/plain": [
       "array([0, 1, 2, 3, 4, 5, 6, 7, 8, 9])"
      ]
     },
     "execution_count": 46,
     "metadata": {},
     "output_type": "execute_result"
    }
   ],
   "source": [
    "np.unique(data.targets)"
   ]
  },
  {
   "cell_type": "code",
   "execution_count": 47,
   "metadata": {},
   "outputs": [],
   "source": [
    "data_test = torchvision.datasets.CIFAR10(root = \"F:\\datasets3\\cifar\"\n",
    "                                   ,train=False\n",
    "                                   ,download=False\n",
    "                                   ,transform = transforms.ToTensor())"
   ]
  },
  {
   "cell_type": "code",
   "execution_count": 48,
   "metadata": {},
   "outputs": [
    {
     "data": {
      "text/plain": [
       "Dataset CIFAR10\n",
       "    Number of datapoints: 10000\n",
       "    Root location: F:\\datasets3\\cifar\n",
       "    Split: Test\n",
       "    StandardTransform\n",
       "Transform: ToTensor()"
      ]
     },
     "execution_count": 48,
     "metadata": {},
     "output_type": "execute_result"
    }
   ],
   "source": [
    "data_test"
   ]
  },
  {
   "cell_type": "code",
   "execution_count": 49,
   "metadata": {},
   "outputs": [
    {
     "data": {
      "image/png": "[encoded data removed]",
      "text/plain": [
       "<Figure size 720x720 with 5 Axes>"
      ]
     },
     "metadata": {
      "needs_background": "light"
     },
     "output_type": "display_data"
    }
   ],
   "source": [
    "plotsample(data)"
   ]
  },
  {
   "cell_type": "code",
   "execution_count": 50,
   "metadata": {},
   "outputs": [],
   "source": [
    "#CIFAR100\n",
    "\n",
    "data100 = torchvision.datasets.CIFAR100(root = \"F:\\datasets3\\cifar\"\n",
    "                                   ,train=True\n",
    "                                   ,download=False\n",
    "                                   ,transform = transforms.ToTensor())"
   ]
  },
  {
   "cell_type": "code",
   "execution_count": 51,
   "metadata": {},
   "outputs": [
    {
     "data": {
      "text/plain": [
       "Dataset CIFAR100\n",
       "    Number of datapoints: 50000\n",
       "    Root location: F:\\datasets3\\cifar\n",
       "    Split: Train\n",
       "    StandardTransform\n",
       "Transform: ToTensor()"
      ]
     },
     "execution_count": 51,
     "metadata": {},
     "output_type": "execute_result"
    }
   ],
   "source": [
    "data100"
   ]
  },
  {
   "cell_type": "code",
   "execution_count": 52,
   "metadata": {
    "collapsed": true,
    "jupyter": {
     "outputs_hidden": true
    }
   },
   "outputs": [
    {
     "data": {
      "text/plain": [
       "['apple',\n",
       " 'aquarium_fish',\n",
       " 'baby',\n",
       " 'bear',\n",
       " 'beaver',\n",
       " 'bed',\n",
       " 'bee',\n",
       " 'beetle',\n",
       " 'bicycle',\n",
       " 'bottle',\n",
       " 'bowl',\n",
       " 'boy',\n",
       " 'bridge',\n",
       " 'bus',\n",
       " 'butterfly',\n",
       " 'camel',\n",
       " 'can',\n",
       " 'castle',\n",
       " 'caterpillar',\n",
       " 'cattle',\n",
       " 'chair',\n",
       " 'chimpanzee',\n",
       " 'clock',\n",
       " 'cloud',\n",
       " 'cockroach',\n",
       " 'couch',\n",
       " 'crab',\n",
       " 'crocodile',\n",
       " 'cup',\n",
       " 'dinosaur',\n",
       " 'dolphin',\n",
       " 'elephant',\n",
       " 'flatfish',\n",
       " 'forest',\n",
       " 'fox',\n",
       " 'girl',\n",
       " 'hamster',\n",
       " 'house',\n",
       " 'kangaroo',\n",
       " 'keyboard',\n",
       " 'lamp',\n",
       " 'lawn_mower',\n",
       " 'leopard',\n",
       " 'lion',\n",
       " 'lizard',\n",
       " 'lobster',\n",
       " 'man',\n",
       " 'maple_tree',\n",
       " 'motorcycle',\n",
       " 'mountain',\n",
       " 'mouse',\n",
       " 'mushroom',\n",
       " 'oak_tree',\n",
       " 'orange',\n",
       " 'orchid',\n",
       " 'otter',\n",
       " 'palm_tree',\n",
       " 'pear',\n",
       " 'pickup_truck',\n",
       " 'pine_tree',\n",
       " 'plain',\n",
       " 'plate',\n",
       " 'poppy',\n",
       " 'porcupine',\n",
       " 'possum',\n",
       " 'rabbit',\n",
       " 'raccoon',\n",
       " 'ray',\n",
       " 'road',\n",
       " 'rocket',\n",
       " 'rose',\n",
       " 'sea',\n",
       " 'seal',\n",
       " 'shark',\n",
       " 'shrew',\n",
       " 'skunk',\n",
       " 'skyscraper',\n",
       " 'snail',\n",
       " 'snake',\n",
       " 'spider',\n",
       " 'squirrel',\n",
       " 'streetcar',\n",
       " 'sunflower',\n",
       " 'sweet_pepper',\n",
       " 'table',\n",
       " 'tank',\n",
       " 'telephone',\n",
       " 'television',\n",
       " 'tiger',\n",
       " 'tractor',\n",
       " 'train',\n",
       " 'trout',\n",
       " 'tulip',\n",
       " 'turtle',\n",
       " 'wardrobe',\n",
       " 'whale',\n",
       " 'willow_tree',\n",
       " 'wolf',\n",
       " 'woman',\n",
       " 'worm']"
      ]
     },
     "execution_count": 52,
     "metadata": {},
     "output_type": "execute_result"
    }
   ],
   "source": [
    "data100.classes"
   ]
  },
  {
   "cell_type": "code",
   "execution_count": 53,
   "metadata": {},
   "outputs": [
    {
     "data": {
      "text/plain": [
       "array([ 0,  1,  2,  3,  4,  5,  6,  7,  8,  9, 10, 11, 12, 13, 14, 15, 16,\n",
       "       17, 18, 19, 20, 21, 22, 23, 24, 25, 26, 27, 28, 29, 30, 31, 32, 33,\n",
       "       34, 35, 36, 37, 38, 39, 40, 41, 42, 43, 44, 45, 46, 47, 48, 49, 50,\n",
       "       51, 52, 53, 54, 55, 56, 57, 58, 59, 60, 61, 62, 63, 64, 65, 66, 67,\n",
       "       68, 69, 70, 71, 72, 73, 74, 75, 76, 77, 78, 79, 80, 81, 82, 83, 84,\n",
       "       85, 86, 87, 88, 89, 90, 91, 92, 93, 94, 95, 96, 97, 98, 99])"
      ]
     },
     "execution_count": 53,
     "metadata": {},
     "output_type": "execute_result"
    }
   ],
   "source": [
    "np.unique(data100.targets)"
   ]
  },
  {
   "cell_type": "code",
   "execution_count": 54,
   "metadata": {},
   "outputs": [
    {
     "data": {
      "image/png": "[encoded data removed]",
      "text/plain": [
       "<Figure size 720x720 with 5 Axes>"
      ]
     },
     "metadata": {
      "needs_background": "light"
     },
     "output_type": "display_data"
    }
   ],
   "source": [
    "plotsample(data100)"
   ]
  },
  {
   "cell_type": "code",
   "execution_count": null,
   "metadata": {},
   "outputs": [],
   "source": []
  },
  {
   "cell_type": "markdown",
   "metadata": {},
   "source": [
    "## 二、使用自己的数据集"
   ]
  },
  {
   "cell_type": "markdown",
   "metadata": {},
   "source": [
    "### 导入自己的数据/图片作为数据集"
   ]
  },
  {
   "cell_type": "code",
   "execution_count": 55,
   "metadata": {},
   "outputs": [],
   "source": [
    "#训练集\n",
    "train_dataset = torchvision.datasets.ImageFolder(root=\"F:\\datasets4\\picturestotensor\\Train\",\n",
    "                                        transform=torchvision.transforms.ToTensor()\n",
    "                                       )"
   ]
  },
  {
   "cell_type": "code",
   "execution_count": 56,
   "metadata": {},
   "outputs": [
    {
     "data": {
      "text/plain": [
       "Dataset ImageFolder\n",
       "    Number of datapoints: 60\n",
       "    Root location: F:\\datasets4\\picturestotensor\\Train\n",
       "    StandardTransform\n",
       "Transform: ToTensor()"
      ]
     },
     "execution_count": 56,
     "metadata": {},
     "output_type": "execute_result"
    }
   ],
   "source": [
    "train_dataset"
   ]
  },
  {
   "cell_type": "code",
   "execution_count": 57,
   "metadata": {},
   "outputs": [
    {
     "name": "stdout",
     "output_type": "stream",
     "text": [
      "torch.Size([3, 687, 409]) 0\n"
     ]
    }
   ],
   "source": [
    "for x,y in train_dataset:\n",
    "    print(x.shape,y)\n",
    "    break"
   ]
  },
  {
   "cell_type": "code",
   "execution_count": 58,
   "metadata": {},
   "outputs": [
    {
     "data": {
      "text/plain": [
       "(tensor([[[0.9922, 0.9922, 0.9922,  ..., 0.9961, 0.9961, 0.9961],\n",
       "          [0.9922, 0.9922, 0.9922,  ..., 0.9961, 0.9961, 0.9961],\n",
       "          [0.9922, 0.9922, 0.9922,  ..., 0.9961, 0.9961, 0.9961],\n",
       "          ...,\n",
       "          [0.9922, 0.9922, 0.9922,  ..., 0.9529, 0.9176, 0.9373],\n",
       "          [0.9922, 0.9922, 0.9922,  ..., 0.9843, 0.9294, 0.9333],\n",
       "          [0.9922, 0.9922, 0.9922,  ..., 1.0000, 0.9490, 0.9373]],\n",
       " \n",
       "         [[0.9059, 0.9059, 0.9059,  ..., 0.9569, 0.9569, 0.9569],\n",
       "          [0.9059, 0.9059, 0.9059,  ..., 0.9569, 0.9569, 0.9569],\n",
       "          [0.9059, 0.9059, 0.9059,  ..., 0.9569, 0.9569, 0.9569],\n",
       "          ...,\n",
       "          [0.8549, 0.8549, 0.8549,  ..., 0.6784, 0.6667, 0.6980],\n",
       "          [0.8549, 0.8549, 0.8549,  ..., 0.7059, 0.6824, 0.6980],\n",
       "          [0.8549, 0.8549, 0.8549,  ..., 0.7216, 0.6941, 0.7020]],\n",
       " \n",
       "         [[0.7529, 0.7529, 0.7529,  ..., 0.8588, 0.8588, 0.8588],\n",
       "          [0.7529, 0.7529, 0.7529,  ..., 0.8588, 0.8588, 0.8588],\n",
       "          [0.7529, 0.7529, 0.7529,  ..., 0.8588, 0.8588, 0.8588],\n",
       "          ...,\n",
       "          [0.6902, 0.6902, 0.6902,  ..., 0.4784, 0.4784, 0.5137],\n",
       "          [0.6902, 0.6902, 0.6902,  ..., 0.4941, 0.4824, 0.5020],\n",
       "          [0.6902, 0.6902, 0.6902,  ..., 0.5020, 0.4824, 0.4980]]]),\n",
       " 0)"
      ]
     },
     "execution_count": 58,
     "metadata": {},
     "output_type": "execute_result"
    }
   ],
   "source": [
    "train_dataset[0]"
   ]
  },
  {
   "cell_type": "code",
   "execution_count": 59,
   "metadata": {},
   "outputs": [
    {
     "data": {
      "text/plain": [
       "1"
      ]
     },
     "execution_count": 59,
     "metadata": {},
     "output_type": "execute_result"
    }
   ],
   "source": [
    "train_dataset[58][1]"
   ]
  },
  {
   "cell_type": "code",
   "execution_count": 60,
   "metadata": {},
   "outputs": [
    {
     "data": {
      "text/plain": [
       "['female', 'male']"
      ]
     },
     "execution_count": 60,
     "metadata": {},
     "output_type": "execute_result"
    }
   ],
   "source": [
    "#几种可以调用的属性\n",
    "train_dataset.classes"
   ]
  },
  {
   "cell_type": "code",
   "execution_count": 61,
   "metadata": {},
   "outputs": [
    {
     "data": {
      "text/plain": [
       "array([0, 1])"
      ]
     },
     "execution_count": 61,
     "metadata": {},
     "output_type": "execute_result"
    }
   ],
   "source": [
    "np.unique(train_dataset.targets)"
   ]
  },
  {
   "cell_type": "code",
   "execution_count": 62,
   "metadata": {},
   "outputs": [
    {
     "data": {
      "text/plain": [
       "[('F:\\\\datasets4\\\\picturestotensor\\\\Train\\\\female\\\\000001.jpg', 0),\n",
       " ('F:\\\\datasets4\\\\picturestotensor\\\\Train\\\\female\\\\000002.jpg', 0),\n",
       " ('F:\\\\datasets4\\\\picturestotensor\\\\Train\\\\female\\\\000004.jpg', 0),\n",
       " ('F:\\\\datasets4\\\\picturestotensor\\\\Train\\\\female\\\\000005.jpg', 0),\n",
       " ('F:\\\\datasets4\\\\picturestotensor\\\\Train\\\\female\\\\000006.jpg', 0),\n",
       " ('F:\\\\datasets4\\\\picturestotensor\\\\Train\\\\female\\\\000009.jpg', 0),\n",
       " ('F:\\\\datasets4\\\\picturestotensor\\\\Train\\\\female\\\\000010.jpg', 0),\n",
       " ('F:\\\\datasets4\\\\picturestotensor\\\\Train\\\\female\\\\000011.jpg', 0),\n",
       " ('F:\\\\datasets4\\\\picturestotensor\\\\Train\\\\female\\\\000014.jpg', 0),\n",
       " ('F:\\\\datasets4\\\\picturestotensor\\\\Train\\\\female\\\\000017.jpg', 0),\n",
       " ('F:\\\\datasets4\\\\picturestotensor\\\\Train\\\\female\\\\000018.jpg', 0),\n",
       " ('F:\\\\datasets4\\\\picturestotensor\\\\Train\\\\female\\\\000019.jpg', 0),\n",
       " ('F:\\\\datasets4\\\\picturestotensor\\\\Train\\\\female\\\\000022.jpg', 0),\n",
       " ('F:\\\\datasets4\\\\picturestotensor\\\\Train\\\\female\\\\000024.jpg', 0),\n",
       " ('F:\\\\datasets4\\\\picturestotensor\\\\Train\\\\female\\\\000026.jpg', 0),\n",
       " ('F:\\\\datasets4\\\\picturestotensor\\\\Train\\\\female\\\\000027.jpg', 0),\n",
       " ('F:\\\\datasets4\\\\picturestotensor\\\\Train\\\\female\\\\000028.jpg', 0),\n",
       " ('F:\\\\datasets4\\\\picturestotensor\\\\Train\\\\female\\\\000029.jpg', 0),\n",
       " ('F:\\\\datasets4\\\\picturestotensor\\\\Train\\\\female\\\\000031.jpg', 0),\n",
       " ('F:\\\\datasets4\\\\picturestotensor\\\\Train\\\\female\\\\000034.jpg', 0),\n",
       " ('F:\\\\datasets4\\\\picturestotensor\\\\Train\\\\female\\\\000035.jpg', 0),\n",
       " ('F:\\\\datasets4\\\\picturestotensor\\\\Train\\\\female\\\\000039.jpg', 0),\n",
       " ('F:\\\\datasets4\\\\picturestotensor\\\\Train\\\\female\\\\000040.jpg', 0),\n",
       " ('F:\\\\datasets4\\\\picturestotensor\\\\Train\\\\female\\\\000042.jpg', 0),\n",
       " ('F:\\\\datasets4\\\\picturestotensor\\\\Train\\\\female\\\\000043.jpg', 0),\n",
       " ('F:\\\\datasets4\\\\picturestotensor\\\\Train\\\\female\\\\000044.jpg', 0),\n",
       " ('F:\\\\datasets4\\\\picturestotensor\\\\Train\\\\female\\\\000045.jpg', 0),\n",
       " ('F:\\\\datasets4\\\\picturestotensor\\\\Train\\\\female\\\\000046.jpg', 0),\n",
       " ('F:\\\\datasets4\\\\picturestotensor\\\\Train\\\\female\\\\000047.jpg', 0),\n",
       " ('F:\\\\datasets4\\\\picturestotensor\\\\Train\\\\female\\\\000054.jpg', 0),\n",
       " ('F:\\\\datasets4\\\\picturestotensor\\\\Train\\\\female\\\\000056.jpg', 0),\n",
       " ('F:\\\\datasets4\\\\picturestotensor\\\\Train\\\\female\\\\000057.jpg', 0),\n",
       " ('F:\\\\datasets4\\\\picturestotensor\\\\Train\\\\female\\\\000058.jpg', 0),\n",
       " ('F:\\\\datasets4\\\\picturestotensor\\\\Train\\\\female\\\\000059.jpg', 0),\n",
       " ('F:\\\\datasets4\\\\picturestotensor\\\\Train\\\\male\\\\000003.jpg', 1),\n",
       " ('F:\\\\datasets4\\\\picturestotensor\\\\Train\\\\male\\\\000007.jpg', 1),\n",
       " ('F:\\\\datasets4\\\\picturestotensor\\\\Train\\\\male\\\\000008.jpg', 1),\n",
       " ('F:\\\\datasets4\\\\picturestotensor\\\\Train\\\\male\\\\000012.jpg', 1),\n",
       " ('F:\\\\datasets4\\\\picturestotensor\\\\Train\\\\male\\\\000013.jpg', 1),\n",
       " ('F:\\\\datasets4\\\\picturestotensor\\\\Train\\\\male\\\\000015.jpg', 1),\n",
       " ('F:\\\\datasets4\\\\picturestotensor\\\\Train\\\\male\\\\000016.jpg', 1),\n",
       " ('F:\\\\datasets4\\\\picturestotensor\\\\Train\\\\male\\\\000020.jpg', 1),\n",
       " ('F:\\\\datasets4\\\\picturestotensor\\\\Train\\\\male\\\\000021.jpg', 1),\n",
       " ('F:\\\\datasets4\\\\picturestotensor\\\\Train\\\\male\\\\000023.jpg', 1),\n",
       " ('F:\\\\datasets4\\\\picturestotensor\\\\Train\\\\male\\\\000025.jpg', 1),\n",
       " ('F:\\\\datasets4\\\\picturestotensor\\\\Train\\\\male\\\\000030.jpg', 1),\n",
       " ('F:\\\\datasets4\\\\picturestotensor\\\\Train\\\\male\\\\000032.jpg', 1),\n",
       " ('F:\\\\datasets4\\\\picturestotensor\\\\Train\\\\male\\\\000033.jpg', 1),\n",
       " ('F:\\\\datasets4\\\\picturestotensor\\\\Train\\\\male\\\\000036.jpg', 1),\n",
       " ('F:\\\\datasets4\\\\picturestotensor\\\\Train\\\\male\\\\000037.jpg', 1),\n",
       " ('F:\\\\datasets4\\\\picturestotensor\\\\Train\\\\male\\\\000038.jpg', 1),\n",
       " ('F:\\\\datasets4\\\\picturestotensor\\\\Train\\\\male\\\\000041.jpg', 1),\n",
       " ('F:\\\\datasets4\\\\picturestotensor\\\\Train\\\\male\\\\000048.jpg', 1),\n",
       " ('F:\\\\datasets4\\\\picturestotensor\\\\Train\\\\male\\\\000049.jpg', 1),\n",
       " ('F:\\\\datasets4\\\\picturestotensor\\\\Train\\\\male\\\\000050.jpg', 1),\n",
       " ('F:\\\\datasets4\\\\picturestotensor\\\\Train\\\\male\\\\000051.jpg', 1),\n",
       " ('F:\\\\datasets4\\\\picturestotensor\\\\Train\\\\male\\\\000052.jpg', 1),\n",
       " ('F:\\\\datasets4\\\\picturestotensor\\\\Train\\\\male\\\\000053.jpg', 1),\n",
       " ('F:\\\\datasets4\\\\picturestotensor\\\\Train\\\\male\\\\000055.jpg', 1),\n",
       " ('F:\\\\datasets4\\\\picturestotensor\\\\Train\\\\male\\\\Pet-Peacock.png', 1)]"
      ]
     },
     "execution_count": 62,
     "metadata": {},
     "output_type": "execute_result"
    }
   ],
   "source": [
    "#查看具体的图像地址\n",
    "train_dataset.imgs"
   ]
  },
  {
   "cell_type": "code",
   "execution_count": 63,
   "metadata": {},
   "outputs": [
    {
     "data": {
      "image/png": "[encoded data removed]",
      "text/plain": [
       "<Figure size 720x720 with 5 Axes>"
      ]
     },
     "metadata": {
      "needs_background": "light"
     },
     "output_type": "display_data"
    }
   ],
   "source": [
    "#随机查看5张图像\n",
    "plotsample(train_dataset)"
   ]
  },
  {
   "cell_type": "code",
   "execution_count": 64,
   "metadata": {},
   "outputs": [],
   "source": [
    "#测试集 - 注意更换根目录\n",
    "test_dataset = torchvision.datasets.ImageFolder(root=\"F:\\datasets4\\picturestotensor\\Test\",\n",
    "                                        transform=torchvision.transforms.ToTensor()\n",
    "                                       )"
   ]
  },
  {
   "cell_type": "code",
   "execution_count": 65,
   "metadata": {},
   "outputs": [
    {
     "data": {
      "text/plain": [
       "Dataset ImageFolder\n",
       "    Number of datapoints: 62\n",
       "    Root location: F:\\datasets4\\picturestotensor\\Test\n",
       "    StandardTransform\n",
       "Transform: ToTensor()"
      ]
     },
     "execution_count": 65,
     "metadata": {},
     "output_type": "execute_result"
    }
   ],
   "source": [
    "test_dataset"
   ]
  },
  {
   "cell_type": "code",
   "execution_count": 66,
   "metadata": {},
   "outputs": [
    {
     "data": {
      "image/png": "[encoded data removed]",
      "text/plain": [
       "<Figure size 720x720 with 5 Axes>"
      ]
     },
     "metadata": {
      "needs_background": "light"
     },
     "output_type": "display_data"
    }
   ],
   "source": [
    "plotsample(test_dataset)"
   ]
  },
  {
   "cell_type": "code",
   "execution_count": null,
   "metadata": {},
   "outputs": [],
   "source": []
  },
  {
   "cell_type": "code",
   "execution_count": 67,
   "metadata": {},
   "outputs": [],
   "source": [
    "from skimage import io\n",
    "import pandas as pd\n",
    "import torch\n",
    "import os"
   ]
  },
  {
   "cell_type": "code",
   "execution_count": 68,
   "metadata": {},
   "outputs": [],
   "source": [
    "#读取一张图片"
   ]
  },
  {
   "cell_type": "code",
   "execution_count": 69,
   "metadata": {},
   "outputs": [
    {
     "data": {
      "text/plain": [
       "array([[[253, 231, 192],\n",
       "        [253, 231, 192],\n",
       "        [253, 231, 192],\n",
       "        ...,\n",
       "        [254, 244, 219],\n",
       "        [254, 244, 219],\n",
       "        [254, 244, 219]],\n",
       "\n",
       "       [[253, 231, 192],\n",
       "        [253, 231, 192],\n",
       "        [253, 231, 192],\n",
       "        ...,\n",
       "        [254, 244, 219],\n",
       "        [254, 244, 219],\n",
       "        [254, 244, 219]],\n",
       "\n",
       "       [[253, 231, 192],\n",
       "        [253, 231, 192],\n",
       "        [253, 231, 192],\n",
       "        ...,\n",
       "        [254, 244, 219],\n",
       "        [254, 244, 219],\n",
       "        [254, 244, 219]],\n",
       "\n",
       "       ...,\n",
       "\n",
       "       [[253, 218, 176],\n",
       "        [253, 218, 176],\n",
       "        [253, 218, 176],\n",
       "        ...,\n",
       "        [243, 173, 122],\n",
       "        [234, 170, 122],\n",
       "        [239, 178, 131]],\n",
       "\n",
       "       [[253, 218, 176],\n",
       "        [253, 218, 176],\n",
       "        [253, 218, 176],\n",
       "        ...,\n",
       "        [251, 180, 126],\n",
       "        [237, 174, 123],\n",
       "        [238, 178, 128]],\n",
       "\n",
       "       [[253, 218, 176],\n",
       "        [253, 218, 176],\n",
       "        [253, 218, 176],\n",
       "        ...,\n",
       "        [255, 184, 128],\n",
       "        [242, 177, 123],\n",
       "        [239, 179, 127]]], dtype=uint8)"
      ]
     },
     "execution_count": 69,
     "metadata": {},
     "output_type": "execute_result"
    }
   ],
   "source": [
    "io.imread(r\"F:\\datasets4\\picturestotensor\\celebAsubset\\Img\\Img_celeba.7z\\img_celeba\\000001.jpg\")"
   ]
  },
  {
   "cell_type": "code",
   "execution_count": 70,
   "metadata": {},
   "outputs": [],
   "source": [
    "#读取我们的标签 - identity个体识别标签"
   ]
  },
  {
   "cell_type": "code",
   "execution_count": 71,
   "metadata": {},
   "outputs": [],
   "source": [
    "identity = pd.read_csv(r\"F:\\datasets4\\picturestotensor\\celebAsubset\\Anno\\identity_CelebA_1000.txt\"\n",
    "                       ,sep = \" \"\n",
    "                       ,header = None)"
   ]
  },
  {
   "cell_type": "code",
   "execution_count": 72,
   "metadata": {},
   "outputs": [
    {
     "data": {
      "text/html": [
       "<div>\n",
       "<style scoped>\n",
       "    .dataframe tbody tr th:only-of-type {\n",
       "        vertical-align: middle;\n",
       "    }\n",
       "\n",
       "    .dataframe tbody tr th {\n",
       "        vertical-align: top;\n",
       "    }\n",
       "\n",
       "    .dataframe thead th {\n",
       "        text-align: right;\n",
       "    }\n",
       "</style>\n",
       "<table border=\"1\" class=\"dataframe\">\n",
       "  <thead>\n",
       "    <tr style=\"text-align: right;\">\n",
       "      <th></th>\n",
       "      <th>0</th>\n",
       "      <th>1</th>\n",
       "    </tr>\n",
       "  </thead>\n",
       "  <tbody>\n",
       "    <tr>\n",
       "      <th>0</th>\n",
       "      <td>000001.jpg</td>\n",
       "      <td>2880</td>\n",
       "    </tr>\n",
       "    <tr>\n",
       "      <th>1</th>\n",
       "      <td>000002.jpg</td>\n",
       "      <td>2937</td>\n",
       "    </tr>\n",
       "    <tr>\n",
       "      <th>2</th>\n",
       "      <td>000003.jpg</td>\n",
       "      <td>8692</td>\n",
       "    </tr>\n",
       "    <tr>\n",
       "      <th>3</th>\n",
       "      <td>000004.jpg</td>\n",
       "      <td>5805</td>\n",
       "    </tr>\n",
       "    <tr>\n",
       "      <th>4</th>\n",
       "      <td>000005.jpg</td>\n",
       "      <td>9295</td>\n",
       "    </tr>\n",
       "  </tbody>\n",
       "</table>\n",
       "</div>"
      ],
      "text/plain": [
       "            0     1\n",
       "0  000001.jpg  2880\n",
       "1  000002.jpg  2937\n",
       "2  000003.jpg  8692\n",
       "3  000004.jpg  5805\n",
       "4  000005.jpg  9295"
      ]
     },
     "execution_count": 72,
     "metadata": {},
     "output_type": "execute_result"
    }
   ],
   "source": [
    "identity.head()"
   ]
  },
  {
   "cell_type": "code",
   "execution_count": 73,
   "metadata": {},
   "outputs": [
    {
     "data": {
      "text/plain": [
       "'000001.jpg'"
      ]
     },
     "execution_count": 73,
     "metadata": {},
     "output_type": "execute_result"
    }
   ],
   "source": [
    "identity.iloc[0,0]"
   ]
  },
  {
   "cell_type": "code",
   "execution_count": 74,
   "metadata": {},
   "outputs": [],
   "source": [
    "imgpath = r\"F:\\datasets4\\picturestotensor\\celebAsubset\\Img\\Img_celeba.7z\\img_celeba\"\n",
    "csvpath = r\"F:\\datasets4\\picturestotensor\\celebAsubset\\Anno\\identity_CelebA_1000.txt\""
   ]
  },
  {
   "cell_type": "code",
   "execution_count": 75,
   "metadata": {},
   "outputs": [],
   "source": [
    "imgdic = os.path.join(imgpath,identity.iloc[0,0])"
   ]
  },
  {
   "cell_type": "code",
   "execution_count": 76,
   "metadata": {},
   "outputs": [
    {
     "data": {
      "text/plain": [
       "2880"
      ]
     },
     "execution_count": 76,
     "metadata": {},
     "output_type": "execute_result"
    }
   ],
   "source": [
    "identity.iloc[0,1]"
   ]
  },
  {
   "cell_type": "code",
   "execution_count": 77,
   "metadata": {},
   "outputs": [
    {
     "data": {
      "text/plain": [
       "array([[[253, 231, 192],\n",
       "        [253, 231, 192],\n",
       "        [253, 231, 192],\n",
       "        ...,\n",
       "        [254, 244, 219],\n",
       "        [254, 244, 219],\n",
       "        [254, 244, 219]],\n",
       "\n",
       "       [[253, 231, 192],\n",
       "        [253, 231, 192],\n",
       "        [253, 231, 192],\n",
       "        ...,\n",
       "        [254, 244, 219],\n",
       "        [254, 244, 219],\n",
       "        [254, 244, 219]],\n",
       "\n",
       "       [[253, 231, 192],\n",
       "        [253, 231, 192],\n",
       "        [253, 231, 192],\n",
       "        ...,\n",
       "        [254, 244, 219],\n",
       "        [254, 244, 219],\n",
       "        [254, 244, 219]],\n",
       "\n",
       "       ...,\n",
       "\n",
       "       [[253, 218, 176],\n",
       "        [253, 218, 176],\n",
       "        [253, 218, 176],\n",
       "        ...,\n",
       "        [243, 173, 122],\n",
       "        [234, 170, 122],\n",
       "        [239, 178, 131]],\n",
       "\n",
       "       [[253, 218, 176],\n",
       "        [253, 218, 176],\n",
       "        [253, 218, 176],\n",
       "        ...,\n",
       "        [251, 180, 126],\n",
       "        [237, 174, 123],\n",
       "        [238, 178, 128]],\n",
       "\n",
       "       [[253, 218, 176],\n",
       "        [253, 218, 176],\n",
       "        [253, 218, 176],\n",
       "        ...,\n",
       "        [255, 184, 128],\n",
       "        [242, 177, 123],\n",
       "        [239, 179, 127]]], dtype=uint8)"
      ]
     },
     "execution_count": 77,
     "metadata": {},
     "output_type": "execute_result"
    }
   ],
   "source": [
    "io.imread(imgdic)"
   ]
  },
  {
   "cell_type": "code",
   "execution_count": 78,
   "metadata": {},
   "outputs": [],
   "source": [
    "idx = 20"
   ]
  },
  {
   "cell_type": "code",
   "execution_count": 79,
   "metadata": {},
   "outputs": [],
   "source": [
    "imgpath = r\"F:\\datasets4\\picturestotensor\\celebAsubset\\Img\\Img_celeba.7z\\img_celeba\"\n",
    "csvpath = r\"F:\\datasets4\\picturestotensor\\celebAsubset\\Anno\\identity_CelebA_1000.txt\"\n",
    "\n",
    "imgdic = os.path.join(imgpath,identity.iloc[idx,0]) #图像目录\n",
    "image = io.imread(imgdic) #提取出的，索引为idx的图像的像素值矩阵\n",
    "label = identity.iloc[idx,1]\n",
    "sample = (torch.tensor(image),int(label))"
   ]
  },
  {
   "cell_type": "code",
   "execution_count": 80,
   "metadata": {},
   "outputs": [
    {
     "data": {
      "text/plain": [
       "(tensor([[[150, 122, 111],\n",
       "          [149, 121, 110],\n",
       "          [147, 119, 108],\n",
       "          ...,\n",
       "          [125, 150, 170],\n",
       "          [123, 149, 172],\n",
       "          [118, 146, 170]],\n",
       " \n",
       "         [[148, 120, 109],\n",
       "          [147, 119, 108],\n",
       "          [145, 117, 106],\n",
       "          ...,\n",
       "          [114, 137, 155],\n",
       "          [114, 139, 161],\n",
       "          [111, 137, 160]],\n",
       " \n",
       "         [[145, 117, 106],\n",
       "          [145, 117, 106],\n",
       "          [143, 115, 104],\n",
       "          ...,\n",
       "          [ 99, 120, 137],\n",
       "          [102, 125, 143],\n",
       "          [100, 125, 145]],\n",
       " \n",
       "         ...,\n",
       " \n",
       "         [[ 32,  25,  41],\n",
       "          [ 43,  32,  48],\n",
       "          [ 44,  30,  43],\n",
       "          ...,\n",
       "          [ 39,  28,  34],\n",
       "          [ 42,  31,  35],\n",
       "          [ 46,  35,  39]],\n",
       " \n",
       "         [[ 31,  24,  40],\n",
       "          [ 43,  32,  48],\n",
       "          [ 46,  32,  45],\n",
       "          ...,\n",
       "          [ 38,  27,  33],\n",
       "          [ 40,  29,  33],\n",
       "          [ 46,  35,  39]],\n",
       " \n",
       "         [[ 26,  19,  35],\n",
       "          [ 40,  29,  45],\n",
       "          [ 45,  31,  44],\n",
       "          ...,\n",
       "          [ 36,  25,  31],\n",
       "          [ 39,  28,  32],\n",
       "          [ 46,  35,  39]]], dtype=torch.uint8),\n",
       " 181)"
      ]
     },
     "execution_count": 80,
     "metadata": {},
     "output_type": "execute_result"
    }
   ],
   "source": [
    "sample"
   ]
  },
  {
   "cell_type": "code",
   "execution_count": 81,
   "metadata": {},
   "outputs": [
    {
     "data": {
      "text/plain": [
       "<matplotlib.image.AxesImage at 0x2c397b41820>"
      ]
     },
     "execution_count": 81,
     "metadata": {},
     "output_type": "execute_result"
    },
    {
     "data": {
      "image/png": "[encoded data removed]",
      "text/plain": [
       "<Figure size 432x288 with 1 Axes>"
      ]
     },
     "metadata": {
      "needs_background": "light"
     },
     "output_type": "display_data"
    }
   ],
   "source": [
    "plt.imshow(image)"
   ]
  },
  {
   "cell_type": "code",
   "execution_count": 82,
   "metadata": {},
   "outputs": [],
   "source": [
    "from torch.utils.data import Dataset\n",
    "#import numpy as np\n",
    "#import pandas as pd\n",
    "#from skimage import io\n",
    "#import torch, torchvision\n",
    "#from torchvision import transforms\n",
    "#import matplotlib.pyplot as plt\n",
    "#import random"
   ]
  },
  {
   "cell_type": "code",
   "execution_count": 83,
   "metadata": {},
   "outputs": [],
   "source": [
    "class CustomDataset(Dataset):\n",
    "    \"\"\"\n",
    "    自定义数据集，用于读取celebA数据集中的个体识别（identity recognition）数据的标签和图像\n",
    "    图像格式为jpg\n",
    "    \"\"\"\n",
    "    def __init__(self,csv_file, root_dir, transform = None):\n",
    "        \"\"\"\n",
    "        参数说明：\n",
    "            csv_file (字符串): 标签csv/txt的具体地址\n",
    "            root_dir (string): 所有图片所在的根目录\n",
    "            transform (callable, optional): 选填，需要对样本进行的预处理\n",
    "        \"\"\"\n",
    "        super().__init__()\n",
    "        self.identity = pd.read_csv(csv_file,sep=\" \",header=None)\n",
    "        self.root_dir = root_dir\n",
    "        self.transform = transform\n",
    "    \n",
    "    def __len__(self):\n",
    "        #展示数据中总共有多少个样本\n",
    "        return len(self.identity)\n",
    "    \n",
    "    def __info__(self):\n",
    "        print(\"CustomData\")\n",
    "        print(\"\\t Number of samples: {}\".format(len(self.identity)))\n",
    "        print(\"\\t Number of classes: {}\".format(len(np.unique(self.identity.iloc[:,1]))))\n",
    "        print(\"\\t root_dir: {}\".format(self.root_dir))\n",
    "    \n",
    "    def __getitem__(self,idx):\n",
    "        #保证idx不是一个tensor\n",
    "        if torch.is_tensor(idx):\n",
    "            idx = idx.tolist()\n",
    "        \n",
    "        imgdic = os.path.join(self.root_dir,self.identity.iloc[idx,0]) #图像目录\n",
    "        image = io.imread(imgdic) #提取出的，索引为idx的图像的像素值矩阵\n",
    "        label = self.identity.iloc[idx,1]\n",
    "        \n",
    "        if self.transform != None:\n",
    "            image = self.transform(image)\n",
    "            \n",
    "        sample = (image,label)\n",
    "        return sample"
   ]
  },
  {
   "cell_type": "code",
   "execution_count": 84,
   "metadata": {},
   "outputs": [],
   "source": [
    "imgpath = r\"F:\\datasets4\\picturestotensor\\celebAsubset\\Img\\Img_celeba.7z\\img_celeba\"\n",
    "csvpath = r\"F:\\datasets4\\picturestotensor\\celebAsubset\\Anno\\identity_CelebA_1000.txt\""
   ]
  },
  {
   "cell_type": "code",
   "execution_count": 85,
   "metadata": {},
   "outputs": [],
   "source": [
    "data = CustomDataset(csvpath,imgpath)"
   ]
  },
  {
   "cell_type": "code",
   "execution_count": 86,
   "metadata": {},
   "outputs": [
    {
     "data": {
      "text/plain": [
       "(array([[[150, 122, 111],\n",
       "         [149, 121, 110],\n",
       "         [147, 119, 108],\n",
       "         ...,\n",
       "         [125, 150, 170],\n",
       "         [123, 149, 172],\n",
       "         [118, 146, 170]],\n",
       " \n",
       "        [[148, 120, 109],\n",
       "         [147, 119, 108],\n",
       "         [145, 117, 106],\n",
       "         ...,\n",
       "         [114, 137, 155],\n",
       "         [114, 139, 161],\n",
       "         [111, 137, 160]],\n",
       " \n",
       "        [[145, 117, 106],\n",
       "         [145, 117, 106],\n",
       "         [143, 115, 104],\n",
       "         ...,\n",
       "         [ 99, 120, 137],\n",
       "         [102, 125, 143],\n",
       "         [100, 125, 145]],\n",
       " \n",
       "        ...,\n",
       " \n",
       "        [[ 32,  25,  41],\n",
       "         [ 43,  32,  48],\n",
       "         [ 44,  30,  43],\n",
       "         ...,\n",
       "         [ 39,  28,  34],\n",
       "         [ 42,  31,  35],\n",
       "         [ 46,  35,  39]],\n",
       " \n",
       "        [[ 31,  24,  40],\n",
       "         [ 43,  32,  48],\n",
       "         [ 46,  32,  45],\n",
       "         ...,\n",
       "         [ 38,  27,  33],\n",
       "         [ 40,  29,  33],\n",
       "         [ 46,  35,  39]],\n",
       " \n",
       "        [[ 26,  19,  35],\n",
       "         [ 40,  29,  45],\n",
       "         [ 45,  31,  44],\n",
       "         ...,\n",
       "         [ 36,  25,  31],\n",
       "         [ 39,  28,  32],\n",
       "         [ 46,  35,  39]]], dtype=uint8),\n",
       " 181)"
      ]
     },
     "execution_count": 86,
     "metadata": {},
     "output_type": "execute_result"
    }
   ],
   "source": [
    "data[20]"
   ]
  },
  {
   "cell_type": "code",
   "execution_count": 87,
   "metadata": {},
   "outputs": [
    {
     "data": {
      "text/plain": [
       "1000"
      ]
     },
     "execution_count": 87,
     "metadata": {},
     "output_type": "execute_result"
    }
   ],
   "source": [
    "data.__len__()"
   ]
  },
  {
   "cell_type": "code",
   "execution_count": 88,
   "metadata": {},
   "outputs": [
    {
     "name": "stdout",
     "output_type": "stream",
     "text": [
      "CustomData\n",
      "\t Number of samples: 1000\n",
      "\t Number of classes: 922\n",
      "\t root_dir: F:\\datasets4\\picturestotensor\\celebAsubset\\Img\\Img_celeba.7z\\img_celeba\n"
     ]
    }
   ],
   "source": [
    "data.__info__()"
   ]
  },
  {
   "cell_type": "code",
   "execution_count": 89,
   "metadata": {},
   "outputs": [
    {
     "name": "stdout",
     "output_type": "stream",
     "text": [
      "(687, 409, 3)\n",
      "2880\n"
     ]
    }
   ],
   "source": [
    "for x,y in data:\n",
    "    print(x.shape)\n",
    "    print(y)\n",
    "    break"
   ]
  },
  {
   "cell_type": "markdown",
   "metadata": {},
   "source": [
    "#### 读取属性识别的标签"
   ]
  },
  {
   "cell_type": "code",
   "execution_count": 90,
   "metadata": {},
   "outputs": [],
   "source": [
    "imgpath = r\"F:\\datasets4\\picturestotensor\\celebAsubset\\Img\\Img_celeba.7z\\img_celeba\"\n",
    "csvpath = r\"F:\\datasets4\\picturestotensor\\celebAsubset\\Anno\\list_attr_celeba_1000.txt\""
   ]
  },
  {
   "cell_type": "code",
   "execution_count": 91,
   "metadata": {},
   "outputs": [],
   "source": [
    "attr_ = pd.read_csv(csvpath,header=None)"
   ]
  },
  {
   "cell_type": "code",
   "execution_count": 92,
   "metadata": {},
   "outputs": [
    {
     "data": {
      "text/html": [
       "<div>\n",
       "<style scoped>\n",
       "    .dataframe tbody tr th:only-of-type {\n",
       "        vertical-align: middle;\n",
       "    }\n",
       "\n",
       "    .dataframe tbody tr th {\n",
       "        vertical-align: top;\n",
       "    }\n",
       "\n",
       "    .dataframe thead th {\n",
       "        text-align: right;\n",
       "    }\n",
       "</style>\n",
       "<table border=\"1\" class=\"dataframe\">\n",
       "  <thead>\n",
       "    <tr style=\"text-align: right;\">\n",
       "      <th></th>\n",
       "      <th>0</th>\n",
       "    </tr>\n",
       "  </thead>\n",
       "  <tbody>\n",
       "    <tr>\n",
       "      <th>0</th>\n",
       "      <td>202599 5_o_Clock_Shadow Arched_Eyebrows Attrac...</td>\n",
       "    </tr>\n",
       "    <tr>\n",
       "      <th>1</th>\n",
       "      <td>000001.jpg -1  1  1 -1 -1 -1 -1 -1 -1 -1 -1  1...</td>\n",
       "    </tr>\n",
       "    <tr>\n",
       "      <th>2</th>\n",
       "      <td>000002.jpg -1 -1 -1  1 -1 -1 -1  1 -1 -1 -1  1...</td>\n",
       "    </tr>\n",
       "    <tr>\n",
       "      <th>3</th>\n",
       "      <td>000003.jpg -1 -1 -1 -1 -1 -1  1 -1 -1 -1  1 -1...</td>\n",
       "    </tr>\n",
       "    <tr>\n",
       "      <th>4</th>\n",
       "      <td>000004.jpg -1 -1  1 -1 -1 -1 -1 -1 -1 -1 -1 -1...</td>\n",
       "    </tr>\n",
       "  </tbody>\n",
       "</table>\n",
       "</div>"
      ],
      "text/plain": [
       "                                                   0\n",
       "0  202599 5_o_Clock_Shadow Arched_Eyebrows Attrac...\n",
       "1  000001.jpg -1  1  1 -1 -1 -1 -1 -1 -1 -1 -1  1...\n",
       "2  000002.jpg -1 -1 -1  1 -1 -1 -1  1 -1 -1 -1  1...\n",
       "3  000003.jpg -1 -1 -1 -1 -1 -1  1 -1 -1 -1  1 -1...\n",
       "4  000004.jpg -1 -1  1 -1 -1 -1 -1 -1 -1 -1 -1 -1..."
      ]
     },
     "execution_count": 92,
     "metadata": {},
     "output_type": "execute_result"
    }
   ],
   "source": [
    "attr_.head()"
   ]
  },
  {
   "cell_type": "code",
   "execution_count": 93,
   "metadata": {},
   "outputs": [
    {
     "data": {
      "text/plain": [
       "41"
      ]
     },
     "execution_count": 93,
     "metadata": {},
     "output_type": "execute_result"
    }
   ],
   "source": [
    "len(attr_.iloc[0,0].split()) #默认帮我按空格进行分类，它会把多个空格也当成一个空格"
   ]
  },
  {
   "cell_type": "code",
   "execution_count": 94,
   "metadata": {},
   "outputs": [],
   "source": [
    "attr_ = pd.DataFrame(attr_.iloc[1:,0].str.split().tolist(),\n",
    "                    columns = attr_.iloc[0,0].split())"
   ]
  },
  {
   "cell_type": "code",
   "execution_count": 95,
   "metadata": {},
   "outputs": [
    {
     "data": {
      "text/html": [
       "<div>\n",
       "<style scoped>\n",
       "    .dataframe tbody tr th:only-of-type {\n",
       "        vertical-align: middle;\n",
       "    }\n",
       "\n",
       "    .dataframe tbody tr th {\n",
       "        vertical-align: top;\n",
       "    }\n",
       "\n",
       "    .dataframe thead th {\n",
       "        text-align: right;\n",
       "    }\n",
       "</style>\n",
       "<table border=\"1\" class=\"dataframe\">\n",
       "  <thead>\n",
       "    <tr style=\"text-align: right;\">\n",
       "      <th></th>\n",
       "      <th>202599</th>\n",
       "      <th>5_o_Clock_Shadow</th>\n",
       "      <th>Arched_Eyebrows</th>\n",
       "      <th>Attractive</th>\n",
       "      <th>Bags_Under_Eyes</th>\n",
       "      <th>Bald</th>\n",
       "      <th>Bangs</th>\n",
       "      <th>Big_Lips</th>\n",
       "      <th>Big_Nose</th>\n",
       "      <th>Black_Hair</th>\n",
       "      <th>...</th>\n",
       "      <th>Sideburns</th>\n",
       "      <th>Smiling</th>\n",
       "      <th>Straight_Hair</th>\n",
       "      <th>Wavy_Hair</th>\n",
       "      <th>Wearing_Earrings</th>\n",
       "      <th>Wearing_Hat</th>\n",
       "      <th>Wearing_Lipstick</th>\n",
       "      <th>Wearing_Necklace</th>\n",
       "      <th>Wearing_Necktie</th>\n",
       "      <th>Young</th>\n",
       "    </tr>\n",
       "  </thead>\n",
       "  <tbody>\n",
       "    <tr>\n",
       "      <th>0</th>\n",
       "      <td>000001.jpg</td>\n",
       "      <td>-1</td>\n",
       "      <td>1</td>\n",
       "      <td>1</td>\n",
       "      <td>-1</td>\n",
       "      <td>-1</td>\n",
       "      <td>-1</td>\n",
       "      <td>-1</td>\n",
       "      <td>-1</td>\n",
       "      <td>-1</td>\n",
       "      <td>...</td>\n",
       "      <td>-1</td>\n",
       "      <td>1</td>\n",
       "      <td>1</td>\n",
       "      <td>-1</td>\n",
       "      <td>1</td>\n",
       "      <td>-1</td>\n",
       "      <td>1</td>\n",
       "      <td>-1</td>\n",
       "      <td>-1</td>\n",
       "      <td>1</td>\n",
       "    </tr>\n",
       "    <tr>\n",
       "      <th>1</th>\n",
       "      <td>000002.jpg</td>\n",
       "      <td>-1</td>\n",
       "      <td>-1</td>\n",
       "      <td>-1</td>\n",
       "      <td>1</td>\n",
       "      <td>-1</td>\n",
       "      <td>-1</td>\n",
       "      <td>-1</td>\n",
       "      <td>1</td>\n",
       "      <td>-1</td>\n",
       "      <td>...</td>\n",
       "      <td>-1</td>\n",
       "      <td>1</td>\n",
       "      <td>-1</td>\n",
       "      <td>-1</td>\n",
       "      <td>-1</td>\n",
       "      <td>-1</td>\n",
       "      <td>-1</td>\n",
       "      <td>-1</td>\n",
       "      <td>-1</td>\n",
       "      <td>1</td>\n",
       "    </tr>\n",
       "    <tr>\n",
       "      <th>2</th>\n",
       "      <td>000003.jpg</td>\n",
       "      <td>-1</td>\n",
       "      <td>-1</td>\n",
       "      <td>-1</td>\n",
       "      <td>-1</td>\n",
       "      <td>-1</td>\n",
       "      <td>-1</td>\n",
       "      <td>1</td>\n",
       "      <td>-1</td>\n",
       "      <td>-1</td>\n",
       "      <td>...</td>\n",
       "      <td>-1</td>\n",
       "      <td>-1</td>\n",
       "      <td>-1</td>\n",
       "      <td>1</td>\n",
       "      <td>-1</td>\n",
       "      <td>-1</td>\n",
       "      <td>-1</td>\n",
       "      <td>-1</td>\n",
       "      <td>-1</td>\n",
       "      <td>1</td>\n",
       "    </tr>\n",
       "    <tr>\n",
       "      <th>3</th>\n",
       "      <td>000004.jpg</td>\n",
       "      <td>-1</td>\n",
       "      <td>-1</td>\n",
       "      <td>1</td>\n",
       "      <td>-1</td>\n",
       "      <td>-1</td>\n",
       "      <td>-1</td>\n",
       "      <td>-1</td>\n",
       "      <td>-1</td>\n",
       "      <td>-1</td>\n",
       "      <td>...</td>\n",
       "      <td>-1</td>\n",
       "      <td>-1</td>\n",
       "      <td>1</td>\n",
       "      <td>-1</td>\n",
       "      <td>1</td>\n",
       "      <td>-1</td>\n",
       "      <td>1</td>\n",
       "      <td>1</td>\n",
       "      <td>-1</td>\n",
       "      <td>1</td>\n",
       "    </tr>\n",
       "    <tr>\n",
       "      <th>4</th>\n",
       "      <td>000005.jpg</td>\n",
       "      <td>-1</td>\n",
       "      <td>1</td>\n",
       "      <td>1</td>\n",
       "      <td>-1</td>\n",
       "      <td>-1</td>\n",
       "      <td>-1</td>\n",
       "      <td>1</td>\n",
       "      <td>-1</td>\n",
       "      <td>-1</td>\n",
       "      <td>...</td>\n",
       "      <td>-1</td>\n",
       "      <td>-1</td>\n",
       "      <td>-1</td>\n",
       "      <td>-1</td>\n",
       "      <td>-1</td>\n",
       "      <td>-1</td>\n",
       "      <td>1</td>\n",
       "      <td>-1</td>\n",
       "      <td>-1</td>\n",
       "      <td>1</td>\n",
       "    </tr>\n",
       "  </tbody>\n",
       "</table>\n",
       "<p>5 rows × 41 columns</p>\n",
       "</div>"
      ],
      "text/plain": [
       "       202599 5_o_Clock_Shadow Arched_Eyebrows Attractive Bags_Under_Eyes  \\\n",
       "0  000001.jpg               -1               1          1              -1   \n",
       "1  000002.jpg               -1              -1         -1               1   \n",
       "2  000003.jpg               -1              -1         -1              -1   \n",
       "3  000004.jpg               -1              -1          1              -1   \n",
       "4  000005.jpg               -1               1          1              -1   \n",
       "\n",
       "  Bald Bangs Big_Lips Big_Nose Black_Hair  ... Sideburns Smiling  \\\n",
       "0   -1    -1       -1       -1         -1  ...        -1       1   \n",
       "1   -1    -1       -1        1         -1  ...        -1       1   \n",
       "2   -1    -1        1       -1         -1  ...        -1      -1   \n",
       "3   -1    -1       -1       -1         -1  ...        -1      -1   \n",
       "4   -1    -1        1       -1         -1  ...        -1      -1   \n",
       "\n",
       "  Straight_Hair Wavy_Hair Wearing_Earrings Wearing_Hat Wearing_Lipstick  \\\n",
       "0             1        -1                1          -1                1   \n",
       "1            -1        -1               -1          -1               -1   \n",
       "2            -1         1               -1          -1               -1   \n",
       "3             1        -1                1          -1                1   \n",
       "4            -1        -1               -1          -1                1   \n",
       "\n",
       "  Wearing_Necklace Wearing_Necktie Young  \n",
       "0               -1              -1     1  \n",
       "1               -1              -1     1  \n",
       "2               -1              -1     1  \n",
       "3                1              -1     1  \n",
       "4               -1              -1     1  \n",
       "\n",
       "[5 rows x 41 columns]"
      ]
     },
     "execution_count": 95,
     "metadata": {},
     "output_type": "execute_result"
    }
   ],
   "source": [
    "attr_.head()"
   ]
  },
  {
   "cell_type": "code",
   "execution_count": 96,
   "metadata": {},
   "outputs": [
    {
     "data": {
      "text/plain": [
       "0       1\n",
       "1      -1\n",
       "2      -1\n",
       "3       1\n",
       "4       1\n",
       "       ..\n",
       "995    -1\n",
       "996     1\n",
       "997     1\n",
       "998    -1\n",
       "999     1\n",
       "Name: Attractive, Length: 1000, dtype: object"
      ]
     },
     "execution_count": 96,
     "metadata": {},
     "output_type": "execute_result"
    }
   ],
   "source": [
    "attr_.loc[:,\"Attractive\"]"
   ]
  },
  {
   "cell_type": "code",
   "execution_count": 97,
   "metadata": {},
   "outputs": [],
   "source": [
    "class CustomDataset_attr(Dataset):\n",
    "    \"\"\"\n",
    "    自定义数据集，用于读取celebA数据集中的属性识别（attribute recognition）数据的标签和图像\n",
    "    图像格式为jpg\n",
    "    \"\"\"\n",
    "    def __init__(self,csv_file, root_dir, labelname, transform = None):\n",
    "        \"\"\"\n",
    "        参数说明：\n",
    "            csv_file (字符串): 标签csv/txt的具体地址\n",
    "            root_dir (string): 所有图片所在的根目录\n",
    "            transform (callable, optional): 选填，需要对样本进行的预处理\n",
    "        \"\"\"\n",
    "        super().__init__()\n",
    "        self.attr_ = pd.read_csv(csvpath,header=None)\n",
    "        self.root_dir = root_dir\n",
    "        self.labelname = labelname\n",
    "        self.transform = transform\n",
    "    \n",
    "    def __len__(self):\n",
    "        #展示数据中总共有多少个样本\n",
    "        return len(self.attr_)\n",
    "    \n",
    "    def __info__(self):\n",
    "        print(\"CustomData\")\n",
    "        print(\"\\t Number of samples: {}\".format(len(self.attr_)-1))\n",
    "        print(\"\\t root_dir: {}\".format(self.root_dir))\n",
    "    \n",
    "    def __getitem__(self,idx):\n",
    "        #保证idx不是一个tensor\n",
    "        if torch.is_tensor(idx):\n",
    "            idx = idx.tolist()\n",
    "        \n",
    "        self.attr_ = pd.DataFrame(self.attr_.iloc[1:,0].str.split().tolist(),\n",
    "                    columns = self.attr_.iloc[0,0].split())\n",
    "        \n",
    "        imgdic = os.path.join(self.root_dir,self.attr_.iloc[idx,0]) #图像目录\n",
    "        image = io.imread(imgdic) #提取出的，索引为idx的图像的像素值矩阵\n",
    "        label = int(self.attr_.loc[idx,self.labelname])\n",
    "        \n",
    "        if self.transform != None:\n",
    "            image = self.transform(image)\n",
    "            \n",
    "        sample = (image,label)\n",
    "        return sample"
   ]
  },
  {
   "cell_type": "code",
   "execution_count": 98,
   "metadata": {
    "collapsed": true,
    "jupyter": {
     "outputs_hidden": true
    }
   },
   "outputs": [
    {
     "name": "stdout",
     "output_type": "stream",
     "text": [
      "CustomData\n",
      "\t Number of samples: 1000\n",
      "\t root_dir: F:\\datasets4\\picturestotensor\\celebAsubset\\Img\\Img_celeba.7z\\img_celeba\n"
     ]
    },
    {
     "data": {
      "text/plain": [
       "(array([[[ 56,  44,  32],\n",
       "         [ 56,  44,  32],\n",
       "         [ 56,  44,  32],\n",
       "         ...,\n",
       "         [ 46,  38,  19],\n",
       "         [ 46,  38,  19],\n",
       "         [ 46,  38,  19]],\n",
       " \n",
       "        [[ 56,  44,  32],\n",
       "         [ 56,  44,  32],\n",
       "         [ 56,  44,  32],\n",
       "         ...,\n",
       "         [ 46,  38,  19],\n",
       "         [ 46,  38,  19],\n",
       "         [ 46,  38,  19]],\n",
       " \n",
       "        [[ 56,  44,  32],\n",
       "         [ 56,  44,  32],\n",
       "         [ 56,  44,  32],\n",
       "         ...,\n",
       "         [ 46,  38,  19],\n",
       "         [ 46,  38,  19],\n",
       "         [ 46,  38,  19]],\n",
       " \n",
       "        ...,\n",
       " \n",
       "        [[ 54,  52,  37],\n",
       "         [ 53,  51,  36],\n",
       "         [ 53,  51,  36],\n",
       "         ...,\n",
       "         [196, 210, 211],\n",
       "         [197, 211, 212],\n",
       "         [198, 212, 213]],\n",
       " \n",
       "        [[ 56,  54,  39],\n",
       "         [ 55,  53,  38],\n",
       "         [ 55,  53,  38],\n",
       "         ...,\n",
       "         [197, 211, 212],\n",
       "         [198, 212, 213],\n",
       "         [199, 213, 214]],\n",
       " \n",
       "        [[ 57,  55,  40],\n",
       "         [ 57,  55,  40],\n",
       "         [ 56,  54,  39],\n",
       "         ...,\n",
       "         [199, 213, 214],\n",
       "         [200, 214, 215],\n",
       "         [201, 215, 216]]], dtype=uint8),\n",
       " 1)"
      ]
     },
     "execution_count": 98,
     "metadata": {},
     "output_type": "execute_result"
    }
   ],
   "source": [
    "imgpath = r\"F:\\datasets4\\picturestotensor\\celebAsubset\\Img\\Img_celeba.7z\\img_celeba\"\n",
    "csvpath = r\"F:\\datasets4\\picturestotensor\\celebAsubset\\Anno\\list_attr_celeba_1000.txt\"\n",
    "labelname = \"Attractive\"\n",
    "\n",
    "data = CustomDataset_attr(csvpath,imgpath,labelname)\n",
    "\n",
    "data\n",
    "\n",
    "data.__info__()\n",
    "\n",
    "data[500]"
   ]
  },
  {
   "cell_type": "markdown",
   "metadata": {},
   "source": [
    "### 将二维表转化为四维tensor（使用csv/txt创建数据集）"
   ]
  },
  {
   "cell_type": "code",
   "execution_count": null,
   "metadata": {},
   "outputs": [],
   "source": [
    "#import numpy as np\n",
    "#import torch\n",
    "#import matplotlib.pyplot as plt"
   ]
  },
  {
   "cell_type": "code",
   "execution_count": 99,
   "metadata": {},
   "outputs": [],
   "source": [
    "data = np.random.randint(0,255,(10,10000)) #假设现在是10个样本，每个样本10000个特征"
   ]
  },
  {
   "cell_type": "code",
   "execution_count": 100,
   "metadata": {},
   "outputs": [
    {
     "data": {
      "text/plain": [
       "(10, 10000)"
      ]
     },
     "execution_count": 100,
     "metadata": {},
     "output_type": "execute_result"
    }
   ],
   "source": [
    "data.shape"
   ]
  },
  {
   "cell_type": "code",
   "execution_count": 102,
   "metadata": {},
   "outputs": [],
   "source": [
    "data = data.reshape(10,1,100,100) #可以直接使用reshape的方式将数据调整为4维"
   ]
  },
  {
   "cell_type": "code",
   "execution_count": 103,
   "metadata": {},
   "outputs": [],
   "source": [
    "data = torch.tensor(data) #再放入tensor中转换格式"
   ]
  },
  {
   "cell_type": "code",
   "execution_count": 104,
   "metadata": {
    "collapsed": true,
    "jupyter": {
     "outputs_hidden": true
    }
   },
   "outputs": [
    {
     "data": {
      "text/plain": [
       "tensor([[[[202, 208, 107,  ...,  23, 243,  70],\n",
       "          [ 61,  33, 236,  ...,  46, 193, 163],\n",
       "          [178,  42, 164,  ...,  66,  31, 193],\n",
       "          ...,\n",
       "          [123, 210, 167,  ..., 241,  74, 167],\n",
       "          [ 18,  94, 116,  ...,  66,  23, 224],\n",
       "          [ 88,   5,  58,  ..., 140, 203, 206]]],\n",
       "\n",
       "\n",
       "        [[[202,   4, 187,  ..., 253, 170, 169],\n",
       "          [233, 131, 189,  ..., 135, 200,  49],\n",
       "          [205, 216, 237,  ..., 135, 157, 124],\n",
       "          ...,\n",
       "          [169,  99, 145,  ..., 189, 194,  28],\n",
       "          [130,  47, 158,  ...,  94,   0, 132],\n",
       "          [ 77, 250,  22,  ...,  10,  82, 102]]],\n",
       "\n",
       "\n",
       "        [[[110,  78, 236,  ..., 203, 174,  48],\n",
       "          [236, 103, 118,  ...,  77,  55, 214],\n",
       "          [203, 209,  51,  ..., 225, 194, 181],\n",
       "          ...,\n",
       "          [160,   5, 189,  ...,  74, 182,  23],\n",
       "          [206,  50, 156,  ..., 108, 143,  26],\n",
       "          [132,  76,  76,  ...,  53,  95,  12]]],\n",
       "\n",
       "\n",
       "        ...,\n",
       "\n",
       "\n",
       "        [[[153, 140,  41,  ..., 228, 248,  14],\n",
       "          [ 59, 251, 244,  ...,  30, 241, 141],\n",
       "          [ 40, 254, 205,  ..., 146, 198, 206],\n",
       "          ...,\n",
       "          [212,  48, 231,  ..., 209, 205,  52],\n",
       "          [ 10,  11, 248,  ...,  73, 180, 182],\n",
       "          [242, 107,  90,  ...,  81,  76, 209]]],\n",
       "\n",
       "\n",
       "        [[[210,  62, 115,  ..., 246, 210, 216],\n",
       "          [ 34, 115, 179,  ...,  94,  24, 153],\n",
       "          [ 20, 145, 198,  ..., 148,  17, 240],\n",
       "          ...,\n",
       "          [226, 146, 155,  ..., 126,  15, 248],\n",
       "          [108,  22, 164,  ...,  20, 201,  75],\n",
       "          [242, 212,  15,  ..., 251,  52, 222]]],\n",
       "\n",
       "\n",
       "        [[[ 28, 224, 162,  ..., 198, 176, 111],\n",
       "          [ 84,  91,  14,  ...,   4,  22, 216],\n",
       "          [165, 102,  29,  ..., 179, 204, 164],\n",
       "          ...,\n",
       "          [ 81,  16, 188,  ...,  85,  98, 132],\n",
       "          [206, 202, 213,  ..., 209, 166,  53],\n",
       "          [210, 119, 173,  ...,  87,  74,   2]]]], dtype=torch.int32)"
      ]
     },
     "execution_count": 104,
     "metadata": {},
     "output_type": "execute_result"
    }
   ],
   "source": [
    "data"
   ]
  },
  {
   "cell_type": "code",
   "execution_count": 105,
   "metadata": {},
   "outputs": [
    {
     "data": {
      "image/png": "[encoded data removed]",
      "text/plain": [
       "<Figure size 432x288 with 1 Axes>"
      ]
     },
     "metadata": {
      "needs_background": "light"
     },
     "output_type": "display_data"
    }
   ],
   "source": [
    "plt.imshow(data.view(-1,100,100,1)[0]);"
   ]
  },
  {
   "cell_type": "code",
   "execution_count": 106,
   "metadata": {
    "collapsed": true,
    "jupyter": {
     "outputs_hidden": true
    }
   },
   "outputs": [
    {
     "data": {
      "text/plain": [
       "tensor([[[[202, 208, 107,  ...,  23, 243,  70],\n",
       "          [ 61,  33, 236,  ...,  46, 193, 163],\n",
       "          [178,  42, 164,  ...,  66,  31, 193],\n",
       "          ...,\n",
       "          [123, 210, 167,  ..., 241,  74, 167],\n",
       "          [ 18,  94, 116,  ...,  66,  23, 224],\n",
       "          [ 88,   5,  58,  ..., 140, 203, 206]]],\n",
       "\n",
       "\n",
       "        [[[202,   4, 187,  ..., 253, 170, 169],\n",
       "          [233, 131, 189,  ..., 135, 200,  49],\n",
       "          [205, 216, 237,  ..., 135, 157, 124],\n",
       "          ...,\n",
       "          [169,  99, 145,  ..., 189, 194,  28],\n",
       "          [130,  47, 158,  ...,  94,   0, 132],\n",
       "          [ 77, 250,  22,  ...,  10,  82, 102]]],\n",
       "\n",
       "\n",
       "        [[[110,  78, 236,  ..., 203, 174,  48],\n",
       "          [236, 103, 118,  ...,  77,  55, 214],\n",
       "          [203, 209,  51,  ..., 225, 194, 181],\n",
       "          ...,\n",
       "          [160,   5, 189,  ...,  74, 182,  23],\n",
       "          [206,  50, 156,  ..., 108, 143,  26],\n",
       "          [132,  76,  76,  ...,  53,  95,  12]]],\n",
       "\n",
       "\n",
       "        ...,\n",
       "\n",
       "\n",
       "        [[[153, 140,  41,  ..., 228, 248,  14],\n",
       "          [ 59, 251, 244,  ...,  30, 241, 141],\n",
       "          [ 40, 254, 205,  ..., 146, 198, 206],\n",
       "          ...,\n",
       "          [212,  48, 231,  ..., 209, 205,  52],\n",
       "          [ 10,  11, 248,  ...,  73, 180, 182],\n",
       "          [242, 107,  90,  ...,  81,  76, 209]]],\n",
       "\n",
       "\n",
       "        [[[210,  62, 115,  ..., 246, 210, 216],\n",
       "          [ 34, 115, 179,  ...,  94,  24, 153],\n",
       "          [ 20, 145, 198,  ..., 148,  17, 240],\n",
       "          ...,\n",
       "          [226, 146, 155,  ..., 126,  15, 248],\n",
       "          [108,  22, 164,  ...,  20, 201,  75],\n",
       "          [242, 212,  15,  ..., 251,  52, 222]]],\n",
       "\n",
       "\n",
       "        [[[ 28, 224, 162,  ..., 198, 176, 111],\n",
       "          [ 84,  91,  14,  ...,   4,  22, 216],\n",
       "          [165, 102,  29,  ..., 179, 204, 164],\n",
       "          ...,\n",
       "          [ 81,  16, 188,  ...,  85,  98, 132],\n",
       "          [206, 202, 213,  ..., 209, 166,  53],\n",
       "          [210, 119, 173,  ...,  87,  74,   2]]]], dtype=torch.int32)"
      ]
     },
     "execution_count": 106,
     "metadata": {},
     "output_type": "execute_result"
    }
   ],
   "source": [
    "data"
   ]
  },
  {
   "cell_type": "code",
   "execution_count": 107,
   "metadata": {},
   "outputs": [],
   "source": [
    "from sklearn.preprocessing import PolynomialFeatures as PF\n",
    "import numpy as np"
   ]
  },
  {
   "cell_type": "code",
   "execution_count": 117,
   "metadata": {},
   "outputs": [
    {
     "data": {
      "text/plain": [
       "array([[1],\n",
       "       [2],\n",
       "       [3]])"
      ]
     },
     "execution_count": 117,
     "metadata": {},
     "output_type": "execute_result"
    }
   ],
   "source": [
    "#如果原始数据是一维的\n",
    "X = np.arange(1,4).reshape(-1,1)\n",
    "X"
   ]
  },
  {
   "cell_type": "code",
   "execution_count": 118,
   "metadata": {},
   "outputs": [],
   "source": [
    "#二次多项式，参数degree控制多项式的次方\n",
    "poly = PF(degree=2) #升维过程当中，你允许我在特征x上设置的最高次方"
   ]
  },
  {
   "cell_type": "code",
   "execution_count": 119,
   "metadata": {},
   "outputs": [],
   "source": [
    "#接口transform直接调用\n",
    "X_ = poly.fit_transform(X)"
   ]
  },
  {
   "cell_type": "code",
   "execution_count": 120,
   "metadata": {},
   "outputs": [
    {
     "data": {
      "text/plain": [
       "array([[1., 1., 1.],\n",
       "       [1., 2., 4.],\n",
       "       [1., 3., 9.]])"
      ]
     },
     "execution_count": 120,
     "metadata": {},
     "output_type": "execute_result"
    }
   ],
   "source": [
    "X_"
   ]
  },
  {
   "cell_type": "code",
   "execution_count": 121,
   "metadata": {},
   "outputs": [
    {
     "data": {
      "text/plain": [
       "(3, 3)"
      ]
     },
     "execution_count": 121,
     "metadata": {},
     "output_type": "execute_result"
    }
   ],
   "source": [
    "X_.shape"
   ]
  },
  {
   "cell_type": "code",
   "execution_count": 122,
   "metadata": {},
   "outputs": [
    {
     "data": {
      "text/plain": [
       "array([[ 1.,  1.,  1.,  1.],\n",
       "       [ 1.,  2.,  4.,  8.],\n",
       "       [ 1.,  3.,  9., 27.]])"
      ]
     },
     "execution_count": 122,
     "metadata": {},
     "output_type": "execute_result"
    }
   ],
   "source": [
    "#三次多项式\n",
    "PF(degree=3).fit_transform(X)"
   ]
  },
  {
   "cell_type": "code",
   "execution_count": 123,
   "metadata": {},
   "outputs": [],
   "source": [
    "X = np.arange(6).reshape(3,2)"
   ]
  },
  {
   "cell_type": "code",
   "execution_count": 124,
   "metadata": {},
   "outputs": [
    {
     "data": {
      "text/plain": [
       "array([[0, 1],\n",
       "       [2, 3],\n",
       "       [4, 5]])"
      ]
     },
     "execution_count": 124,
     "metadata": {},
     "output_type": "execute_result"
    }
   ],
   "source": [
    "X"
   ]
  },
  {
   "cell_type": "code",
   "execution_count": 125,
   "metadata": {},
   "outputs": [
    {
     "data": {
      "text/plain": [
       "array([[ 1.,  0.,  1.,  0.,  0.,  1.],\n",
       "       [ 1.,  2.,  3.,  4.,  6.,  9.],\n",
       "       [ 1.,  4.,  5., 16., 20., 25.]])"
      ]
     },
     "execution_count": 125,
     "metadata": {},
     "output_type": "execute_result"
    }
   ],
   "source": [
    "PF(degree=2).fit_transform(X)"
   ]
  },
  {
   "cell_type": "code",
   "execution_count": 126,
   "metadata": {},
   "outputs": [
    {
     "data": {
      "text/plain": [
       "array([[  1.,   0.,   1.,   0.,   0.,   1.,   0.,   0.,   0.,   1.],\n",
       "       [  1.,   2.,   3.,   4.,   6.,   9.,   8.,  12.,  18.,  27.],\n",
       "       [  1.,   4.,   5.,  16.,  20.,  25.,  64.,  80., 100., 125.]])"
      ]
     },
     "execution_count": 126,
     "metadata": {},
     "output_type": "execute_result"
    }
   ],
   "source": [
    "PF(degree=3).fit_transform(X)"
   ]
  },
  {
   "cell_type": "code",
   "execution_count": 137,
   "metadata": {},
   "outputs": [],
   "source": [
    "#在加利福尼亚房价数据集上做实验\n",
    "#这是基于sklearn框架的代码，与传统深度学习代码有较大区别\n",
    "from sklearn.datasets import fetch_california_housing as FCH\n",
    "from sklearn.preprocessing import PolynomialFeatures as PF\n",
    "from sklearn.linear_model import LinearRegression as LR #线性回归\n",
    "from sklearn.model_selection import train_test_split as TTS\n",
    "from sklearn.metrics import mean_squared_error as MSE"
   ]
  },
  {
   "cell_type": "code",
   "execution_count": 138,
   "metadata": {},
   "outputs": [],
   "source": [
    "data = FCH() #实例化"
   ]
  },
  {
   "cell_type": "code",
   "execution_count": 139,
   "metadata": {},
   "outputs": [],
   "source": [
    "X = data.data\n",
    "y = data.target"
   ]
  },
  {
   "cell_type": "code",
   "execution_count": 140,
   "metadata": {},
   "outputs": [
    {
     "data": {
      "text/plain": [
       "array([4.526, 3.585, 3.521, ..., 0.923, 0.847, 0.894])"
      ]
     },
     "execution_count": 140,
     "metadata": {},
     "output_type": "execute_result"
    }
   ],
   "source": [
    "y #0~5之间的小数"
   ]
  },
  {
   "cell_type": "code",
   "execution_count": 142,
   "metadata": {},
   "outputs": [
    {
     "data": {
      "text/plain": [
       "(20640, 8)"
      ]
     },
     "execution_count": 142,
     "metadata": {},
     "output_type": "execute_result"
    }
   ],
   "source": [
    "X.shape #原始数据只有8个特征，特征量非常少"
   ]
  },
  {
   "cell_type": "code",
   "execution_count": 143,
   "metadata": {},
   "outputs": [
    {
     "data": {
      "text/plain": [
       "(20640,)"
      ]
     },
     "execution_count": 143,
     "metadata": {},
     "output_type": "execute_result"
    }
   ],
   "source": [
    "y.shape"
   ]
  },
  {
   "cell_type": "code",
   "execution_count": 144,
   "metadata": {},
   "outputs": [],
   "source": [
    "Xtrain,Xtest,Ytrain,Ytest = TTS(X,y,test_size=0.3,random_state=420)"
   ]
  },
  {
   "cell_type": "code",
   "execution_count": 145,
   "metadata": {},
   "outputs": [],
   "source": [
    "reg = LR().fit(Xtrain,Ytrain)"
   ]
  },
  {
   "cell_type": "code",
   "execution_count": 146,
   "metadata": {},
   "outputs": [
    {
     "data": {
      "text/plain": [
       "0.5218522662533102"
      ]
     },
     "execution_count": 146,
     "metadata": {},
     "output_type": "execute_result"
    }
   ],
   "source": [
    "MSE(reg.predict(Xtrain),Ytrain)"
   ]
  },
  {
   "cell_type": "code",
   "execution_count": 147,
   "metadata": {},
   "outputs": [
    {
     "data": {
      "text/plain": [
       "0.5309012639324552"
      ]
     },
     "execution_count": 147,
     "metadata": {},
     "output_type": "execute_result"
    }
   ],
   "source": [
    "MSE(reg.predict(Xtest),Ytest)\n",
    "#训练集和测试集结果非常相近，虽然表现不佳但是不存在太多过拟合的情况"
   ]
  },
  {
   "cell_type": "code",
   "execution_count": 148,
   "metadata": {},
   "outputs": [],
   "source": [
    "poly = PF(degree=4).fit(Xtrain)"
   ]
  },
  {
   "cell_type": "code",
   "execution_count": 149,
   "metadata": {},
   "outputs": [],
   "source": [
    "Xtrain_ = poly.transform(Xtrain)\n",
    "Xtest_ = poly.transform(Xtest)"
   ]
  },
  {
   "cell_type": "code",
   "execution_count": 150,
   "metadata": {},
   "outputs": [
    {
     "data": {
      "text/plain": [
       "(14448, 495)"
      ]
     },
     "execution_count": 150,
     "metadata": {},
     "output_type": "execute_result"
    }
   ],
   "source": [
    "Xtrain_.shape"
   ]
  },
  {
   "cell_type": "code",
   "execution_count": 151,
   "metadata": {},
   "outputs": [
    {
     "data": {
      "text/plain": [
       "(6192, 495)"
      ]
     },
     "execution_count": 151,
     "metadata": {},
     "output_type": "execute_result"
    }
   ],
   "source": [
    "Xtest_.shape"
   ]
  },
  {
   "cell_type": "code",
   "execution_count": 152,
   "metadata": {},
   "outputs": [],
   "source": [
    "reg = LR().fit(Xtrain_,Ytrain)"
   ]
  },
  {
   "cell_type": "code",
   "execution_count": 153,
   "metadata": {},
   "outputs": [
    {
     "data": {
      "text/plain": [
       "0.30466250104931375"
      ]
     },
     "execution_count": 153,
     "metadata": {},
     "output_type": "execute_result"
    }
   ],
   "source": [
    "MSE(reg.predict(Xtrain_),Ytrain)"
   ]
  },
  {
   "cell_type": "code",
   "execution_count": 154,
   "metadata": {},
   "outputs": [
    {
     "data": {
      "text/plain": [
       "254805.20944757768"
      ]
     },
     "execution_count": 154,
     "metadata": {},
     "output_type": "execute_result"
    }
   ],
   "source": [
    "MSE(reg.predict(Xtest_),Ytest) #测试集上的MSE变得巨大无比，这是严重过拟合的情况"
   ]
  },
  {
   "cell_type": "code",
   "execution_count": 155,
   "metadata": {},
   "outputs": [],
   "source": [
    "from sklearn.datasets import fetch_covtype as FC\n",
    "from sklearn.preprocessing import PolynomialFeatures as PF\n",
    "from sklearn.linear_model import LogisticRegression as LR #逻辑回归\n",
    "from sklearn.model_selection import train_test_split as TTS"
   ]
  },
  {
   "cell_type": "code",
   "execution_count": 156,
   "metadata": {},
   "outputs": [],
   "source": [
    "data = FC() #首次加载会比较耗时，需要进行数据下载"
   ]
  },
  {
   "cell_type": "code",
   "execution_count": 157,
   "metadata": {},
   "outputs": [
    {
     "data": {
      "text/plain": [
       "(581012, 54)"
      ]
     },
     "execution_count": 157,
     "metadata": {},
     "output_type": "execute_result"
    }
   ],
   "source": [
    "data.data.shape #数据量巨大，因此我们从中抽样2000个样本来进行训练"
   ]
  },
  {
   "cell_type": "code",
   "execution_count": 158,
   "metadata": {},
   "outputs": [
    {
     "data": {
      "text/plain": [
       "array([5, 5, 2, ..., 3, 3, 3])"
      ]
     },
     "execution_count": 158,
     "metadata": {},
     "output_type": "execute_result"
    }
   ],
   "source": [
    "data.target"
   ]
  },
  {
   "cell_type": "code",
   "execution_count": 159,
   "metadata": {},
   "outputs": [],
   "source": [
    "X = data.data[:2000]"
   ]
  },
  {
   "cell_type": "code",
   "execution_count": 160,
   "metadata": {},
   "outputs": [
    {
     "data": {
      "text/plain": [
       "(2000, 54)"
      ]
     },
     "execution_count": 160,
     "metadata": {},
     "output_type": "execute_result"
    }
   ],
   "source": [
    "X.shape"
   ]
  },
  {
   "cell_type": "code",
   "execution_count": 180,
   "metadata": {},
   "outputs": [
    {
     "data": {
      "text/plain": [
       "array([1, 2, 3, 4, 5, 6, 7])"
      ]
     },
     "execution_count": 180,
     "metadata": {},
     "output_type": "execute_result"
    }
   ],
   "source": [
    "np.unique(y)"
   ]
  },
  {
   "cell_type": "code",
   "execution_count": 161,
   "metadata": {},
   "outputs": [],
   "source": [
    "y = data.target[:2000]"
   ]
  },
  {
   "cell_type": "code",
   "execution_count": 162,
   "metadata": {},
   "outputs": [],
   "source": [
    "Xtrain,Xtest,Ytrain,Ytest = TTS(X,y,test_size=0.3,random_state=420)"
   ]
  },
  {
   "cell_type": "code",
   "execution_count": 163,
   "metadata": {},
   "outputs": [
    {
     "name": "stderr",
     "output_type": "stream",
     "text": [
      "C:\\ProgramData\\Anaconda3\\lib\\site-packages\\sklearn\\utils\\optimize.py:211: ConvergenceWarning: newton-cg failed to converge. Increase the number of iterations.\n",
      "  warnings.warn(\"newton-cg failed to converge. Increase the \"\n"
     ]
    }
   ],
   "source": [
    "#======【TIME WARNING：1mins】=======#\n",
    "clf = LR(random_state=420, max_iter=1000,solver=\"newton-cg\").fit(Xtrain,Ytrain)"
   ]
  },
  {
   "cell_type": "code",
   "execution_count": 164,
   "metadata": {},
   "outputs": [
    {
     "data": {
      "text/plain": [
       "0.7528571428571429"
      ]
     },
     "execution_count": 164,
     "metadata": {},
     "output_type": "execute_result"
    }
   ],
   "source": [
    "clf.score(Xtrain,Ytrain) #对分类模型而言，该接口是分类准确率"
   ]
  },
  {
   "cell_type": "code",
   "execution_count": 165,
   "metadata": {},
   "outputs": [
    {
     "data": {
      "text/plain": [
       "0.7116666666666667"
      ]
     },
     "execution_count": 165,
     "metadata": {},
     "output_type": "execute_result"
    }
   ],
   "source": [
    "clf.score(Xtest,Ytest)"
   ]
  },
  {
   "cell_type": "code",
   "execution_count": 166,
   "metadata": {},
   "outputs": [],
   "source": [
    "poly = PF(degree=2,interaction_only=True).fit(Xtrain) #不包含各特征的平方项"
   ]
  },
  {
   "cell_type": "code",
   "execution_count": 167,
   "metadata": {},
   "outputs": [],
   "source": [
    "Xtrain_ = poly.transform(Xtrain)\n",
    "Xtest_ = poly.transform(Xtest)"
   ]
  },
  {
   "cell_type": "code",
   "execution_count": 169,
   "metadata": {},
   "outputs": [
    {
     "data": {
      "text/plain": [
       "(1400, 1486)"
      ]
     },
     "execution_count": 169,
     "metadata": {},
     "output_type": "execute_result"
    }
   ],
   "source": [
    "Xtrain_.shape"
   ]
  },
  {
   "cell_type": "code",
   "execution_count": 172,
   "metadata": {},
   "outputs": [
    {
     "data": {
      "text/plain": [
       "38.54867053479276"
      ]
     },
     "execution_count": 172,
     "metadata": {},
     "output_type": "execute_result"
    }
   ],
   "source": [
    "np.sqrt(1486) -> 38x38,39x39"
   ]
  },
  {
   "cell_type": "code",
   "execution_count": 174,
   "metadata": {},
   "outputs": [
    {
     "data": {
      "text/plain": [
       "38.1025641025641"
      ]
     },
     "execution_count": 174,
     "metadata": {},
     "output_type": "execute_result"
    }
   ],
   "source": [
    "1486/39"
   ]
  },
  {
   "cell_type": "code",
   "execution_count": 168,
   "metadata": {},
   "outputs": [
    {
     "name": "stderr",
     "output_type": "stream",
     "text": [
      "C:\\ProgramData\\Anaconda3\\lib\\site-packages\\sklearn\\utils\\optimize.py:211: ConvergenceWarning: newton-cg failed to converge. Increase the number of iterations.\n",
      "  warnings.warn(\"newton-cg failed to converge. Increase the \"\n"
     ]
    }
   ],
   "source": [
    "#======【TIME WARNING：10mins】======#\n",
    "clf_ = LR(random_state=420, max_iter=1000,solver=\"newton-cg\").fit(Xtrain_,Ytrain)"
   ]
  },
  {
   "cell_type": "code",
   "execution_count": 170,
   "metadata": {},
   "outputs": [
    {
     "data": {
      "text/plain": [
       "0.8321428571428572"
      ]
     },
     "execution_count": 170,
     "metadata": {},
     "output_type": "execute_result"
    }
   ],
   "source": [
    "clf_.score(Xtrain_,Ytrain)"
   ]
  },
  {
   "cell_type": "code",
   "execution_count": 171,
   "metadata": {},
   "outputs": [
    {
     "data": {
      "text/plain": [
       "0.7683333333333333"
      ]
     },
     "execution_count": 171,
     "metadata": {},
     "output_type": "execute_result"
    }
   ],
   "source": [
    "clf_.score(Xtest_,Ytest)\n",
    "#准确率表现整体上升，存在过拟合但没有太夸张，数据适合放入卷积网络"
   ]
  },
  {
   "cell_type": "code",
   "execution_count": 175,
   "metadata": {},
   "outputs": [
    {
     "data": {
      "text/plain": [
       "1444"
      ]
     },
     "execution_count": 175,
     "metadata": {},
     "output_type": "execute_result"
    }
   ],
   "source": [
    "38*38"
   ]
  },
  {
   "cell_type": "code",
   "execution_count": 178,
   "metadata": {},
   "outputs": [
    {
     "data": {
      "text/plain": [
       "(7, 1486)"
      ]
     },
     "execution_count": 178,
     "metadata": {},
     "output_type": "execute_result"
    }
   ],
   "source": [
    "clf_.coef_.shape"
   ]
  },
  {
   "cell_type": "code",
   "execution_count": 185,
   "metadata": {},
   "outputs": [],
   "source": [
    "weights = pd.DataFrame(abs(clf_.coef_).mean(axis=0))"
   ]
  },
  {
   "cell_type": "code",
   "execution_count": 190,
   "metadata": {},
   "outputs": [],
   "source": [
    "idx = weights.sort_values(by=0,ascending=False).iloc[:1444,0].index"
   ]
  },
  {
   "cell_type": "code",
   "execution_count": 191,
   "metadata": {},
   "outputs": [],
   "source": [
    "X_ = poly.transform(X)"
   ]
  },
  {
   "cell_type": "code",
   "execution_count": 192,
   "metadata": {},
   "outputs": [],
   "source": [
    "X_ = X_[:,idx]"
   ]
  },
  {
   "cell_type": "code",
   "execution_count": 193,
   "metadata": {},
   "outputs": [
    {
     "data": {
      "text/plain": [
       "(2000, 1444)"
      ]
     },
     "execution_count": 193,
     "metadata": {},
     "output_type": "execute_result"
    }
   ],
   "source": [
    "X_.shape"
   ]
  },
  {
   "cell_type": "code",
   "execution_count": 195,
   "metadata": {},
   "outputs": [],
   "source": [
    "X_ = X_.reshape(2000,1,38,38)"
   ]
  },
  {
   "cell_type": "code",
   "execution_count": 196,
   "metadata": {
    "collapsed": true,
    "jupyter": {
     "outputs_hidden": true
    }
   },
   "outputs": [
    {
     "data": {
      "text/plain": [
       "array([[[[4.440000e+02, 6.630000e+02, 0.000000e+00, ..., 0.000000e+00,\n",
       "          0.000000e+00, 1.183200e+04],\n",
       "         [5.100000e+02, 5.701800e+04, 1.456728e+06, ..., 0.000000e+00,\n",
       "          1.883700e+04, 1.530000e+03],\n",
       "         [6.279000e+03, 0.000000e+00, 6.960000e+02, ..., 0.000000e+00,\n",
       "          0.000000e+00, 0.000000e+00],\n",
       "         ...,\n",
       "         [0.000000e+00, 0.000000e+00, 0.000000e+00, ..., 0.000000e+00,\n",
       "          0.000000e+00, 0.000000e+00],\n",
       "         [0.000000e+00, 0.000000e+00, 0.000000e+00, ..., 0.000000e+00,\n",
       "          0.000000e+00, 0.000000e+00],\n",
       "         [0.000000e+00, 0.000000e+00, 0.000000e+00, ..., 0.000000e+00,\n",
       "          0.000000e+00, 0.000000e+00]]],\n",
       "\n",
       "\n",
       "       [[[3.020000e+02, 4.400000e+02, 0.000000e+00, ..., 0.000000e+00,\n",
       "          0.000000e+00, 1.316000e+04],\n",
       "         [3.900000e+02, 4.664000e+04, 1.462875e+06, ..., 0.000000e+00,\n",
       "          1.245000e+04, 7.800000e+02],\n",
       "         [6.225000e+03, 0.000000e+00, 4.700000e+02, ..., 0.000000e+00,\n",
       "          0.000000e+00, 0.000000e+00],\n",
       "         ...,\n",
       "         [0.000000e+00, 0.000000e+00, 0.000000e+00, ..., 0.000000e+00,\n",
       "          0.000000e+00, 0.000000e+00],\n",
       "         [0.000000e+00, 0.000000e+00, 0.000000e+00, ..., 0.000000e+00,\n",
       "          0.000000e+00, 0.000000e+00],\n",
       "         [0.000000e+00, 0.000000e+00, 0.000000e+00, ..., 0.000000e+00,\n",
       "          0.000000e+00, 0.000000e+00]]],\n",
       "\n",
       "\n",
       "       [[[1.215000e+03, 2.106000e+03, 0.000000e+00, ..., 0.000000e+00,\n",
       "          0.000000e+00, 3.308200e+04],\n",
       "         [3.180000e+03, 6.271200e+04, 1.456798e+06, ..., 0.000000e+00,\n",
       "          5.508900e+04, 2.862000e+04],\n",
       "         [6.121000e+03, 0.000000e+00, 2.142000e+03, ..., 0.000000e+00,\n",
       "          0.000000e+00, 0.000000e+00],\n",
       "         ...,\n",
       "         [0.000000e+00, 0.000000e+00, 0.000000e+00, ..., 0.000000e+00,\n",
       "          0.000000e+00, 0.000000e+00],\n",
       "         [0.000000e+00, 0.000000e+00, 0.000000e+00, ..., 0.000000e+00,\n",
       "          0.000000e+00, 0.000000e+00],\n",
       "         [0.000000e+00, 0.000000e+00, 0.000000e+00, ..., 0.000000e+00,\n",
       "          0.000000e+00, 0.000000e+00]]],\n",
       "\n",
       "\n",
       "       ...,\n",
       "\n",
       "\n",
       "       [[[9.420000e+02, 1.266000e+03, 0.000000e+00, ..., 0.000000e+00,\n",
       "          0.000000e+00, 8.165000e+04],\n",
       "         [1.270000e+02, 0.000000e+00, 6.509000e+04, ..., 0.000000e+00,\n",
       "          1.698000e+03, 7.620000e+02],\n",
       "         [0.000000e+00, 0.000000e+00, 1.380000e+03, ..., 0.000000e+00,\n",
       "          0.000000e+00, 0.000000e+00],\n",
       "         ...,\n",
       "         [0.000000e+00, 0.000000e+00, 0.000000e+00, ..., 0.000000e+00,\n",
       "          0.000000e+00, 0.000000e+00],\n",
       "         [0.000000e+00, 0.000000e+00, 0.000000e+00, ..., 0.000000e+00,\n",
       "          0.000000e+00, 0.000000e+00],\n",
       "         [0.000000e+00, 0.000000e+00, 0.000000e+00, ..., 0.000000e+00,\n",
       "          0.000000e+00, 0.000000e+00]]],\n",
       "\n",
       "\n",
       "       [[[3.712000e+03, 7.136000e+03, 0.000000e+00, ..., 0.000000e+00,\n",
       "          0.000000e+00, 3.978000e+04],\n",
       "         [5.470000e+02, 5.508100e+04, 6.037200e+04, ..., 0.000000e+00,\n",
       "          8.256000e+03, 1.750400e+04],\n",
       "         [0.000000e+00, 0.000000e+00, 7.488000e+03, ..., 0.000000e+00,\n",
       "          0.000000e+00, 0.000000e+00],\n",
       "         ...,\n",
       "         [0.000000e+00, 0.000000e+00, 0.000000e+00, ..., 0.000000e+00,\n",
       "          0.000000e+00, 0.000000e+00],\n",
       "         [0.000000e+00, 0.000000e+00, 0.000000e+00, ..., 0.000000e+00,\n",
       "          0.000000e+00, 0.000000e+00],\n",
       "         [0.000000e+00, 0.000000e+00, 0.000000e+00, ..., 0.000000e+00,\n",
       "          0.000000e+00, 0.000000e+00]]],\n",
       "\n",
       "\n",
       "       [[[1.022000e+03, 1.505000e+03, 0.000000e+00, ..., 3.356000e+03,\n",
       "          0.000000e+00, 4.704000e+03],\n",
       "         [2.802000e+03, 0.000000e+00, 4.977280e+05, ..., 0.000000e+00,\n",
       "          1.555400e+04, 1.961400e+04],\n",
       "         [2.222000e+03, 0.000000e+00, 1.568000e+03, ..., 2.100000e+01,\n",
       "          0.000000e+00, 0.000000e+00],\n",
       "         ...,\n",
       "         [0.000000e+00, 0.000000e+00, 0.000000e+00, ..., 0.000000e+00,\n",
       "          0.000000e+00, 0.000000e+00],\n",
       "         [0.000000e+00, 0.000000e+00, 0.000000e+00, ..., 0.000000e+00,\n",
       "          0.000000e+00, 0.000000e+00],\n",
       "         [0.000000e+00, 0.000000e+00, 0.000000e+00, ..., 0.000000e+00,\n",
       "          0.000000e+00, 0.000000e+00]]]])"
      ]
     },
     "execution_count": 196,
     "metadata": {},
     "output_type": "execute_result"
    }
   ],
   "source": [
    "X_"
   ]
  },
  {
   "cell_type": "code",
   "execution_count": null,
   "metadata": {},
   "outputs": [],
   "source": [
    "#如何将我们的特征高维矩阵与我们的标签结合起来"
   ]
  },
  {
   "cell_type": "code",
   "execution_count": 197,
   "metadata": {},
   "outputs": [],
   "source": [
    "from torch.utils.data import TensorDataset"
   ]
  },
  {
   "cell_type": "code",
   "execution_count": 198,
   "metadata": {},
   "outputs": [
    {
     "data": {
      "text/plain": [
       "(2000,)"
      ]
     },
     "execution_count": 198,
     "metadata": {},
     "output_type": "execute_result"
    }
   ],
   "source": [
    "y.shape"
   ]
  },
  {
   "cell_type": "code",
   "execution_count": 199,
   "metadata": {},
   "outputs": [],
   "source": [
    "data = TensorDataset(torch.tensor(X_),torch.tensor(y))"
   ]
  },
  {
   "cell_type": "code",
   "execution_count": 201,
   "metadata": {},
   "outputs": [
    {
     "name": "stdout",
     "output_type": "stream",
     "text": [
      "torch.Size([1, 38, 38])\n",
      "tensor(5, dtype=torch.int32)\n"
     ]
    }
   ],
   "source": [
    "for x,y in data:\n",
    "    print(x.shape)\n",
    "    print(y)\n",
    "    break"
   ]
  },
  {
   "cell_type": "code",
   "execution_count": 202,
   "metadata": {
    "collapsed": true,
    "jupyter": {
     "outputs_hidden": true
    }
   },
   "outputs": [
    {
     "data": {
      "text/plain": [
       "(tensor([[[4.4400e+02, 6.6300e+02, 0.0000e+00,  ..., 0.0000e+00,\n",
       "           0.0000e+00, 1.1832e+04],\n",
       "          [5.1000e+02, 5.7018e+04, 1.4567e+06,  ..., 0.0000e+00,\n",
       "           1.8837e+04, 1.5300e+03],\n",
       "          [6.2790e+03, 0.0000e+00, 6.9600e+02,  ..., 0.0000e+00,\n",
       "           0.0000e+00, 0.0000e+00],\n",
       "          ...,\n",
       "          [0.0000e+00, 0.0000e+00, 0.0000e+00,  ..., 0.0000e+00,\n",
       "           0.0000e+00, 0.0000e+00],\n",
       "          [0.0000e+00, 0.0000e+00, 0.0000e+00,  ..., 0.0000e+00,\n",
       "           0.0000e+00, 0.0000e+00],\n",
       "          [0.0000e+00, 0.0000e+00, 0.0000e+00,  ..., 0.0000e+00,\n",
       "           0.0000e+00, 0.0000e+00]]], dtype=torch.float64),\n",
       " tensor(5, dtype=torch.int32))"
      ]
     },
     "execution_count": 202,
     "metadata": {},
     "output_type": "execute_result"
    }
   ],
   "source": [
    "data[0]"
   ]
  },
  {
   "cell_type": "code",
   "execution_count": null,
   "metadata": {},
   "outputs": [],
   "source": [
    "#FashionMNIST数据集就是pt格式的数据，可以直接使用torch.load进行读取\n",
    "#import torch\n",
    "\n",
    "X, y = torch.load(r\"F:\\datasets\\FashionMNIST\\processed\\test.pt\")\n",
    "X.shape\n",
    "y"
   ]
  },
  {
   "cell_type": "code",
   "execution_count": null,
   "metadata": {},
   "outputs": [],
   "source": [
    "#mat格式，SVHN就是mat格式数据集，我们使用scipy中的sio模块进行读取\n",
    "#通常来说，scipy属于anaconda自带库，无需额外安装。如果你需要安装scipy，搜索pip安装scipy即可\n",
    "import scipy.io as sio\n",
    "#import numpy as np\n",
    "#import torch"
   ]
  },
  {
   "cell_type": "code",
   "execution_count": null,
   "metadata": {},
   "outputs": [],
   "source": [
    "loaded_mat = sio.loadmat(r'F:\\datasets\\SVHN\\train_32x32.mat')"
   ]
  },
  {
   "cell_type": "code",
   "execution_count": null,
   "metadata": {},
   "outputs": [],
   "source": [
    "X = torch.tensor(loaded_mat['X'])\n",
    "y = loaded_mat['y'].astype(np.int64).squeeze()"
   ]
  },
  {
   "cell_type": "code",
   "execution_count": null,
   "metadata": {},
   "outputs": [],
   "source": [
    "#格式与pytorch要求的不符，记得调整\n",
    "X.shape"
   ]
  },
  {
   "cell_type": "code",
   "execution_count": null,
   "metadata": {},
   "outputs": [],
   "source": [
    "X = X.reshape(-1,3,32,32) #(sample, channels, weight, height)"
   ]
  },
  {
   "cell_type": "code",
   "execution_count": null,
   "metadata": {},
   "outputs": [],
   "source": [
    "#本段代码已超出深度学习范围，仅供使用，不做讲解。\n",
    "#如果你希望，可以将其保存在torchlearning.py文件中方便导入\n",
    "\n",
    "import os\n",
    "os.environ[\"KMP_DUPLICATE_LIB_OK\"]=\"TRUE\"\n",
    "import six\n",
    "import string\n",
    "import pickle\n",
    "import bisect\n",
    "import lmdb\n",
    "from PIL import Image\n",
    "\n",
    "import torch\n",
    "from torch.utils.data import DataLoader, Dataset, IterableDataset\n",
    "from torchvision.transforms import transforms\n",
    "from torchvision.datasets import ImageFolder\n",
    "from torchvision import transforms, datasets\n",
    "\n",
    "class ImageFolderLMDB(Dataset):\n",
    "    \"\"\"\n",
    "    用于从单一lmdb文件中提取出数据集的类\n",
    "    只适用于lmdb文件中只包含一个标签类别的情况\n",
    "    不同的标签类别需要使用不同的ImageFolderLMDB进行提取\n",
    "    \"\"\"\n",
    "    def __init__(self, db_path, classes: int, transform=None, target_transform=None):\n",
    "        \"\"\"\n",
    "        参数说明\n",
    "        db_path: 字符串，需要读取的lmdb文件所在的根目录\n",
    "        classes: int，给现有数据集打上的单一标签。注意该标签是人工标注的，不一定是数据中心的客观标签\n",
    "        \"\"\"\n",
    "        super().__init__()\n",
    "        self.db_path = db_path\n",
    "        self.classes = classes\n",
    "        self.transform = transform\n",
    "        self.target_transform = target_transform\n",
    "\n",
    "        #首先使用lmdb库从lmdb文件中提出数据集\n",
    "        self.env = lmdb.open(db_path, max_readers=1, readonly=True, lock=False,\n",
    "                             readahead=False, meminit=False)\n",
    "        with self.env.begin(write=False) as txn:\n",
    "            self.length = txn.stat()['entries']\n",
    "        cache_file = '_cache_' + ''.join(c for c in db_path if c in string.ascii_letters)\n",
    "        if os.path.isfile(cache_file):\n",
    "            self.keys = pickle.load(open(cache_file, \"rb\"))\n",
    "        else:\n",
    "            with self.env.begin(write=False) as txn:\n",
    "                self.keys = [key for key in txn.cursor().iternext(keys=True, values=False)]\n",
    "            pickle.dump(self.keys, open(cache_file, \"wb\"))\n",
    "\t\n",
    "    def __getitem__(self, index):\n",
    "        img, target = None, None\n",
    "        env = self.env\n",
    "        with env.begin(write=False) as txn:\n",
    "            imgbuf = txn.get(self.keys[index])\n",
    "\n",
    "        # 导入图像\n",
    "        buf = six.BytesIO()\n",
    "        buf.write(imgbuf)\n",
    "        buf.seek(0)\n",
    "        img = Image.open(buf).convert('RGB')\n",
    "\n",
    "        # 导入标签\n",
    "        target = self.classes\n",
    "\n",
    "        if self.transform is not None:\n",
    "            img = self.transform(img)\n",
    "\n",
    "        if self.target_transform is not None:\n",
    "            target = self.target_transform(target)\n",
    "\n",
    "        return img, target\n",
    "\n",
    "    def __len__(self):\n",
    "        return self.length\n",
    "\n",
    "    def __repr__(self):\n",
    "        return self.__class__.__name__ + ' (' + self.db_path + ')'"
   ]
  },
  {
   "cell_type": "code",
   "execution_count": null,
   "metadata": {},
   "outputs": [],
   "source": [
    "from torch.utils.data import ConcatDataset\n",
    "\n",
    "#先使用ImageFolderLMDB单独读取数据中的两个类别\n",
    "data_church = ImageFolderLMDB(r\"F:\\datasets2\\lsun-master\\data\\church_outdoor_train_lmdb\",classes=0\n",
    "                      ,transform=transforms.ToTensor())"
   ]
  },
  {
   "cell_type": "code",
   "execution_count": null,
   "metadata": {},
   "outputs": [],
   "source": [
    "data_church[0][0].shape"
   ]
  },
  {
   "cell_type": "code",
   "execution_count": null,
   "metadata": {},
   "outputs": [],
   "source": [
    "for x,y in data_church:\n",
    "    print(x.shape)\n",
    "    print(y)\n",
    "    break"
   ]
  },
  {
   "cell_type": "code",
   "execution_count": null,
   "metadata": {},
   "outputs": [],
   "source": [
    "data_classroom = ImageFolderLMDB(r\"F:\\datasets2\\lsun-master\\data\\classroom_train_lmdb\",classes=1\n",
    "                      ,transform=transforms.ToTensor())"
   ]
  },
  {
   "cell_type": "code",
   "execution_count": null,
   "metadata": {},
   "outputs": [],
   "source": [
    "data_classroom[0][0].shape"
   ]
  },
  {
   "cell_type": "code",
   "execution_count": null,
   "metadata": {},
   "outputs": [],
   "source": [
    "#使用ConcatDataset将其合并\n",
    "data = ConcatDataset([data_church,data_classroom])"
   ]
  },
  {
   "cell_type": "code",
   "execution_count": null,
   "metadata": {},
   "outputs": [],
   "source": [
    "#数据尺寸已经超出了可以做循环的程度\n",
    "data.__len__()"
   ]
  },
  {
   "cell_type": "code",
   "execution_count": null,
   "metadata": {},
   "outputs": [],
   "source": [
    "data_church.__len__()"
   ]
  },
  {
   "cell_type": "code",
   "execution_count": null,
   "metadata": {},
   "outputs": [],
   "source": [
    "data_classroom.__len__()"
   ]
  },
  {
   "cell_type": "code",
   "execution_count": null,
   "metadata": {},
   "outputs": [],
   "source": [
    "data[120000]"
   ]
  },
  {
   "cell_type": "code",
   "execution_count": null,
   "metadata": {},
   "outputs": [],
   "source": [
    "data[160000]"
   ]
  }
 ],
 "metadata": {
  "kernelspec": {
   "display_name": "Python 3",
   "language": "python",
   "name": "python3"
  },
  "language_info": {
   "codemirror_mode": {
    "name": "ipython",
    "version": 3
   },
   "file_extension": ".py",
   "mimetype": "text/x-python",
   "name": "python",
   "nbconvert_exporter": "python",
   "pygments_lexer": "ipython3",
   "version": "3.8.5"
  }
 },
 "nbformat": 4,
 "nbformat_minor": 4
}
