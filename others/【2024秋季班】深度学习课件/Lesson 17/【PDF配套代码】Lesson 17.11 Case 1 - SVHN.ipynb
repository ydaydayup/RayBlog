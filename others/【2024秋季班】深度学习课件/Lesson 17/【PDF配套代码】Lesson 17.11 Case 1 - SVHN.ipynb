{
 "cells": [
  {
   "cell_type": "markdown",
   "metadata": {},
   "source": [
    "## 【案例】SVHN街道实景门牌识别"
   ]
  },
  {
   "cell_type": "markdown",
   "metadata": {},
   "source": [
    "### 导包"
   ]
  },
  {
   "cell_type": "code",
   "execution_count": 1,
   "metadata": {},
   "outputs": [],
   "source": [
    "#配置相关环境\n",
    "import os\n",
    "import torch\n",
    "os.environ['KMP_DUPLICATE_LIB_OK']='True' #用于避免jupyter环境突然关闭\n",
    "torch.backends.cudnn.benchmark=True #用于加速GPU运算的代码"
   ]
  },
  {
   "cell_type": "code",
   "execution_count": 2,
   "metadata": {},
   "outputs": [],
   "source": [
    "#导入pytorch一个完整流程所需的可能全部的包\n",
    "import torchvision\n",
    "from torch import nn, optim\n",
    "from torch.nn import functional as F\n",
    "from torchvision import transforms as T\n",
    "from torchvision import models as m\n",
    "from torch.utils.data import DataLoader"
   ]
  },
  {
   "cell_type": "code",
   "execution_count": 3,
   "metadata": {},
   "outputs": [],
   "source": [
    "#导入作为辅助工具的各类包\n",
    "import matplotlib.pyplot as plt #可视化\n",
    "from time import time #计算时间、记录时间\n",
    "import datetime\n",
    "import random #控制随机性\n",
    "import numpy as np\n",
    "import pandas as pd\n",
    "import gc #garbage collector 垃圾回收"
   ]
  },
  {
   "cell_type": "code",
   "execution_count": 4,
   "metadata": {},
   "outputs": [],
   "source": [
    "#设置全局的随机数种子，这些随机数种子只能提供有限的控制\n",
    "#并不能完全令模型稳定下来\n",
    "torch.manual_seed(1412) #torch\n",
    "random.seed(1412) #random\n",
    "np.random.seed(1412) #numpy.random"
   ]
  },
  {
   "cell_type": "code",
   "execution_count": 5,
   "metadata": {},
   "outputs": [
    {
     "data": {
      "text/plain": [
       "True"
      ]
     },
     "execution_count": 5,
     "metadata": {},
     "output_type": "execute_result"
    }
   ],
   "source": [
    "#GPU系统会返回True，CPU系统会返回False\n",
    "torch.cuda.is_available()"
   ]
  },
  {
   "cell_type": "code",
   "execution_count": 6,
   "metadata": {},
   "outputs": [],
   "source": [
    "#GPU系统会令device = \"gpu\", cpu系统会令device = \"cpu\"\n",
    "device = torch.device('cuda' if torch.cuda.is_available() else 'cpu')"
   ]
  },
  {
   "cell_type": "code",
   "execution_count": 7,
   "metadata": {},
   "outputs": [
    {
     "data": {
      "text/plain": [
       "device(type='cuda')"
      ]
     },
     "execution_count": 7,
     "metadata": {},
     "output_type": "execute_result"
    }
   ],
   "source": [
    "device"
   ]
  },
  {
   "cell_type": "markdown",
   "metadata": {},
   "source": [
    "### 数据，数据增强"
   ]
  },
  {
   "cell_type": "code",
   "execution_count": 8,
   "metadata": {},
   "outputs": [],
   "source": [
    "#导入数据\n",
    "train = torchvision.datasets.SVHN(root ='I:\\F盘 + 代码\\F盘\\datasets\\SVHN'\n",
    "                                 ,split =\"train\"\n",
    "                                 ,download = False\n",
    "                                 ,transform = T.ToTensor()\n",
    "                                 )"
   ]
  },
  {
   "cell_type": "code",
   "execution_count": 9,
   "metadata": {},
   "outputs": [
    {
     "data": {
      "text/plain": [
       "tensor([[[0.3255, 0.3294, 0.3294,  ..., 0.5843, 0.5882, 0.5961],\n",
       "         [0.3373, 0.3333, 0.3294,  ..., 0.5882, 0.5686, 0.5725],\n",
       "         [0.3451, 0.3373, 0.3255,  ..., 0.5490, 0.5294, 0.5294],\n",
       "         ...,\n",
       "         [0.3373, 0.3137, 0.3216,  ..., 0.2235, 0.2588, 0.2667],\n",
       "         [0.3412, 0.3137, 0.3255,  ..., 0.2510, 0.3020, 0.3059],\n",
       "         [0.3373, 0.3176, 0.3216,  ..., 0.2667, 0.3294, 0.3255]],\n",
       "\n",
       "        [[0.2667, 0.2706, 0.2706,  ..., 0.5529, 0.5529, 0.5608],\n",
       "         [0.2784, 0.2745, 0.2706,  ..., 0.5608, 0.5451, 0.5490],\n",
       "         [0.2863, 0.2784, 0.2667,  ..., 0.5255, 0.5098, 0.5098],\n",
       "         ...,\n",
       "         [0.2784, 0.2549, 0.2588,  ..., 0.2431, 0.2784, 0.2941],\n",
       "         [0.2824, 0.2510, 0.2627,  ..., 0.2627, 0.3137, 0.3255],\n",
       "         [0.2784, 0.2549, 0.2588,  ..., 0.2745, 0.3412, 0.3451]],\n",
       "\n",
       "        [[0.1843, 0.1804, 0.1882,  ..., 0.5098, 0.5176, 0.5255],\n",
       "         [0.1882, 0.1843, 0.1882,  ..., 0.5216, 0.5137, 0.5176],\n",
       "         [0.1961, 0.1882, 0.1843,  ..., 0.5059, 0.4980, 0.5020],\n",
       "         ...,\n",
       "         [0.1961, 0.1804, 0.2000,  ..., 0.2863, 0.3216, 0.3255],\n",
       "         [0.2078, 0.1882, 0.2039,  ..., 0.3098, 0.3490, 0.3451],\n",
       "         [0.2039, 0.1922, 0.2000,  ..., 0.3216, 0.3765, 0.3608]]])"
      ]
     },
     "execution_count": 9,
     "metadata": {},
     "output_type": "execute_result"
    }
   ],
   "source": [
    "train[6][0]"
   ]
  },
  {
   "cell_type": "code",
   "execution_count": 10,
   "metadata": {},
   "outputs": [],
   "source": [
    "test = torchvision.datasets.SVHN(root ='I:\\F盘 + 代码\\F盘\\datasets\\SVHN'\n",
    "                                 ,split =\"test\"\n",
    "                                 ,download = False\n",
    "                                 ,transform = T.ToTensor())"
   ]
  },
  {
   "cell_type": "code",
   "execution_count": 11,
   "metadata": {},
   "outputs": [
    {
     "data": {
      "text/plain": [
       "Dataset SVHN\n",
       "    Number of datapoints: 73257\n",
       "    Root location: I:\\F盘 + 代码\\F盘\\datasets\\SVHN\n",
       "    Split: train\n",
       "    StandardTransform\n",
       "Transform: ToTensor()"
      ]
     },
     "execution_count": 11,
     "metadata": {},
     "output_type": "execute_result"
    }
   ],
   "source": [
    "train"
   ]
  },
  {
   "cell_type": "code",
   "execution_count": 12,
   "metadata": {},
   "outputs": [
    {
     "data": {
      "text/plain": [
       "Dataset SVHN\n",
       "    Number of datapoints: 26032\n",
       "    Root location: I:\\F盘 + 代码\\F盘\\datasets\\SVHN\n",
       "    Split: test\n",
       "    StandardTransform\n",
       "Transform: ToTensor()"
      ]
     },
     "execution_count": 12,
     "metadata": {},
     "output_type": "execute_result"
    }
   ],
   "source": [
    "test"
   ]
  },
  {
   "cell_type": "code",
   "execution_count": 13,
   "metadata": {},
   "outputs": [
    {
     "name": "stdout",
     "output_type": "stream",
     "text": [
      "torch.Size([3, 32, 32])\n",
      "1\n"
     ]
    }
   ],
   "source": [
    "for x,y in train:\n",
    "    print(x.shape)\n",
    "    print(y)\n",
    "    break #打印其中一个样本"
   ]
  },
  {
   "cell_type": "code",
   "execution_count": 14,
   "metadata": {},
   "outputs": [
    {
     "data": {
      "text/plain": [
       "array([0, 1, 2, 3, 4, 5, 6, 7, 8, 9], dtype=int64)"
      ]
     },
     "execution_count": 14,
     "metadata": {},
     "output_type": "execute_result"
    }
   ],
   "source": [
    "np.unique(train.labels)"
   ]
  },
  {
   "cell_type": "code",
   "execution_count": 15,
   "metadata": {},
   "outputs": [],
   "source": [
    "#让每个数据集随机显示5张图像\n",
    "def plotsample(data): #只能够接受tensor格式的图像\n",
    "    fig, axs = plt.subplots(1,5,figsize=(10,10)) #建立子图\n",
    "    for i in range(5):\n",
    "        num = random.randint(0,len(data)-1) #首先选取随机数，随机选取五次\n",
    "        #抽取数据中对应的图像对象，make_grid函数可将任意格式的图像的通道数升为3，而不改变图像原始的数据\n",
    "        #而展示图像用的imshow函数最常见的输入格式也是3通道\n",
    "        npimg = torchvision.utils.make_grid(data[num][0]).numpy()\n",
    "        nplabel = data[num][1] #提取标签\n",
    "        #将图像由(3, weight, height)转化为(weight, height, 3)，并放入imshow函数中读取\n",
    "        axs[i].imshow(np.transpose(npimg, (1, 2, 0))) \n",
    "        axs[i].set_title(nplabel) #给每个子图加上标签\n",
    "        axs[i].axis(\"off\") #消除每个子图的坐标轴"
   ]
  },
  {
   "cell_type": "code",
   "execution_count": 16,
   "metadata": {},
   "outputs": [
    {
     "data": {
      "image/png": "[encoded data removed]",
      "text/plain": [
       "<Figure size 720x720 with 5 Axes>"
      ]
     },
     "metadata": {
      "needs_background": "light"
     },
     "output_type": "display_data"
    }
   ],
   "source": [
    "plotsample(train) #分辨率很低，数据集有一定的难度"
   ]
  },
  {
   "cell_type": "code",
   "execution_count": 17,
   "metadata": {},
   "outputs": [
    {
     "data": {
      "image/png": "[encoded data removed]",
      "text/plain": [
       "<Figure size 720x720 with 5 Axes>"
      ]
     },
     "metadata": {
      "needs_background": "light"
     },
     "output_type": "display_data"
    }
   ],
   "source": [
    "plotsample(test)"
   ]
  },
  {
   "cell_type": "code",
   "execution_count": 18,
   "metadata": {},
   "outputs": [],
   "source": [
    "#图像太模糊/分辨率太低 - 训练集测试集上都一致\n",
    "#如果有一些过于清晰的图片，可能反而不好判断\n",
    "#RandomCrop\n",
    "#RandomRotation"
   ]
  },
  {
   "cell_type": "code",
   "execution_count": 19,
   "metadata": {},
   "outputs": [],
   "source": [
    "trainT = T.Compose([T.RandomCrop(28)\n",
    "                   ,T.RandomRotation(degrees = [-30,30])\n",
    "                   ,T.ToTensor()\n",
    "                   ,T.Normalize(mean = [0.485,0.456,0.406]\n",
    "                                ,std = [0.229,0.224,0.225])])"
   ]
  },
  {
   "cell_type": "code",
   "execution_count": 20,
   "metadata": {},
   "outputs": [],
   "source": [
    "testT = T.Compose([T.CenterCrop(28)\n",
    "                  ,T.ToTensor()\n",
    "                  ,T.Normalize(mean = [0.485,0.456,0.406]\n",
    "                                ,std = [0.229,0.224,0.225])])"
   ]
  },
  {
   "cell_type": "code",
   "execution_count": 21,
   "metadata": {},
   "outputs": [],
   "source": [
    "train = torchvision.datasets.SVHN(root ='I:\\F盘 + 代码\\F盘\\datasets\\SVHN'\n",
    "                                 ,split =\"train\"\n",
    "                                 ,download = False\n",
    "                                 ,transform = trainT\n",
    "                                 )"
   ]
  },
  {
   "cell_type": "code",
   "execution_count": 22,
   "metadata": {},
   "outputs": [],
   "source": [
    "test = torchvision.datasets.SVHN(root ='I:\\F盘 + 代码\\F盘\\datasets\\SVHN'\n",
    "                                 ,split =\"test\"\n",
    "                                 ,download = False\n",
    "                                 ,transform = testT\n",
    "                                )"
   ]
  },
  {
   "cell_type": "code",
   "execution_count": 23,
   "metadata": {},
   "outputs": [
    {
     "name": "stderr",
     "output_type": "stream",
     "text": [
      "Clipping input data to the valid range for imshow with RGB data ([0..1] for floats or [0..255] for integers).\n",
      "Clipping input data to the valid range for imshow with RGB data ([0..1] for floats or [0..255] for integers).\n",
      "Clipping input data to the valid range for imshow with RGB data ([0..1] for floats or [0..255] for integers).\n",
      "Clipping input data to the valid range for imshow with RGB data ([0..1] for floats or [0..255] for integers).\n",
      "Clipping input data to the valid range for imshow with RGB data ([0..1] for floats or [0..255] for integers).\n"
     ]
    },
    {
     "data": {
      "image/png": "[encoded data removed]",
      "text/plain": [
       "<Figure size 720x720 with 5 Axes>"
      ]
     },
     "metadata": {
      "needs_background": "light"
     },
     "output_type": "display_data"
    }
   ],
   "source": [
    "plotsample(train)"
   ]
  },
  {
   "cell_type": "markdown",
   "metadata": {},
   "source": [
    "### 架构"
   ]
  },
  {
   "cell_type": "code",
   "execution_count": 24,
   "metadata": {},
   "outputs": [],
   "source": [
    "#小型数据集 - 比较浅、参数量整体较少\n",
    "#ResNet18，VGG13/16"
   ]
  },
  {
   "cell_type": "code",
   "execution_count": 25,
   "metadata": {},
   "outputs": [],
   "source": [
    "#基于小型数据集，首先考虑使用各个经典架构中比较浅、但学习能力又比较强的架构\n",
    "#比如ResNet18、VGG16、Inception也可以考虑\n",
    "torch.manual_seed(1412)\n",
    "resnet18_ = m.resnet18()\n",
    "vgg16_ = m.vgg16() #VGG本来参数量就很大，因此我个人较少使用vgg16_bn"
   ]
  },
  {
   "cell_type": "code",
   "execution_count": 26,
   "metadata": {},
   "outputs": [],
   "source": [
    "#32x32 - 2个池化/2个步长为2的卷积层\n",
    "# （2） + （3） - AlexNet"
   ]
  },
  {
   "cell_type": "code",
   "execution_count": 27,
   "metadata": {},
   "outputs": [
    {
     "data": {
      "text/plain": [
       "ResNet(\n",
       "  (conv1): Conv2d(3, 64, kernel_size=(7, 7), stride=(2, 2), padding=(3, 3), bias=False)\n",
       "  (bn1): BatchNorm2d(64, eps=1e-05, momentum=0.1, affine=True, track_running_stats=True)\n",
       "  (relu): ReLU(inplace=True)\n",
       "  (maxpool): MaxPool2d(kernel_size=3, stride=2, padding=1, dilation=1, ceil_mode=False)\n",
       "  (layer1): Sequential(\n",
       "    (0): BasicBlock(\n",
       "      (conv1): Conv2d(64, 64, kernel_size=(3, 3), stride=(1, 1), padding=(1, 1), bias=False)\n",
       "      (bn1): BatchNorm2d(64, eps=1e-05, momentum=0.1, affine=True, track_running_stats=True)\n",
       "      (relu): ReLU(inplace=True)\n",
       "      (conv2): Conv2d(64, 64, kernel_size=(3, 3), stride=(1, 1), padding=(1, 1), bias=False)\n",
       "      (bn2): BatchNorm2d(64, eps=1e-05, momentum=0.1, affine=True, track_running_stats=True)\n",
       "    )\n",
       "    (1): BasicBlock(\n",
       "      (conv1): Conv2d(64, 64, kernel_size=(3, 3), stride=(1, 1), padding=(1, 1), bias=False)\n",
       "      (bn1): BatchNorm2d(64, eps=1e-05, momentum=0.1, affine=True, track_running_stats=True)\n",
       "      (relu): ReLU(inplace=True)\n",
       "      (conv2): Conv2d(64, 64, kernel_size=(3, 3), stride=(1, 1), padding=(1, 1), bias=False)\n",
       "      (bn2): BatchNorm2d(64, eps=1e-05, momentum=0.1, affine=True, track_running_stats=True)\n",
       "    )\n",
       "  )\n",
       "  (layer2): Sequential(\n",
       "    (0): BasicBlock(\n",
       "      (conv1): Conv2d(64, 128, kernel_size=(3, 3), stride=(2, 2), padding=(1, 1), bias=False)\n",
       "      (bn1): BatchNorm2d(128, eps=1e-05, momentum=0.1, affine=True, track_running_stats=True)\n",
       "      (relu): ReLU(inplace=True)\n",
       "      (conv2): Conv2d(128, 128, kernel_size=(3, 3), stride=(1, 1), padding=(1, 1), bias=False)\n",
       "      (bn2): BatchNorm2d(128, eps=1e-05, momentum=0.1, affine=True, track_running_stats=True)\n",
       "      (downsample): Sequential(\n",
       "        (0): Conv2d(64, 128, kernel_size=(1, 1), stride=(2, 2), bias=False)\n",
       "        (1): BatchNorm2d(128, eps=1e-05, momentum=0.1, affine=True, track_running_stats=True)\n",
       "      )\n",
       "    )\n",
       "    (1): BasicBlock(\n",
       "      (conv1): Conv2d(128, 128, kernel_size=(3, 3), stride=(1, 1), padding=(1, 1), bias=False)\n",
       "      (bn1): BatchNorm2d(128, eps=1e-05, momentum=0.1, affine=True, track_running_stats=True)\n",
       "      (relu): ReLU(inplace=True)\n",
       "      (conv2): Conv2d(128, 128, kernel_size=(3, 3), stride=(1, 1), padding=(1, 1), bias=False)\n",
       "      (bn2): BatchNorm2d(128, eps=1e-05, momentum=0.1, affine=True, track_running_stats=True)\n",
       "    )\n",
       "  )\n",
       "  (layer3): Sequential(\n",
       "    (0): BasicBlock(\n",
       "      (conv1): Conv2d(128, 256, kernel_size=(3, 3), stride=(2, 2), padding=(1, 1), bias=False)\n",
       "      (bn1): BatchNorm2d(256, eps=1e-05, momentum=0.1, affine=True, track_running_stats=True)\n",
       "      (relu): ReLU(inplace=True)\n",
       "      (conv2): Conv2d(256, 256, kernel_size=(3, 3), stride=(1, 1), padding=(1, 1), bias=False)\n",
       "      (bn2): BatchNorm2d(256, eps=1e-05, momentum=0.1, affine=True, track_running_stats=True)\n",
       "      (downsample): Sequential(\n",
       "        (0): Conv2d(128, 256, kernel_size=(1, 1), stride=(2, 2), bias=False)\n",
       "        (1): BatchNorm2d(256, eps=1e-05, momentum=0.1, affine=True, track_running_stats=True)\n",
       "      )\n",
       "    )\n",
       "    (1): BasicBlock(\n",
       "      (conv1): Conv2d(256, 256, kernel_size=(3, 3), stride=(1, 1), padding=(1, 1), bias=False)\n",
       "      (bn1): BatchNorm2d(256, eps=1e-05, momentum=0.1, affine=True, track_running_stats=True)\n",
       "      (relu): ReLU(inplace=True)\n",
       "      (conv2): Conv2d(256, 256, kernel_size=(3, 3), stride=(1, 1), padding=(1, 1), bias=False)\n",
       "      (bn2): BatchNorm2d(256, eps=1e-05, momentum=0.1, affine=True, track_running_stats=True)\n",
       "    )\n",
       "  )\n",
       "  (layer4): Sequential(\n",
       "    (0): BasicBlock(\n",
       "      (conv1): Conv2d(256, 512, kernel_size=(3, 3), stride=(2, 2), padding=(1, 1), bias=False)\n",
       "      (bn1): BatchNorm2d(512, eps=1e-05, momentum=0.1, affine=True, track_running_stats=True)\n",
       "      (relu): ReLU(inplace=True)\n",
       "      (conv2): Conv2d(512, 512, kernel_size=(3, 3), stride=(1, 1), padding=(1, 1), bias=False)\n",
       "      (bn2): BatchNorm2d(512, eps=1e-05, momentum=0.1, affine=True, track_running_stats=True)\n",
       "      (downsample): Sequential(\n",
       "        (0): Conv2d(256, 512, kernel_size=(1, 1), stride=(2, 2), bias=False)\n",
       "        (1): BatchNorm2d(512, eps=1e-05, momentum=0.1, affine=True, track_running_stats=True)\n",
       "      )\n",
       "    )\n",
       "    (1): BasicBlock(\n",
       "      (conv1): Conv2d(512, 512, kernel_size=(3, 3), stride=(1, 1), padding=(1, 1), bias=False)\n",
       "      (bn1): BatchNorm2d(512, eps=1e-05, momentum=0.1, affine=True, track_running_stats=True)\n",
       "      (relu): ReLU(inplace=True)\n",
       "      (conv2): Conv2d(512, 512, kernel_size=(3, 3), stride=(1, 1), padding=(1, 1), bias=False)\n",
       "      (bn2): BatchNorm2d(512, eps=1e-05, momentum=0.1, affine=True, track_running_stats=True)\n",
       "    )\n",
       "  )\n",
       "  (avgpool): AdaptiveAvgPool2d(output_size=(1, 1))\n",
       "  (fc): Linear(in_features=512, out_features=1000, bias=True)\n",
       ")"
      ]
     },
     "execution_count": 27,
     "metadata": {},
     "output_type": "execute_result"
    }
   ],
   "source": [
    "#查看网络架构，从中选择我们希望使用的部分\n",
    "#时刻要注意原始架构是在ImageNet数据集上构建的，图像的尺寸、输入、输出都发生了变化\n",
    "#小图像尺寸意味着池化层/步长为2的卷积层出现的次数有限，惯例来说只能出现2次，最终的特征图尺寸需要是7x7\n",
    "#输出变化意味着最后的层需要自己写\n",
    "resnet18_"
   ]
  },
  {
   "cell_type": "code",
   "execution_count": 28,
   "metadata": {},
   "outputs": [],
   "source": [
    "class MyResNet(nn.Module):\n",
    "    def __init__(self):\n",
    "        super().__init__()\n",
    "        \n",
    "        self.block1 = nn.Sequential(nn.Conv2d(3,64,kernel_size=3\n",
    "                                              ,stride=1,padding=1,bias=False)\n",
    "                                   ,resnet18_.bn1\n",
    "                                   ,resnet18_.relu) #删除池化层\n",
    "        \n",
    "        #后续的架构直接从经典架构中选\n",
    "        #对尺寸很小的数据集而言，我们的深度本来就不深，因此可以试着在特征图数量上有所增加（增加宽度）\n",
    "        self.block2 = resnet18_.layer2 #2个残差单元\n",
    "        self.block3 = resnet18_.layer3 #2个残差单元\n",
    "        #自适应平均池化+线性层，此处都与残差网络一致\n",
    "        self.avgpool = resnet18_.avgpool\n",
    "        #输出的线性层自己写，以确保输出的类别数量正确\n",
    "        self.fc = nn.Linear(in_features=256, out_features=10, bias=True)\n",
    "    \n",
    "    def forward(self,x):\n",
    "        x = self.block1(x)\n",
    "        x = self.block2(x)\n",
    "        x = self.block3(x)\n",
    "        x = self.avgpool(x)\n",
    "        x = x.view(x.shape[0],256)\n",
    "        x = self.fc(x)\n",
    "        return x"
   ]
  },
  {
   "cell_type": "code",
   "execution_count": 29,
   "metadata": {},
   "outputs": [
    {
     "data": {
      "text/plain": [
       "VGG(\n",
       "  (features): Sequential(\n",
       "    (0): Conv2d(3, 64, kernel_size=(3, 3), stride=(1, 1), padding=(1, 1))\n",
       "    (1): ReLU(inplace=True)\n",
       "    (2): Conv2d(64, 64, kernel_size=(3, 3), stride=(1, 1), padding=(1, 1))\n",
       "    (3): ReLU(inplace=True)\n",
       "    (4): MaxPool2d(kernel_size=2, stride=2, padding=0, dilation=1, ceil_mode=False)\n",
       "    (5): Conv2d(64, 128, kernel_size=(3, 3), stride=(1, 1), padding=(1, 1))\n",
       "    (6): ReLU(inplace=True)\n",
       "    (7): Conv2d(128, 128, kernel_size=(3, 3), stride=(1, 1), padding=(1, 1))\n",
       "    (8): ReLU(inplace=True)\n",
       "    (9): MaxPool2d(kernel_size=2, stride=2, padding=0, dilation=1, ceil_mode=False)\n",
       "    (10): Conv2d(128, 256, kernel_size=(3, 3), stride=(1, 1), padding=(1, 1))\n",
       "    (11): ReLU(inplace=True)\n",
       "    (12): Conv2d(256, 256, kernel_size=(3, 3), stride=(1, 1), padding=(1, 1))\n",
       "    (13): ReLU(inplace=True)\n",
       "    (14): Conv2d(256, 256, kernel_size=(3, 3), stride=(1, 1), padding=(1, 1))\n",
       "    (15): ReLU(inplace=True)\n",
       "    (16): MaxPool2d(kernel_size=2, stride=2, padding=0, dilation=1, ceil_mode=False)\n",
       "    (17): Conv2d(256, 512, kernel_size=(3, 3), stride=(1, 1), padding=(1, 1))\n",
       "    (18): ReLU(inplace=True)\n",
       "    (19): Conv2d(512, 512, kernel_size=(3, 3), stride=(1, 1), padding=(1, 1))\n",
       "    (20): ReLU(inplace=True)\n",
       "    (21): Conv2d(512, 512, kernel_size=(3, 3), stride=(1, 1), padding=(1, 1))\n",
       "    (22): ReLU(inplace=True)\n",
       "    (23): MaxPool2d(kernel_size=2, stride=2, padding=0, dilation=1, ceil_mode=False)\n",
       "    (24): Conv2d(512, 512, kernel_size=(3, 3), stride=(1, 1), padding=(1, 1))\n",
       "    (25): ReLU(inplace=True)\n",
       "    (26): Conv2d(512, 512, kernel_size=(3, 3), stride=(1, 1), padding=(1, 1))\n",
       "    (27): ReLU(inplace=True)\n",
       "    (28): Conv2d(512, 512, kernel_size=(3, 3), stride=(1, 1), padding=(1, 1))\n",
       "    (29): ReLU(inplace=True)\n",
       "    (30): MaxPool2d(kernel_size=2, stride=2, padding=0, dilation=1, ceil_mode=False)\n",
       "  )\n",
       "  (avgpool): AdaptiveAvgPool2d(output_size=(7, 7))\n",
       "  (classifier): Sequential(\n",
       "    (0): Linear(in_features=25088, out_features=4096, bias=True)\n",
       "    (1): ReLU(inplace=True)\n",
       "    (2): Dropout(p=0.5, inplace=False)\n",
       "    (3): Linear(in_features=4096, out_features=4096, bias=True)\n",
       "    (4): ReLU(inplace=True)\n",
       "    (5): Dropout(p=0.5, inplace=False)\n",
       "    (6): Linear(in_features=4096, out_features=1000, bias=True)\n",
       "  )\n",
       ")"
      ]
     },
     "execution_count": 29,
     "metadata": {},
     "output_type": "execute_result"
    }
   ],
   "source": [
    "vgg16_"
   ]
  },
  {
   "cell_type": "code",
   "execution_count": 30,
   "metadata": {},
   "outputs": [
    {
     "data": {
      "text/plain": [
       "[Conv2d(3, 64, kernel_size=(3, 3), stride=(1, 1), padding=(1, 1)),\n",
       " ReLU(inplace=True),\n",
       " Conv2d(64, 64, kernel_size=(3, 3), stride=(1, 1), padding=(1, 1)),\n",
       " ReLU(inplace=True),\n",
       " MaxPool2d(kernel_size=2, stride=2, padding=0, dilation=1, ceil_mode=False),\n",
       " Conv2d(64, 128, kernel_size=(3, 3), stride=(1, 1), padding=(1, 1)),\n",
       " ReLU(inplace=True),\n",
       " Conv2d(128, 128, kernel_size=(3, 3), stride=(1, 1), padding=(1, 1)),\n",
       " ReLU(inplace=True)]"
      ]
     },
     "execution_count": 30,
     "metadata": {},
     "output_type": "execute_result"
    }
   ],
   "source": [
    "[*vgg16_.features[0:9]] #包含了某些对象的对象/generator"
   ]
  },
  {
   "cell_type": "code",
   "execution_count": 31,
   "metadata": {},
   "outputs": [],
   "source": [
    "class MyVgg(nn.Module):\n",
    "    def __init__(self):\n",
    "        super().__init__()\n",
    "        \n",
    "        #在9层之后增加一个单独的卷积层，再加入池化层，构成(卷积x2+池化) + (卷积x3+池化)的类似AlexNet的结构\n",
    "        self.features = nn.Sequential(*vgg16_.features[0:9] #星号用于解码\n",
    "                                     ,nn.Conv2d(128, 128, kernel_size=3, stride=1, padding=1)\n",
    "                                     ,nn.ReLU(inplace=True)\n",
    "                                     ,nn.MaxPool2d(2,2, padding=0, dilation=1, ceil_mode=False))\n",
    "        #进入线性层时输入通道数发生变化，因此线性层需要重写\n",
    "        #输出层也需要重写\n",
    "        self.avgpool = vgg16_.avgpool\n",
    "        self.fc = nn.Sequential(nn.Linear(7*7*128, out_features=4096,bias=True)\n",
    "                                ,*vgg16_.classifier[1:6]\n",
    "                                ,nn.Linear(in_features=4096, out_features=10,bias=True))\n",
    "    \n",
    "    def forward(self,x):\n",
    "        x = self.features(x)\n",
    "        x = self.avgpool(x)\n",
    "        x = x.view(x.shape[0],7*7*128)\n",
    "        x = self.fc(x)\n",
    "        return x"
   ]
  },
  {
   "cell_type": "code",
   "execution_count": 32,
   "metadata": {},
   "outputs": [],
   "source": [
    "from torchinfo import summary"
   ]
  },
  {
   "cell_type": "code",
   "execution_count": 33,
   "metadata": {},
   "outputs": [
    {
     "data": {
      "text/plain": [
       "==========================================================================================\n",
       "Layer (type:depth-idx)                   Output Shape              Param #\n",
       "==========================================================================================\n",
       "├─Sequential: 1-1                        [10, 64, 28, 28]          --\n",
       "|    └─Conv2d: 2-1                       [10, 64, 28, 28]          1,728\n",
       "|    └─BatchNorm2d: 2-2                  [10, 64, 28, 28]          128\n",
       "|    └─ReLU: 2-3                         [10, 64, 28, 28]          --\n",
       "├─Sequential: 1-2                        [10, 128, 14, 14]         --\n",
       "|    └─BasicBlock: 2-4                   [10, 128, 14, 14]         230,144\n",
       "|    └─BasicBlock: 2-5                   [10, 128, 14, 14]         295,424\n",
       "├─Sequential: 1-3                        [10, 256, 7, 7]           --\n",
       "|    └─BasicBlock: 2-6                   [10, 256, 7, 7]           919,040\n",
       "|    └─BasicBlock: 2-7                   [10, 256, 7, 7]           1,180,672\n",
       "├─AdaptiveAvgPool2d: 1-4                 [10, 256, 1, 1]           --\n",
       "├─Linear: 1-5                            [10, 10]                  2,570\n",
       "==========================================================================================\n",
       "Total params: 2,629,706\n",
       "Trainable params: 2,629,706\n",
       "Non-trainable params: 0\n",
       "Total mult-adds (G): 14.22\n",
       "==========================================================================================\n",
       "Input size (MB): 0.09\n",
       "Forward/backward pass size (MB): 32.11\n",
       "Params size (MB): 10.52\n",
       "Estimated Total Size (MB): 42.73\n",
       "=========================================================================================="
      ]
     },
     "execution_count": 33,
     "metadata": {},
     "output_type": "execute_result"
    }
   ],
   "source": [
    "summary(MyResNet(),(10,3,28,28),depth=2,device=\"cpu\")"
   ]
  },
  {
   "cell_type": "code",
   "execution_count": 34,
   "metadata": {},
   "outputs": [
    {
     "data": {
      "text/plain": [
       "==========================================================================================\n",
       "Layer (type:depth-idx)                   Output Shape              Param #\n",
       "==========================================================================================\n",
       "├─Sequential: 1-1                        [10, 128, 7, 7]           --\n",
       "|    └─Conv2d: 2-1                       [10, 64, 28, 28]          1,792\n",
       "|    └─ReLU: 2-2                         [10, 64, 28, 28]          --\n",
       "|    └─Conv2d: 2-3                       [10, 64, 28, 28]          36,928\n",
       "|    └─ReLU: 2-4                         [10, 64, 28, 28]          --\n",
       "|    └─MaxPool2d: 2-5                    [10, 64, 14, 14]          --\n",
       "|    └─Conv2d: 2-6                       [10, 128, 14, 14]         73,856\n",
       "|    └─ReLU: 2-7                         [10, 128, 14, 14]         --\n",
       "|    └─Conv2d: 2-8                       [10, 128, 14, 14]         147,584\n",
       "|    └─ReLU: 2-9                         [10, 128, 14, 14]         --\n",
       "|    └─Conv2d: 2-10                      [10, 128, 14, 14]         147,584\n",
       "|    └─ReLU: 2-11                        [10, 128, 14, 14]         --\n",
       "|    └─MaxPool2d: 2-12                   [10, 128, 7, 7]           --\n",
       "├─AdaptiveAvgPool2d: 1-2                 [10, 128, 7, 7]           --\n",
       "├─Sequential: 1-3                        [10, 10]                  --\n",
       "|    └─Linear: 2-13                      [10, 4096]                25,694,208\n",
       "|    └─ReLU: 2-14                        [10, 4096]                --\n",
       "|    └─Dropout: 2-15                     [10, 4096]                --\n",
       "|    └─Linear: 2-16                      [10, 4096]                16,781,312\n",
       "|    └─ReLU: 2-17                        [10, 4096]                --\n",
       "|    └─Dropout: 2-18                     [10, 4096]                --\n",
       "|    └─Linear: 2-19                      [10, 10]                  40,970\n",
       "==========================================================================================\n",
       "Total params: 42,924,234\n",
       "Trainable params: 42,924,234\n",
       "Non-trainable params: 0\n",
       "Total mult-adds (G): 6.22\n",
       "==========================================================================================\n",
       "Input size (MB): 0.09\n",
       "Forward/backward pass size (MB): 14.71\n",
       "Params size (MB): 171.70\n",
       "Estimated Total Size (MB): 186.50\n",
       "=========================================================================================="
      ]
     },
     "execution_count": 34,
     "metadata": {},
     "output_type": "execute_result"
    }
   ],
   "source": [
    "summary(MyVgg(),(10,3,28,28),depth=2,device=\"cpu\")"
   ]
  },
  {
   "cell_type": "code",
   "execution_count": 35,
   "metadata": {},
   "outputs": [
    {
     "data": {
      "text/plain": [
       "tensor([[ 0.0324, -0.0175,  0.0459],\n",
       "        [ 0.0728, -0.0392,  0.0903],\n",
       "        [-0.0266, -0.0177, -0.0227]], grad_fn=<SelectBackward>)"
      ]
     },
     "execution_count": 35,
     "metadata": {},
     "output_type": "execute_result"
    }
   ],
   "source": [
    "#残差网络的参数量少很多，但是总计算量是VGG的两倍还多\n",
    "#同时，VGG模型占用的内存更大，所以VGG需要更大的显存，但在GPU上VGG理论上应该更快\n",
    "\n",
    "#在这个过程中，我们是从已经实例化的类中直接复制层来使用\n",
    "#因此我们复用经典架构的部分，参数已经被实例化好了\n",
    "#因此实例化具体的MyResNet()时没有参数生成\n",
    "[*MyResNet().block2[0].parameters()][0][0][0] #复制的部分参数是一致的"
   ]
  },
  {
   "cell_type": "code",
   "execution_count": 36,
   "metadata": {},
   "outputs": [
    {
     "data": {
      "text/plain": [
       "tensor([[ 0.0324, -0.0175,  0.0459],\n",
       "        [ 0.0728, -0.0392,  0.0903],\n",
       "        [-0.0266, -0.0177, -0.0227]], grad_fn=<SelectBackward>)"
      ]
     },
     "execution_count": 36,
     "metadata": {},
     "output_type": "execute_result"
    }
   ],
   "source": [
    "[*resnet18_.layer2[0].conv1.parameters()][0][0][0]"
   ]
  },
  {
   "cell_type": "code",
   "execution_count": 37,
   "metadata": {},
   "outputs": [
    {
     "data": {
      "text/plain": [
       "[Parameter containing:\n",
       " tensor([[ 0.0218, -0.0385, -0.0548,  ...,  0.0045, -0.0612,  0.0406],\n",
       "         [-0.0398,  0.0063,  0.0567,  ..., -0.0390,  0.0392, -0.0345],\n",
       "         [-0.0231, -0.0487, -0.0456,  ..., -0.0538,  0.0066, -0.0088],\n",
       "         ...,\n",
       "         [ 0.0070, -0.0560, -0.0430,  ...,  0.0526, -0.0575,  0.0610],\n",
       "         [-0.0354, -0.0283,  0.0108,  ..., -0.0044, -0.0565,  0.0460],\n",
       "         [ 0.0033,  0.0593,  0.0278,  ..., -0.0409, -0.0437,  0.0202]],\n",
       "        requires_grad=True),\n",
       " Parameter containing:\n",
       " tensor([-0.0122, -0.0585,  0.0398, -0.0387,  0.0612, -0.0471,  0.0494,  0.0117,\n",
       "          0.0264,  0.0493], requires_grad=True)]"
      ]
     },
     "execution_count": 37,
     "metadata": {},
     "output_type": "execute_result"
    }
   ],
   "source": [
    "#没有复用经典架构的部分，则在我们实例化网络的时候才有参数\n",
    "[*resnet18_.fc.parameters()] #自己设立的部分参数是不同的\n",
    "[*MyResNet().fc.parameters()]"
   ]
  },
  {
   "cell_type": "markdown",
   "metadata": {},
   "source": [
    "### Early Stopping"
   ]
  },
  {
   "cell_type": "code",
   "execution_count": 38,
   "metadata": {},
   "outputs": [],
   "source": [
    "class EarlyStopping():\n",
    "    def __init__(self, patience = 5, tol = 0.0005): #惯例地定义我们所需要的一切变量/属性\\\n",
    "        #当连续patience次迭代时，这一轮迭代的损失与历史最低损失之间的差值小于阈值时\n",
    "        #就触发提前停止\n",
    "        \n",
    "        self.patience = patience\n",
    "        self.tol = tol #tolerance，累积5次都低于tol才会触发停止\n",
    "        self.counter = 0 #计数，计算现在已经累积了counter次\n",
    "        self.lowest_loss = None\n",
    "        self.early_stop = False #True - 提前停止，False - 不要提前停止\n",
    "    \n",
    "    def __call__(self,val_loss):\n",
    "        if self.lowest_loss == None: #这是第一轮迭代\n",
    "            self.lowest_loss = val_loss\n",
    "        elif self.lowest_loss - val_loss > self.tol:\n",
    "            self.lowest_loss = val_loss\n",
    "            self.counter = 0\n",
    "        elif self.lowest_loss - val_loss < self.tol:\n",
    "            self.counter += 1\n",
    "            print(\"\\t NOTICE: Early stopping counter {} of {}\".format(self.counter,self.patience))\n",
    "            if self.counter >= self.patience:\n",
    "                print('\\t NOTICE: Early Stopping Actived')\n",
    "                self.early_stop = True\n",
    "        return self.early_stop\n",
    "        #这一轮迭代的损失与历史最低损失之间的差 - 阈值"
   ]
  },
  {
   "cell_type": "markdown",
   "metadata": {},
   "source": [
    "### 训练函数"
   ]
  },
  {
   "cell_type": "code",
   "execution_count": 39,
   "metadata": {},
   "outputs": [],
   "source": [
    "#3个样本，3个备选类别\n",
    "\n",
    "#sigma -> (3,3)"
   ]
  },
  {
   "cell_type": "code",
   "execution_count": 40,
   "metadata": {},
   "outputs": [],
   "source": [
    "sigma = torch.ones([3,3]) + np.random.normal(size=(3,3))"
   ]
  },
  {
   "cell_type": "code",
   "execution_count": 41,
   "metadata": {},
   "outputs": [
    {
     "data": {
      "text/plain": [
       "tensor([[ 1.3365,  1.5069,  0.9017],\n",
       "        [ 0.2944,  2.1113,  0.2333],\n",
       "        [ 2.0792, -1.1104,  0.3480]], dtype=torch.float64)"
      ]
     },
     "execution_count": 41,
     "metadata": {},
     "output_type": "execute_result"
    }
   ],
   "source": [
    "sigma #zhat/sigma值最高的那一列所对应的类别就是这个样本的预测类别"
   ]
  },
  {
   "cell_type": "code",
   "execution_count": 42,
   "metadata": {},
   "outputs": [],
   "source": [
    "yhat = torch.max(sigma,1)[1]"
   ]
  },
  {
   "cell_type": "code",
   "execution_count": 43,
   "metadata": {},
   "outputs": [],
   "source": [
    "y = torch.tensor([1,1,2])"
   ]
  },
  {
   "cell_type": "code",
   "execution_count": 44,
   "metadata": {},
   "outputs": [
    {
     "data": {
      "text/plain": [
       "tensor(0.6667)"
      ]
     },
     "execution_count": 44,
     "metadata": {},
     "output_type": "execute_result"
    }
   ],
   "source": [
    "(yhat == y).sum()/3"
   ]
  },
  {
   "cell_type": "code",
   "execution_count": 45,
   "metadata": {},
   "outputs": [],
   "source": [
    "a = [\"apple\",\"banana\",\"orange\"]"
   ]
  },
  {
   "cell_type": "code",
   "execution_count": 46,
   "metadata": {},
   "outputs": [],
   "source": [
    "def IterOnce(net,criterion,opt,x,y):\n",
    "    \"\"\"\n",
    "    对模型进行一次迭代的函数\n",
    "    \n",
    "    net: 实例化后的架构\n",
    "    criterion: 损失函数\n",
    "    opt: 优化算法\n",
    "    x: 这一个batch中所有的样本\n",
    "    y: 这一个batch中所有样本的真实标签\n",
    "    \"\"\"\n",
    "    sigma = net.forward(x)\n",
    "    loss = criterion(sigma,y)\n",
    "    loss.backward()\n",
    "    opt.step()\n",
    "    opt.zero_grad(set_to_none=True) #比起设置梯度为0，让梯度为None会更节约内存\n",
    "    yhat = torch.max(sigma,1)[1]\n",
    "    correct = torch.sum(yhat == y)\n",
    "    return correct,loss"
   ]
  },
  {
   "cell_type": "code",
   "execution_count": 47,
   "metadata": {},
   "outputs": [],
   "source": [
    "def TestOnce(net,criterion,x,y):\n",
    "    \"\"\"\n",
    "    对一组数据进行测试并输出测试结果的函数\n",
    "    \n",
    "    net: 经过训练后的架构\n",
    "    criterion：损失函数\n",
    "    x：要测试的数据的所有样本\n",
    "    y：要测试的数据的真实标签\n",
    "    \"\"\"\n",
    "    #对测试，一定要阻止计算图追踪\n",
    "    #这样可以节省很多内存，加速运算\n",
    "    with torch.no_grad(): \n",
    "        sigma = net.forward(x)\n",
    "        loss = criterion(sigma,y)\n",
    "        yhat = torch.max(sigma,1)[1]\n",
    "        correct = torch.sum(yhat == y)\n",
    "    return correct,loss"
   ]
  },
  {
   "cell_type": "code",
   "execution_count": 48,
   "metadata": {},
   "outputs": [],
   "source": [
    "def fit_test(net,batchdata,testdata,criterion,opt,epochs,tol,modelname,PATH):\n",
    "    \"\"\"\n",
    "    对模型进行训练，并在每个epoch后输出训练集和测试集上的准确率/损失\n",
    "    以实现对模型的监控\n",
    "    实现模型的保存\n",
    "    \n",
    "    参数说明：\n",
    "    net: 实例化后的网络\n",
    "    batchdata：使用Dataloader分割后的训练数据\n",
    "    testdata：使用Dataloader分割后的测试数据\n",
    "    criterion：所使用的损失函数\n",
    "    opt：所使用的优化算法\n",
    "    epochs：一共要使用完整数据集epochs次\n",
    "    tol：提前停止时测试集上loss下降的阈值，连续5次loss下降不超过tol就会触发提前停止\n",
    "    modelname：现在正在运行的模型名称，用于保存权重时作为文件名\n",
    "    PATH：将权重文件保存在path目录下\n",
    "    \n",
    "    \"\"\"\n",
    "    \n",
    "    SamplePerEpoch = batchdata.dataset.__len__() #整个epoch里有多少个样本\n",
    "    allsamples = SamplePerEpoch*epochs\n",
    "    trainedsamples = 0\n",
    "    trainlosslist = []\n",
    "    testlosslist = []\n",
    "    early_stopping = EarlyStopping(tol=tol)\n",
    "    highestacc = None\n",
    "    \n",
    "    for epoch in range(1,epochs+1):\n",
    "        net.train()\n",
    "        correct_train = 0\n",
    "        loss_train = 0\n",
    "        for batch_idx, (x, y) in enumerate(batchdata):\n",
    "            y = y.view(x.shape[0])\n",
    "            correct, loss = IterOnce(net,criterion,opt,x,y)\n",
    "            trainedsamples += x.shape[0]\n",
    "            loss_train += loss\n",
    "            correct_train += correct\n",
    "            \n",
    "            if (batch_idx+1) % 125 == 0:\n",
    "                #现在进行到了哪个epoch\n",
    "                #现在训练到了多少个样本\n",
    "                #总共要训练多少个样本\n",
    "                #现在的训练的样本占总共需要训练的样本的百分比\n",
    "                print('Epoch{}:[{}/{}({:.0f}%)]'.format(epoch\n",
    "                                                       ,trainedsamples\n",
    "                                                       ,allsamples\n",
    "                                                       ,100*trainedsamples/allsamples))\n",
    "            \n",
    "        TrainAccThisEpoch = float(correct_train*100)/SamplePerEpoch\n",
    "        TrainLossThisEpoch = float(loss_train*100)/SamplePerEpoch #平均每个样本上的损失\n",
    "        trainlosslist.append(TrainLossThisEpoch)\n",
    "    \n",
    "        #每次训练完一个epoch，就在测试集上验证一下模型现在的效果\n",
    "        net.eval()\n",
    "        loss_test = 0\n",
    "        correct_test = 0\n",
    "        loss_test = 0\n",
    "        TestSample = testdata.dataset.__len__()\n",
    "\n",
    "        for x,y in testdata:\n",
    "            y = y.view(x.shape[0])\n",
    "            correct, loss = TestOnce(net,criterion,x,y)\n",
    "            loss_test += loss\n",
    "            correct_test += correct\n",
    "\n",
    "        TestAccThisEpoch = float(correct_test * 100)/TestSample\n",
    "        TestLossThisEpoch = float(loss_test * 100)/TestSample\n",
    "        testlosslist.append(TestLossThisEpoch)\n",
    "        \n",
    "        #对每一个epoch，打印训练和测试的结果\n",
    "        #训练集上的损失，测试集上的损失，训练集上的准确率，测试集上的准确率\n",
    "        print(\"\\t Train Loss:{:.6f}, Test Loss:{:.6f}, Train Acc:{:.3f}%, Test Acc:{:.3f}%\".format(TrainLossThisEpoch\n",
    "                                                                                                  ,TestLossThisEpoch\n",
    "                                                                                                  ,TrainAccThisEpoch\n",
    "                                                                                                  ,TestAccThisEpoch))\n",
    "        \n",
    "        #如果测试集准确率出现新高/测试集loss出现新低，那我会保存现在的这一组权重\n",
    "        if highestacc == None: #首次进行测试\n",
    "            highestacc = TestAccThisEpoch\n",
    "        if highestacc < TestAccThisEpoch:\n",
    "            highestacc = TestAccThisEpoch\n",
    "            torch.save(net.state_dict(),os.path.join(PATH,modelname+\".pt\"))\n",
    "            print(\"\\t Weight Saved\")\n",
    "        \n",
    "        #提前停止\n",
    "        early_stop = early_stopping(TestLossThisEpoch)\n",
    "        if early_stop == \"True\":\n",
    "            break\n",
    "            \n",
    "    print(\"Complete\")\n",
    "    return trainlosslist, testlosslist"
   ]
  },
  {
   "cell_type": "code",
   "execution_count": 49,
   "metadata": {},
   "outputs": [],
   "source": [
    "#神经网络的训练流程\n",
    "\n",
    "#1、向前传播\n",
    "#2、求解损失函数\n",
    "#3、反向传播 - 求解梯度\n",
    "#4、基于梯度，对权重进行迭代\n",
    "#5、梯度清零"
   ]
  },
  {
   "cell_type": "code",
   "execution_count": 50,
   "metadata": {},
   "outputs": [],
   "source": [
    "#测试过程\n",
    "\n",
    "#确定没有相关的梯度会生成/阻止计算图的追踪\n",
    "#1、向前传播\n",
    "#2、求解损失函数"
   ]
  },
  {
   "cell_type": "code",
   "execution_count": 51,
   "metadata": {},
   "outputs": [],
   "source": [
    "#net,batchdata,testdata,criterion,opt,epochs,tol,modelname,PATH"
   ]
  },
  {
   "cell_type": "code",
   "execution_count": 52,
   "metadata": {},
   "outputs": [
    {
     "data": {
      "text/plain": [
       "Dataset SVHN\n",
       "    Number of datapoints: 73257\n",
       "    Root location: I:\\F盘 + 代码\\F盘\\datasets\\SVHN\n",
       "    Split: train\n",
       "    StandardTransform\n",
       "Transform: Compose(\n",
       "               RandomCrop(size=(28, 28), padding=None)\n",
       "               RandomRotation(degrees=[-30.0, 30.0], interpolation=nearest, expand=False, fill=0)\n",
       "               ToTensor()\n",
       "               Normalize(mean=[0.485, 0.456, 0.406], std=[0.229, 0.224, 0.225])\n",
       "           )"
      ]
     },
     "execution_count": 52,
     "metadata": {},
     "output_type": "execute_result"
    }
   ],
   "source": [
    "train"
   ]
  },
  {
   "cell_type": "code",
   "execution_count": 53,
   "metadata": {},
   "outputs": [
    {
     "data": {
      "text/plain": [
       "Dataset SVHN\n",
       "    Number of datapoints: 26032\n",
       "    Root location: I:\\F盘 + 代码\\F盘\\datasets\\SVHN\n",
       "    Split: test\n",
       "    StandardTransform\n",
       "Transform: Compose(\n",
       "               CenterCrop(size=(28, 28))\n",
       "               ToTensor()\n",
       "               Normalize(mean=[0.485, 0.456, 0.406], std=[0.229, 0.224, 0.225])\n",
       "           )"
      ]
     },
     "execution_count": 53,
     "metadata": {},
     "output_type": "execute_result"
    }
   ],
   "source": [
    "test"
   ]
  },
  {
   "cell_type": "code",
   "execution_count": 54,
   "metadata": {},
   "outputs": [],
   "source": [
    "bs = 128\n",
    "#net\n",
    "lr = 0.001\n",
    "alpha = 0.99\n",
    "gamma = 0\n",
    "wd = 0"
   ]
  },
  {
   "cell_type": "code",
   "execution_count": 55,
   "metadata": {},
   "outputs": [],
   "source": [
    "batchdata = DataLoader(train,batch_size=bs,shuffle=True\n",
    "                       ,drop_last=False,num_workers = 4) #线程 - 调度计算资源的最小单位\n",
    "testdata = DataLoader(test,batch_size=bs,shuffle=False\n",
    "                      ,drop_last=False,num_workers = 4)"
   ]
  },
  {
   "cell_type": "code",
   "execution_count": 56,
   "metadata": {},
   "outputs": [
    {
     "ename": "NameError",
     "evalue": "name 'net' is not defined",
     "output_type": "error",
     "traceback": [
      "\u001b[1;31m---------------------------------------------------------------------------\u001b[0m",
      "\u001b[1;31mNameError\u001b[0m                                 Traceback (most recent call last)",
      "\u001b[1;32m<ipython-input-56-53da6ff64ace>\u001b[0m in \u001b[0;36m<module>\u001b[1;34m\u001b[0m\n\u001b[0;32m      2\u001b[0m \u001b[1;33m\u001b[0m\u001b[0m\n\u001b[0;32m      3\u001b[0m \u001b[0mcriterion\u001b[0m \u001b[1;33m=\u001b[0m \u001b[0mnn\u001b[0m\u001b[1;33m.\u001b[0m\u001b[0mCrossEntropyLoss\u001b[0m\u001b[1;33m(\u001b[0m\u001b[0mreduction\u001b[0m\u001b[1;33m=\u001b[0m\u001b[1;34m\"sum\"\u001b[0m\u001b[1;33m)\u001b[0m \u001b[1;31m#进行损失函数计算时，最后输出结果的计算模式\u001b[0m\u001b[1;33m\u001b[0m\u001b[1;33m\u001b[0m\u001b[0m\n\u001b[1;32m----> 4\u001b[1;33m \u001b[0mopt\u001b[0m \u001b[1;33m=\u001b[0m \u001b[0moptim\u001b[0m\u001b[1;33m.\u001b[0m\u001b[0mRMSprop\u001b[0m\u001b[1;33m(\u001b[0m\u001b[0mnet\u001b[0m\u001b[1;33m.\u001b[0m\u001b[0mparameters\u001b[0m\u001b[1;33m(\u001b[0m\u001b[1;33m)\u001b[0m\u001b[1;33m,\u001b[0m\u001b[0mlr\u001b[0m\u001b[1;33m=\u001b[0m\u001b[0mlr\u001b[0m\u001b[1;33m,\u001b[0m\u001b[0malpha\u001b[0m\u001b[1;33m=\u001b[0m\u001b[0malpha\u001b[0m\u001b[1;33m,\u001b[0m\u001b[0mmomentum\u001b[0m\u001b[1;33m=\u001b[0m\u001b[0mgamma\u001b[0m\u001b[1;33m,\u001b[0m\u001b[0mweight_decay\u001b[0m\u001b[1;33m=\u001b[0m\u001b[0mwd\u001b[0m\u001b[1;33m)\u001b[0m\u001b[1;33m\u001b[0m\u001b[1;33m\u001b[0m\u001b[0m\n\u001b[0m",
      "\u001b[1;31mNameError\u001b[0m: name 'net' is not defined"
     ]
    }
   ],
   "source": [
    "#损失函数和优化算法\n",
    "\n",
    "criterion = nn.CrossEntropyLoss(reduction=\"sum\") #进行损失函数计算时，最后输出结果的计算模式\n",
    "opt = optim.RMSprop(net.parameters(),lr=lr,alpha=alpha,momentum=gamma,weight_decay=wd)"
   ]
  },
  {
   "cell_type": "code",
   "execution_count": null,
   "metadata": {},
   "outputs": [],
   "source": [
    "def full_procedure(net,epochs,bs,modelname, PATH, lr=0.001,alpha=0.99,gamma=0,wd=0,tol=10**(-5)):\n",
    "    \n",
    "    torch.manual_seed(1412)\n",
    "    \n",
    "    #分割数据\n",
    "    batchdata = DataLoader(train,batch_size=bs,shuffle=True\n",
    "                       ,drop_last=False,num_workers = 4) #线程 - 调度计算资源的最小单位\n",
    "    testdata = DataLoader(test,batch_size=bs,shuffle=False\n",
    "                      ,drop_last=False,num_workers = 4)\n",
    "    \n",
    "    #损失函数，优化算法\n",
    "    criterion = nn.CrossEntropyLoss(reduction=\"sum\") #进行损失函数计算时，最后输出结果的计算模式\n",
    "    opt = optim.RMSprop(net.parameters(),lr=lr\n",
    "                        ,alpha=alpha,momentum=gamma,weight_decay=wd)\n",
    "    \n",
    "    #训练与测试\n",
    "    trainloss, testloss = fit_test(net,batchdata,testdata,criterion,opt,epochs,tol,modelname,PATH)\n",
    "    \n",
    "    return trainloss, testloss"
   ]
  },
  {
   "cell_type": "code",
   "execution_count": 57,
   "metadata": {},
   "outputs": [],
   "source": [
    "#实例化\n",
    "#trainloss, testloss = full_procedure(XXXX)\n",
    "#plotloss()"
   ]
  },
  {
   "cell_type": "code",
   "execution_count": 58,
   "metadata": {},
   "outputs": [],
   "source": [
    "#绘图函数\n",
    "def plotloss(trainloss, testloss):\n",
    "    plt.figure(figsize=(10, 7))\n",
    "    plt.plot(trainloss, color=\"red\", label=\"Trainloss\")\n",
    "    plt.plot(testloss, color=\"orange\", label=\"Testloss\")\n",
    "    plt.xlabel('Epochs')\n",
    "    plt.ylabel('Loss')\n",
    "    plt.legend()\n",
    "    plt.show()"
   ]
  },
  {
   "cell_type": "markdown",
   "metadata": {},
   "source": [
    "### GPU版本的训练函数"
   ]
  },
  {
   "cell_type": "code",
   "execution_count": 59,
   "metadata": {},
   "outputs": [],
   "source": [
    "torch.cuda.manual_seed(1412)\n",
    "torch.cuda.manual_seed_all(1412)"
   ]
  },
  {
   "cell_type": "code",
   "execution_count": 60,
   "metadata": {},
   "outputs": [
    {
     "data": {
      "text/plain": [
       "True"
      ]
     },
     "execution_count": 60,
     "metadata": {},
     "output_type": "execute_result"
    }
   ],
   "source": [
    "torch.cuda.is_available()"
   ]
  },
  {
   "cell_type": "code",
   "execution_count": 61,
   "metadata": {},
   "outputs": [
    {
     "data": {
      "text/plain": [
       "device(type='cuda')"
      ]
     },
     "execution_count": 61,
     "metadata": {},
     "output_type": "execute_result"
    }
   ],
   "source": [
    "device"
   ]
  },
  {
   "cell_type": "code",
   "execution_count": 75,
   "metadata": {},
   "outputs": [],
   "source": [
    "def fit_test(net,batchdata,testdata,criterion,opt,epochs,tol,modelname,PATH):\n",
    "    \"\"\"\n",
    "    对模型进行训练，并在每个epoch后输出训练集和测试集上的准确率/损失\n",
    "    以实现对模型的监控\n",
    "    实现模型的保存\n",
    "    \n",
    "    参数说明：\n",
    "    net: 实例化后的网络\n",
    "    batchdata：使用Dataloader分割后的训练数据\n",
    "    testdata：使用Dataloader分割后的测试数据\n",
    "    criterion：所使用的损失函数\n",
    "    opt：所使用的优化算法\n",
    "    epochs：一共要使用完整数据集epochs次\n",
    "    tol：提前停止时测试集上loss下降的阈值，连续5次loss下降不超过tol就会触发提前停止\n",
    "    modelname：现在正在运行的模型名称，用于保存权重时作为文件名\n",
    "    PATH：将权重文件保存在path目录下\n",
    "    \n",
    "    \"\"\"\n",
    "    \n",
    "    SamplePerEpoch = batchdata.dataset.__len__() #整个epoch里有多少个样本\n",
    "    allsamples = SamplePerEpoch*epochs\n",
    "    trainedsamples = 0\n",
    "    trainlosslist = []\n",
    "    testlosslist = []\n",
    "    early_stopping = EarlyStopping(tol=tol)\n",
    "    highestacc = None\n",
    "    \n",
    "    for epoch in range(1,epochs+1):\n",
    "        net.train()\n",
    "        correct_train = 0\n",
    "        loss_train = 0\n",
    "        for batch_idx, (x, y) in enumerate(batchdata):\n",
    "            #non_blocking 非阻塞 = True\n",
    "            x = x.to(device,non_blocking=True)\n",
    "            y = y.to(device,non_blocking=True).view(x.shape[0])\n",
    "            correct, loss = IterOnce(net,criterion,opt,x,y)\n",
    "            \n",
    "            #计算样本总量、总的correct、loss\n",
    "            trainedsamples += x.shape[0]\n",
    "            loss_train += loss\n",
    "            correct_train += correct\n",
    "            \n",
    "            if (batch_idx+1) % 125 == 0:\n",
    "                #现在进行到了哪个epoch\n",
    "                #现在训练到了多少个样本\n",
    "                #总共要训练多少个样本\n",
    "                #现在的训练的样本占总共需要训练的样本的百分比\n",
    "                print('Epoch{}:[{}/{}({:.0f}%)]'.format(epoch\n",
    "                                                       ,trainedsamples\n",
    "                                                       ,allsamples\n",
    "                                                       ,100*trainedsamples/allsamples))\n",
    "            \n",
    "        TrainAccThisEpoch = float(correct_train*100)/SamplePerEpoch\n",
    "        TrainLossThisEpoch = float(loss_train*100)/SamplePerEpoch #平均每个样本上的损失\n",
    "        trainlosslist.append(TrainLossThisEpoch)\n",
    "        \n",
    "        #清理GPU内存\n",
    "        #清理掉一个epoch循环下面不再需要的中间变量\n",
    "        del x,y,correct,loss,correct_train,loss_train #删除数据与变量\n",
    "        gc.collect() #清除数据与变量相关的缓存\n",
    "        torch.cuda.empty_cache() #缓存分配器分配出去的内存给释放掉\n",
    "    \n",
    "        #每次训练完一个epoch，就在测试集上验证一下模型现在的效果\n",
    "        net.eval()\n",
    "        loss_test = 0\n",
    "        correct_test = 0\n",
    "        loss_test = 0\n",
    "        TestSample = testdata.dataset.__len__()\n",
    "\n",
    "        for x,y in testdata:\n",
    "            x = x.to(device, non_blocking=True)\n",
    "            y = y.to(device,non_blocking=True).view(x.shape[0])\n",
    "            correct, loss = TestOnce(net,criterion,x,y)\n",
    "            loss_test += loss\n",
    "            correct_test += correct\n",
    "\n",
    "        TestAccThisEpoch = float(correct_test * 100)/TestSample\n",
    "        TestLossThisEpoch = float(loss_test * 100)/TestSample\n",
    "        testlosslist.append(TestLossThisEpoch)\n",
    "        \n",
    "        #清理GPU内存\n",
    "        del x,y,correct,loss,correct_test,loss_test\n",
    "        gc.collect()\n",
    "        torch.cuda.empty_cache()\n",
    "        \n",
    "        #对每一个epoch，打印训练和测试的结果\n",
    "        #训练集上的损失，测试集上的损失，训练集上的准确率，测试集上的准确率\n",
    "        print(\"\\t Train Loss:{:.6f}, Test Loss:{:.6f}, Train Acc:{:.3f}%, Test Acc:{:.3f}%\".format(TrainLossThisEpoch\n",
    "                                                                                                  ,TestLossThisEpoch\n",
    "                                                                                                  ,TrainAccThisEpoch\n",
    "                                                                                                  ,TestAccThisEpoch))\n",
    "        \n",
    "        #如果测试集准确率出现新高/测试集loss出现新低，那我会保存现在的这一组权重\n",
    "        if highestacc == None: #首次进行测试\n",
    "            highestacc = TestAccThisEpoch\n",
    "        if highestacc < TestAccThisEpoch:\n",
    "            highestacc = TestAccThisEpoch\n",
    "            torch.save(net.state_dict(),os.path.join(PATH,modelname+\".pt\"))\n",
    "            print(\"\\t Weight Saved\")\n",
    "        \n",
    "        #提前停止\n",
    "        early_stop = early_stopping(TestLossThisEpoch)\n",
    "        if early_stop == \"True\":\n",
    "            break\n",
    "            \n",
    "    print(\"Complete\")\n",
    "    return trainlosslist, testlosslist"
   ]
  },
  {
   "cell_type": "code",
   "execution_count": 71,
   "metadata": {},
   "outputs": [],
   "source": [
    "#GPU内存优化管理机制 - 缓存内存分配器\n",
    "\n",
    "#数据x - 80，分配给它100字节的资源，20字节空闲\n",
    "#80 - 张量内存\n",
    "#20 - 缓存分配器指定的更多的缓存\n",
    "\n",
    "#GPU - 使用了100字节的资源\n",
    "\n",
    "#del 张量内存\n",
    "#torch.cuda.empty_cache() 缓存分配器指定的那些缓存\n",
    "\n",
    "#GPU显存进行监控的时候"
   ]
  },
  {
   "cell_type": "code",
   "execution_count": 72,
   "metadata": {},
   "outputs": [
    {
     "data": {
      "text/plain": [
       "1891122176"
      ]
     },
     "execution_count": 72,
     "metadata": {},
     "output_type": "execute_result"
    }
   ],
   "source": [
    "torch.cuda.memory_allocated() #张量内存的占用情况（现状）\n",
    "torch.cuda.memory_reserved() #缓存分配器占用的所有内存（现状）\n",
    "torch.cuda.max_memory_allocated() #自GPU运行以来占用过的最大张量内存（峰值）"
   ]
  },
  {
   "cell_type": "code",
   "execution_count": 73,
   "metadata": {},
   "outputs": [],
   "source": [
    "def full_procedure(net,epochs,bs,modelname, PATH, lr=0.001,alpha=0.99,gamma=0,wd=0,tol=10**(-5)):\n",
    "    \n",
    "    torch.cuda.manual_seed(1412)\n",
    "    torch.cuda.manual_seed_all(1412)\n",
    "    torch.manual_seed(1412)\n",
    "    \n",
    "    #分割数据\n",
    "    batchdata = DataLoader(train,batch_size=bs,shuffle=True\n",
    "                       ,drop_last=False,pin_memory=True)\n",
    "    testdata = DataLoader(test,batch_size=bs,shuffle=False\n",
    "                      ,drop_last=False,pin_memory=True)\n",
    "    \n",
    "    #损失函数，优化算法\n",
    "    criterion = nn.CrossEntropyLoss(reduction=\"sum\") #进行损失函数计算时，最后输出结果的计算模式\n",
    "    opt = optim.RMSprop(net.parameters(),lr=lr\n",
    "                        ,alpha=alpha,momentum=gamma,weight_decay=wd)\n",
    "    \n",
    "    #训练与测试\n",
    "    trainloss, testloss = fit_test(net,batchdata,testdata,criterion,opt,epochs,tol,modelname,PATH)\n",
    "    \n",
    "    return trainloss, testloss"
   ]
  },
  {
   "cell_type": "code",
   "execution_count": 66,
   "metadata": {},
   "outputs": [],
   "source": [
    "#pin_memory 控制是否将生成的数据放置在锁页内存当中\n",
    "\n",
    "#内存 - 程序运行的空间 - 8G，16G，24G\n",
    "#硬盘（虚拟内存） - 储存文件的空间 - 2T，5T，1G，1T\n",
    "\n",
    "#“锁页内存” - 只能在内存中存放，不允许与硬盘进行交换的程序/数据\n",
    "\n",
    "#pin_memory = True - 保证你的内存资源比较充足"
   ]
  },
  {
   "cell_type": "markdown",
   "metadata": {},
   "source": [
    "### 模型选择"
   ]
  },
  {
   "cell_type": "code",
   "execution_count": 72,
   "metadata": {
    "collapsed": true,
    "jupyter": {
     "outputs_hidden": true
    }
   },
   "outputs": [
    {
     "data": {
      "text/plain": [
       "MyResNet(\n",
       "  (block1): Sequential(\n",
       "    (0): Conv2d(3, 64, kernel_size=(3, 3), stride=(1, 1), padding=(1, 1), bias=False)\n",
       "    (1): BatchNorm2d(64, eps=1e-05, momentum=0.1, affine=True, track_running_stats=True)\n",
       "    (2): ReLU(inplace=True)\n",
       "  )\n",
       "  (block2): Sequential(\n",
       "    (0): BasicBlock(\n",
       "      (conv1): Conv2d(64, 128, kernel_size=(3, 3), stride=(2, 2), padding=(1, 1), bias=False)\n",
       "      (bn1): BatchNorm2d(128, eps=1e-05, momentum=0.1, affine=True, track_running_stats=True)\n",
       "      (relu): ReLU(inplace=True)\n",
       "      (conv2): Conv2d(128, 128, kernel_size=(3, 3), stride=(1, 1), padding=(1, 1), bias=False)\n",
       "      (bn2): BatchNorm2d(128, eps=1e-05, momentum=0.1, affine=True, track_running_stats=True)\n",
       "      (downsample): Sequential(\n",
       "        (0): Conv2d(64, 128, kernel_size=(1, 1), stride=(2, 2), bias=False)\n",
       "        (1): BatchNorm2d(128, eps=1e-05, momentum=0.1, affine=True, track_running_stats=True)\n",
       "      )\n",
       "    )\n",
       "    (1): BasicBlock(\n",
       "      (conv1): Conv2d(128, 128, kernel_size=(3, 3), stride=(1, 1), padding=(1, 1), bias=False)\n",
       "      (bn1): BatchNorm2d(128, eps=1e-05, momentum=0.1, affine=True, track_running_stats=True)\n",
       "      (relu): ReLU(inplace=True)\n",
       "      (conv2): Conv2d(128, 128, kernel_size=(3, 3), stride=(1, 1), padding=(1, 1), bias=False)\n",
       "      (bn2): BatchNorm2d(128, eps=1e-05, momentum=0.1, affine=True, track_running_stats=True)\n",
       "    )\n",
       "  )\n",
       "  (block3): Sequential(\n",
       "    (0): BasicBlock(\n",
       "      (conv1): Conv2d(128, 256, kernel_size=(3, 3), stride=(2, 2), padding=(1, 1), bias=False)\n",
       "      (bn1): BatchNorm2d(256, eps=1e-05, momentum=0.1, affine=True, track_running_stats=True)\n",
       "      (relu): ReLU(inplace=True)\n",
       "      (conv2): Conv2d(256, 256, kernel_size=(3, 3), stride=(1, 1), padding=(1, 1), bias=False)\n",
       "      (bn2): BatchNorm2d(256, eps=1e-05, momentum=0.1, affine=True, track_running_stats=True)\n",
       "      (downsample): Sequential(\n",
       "        (0): Conv2d(128, 256, kernel_size=(1, 1), stride=(2, 2), bias=False)\n",
       "        (1): BatchNorm2d(256, eps=1e-05, momentum=0.1, affine=True, track_running_stats=True)\n",
       "      )\n",
       "    )\n",
       "    (1): BasicBlock(\n",
       "      (conv1): Conv2d(256, 256, kernel_size=(3, 3), stride=(1, 1), padding=(1, 1), bias=False)\n",
       "      (bn1): BatchNorm2d(256, eps=1e-05, momentum=0.1, affine=True, track_running_stats=True)\n",
       "      (relu): ReLU(inplace=True)\n",
       "      (conv2): Conv2d(256, 256, kernel_size=(3, 3), stride=(1, 1), padding=(1, 1), bias=False)\n",
       "      (bn2): BatchNorm2d(256, eps=1e-05, momentum=0.1, affine=True, track_running_stats=True)\n",
       "    )\n",
       "  )\n",
       "  (avgpool): AdaptiveAvgPool2d(output_size=(1, 1))\n",
       "  (fc): Linear(in_features=256, out_features=10, bias=True)\n",
       ")"
      ]
     },
     "execution_count": 72,
     "metadata": {},
     "output_type": "execute_result"
    }
   ],
   "source": [
    "MyResNet()"
   ]
  },
  {
   "cell_type": "code",
   "execution_count": 73,
   "metadata": {
    "collapsed": true,
    "jupyter": {
     "outputs_hidden": true
    }
   },
   "outputs": [
    {
     "data": {
      "text/plain": [
       "MyVgg(\n",
       "  (features): Sequential(\n",
       "    (0): Conv2d(3, 64, kernel_size=(3, 3), stride=(1, 1), padding=(1, 1))\n",
       "    (1): ReLU(inplace=True)\n",
       "    (2): Conv2d(64, 64, kernel_size=(3, 3), stride=(1, 1), padding=(1, 1))\n",
       "    (3): ReLU(inplace=True)\n",
       "    (4): MaxPool2d(kernel_size=2, stride=2, padding=0, dilation=1, ceil_mode=False)\n",
       "    (5): Conv2d(64, 128, kernel_size=(3, 3), stride=(1, 1), padding=(1, 1))\n",
       "    (6): ReLU(inplace=True)\n",
       "    (7): Conv2d(128, 128, kernel_size=(3, 3), stride=(1, 1), padding=(1, 1))\n",
       "    (8): ReLU(inplace=True)\n",
       "    (9): Conv2d(128, 128, kernel_size=(3, 3), stride=(1, 1), padding=(1, 1))\n",
       "    (10): ReLU(inplace=True)\n",
       "    (11): MaxPool2d(kernel_size=2, stride=2, padding=0, dilation=1, ceil_mode=False)\n",
       "  )\n",
       "  (avgpool): AdaptiveAvgPool2d(output_size=(7, 7))\n",
       "  (fc): Sequential(\n",
       "    (0): Linear(in_features=6272, out_features=4096, bias=True)\n",
       "    (1): ReLU(inplace=True)\n",
       "    (2): Dropout(p=0.5, inplace=False)\n",
       "    (3): Linear(in_features=4096, out_features=4096, bias=True)\n",
       "    (4): ReLU(inplace=True)\n",
       "    (5): Dropout(p=0.5, inplace=False)\n",
       "    (6): Linear(in_features=4096, out_features=10, bias=True)\n",
       "  )\n",
       ")"
      ]
     },
     "execution_count": 73,
     "metadata": {},
     "output_type": "execute_result"
    }
   ],
   "source": [
    "MyVgg()"
   ]
  },
  {
   "cell_type": "code",
   "execution_count": null,
   "metadata": {},
   "outputs": [],
   "source": [
    "#效果、运算速度（效率）、潜力"
   ]
  },
  {
   "cell_type": "code",
   "execution_count": null,
   "metadata": {},
   "outputs": [],
   "source": [
    "#效果 - 模型的泛化能力（偏差、方差） 准确率要高、模型要稳定 - 我们需要对同一个架构进行多次训练来衡量方差\n",
    "#运算速度 - 看模型运行的时间\n",
    "#潜力 - 起点（前几个epochs上能够达到的效果），过拟合（通过调参来抑制过拟合）"
   ]
  },
  {
   "cell_type": "code",
   "execution_count": null,
   "metadata": {},
   "outputs": [],
   "source": [
    "#在每一个架构上，分别运行3个epochs，运行5次"
   ]
  },
  {
   "cell_type": "code",
   "execution_count": null,
   "metadata": {},
   "outputs": [],
   "source": [
    "#回顾模型"
   ]
  },
  {
   "cell_type": "code",
   "execution_count": 74,
   "metadata": {
    "collapsed": true,
    "jupyter": {
     "outputs_hidden": true
    }
   },
   "outputs": [
    {
     "name": "stdout",
     "output_type": "stream",
     "text": [
      "\n",
      "\n",
      "ResNet\n",
      "==========================================================================================\n",
      "Layer (type:depth-idx)                   Output Shape              Param #\n",
      "==========================================================================================\n",
      "├─Sequential: 1-1                        [10, 64, 28, 28]          --\n",
      "|    └─Conv2d: 2-1                       [10, 64, 28, 28]          1,728\n",
      "|    └─BatchNorm2d: 2-2                  [10, 64, 28, 28]          128\n",
      "|    └─ReLU: 2-3                         [10, 64, 28, 28]          --\n",
      "├─Sequential: 1-2                        [10, 128, 14, 14]         --\n",
      "|    └─BasicBlock: 2-4                   [10, 128, 14, 14]         230,144\n",
      "|    └─BasicBlock: 2-5                   [10, 128, 14, 14]         295,424\n",
      "├─Sequential: 1-3                        [10, 256, 7, 7]           --\n",
      "|    └─BasicBlock: 2-6                   [10, 256, 7, 7]           919,040\n",
      "|    └─BasicBlock: 2-7                   [10, 256, 7, 7]           1,180,672\n",
      "├─AdaptiveAvgPool2d: 1-4                 [10, 256, 1, 1]           --\n",
      "├─Linear: 1-5                            [10, 10]                  2,570\n",
      "==========================================================================================\n",
      "Total params: 2,629,706\n",
      "Trainable params: 2,629,706\n",
      "Non-trainable params: 0\n",
      "Total mult-adds (G): 14.22\n",
      "==========================================================================================\n",
      "Input size (MB): 0.09\n",
      "Forward/backward pass size (MB): 32.11\n",
      "Params size (MB): 10.52\n",
      "Estimated Total Size (MB): 42.73\n",
      "==========================================================================================\n",
      "\n",
      "\n",
      "\n",
      "\n",
      "VGG\n",
      "==========================================================================================\n",
      "Layer (type:depth-idx)                   Output Shape              Param #\n",
      "==========================================================================================\n",
      "├─Sequential: 1-1                        [10, 128, 7, 7]           --\n",
      "|    └─Conv2d: 2-1                       [10, 64, 28, 28]          1,792\n",
      "|    └─ReLU: 2-2                         [10, 64, 28, 28]          --\n",
      "|    └─Conv2d: 2-3                       [10, 64, 28, 28]          36,928\n",
      "|    └─ReLU: 2-4                         [10, 64, 28, 28]          --\n",
      "|    └─MaxPool2d: 2-5                    [10, 64, 14, 14]          --\n",
      "|    └─Conv2d: 2-6                       [10, 128, 14, 14]         73,856\n",
      "|    └─ReLU: 2-7                         [10, 128, 14, 14]         --\n",
      "|    └─Conv2d: 2-8                       [10, 128, 14, 14]         147,584\n",
      "|    └─ReLU: 2-9                         [10, 128, 14, 14]         --\n",
      "|    └─Conv2d: 2-10                      [10, 128, 14, 14]         147,584\n",
      "|    └─ReLU: 2-11                        [10, 128, 14, 14]         --\n",
      "|    └─MaxPool2d: 2-12                   [10, 128, 7, 7]           --\n",
      "├─AdaptiveAvgPool2d: 1-2                 [10, 128, 7, 7]           --\n",
      "├─Sequential: 1-3                        [10, 10]                  --\n",
      "|    └─Linear: 2-13                      [10, 4096]                25,694,208\n",
      "|    └─ReLU: 2-14                        [10, 4096]                --\n",
      "|    └─Dropout: 2-15                     [10, 4096]                --\n",
      "|    └─Linear: 2-16                      [10, 4096]                16,781,312\n",
      "|    └─ReLU: 2-17                        [10, 4096]                --\n",
      "|    └─Dropout: 2-18                     [10, 4096]                --\n",
      "|    └─Linear: 2-19                      [10, 10]                  40,970\n",
      "==========================================================================================\n",
      "Total params: 42,924,234\n",
      "Trainable params: 42,924,234\n",
      "Non-trainable params: 0\n",
      "Total mult-adds (G): 6.22\n",
      "==========================================================================================\n",
      "Input size (MB): 0.09\n",
      "Forward/backward pass size (MB): 14.71\n",
      "Params size (MB): 171.70\n",
      "Estimated Total Size (MB): 186.50\n",
      "==========================================================================================\n",
      "\n",
      "\n"
     ]
    }
   ],
   "source": [
    "from torchinfo import summary\n",
    "for name,i in[(\"ResNet\",MyResNet()),(\"VGG\",MyVgg())]:\n",
    "    print(\"\\n\")\n",
    "    print(name)\n",
    "    print(summary(i,input_size=(10,3,28,28),depth=2,device=\"cpu\"))\n",
    "    print(\"\\n\")"
   ]
  },
  {
   "cell_type": "code",
   "execution_count": null,
   "metadata": {},
   "outputs": [],
   "source": [
    "'''\n",
    "===========TIME WARNING==========\n",
    "===========运行时间警告===========\n",
    "\n",
    "CPU：Intel i5-10600 @4.10Ghz\n",
    "GPU：RTX 2060S GPU\n",
    "\n",
    "MyResNet\n",
    " 1 epoch on CPU: 3mins~3mins10s\n",
    " 1 epoch on GPU: 22s~23s\n",
    "\n",
    "MyVGG\n",
    " 1 epoch on CPU: 5min50s~6mins\n",
    " 1 epoch on GPU：20s~22s\n",
    "===========运行时间警告============\n",
    "===========TIME WARNING===========\n",
    "'''"
   ]
  },
  {
   "cell_type": "code",
   "execution_count": null,
   "metadata": {},
   "outputs": [],
   "source": [
    "#模型训练需要的3个步骤\n",
    "\n",
    "#for i in range(5):\n",
    "    #实例化\n",
    "    #full_procedure()"
   ]
  },
  {
   "cell_type": "code",
   "execution_count": null,
   "metadata": {},
   "outputs": [],
   "source": [
    "#建立目录用于存储模型选择结果\n",
    "PATH = r\"D:\\Pythonwork\\DEEP LEARNING\\WEEK 9\\models\\ModelSelection\"\n",
    "\n",
    "#使用函数full_procedure中的默认参数，在模型选择时加入时间计算\n",
    "#基于现有显存，batch_size被设置为256，对于CPU而言最好从64开始设置\n",
    "#MyResNet\n",
    "avgtime = [] #用来存放每次循环之后获得的训练时间\n",
    "for i in range(5): #进行5次训练\n",
    "    #设置随机数种子\n",
    "    torch.manual_seed(1412)\n",
    "    \n",
    "    #实例化\n",
    "    resnet18_ = m.resnet18()\n",
    "    net = MyResNet().to(device,non_blocking=True)\n",
    "    \n",
    "    #训练\n",
    "    start = time() #计算训练时间\n",
    "    trainloss, testloss = full_procedure(net,epochs=3, bs=256 \n",
    "                                         ,modelname=\"model_seletion_resnet\"\n",
    "                                         ,PATH = PATH)\n",
    "    avgtime.append(time()-start)"
   ]
  },
  {
   "cell_type": "code",
   "execution_count": null,
   "metadata": {},
   "outputs": [],
   "source": [
    "#打印出我们的平均时间\n",
    "print(np.mean(avgtime))"
   ]
  },
  {
   "cell_type": "code",
   "execution_count": null,
   "metadata": {},
   "outputs": [],
   "source": [
    "#MyVGG\n",
    "avgtime = []\n",
    "for i in range(5):\n",
    "    torch.manual_seed(1412)\n",
    "    vgg16_ = m.vgg16_bn()\n",
    "    net = MyVgg().to(device,non_blocking=True)\n",
    "    start = time() #计算训练时间\n",
    "    #此时使用的是full_procedure的默认参数\n",
    "    trainloss, testloss = full_procedure(net,epochs=3, bs=256\n",
    "                                         ,modelname=\"model_seletion_vgg\"\n",
    "                                         ,PATH = PATH)\n",
    "    avgtime.append(time()-start)"
   ]
  },
  {
   "cell_type": "code",
   "execution_count": null,
   "metadata": {},
   "outputs": [],
   "source": [
    "del net\n",
    "gc.collect()\n",
    "torch.cuda.empty_cache()\n",
    "print(np.mean(avgtime))"
   ]
  },
  {
   "cell_type": "markdown",
   "metadata": {},
   "source": [
    "### 模型调优"
   ]
  },
  {
   "cell_type": "markdown",
   "metadata": {},
   "source": [
    "#### 更多迭代次数"
   ]
  },
  {
   "cell_type": "code",
   "execution_count": null,
   "metadata": {},
   "outputs": [],
   "source": [
    "'''\n",
    "===========TIME WARNING==========\n",
    "===========运行时间警告===========\n",
    "\n",
    "CPU：Intel i5-10600 @4.10Ghz\n",
    "GPU：RTX 2060S GPU\n",
    "\n",
    "MyResNet\n",
    " 1 epoch on CPU: 3mins~3mins10s\n",
    " 1 epoch on GPU: 22s~23s\n",
    "===========运行时间警告============\n",
    "===========TIME WARNING===========\n",
    "'''\n",
    "\n",
    "#尝试增加到10个epochs\n",
    "PATH = r\"D:\\Pythonwork\\DEEP LEARNING\\WEEK 9\\models\\ConfirmedResNet\"\n",
    "modelname = \"myResNet_test0\"\n",
    "\n",
    "print(modelname)\n",
    "torch.manual_seed(1412)\n",
    "resnet18_ = m.resnet18()\n",
    "net = MyResNet().to(device,non_blocking=True)\n",
    "start = time() #计算训练时间\n",
    "trainloss, testloss = full_procedure(net,epochs=10, bs=256\n",
    "                                     ,modelname=modelname\n",
    "                                     ,PATH = PATH)\n",
    "print(time()-start)\n",
    "plotloss(trainloss,testloss)"
   ]
  },
  {
   "cell_type": "code",
   "execution_count": null,
   "metadata": {},
   "outputs": [],
   "source": [
    "#调小提前停止阈值，再进行三次训练，每次30个epochs\n",
    "\n",
    "PATH = r\"D:\\Pythonwork\\DEEP LEARNING\\WEEK 9\\models\\ConfirmedResNet\"\n",
    "\n",
    "for modelname in [\"MyResNet_test1\",\"MyResNet_test2\",\"MyResNet_test3\"]:\n",
    "    print(modelname)\n",
    "    torch.manual_seed(1412)\n",
    "    resnet18_ = m.resnet18()\n",
    "    net = MyResNet().to(device,non_blocking=True)\n",
    "    start = time() #计算训练时间\n",
    "    trainloss, testloss = full_procedure(net,epochs=30, bs=256\n",
    "                                         ,modelname=modelname\n",
    "                                         ,PATH = PATH\n",
    "                                         ,tol = 10**(-10))\n",
    "    print(time()-start)\n",
    "    plotloss(trainloss,testloss)"
   ]
  },
  {
   "cell_type": "markdown",
   "metadata": {},
   "source": [
    "#### 让迭代更稳定"
   ]
  },
  {
   "cell_type": "code",
   "execution_count": null,
   "metadata": {},
   "outputs": [],
   "source": [
    "#首先加载之前保存的权重\n",
    "torch.manual_seed(1412)\n",
    "resnet18_ = m.resnet18()\n",
    "net = MyResNet()\n",
    "net.load_state_dict(torch.load(\"D:\\Pythonwork\\DEEP LEARNING\\WEEK 9\\models\\ConfirmedResNet\\myResNet_test2.pt\"))"
   ]
  },
  {
   "cell_type": "code",
   "execution_count": null,
   "metadata": {},
   "outputs": [],
   "source": [
    "#修改modelname，准备好保存结果\n",
    "modelname = \"MyResNet_stable5\"\n",
    "\n",
    "#控制变量：每次只调整一个参数\n",
    "#先调整可能对整个学习过程影响最大的参数：学习率\n",
    "print(modelname)\n",
    "torch.manual_seed(1412)\n",
    "start = time() #计算训练时间\n",
    "#降低学习率，原本的lr=0.001，现在我尝试了0.0075,0.0005，0.00025和0.0002和0.0001五种\n",
    "trainloss, testloss = full_procedure(net,epochs=30, bs=256\n",
    "                                     ,modelname=modelname\n",
    "                                     ,PATH = PATH\n",
    "                                     ,lr = 0.0001 \n",
    "                                     ,gamma=0\n",
    "                                     ,tol = 10**(-10))\n",
    "print(time()-start)\n",
    "plotloss(trainloss,testloss)"
   ]
  },
  {
   "cell_type": "code",
   "execution_count": null,
   "metadata": {},
   "outputs": [],
   "source": [
    "#在lr稳定的基础上调节gamma\n",
    "torch.manual_seed(1412)\n",
    "resnet18_ = m.resnet18()\n",
    "net.load_state_dict(torch.load(\"D:\\Pythonwork\\DEEP LEARNING\\WEEK 9\\models\\ConfirmedResNet\\MyResNet_stable5.pt\"))\n",
    "\n",
    "modelname = \"MyResNet_stable6\"\n",
    "\n",
    "print(modelname)\n",
    "start = time() #计算训练时间\n",
    "net = net.to(device,non_blocking=True)\n",
    "#基于lr非常小的考虑，同样尝试了非常小的值\n",
    "trainloss, testloss = full_procedure(net,epochs=30, bs=256\n",
    "                                     ,modelname=modelname\n",
    "                                     ,PATH = PATH\n",
    "                                     ,lr = 0.0001\n",
    "                                     ,gamma = 0.0001\n",
    "                                     ,tol = 10**(-10)\n",
    "                                    )\n",
    "print(time()-start)\n",
    "plotloss(trainloss,testloss)"
   ]
  },
  {
   "cell_type": "markdown",
   "metadata": {},
   "source": [
    "#### 对抗过拟合"
   ]
  },
  {
   "cell_type": "code",
   "execution_count": null,
   "metadata": {},
   "outputs": [],
   "source": [
    "modelname = \"MyResNet_overfit\"\n",
    "\n",
    "torch.manual_seed(1412)\n",
    "resnet18_ = m.resnet18()\n",
    "net = MyResNet()\n",
    "net.load_state_dict(torch.load(\"D:\\Pythonwork\\DEEP LEARNING\\WEEK 9\\models\\ConfirmedResNet\\MyResNet_stable6.pt\"))\n",
    "\n",
    "#在stable6的基础上继续训练\n",
    "print(modelname)\n",
    "torch.manual_seed(1412)\n",
    "net = net.to(device,non_blocking=True)\n",
    "start = time() #计算训练时间\n",
    "trainloss, testloss = full_procedure(net,epochs=30, bs=128 #令batch_size下降一半\n",
    "                                     ,modelname=modelname\n",
    "                                     ,PATH = PATH\n",
    "                                     ,lr = 0.0001\n",
    "                                     ,gamma= 0.0001\n",
    "                                     ,tol = 10**(-10)\n",
    "                                     ,wd = 0.00005) #wd非常敏感，因此要小心地进行调整\n",
    "print(time()-start)\n",
    "plotloss(trainloss,testloss)"
   ]
  },
  {
   "cell_type": "markdown",
   "metadata": {},
   "source": [
    "### 基于新参数进行训练"
   ]
  },
  {
   "cell_type": "code",
   "execution_count": null,
   "metadata": {},
   "outputs": [],
   "source": [
    "#先按大lr进行初期迭代，再按小lr进行后期迭代\n",
    "PATH = r\"D:\\Pythonwork\\DEEP LEARNING\\WEEK 9\\models\\ConfirmedResNet\"\n",
    "modelname = \"myResNet_test0_1\"\n",
    "\n",
    "print(modelname)\n",
    "torch.manual_seed(1412)\n",
    "resnet18_ = m.resnet18()\n",
    "net = MyResNet().to(device,non_blocking=True) #完全重启，不借用任何过去训练好的参数\n",
    "start = time() #计算训练时间\n",
    "trainloss, testloss = full_procedure(net,epochs=15, bs=256\n",
    "                                     ,modelname=modelname\n",
    "                                     ,PATH = PATH\n",
    "                                     ,lr=0.001\n",
    "                                     ,tol = 10**(-10)\n",
    "                                    )\n",
    "print(time()-start)\n",
    "plotloss(trainloss,testloss)"
   ]
  },
  {
   "cell_type": "code",
   "execution_count": null,
   "metadata": {},
   "outputs": [],
   "source": [
    "modelname = \"MyResNet_retrain\"\n",
    "\n",
    "torch.manual_seed(1412)\n",
    "resnet18_ = m.resnet18()\n",
    "net.load_state_dict(torch.load(\"D:\\Pythonwork\\DEEP LEARNING\\WEEK 9\\models\\ConfirmedResNet\\myResNet_test0_1.pt\"))\n",
    "\n",
    "print(modelname)\n",
    "torch.manual_seed(1412)\n",
    "net = net.to(device,non_blocking=True)\n",
    "start = time() #计算训练时间\n",
    "trainloss, testloss = full_procedure(net,epochs=30, bs=128 #令batch_size下降一半\n",
    "                                     ,modelname=modelname\n",
    "                                     ,PATH = PATH\n",
    "                                     ,lr = 0.00001\n",
    "                                     ,gamma= 0.0001\n",
    "                                     ,tol = 10**(-10)\n",
    "                                     ,wd = 0.00005) #wd非常敏感，因此要小心地进行调整\n",
    "print(time()-start)\n",
    "plotloss(trainloss,testloss)"
   ]
  },
  {
   "cell_type": "markdown",
   "metadata": {},
   "source": [
    "### 架构升级，其他可探索的方向"
   ]
  },
  {
   "cell_type": "markdown",
   "metadata": {},
   "source": [
    "#### 重新定义架构"
   ]
  },
  {
   "cell_type": "code",
   "execution_count": null,
   "metadata": {},
   "outputs": [],
   "source": [
    "class MyResNet2(nn.Module):\n",
    "    def __init__(self):\n",
    "        super().__init__()\n",
    "        \n",
    "        self.block1 = nn.Sequential(nn.Conv2d(3,64,kernel_size=3,stride=1,padding=1,bias=False)\n",
    "                                   ,resnet18_.bn1\n",
    "                                   ,resnet18_.relu) \n",
    "\n",
    "        self.block2 = resnet18_.layer2\n",
    "        self.block3 = resnet18_.layer3\n",
    "        self.block4 = resnet18_.layer4 #其他地方都不变，但增加原始残差网络中的layer4\n",
    "        self.avgpool = resnet18_.avgpool\n",
    "        self.fc = nn.Linear(in_features=512, out_features=10, bias=True)\n",
    "    \n",
    "    def forward(self,x):\n",
    "        x = self.block1(x)\n",
    "        x = self.block2(x)\n",
    "        x = self.block3(x)\n",
    "        x = self.block4(x)\n",
    "        x = self.avgpool(x)\n",
    "        x = x.view(x.shape[0],512) #512个输出\n",
    "        x = self.fc(x)\n",
    "        return x\n",
    "    \n",
    "torch.manual_seed(1412)\n",
    "resnet18_ = m.resnet18()\n",
    "net2 = MyResNet2()\n",
    "\n",
    "summary(net2,(10,3,28,28),depth=2,device=\"cpu\")"
   ]
  },
  {
   "cell_type": "markdown",
   "metadata": {},
   "source": [
    "#### 在新架构上按大lr先迭代，再按小lr迭代"
   ]
  },
  {
   "cell_type": "code",
   "execution_count": null,
   "metadata": {},
   "outputs": [],
   "source": [
    "'''\n",
    "===========TIME WARNING==========\n",
    "===========运行时间警告===========\n",
    "\n",
    "CPU：Intel i5-10600 @4.10Ghz\n",
    "GPU：RTX 2060S GPU\n",
    "\n",
    "MyResNet\n",
    " 1 epoch on CPU: 9min50s~10mins\n",
    " 1 epoch on GPU: 18s~20s\n",
    "===========运行时间警告============\n",
    "===========TIME WARNING===========\n",
    "'''\n",
    "\n",
    "#没有数据增强，回归原始参数\n",
    "\n",
    "modelname = \"MyResNet2_test1\"\n",
    "\n",
    "print(modelname)\n",
    "torch.manual_seed(1412)\n",
    "resnet18_ = m.resnet18()\n",
    "net2 = MyResNet2().to(device,non_blocking=True)\n",
    "start = time() #计算训练时间\n",
    "trainloss, testloss = full_procedure(net2,epochs=30, bs=256\n",
    "                                     ,modelname=modelname\n",
    "                                     ,PATH = PATH\n",
    "                                     ,tol = 10**(-10))\n",
    "print(time()-start)\n",
    "plotloss(trainloss,testloss)"
   ]
  },
  {
   "cell_type": "code",
   "execution_count": null,
   "metadata": {},
   "outputs": [],
   "source": [
    "modelname = \"MyResNet2_test2\"\n",
    "\n",
    "start = time() #计算训练时间\n",
    "trainloss, testloss = full_procedure(net2,epochs=30, bs=256\n",
    "                                     ,modelname=modelname\n",
    "                                     ,PATH = PATH\n",
    "                                     ,tol = 10**(-10)\n",
    "                                     ,lr = 0.0001)\n",
    "print(time()-start)\n",
    "plotloss(trainloss,testloss)"
   ]
  }
 ],
 "metadata": {
  "kernelspec": {
   "display_name": "Python 3",
   "language": "python",
   "name": "python3"
  },
  "language_info": {
   "codemirror_mode": {
    "name": "ipython",
    "version": 3
   },
   "file_extension": ".py",
   "mimetype": "text/x-python",
   "name": "python",
   "nbconvert_exporter": "python",
   "pygments_lexer": "ipython3",
   "version": "3.8.5"
  }
 },
 "nbformat": 4,
 "nbformat_minor": 4
}
