{
 "cells": [
  {
   "cell_type": "markdown",
   "metadata": {},
   "source": [
    "# Lesson 15.1 学习率调度基本概念与手动实现方法"
   ]
  },
  {
   "cell_type": "markdown",
   "metadata": {},
   "source": [
    "&emsp;&emsp;从本节开始，我们将介绍深度学习中学习率优化方法。学习率作为模型优化的重要超参数，在此前的学习中，我们已经看到了学习率的调整对模型训练在诸多方面的显著影响。这里我们先简单回顾此前遇到的学习率调整的场景："
   ]
  },
  {
   "cell_type": "markdown",
   "metadata": {},
   "source": [
    "- 缓解Dead ReLU Problem      \n",
    "&emsp;&emsp;在ReLU激活函数叠加的神经网络中，由于ReLU本身负值归零的特性，可能会出现Dead ReLU Problem，根据Lesson 13.4的实验结果，我们可以通过减小学习率来降低模型落入活性失效陷进的概率。不过降低学习率也代表模型收敛速度更慢；"
   ]
  },
  {
   "cell_type": "markdown",
   "metadata": {},
   "source": [
    "- 提升模型表现      \n",
    "&emsp;&emsp;同时，学习率调整的也将显著影响模型性能。根据Lesson 14中的实验结果可知，在学习率绝对数值的调整过程中，学习率对模型性能的影响整体呈现U型（以准确率评估指标时是倒U型）特征，即学习率过大或者过小都不好，学习过大可能会导致模型无法穿越狭窄的通道最终抵达最小值点，而学习率太小则容易在最小值点附近停止收敛，因此在进行模型训练时，我们需要找到一个适中的准确率取值（如Lesson 14.3中的0.005）。"
   ]
  },
  {
   "cell_type": "markdown",
   "metadata": {},
   "source": [
    "&emsp;&emsp;整体来看，如果模型学习率设置太大，虽然前期收敛速度较快，但容易出现收敛过程不稳定、收敛结果不佳、或者神经元活性失效等问题；而如果学习率设置太小，虽然收敛过程将相对平稳，并且能够有效规避神经元活性坏死的问题，但容易出现收敛速度慢、收敛结果不佳等问题。为了深入理解该问题，同时也为了为后续实验储备对比数据，首先，我们可以通过设计实验来观测不同超参数取值对模型收敛速度、收敛结果影响。"
   ]
  },
  {
   "cell_type": "markdown",
   "metadata": {},
   "source": [
    "### 一、学习率对模型训练影响"
   ]
  },
  {
   "cell_type": "markdown",
   "metadata": {},
   "source": [
    "&emsp;&emsp;仍然利用Lesson 14中所定义的模型类和数据，通过设置不同学习率，来观察学习率对模型收敛速度和收敛结果两方面影响情况。"
   ]
  },
  {
   "cell_type": "code",
   "execution_count": 1,
   "metadata": {},
   "outputs": [
    {
     "data": {
      "text/plain": [
       "<torch._C.Generator at 0x1689ae716d0>"
      ]
     },
     "execution_count": 1,
     "metadata": {},
     "output_type": "execute_result"
    }
   ],
   "source": [
    "# 设置随机数种子\n",
    "torch.manual_seed(420)  \n",
    "\n",
    "# 创建最高项为2的多项式回归数据集\n",
    "features, labels = tensorGenReg(w=[2, -1, 3, 1, 2], bias=False, deg=2)\n",
    "\n",
    "# 进行数据集切分与加载\n",
    "train_loader, test_loader = split_loader(features, labels, batch_size=50)"
   ]
  },
  {
   "cell_type": "code",
   "execution_count": 19,
   "metadata": {},
   "outputs": [
    {
     "data": {
      "text/plain": [
       "<torch._C.Generator at 0x15368ae16b0>"
      ]
     },
     "execution_count": 19,
     "metadata": {},
     "output_type": "execute_result"
    }
   ],
   "source": [
    "# 设置随机数种子\n",
    "torch.manual_seed(24)  \n",
    "\n",
    "# 关键参数\n",
    "num_epochs = 20\n",
    "\n",
    "# 实例化模型  \n",
    "tanh_model1 = net_class2(act_fun = torch.tanh, in_features=5, BN_model='pre')\n",
    "tanh_model2 = net_class2(act_fun = torch.tanh, in_features=5, BN_model='pre')\n",
    "tanh_model3 = net_class2(act_fun = torch.tanh, in_features=5, BN_model='pre')\n",
    "tanh_model4 = net_class2(act_fun = torch.tanh, in_features=5, BN_model='pre')"
   ]
  },
  {
   "cell_type": "code",
   "execution_count": 13,
   "metadata": {},
   "outputs": [],
   "source": [
    "# tanh_model进行模型训练\n",
    "train_l1, test_l1 = model_train_test(tanh_model1, \n",
    "                                     train_loader,\n",
    "                                     test_loader,\n",
    "                                     num_epochs = num_epochs, \n",
    "                                     criterion = nn.MSELoss(), \n",
    "                                     optimizer = optim.SGD, \n",
    "                                     lr = 0.03, \n",
    "                                     cla = False, \n",
    "                                     eva = mse_cal)\n",
    "\n",
    "train_l2, test_l2 = model_train_test(tanh_model2, \n",
    "                                     train_loader,\n",
    "                                     test_loader,\n",
    "                                     num_epochs = num_epochs, \n",
    "                                     criterion = nn.MSELoss(), \n",
    "                                     optimizer = optim.SGD, \n",
    "                                     lr = 0.01, \n",
    "                                     cla = False, \n",
    "                                     eva = mse_cal)\n",
    "\n",
    "train_l3, test_l3 = model_train_test(tanh_model3, \n",
    "                                     train_loader,\n",
    "                                     test_loader,\n",
    "                                     num_epochs = num_epochs, \n",
    "                                     criterion = nn.MSELoss(), \n",
    "                                     optimizer = optim.SGD, \n",
    "                                     lr = 0.005, \n",
    "                                     cla = False, \n",
    "                                     eva = mse_cal)\n",
    "\n",
    "train_l4, test_l4 = model_train_test(tanh_model4, \n",
    "                                     train_loader,\n",
    "                                     test_loader,\n",
    "                                     num_epochs = num_epochs, \n",
    "                                     criterion = nn.MSELoss(), \n",
    "                                     optimizer = optim.SGD, \n",
    "                                     lr = 0.001, \n",
    "                                     cla = False, \n",
    "                                     eva = mse_cal)"
   ]
  },
  {
   "cell_type": "code",
   "execution_count": 14,
   "metadata": {},
   "outputs": [
    {
     "data": {
      "text/plain": [
       "[<matplotlib.lines.Line2D at 0x1f5cfcd1308>]"
      ]
     },
     "execution_count": 14,
     "metadata": {},
     "output_type": "execute_result"
    },
    {
     "data": {
      "text/plain": [
       "[<matplotlib.lines.Line2D at 0x1f5cfeefdc8>]"
      ]
     },
     "execution_count": 14,
     "metadata": {},
     "output_type": "execute_result"
    },
    {
     "data": {
      "text/plain": [
       "[<matplotlib.lines.Line2D at 0x1f5cff0ed08>]"
      ]
     },
     "execution_count": 14,
     "metadata": {},
     "output_type": "execute_result"
    },
    {
     "data": {
      "text/plain": [
       "[<matplotlib.lines.Line2D at 0x1f5cff0edc8>]"
      ]
     },
     "execution_count": 14,
     "metadata": {},
     "output_type": "execute_result"
    },
    {
     "data": {
      "text/plain": [
       "<matplotlib.legend.Legend at 0x1f5cff0ed88>"
      ]
     },
     "execution_count": 14,
     "metadata": {},
     "output_type": "execute_result"
    },
    {
     "data": {
      "image/png": "[encoded data removed]",
      "text/plain": [
       "<Figure size 432x288 with 1 Axes>"
      ]
     },
     "metadata": {
      "needs_background": "light"
     },
     "output_type": "display_data"
    }
   ],
   "source": [
    "plt.plot(list(range(num_epochs)), train_l1, label='train_mse_0.03')\n",
    "plt.plot(list(range(num_epochs)), train_l2, label='train_mse_0.01')\n",
    "plt.plot(list(range(num_epochs)), train_l3, label='train_mse_0.005')\n",
    "plt.plot(list(range(num_epochs)), train_l4, label='train_mse_0.001')\n",
    "plt.legend(loc = 1)"
   ]
  },
  {
   "cell_type": "markdown",
   "metadata": {},
   "source": [
    "&emsp;&emsp;由此我们能够清楚的看到，学习率较大的模型收敛速度较快，但效果却不一定最好。而学习率非常小的模型不仅收敛速度较慢，并且效果也不尽如人意。对于tanh2来说，在当前数据集上，学习率为0.001时表现较好。"
   ]
  },
  {
   "cell_type": "markdown",
   "metadata": {},
   "source": [
    "&emsp;&emsp;不过，值得注意的是，尽管学习率的调整会对模型训练造成很大的影响，但在进行学习率优化的时候一般不会采用Lesson 14.3中同时训练多组学习率采用不同取值的模型来对比选择最佳学习率的方法。在实际生产生活中，训练一个模型已经是非常耗费时间的了，为了一个超参数同时训练多组模型并不划算。而要通过学习率数值调整来让模型“又好又快”的收敛，就需要采用一种名为学习率调度的优化算法。"
   ]
  },
  {
   "cell_type": "markdown",
   "metadata": {},
   "source": [
    "## 二、学习率调度基本概念与手动实现方法"
   ]
  },
  {
   "cell_type": "markdown",
   "metadata": {},
   "source": [
    "### 1.模型调度基本概念"
   ]
  },
  {
   "cell_type": "markdown",
   "metadata": {},
   "source": [
    "&emsp;&emsp;既然我们无法通过训练多组模型来寻找最优学习率，那么一个最基本的想法，就是让学习率伴随模型训练过程动态调整。并且，根据上述实验结果我们也不难发现，一个比较好的学习率动态调整策略是，先让学习率取得较大数值，从而能够让模型在最开始能够以较快的速度收敛；然后在经过一段时间迭代之后，将学习率调小，从而能够让收敛过程穿过损失函数的“隘口”，抵达更小的解。"
   ]
  },
  {
   "cell_type": "markdown",
   "metadata": {},
   "source": [
    "&emsp;&emsp;这样的一个学习率调整的策略，也被称为学习率调度（Learning rate scheduler）。"
   ]
  },
  {
   "cell_type": "markdown",
   "metadata": {},
   "source": [
    "> 注：此处学习率的调整和一般的超参数调整不太一样。一般来说，模型的超参数调整是需要找出一个有助于模型提升效果的确定性的数值，比如模型层数、激活函数、归一化方法选取等，而一旦超参数数值确定，无论是训练过程还是测试过程都将以该参数的取值为准。但学习率参数本质上并不是一个影响模型结构的参数，而是辅助训练过程的参数，更准确的来说，是辅助模型各线性层（目前为止）参数取得最优解的参数。因此，学习率确实是否是确定的值其实并不重要，学习率取值可以随着迭代过程不断变化，只要这样的一个动态变化的过程最终能够让模型“又好又快”的收敛、即让各线性层参数以较快速度收敛至最小值。"
   ]
  },
  {
   "cell_type": "markdown",
   "metadata": {},
   "source": [
    "### 2.手动实现学习率调度"
   ]
  },
  {
   "cell_type": "markdown",
   "metadata": {},
   "source": [
    "#### 2.1 本地实现方法"
   ]
  },
  {
   "cell_type": "markdown",
   "metadata": {},
   "source": [
    "&emsp;&emsp;而要在PyTorch中实现学习率的动态调整，首先我们能够想到的是在fit过程手动调整学习率，例如，第一次fit设置2轮epochs、lr设置为0.03，第二次fit设置2轮epochs、lr设置0.01等等依此类推。我们可以借助Python中的input函数来手动实现学习率伴随迭代epoch次数的动态调整，具体操作方法如下："
   ]
  },
  {
   "cell_type": "markdown",
   "metadata": {},
   "source": [
    "- 实例化模型"
   ]
  },
  {
   "cell_type": "code",
   "execution_count": 106,
   "metadata": {},
   "outputs": [
    {
     "data": {
      "text/plain": [
       "<torch._C.Generator at 0x15368ae16b0>"
      ]
     },
     "execution_count": 106,
     "metadata": {},
     "output_type": "execute_result"
    }
   ],
   "source": [
    "# 设置随机数种子\n",
    "torch.manual_seed(24)  \n",
    "\n",
    "# 实例化模型  \n",
    "tanh_model = net_class2(act_fun=torch.tanh, in_features=5, BN_model='pre')"
   ]
  },
  {
   "cell_type": "markdown",
   "metadata": {},
   "source": [
    "- 更新fit函数"
   ]
  },
  {
   "cell_type": "markdown",
   "metadata": {},
   "source": [
    "&emsp;&emsp;接下来我们对fit函数进行更新，在原有fit函数基础上加上每一轮迭代后模型评估结果的记录功能。"
   ]
  },
  {
   "cell_type": "code",
   "execution_count": 502,
   "metadata": {},
   "outputs": [],
   "source": [
    "def fit_rec(net, \n",
    "            criterion, \n",
    "            optimizer, \n",
    "            train_data,\n",
    "            test_data,\n",
    "            epochs = 3, \n",
    "            cla = False, \n",
    "            eva = mse_cal):\n",
    "    \"\"\"模型训练函数（记录每一次遍历后模型评估指标）\n",
    "    \n",
    "    :param net：待训练的模型 \n",
    "    :param criterion: 损失函数\n",
    "    :param optimizer：优化算法\n",
    "    :param train_data：训练数据\n",
    "    :param test_data: 测试数据 \n",
    "    :param epochs: 遍历数据次数\n",
    "    :param cla: 是否是分类问题\n",
    "    :param eva: 模型评估方法\n",
    "    :return：模型评估结果\n",
    "    \"\"\"\n",
    "    train_l = []\n",
    "    test_l = []\n",
    "    for epoch  in range(epochs):\n",
    "        net.train()\n",
    "        for X, y in train_data:\n",
    "            if cla == True:\n",
    "                y = y.flatten().long()          # 如果是分类问题，需要对y进行整数转化\n",
    "            yhat = net.forward(X)\n",
    "            loss = criterion(yhat, y)\n",
    "            optimizer.zero_grad()\n",
    "            loss.backward()\n",
    "            optimizer.step()\n",
    "        net.eval()\n",
    "        train_l.append(eva(train_data, net).detach())\n",
    "        test_l.append(eva(test_data, net).detach())\n",
    "    return train_l, test_l"
   ]
  },
  {
   "cell_type": "markdown",
   "metadata": {},
   "source": [
    "- 测试函数性能"
   ]
  },
  {
   "cell_type": "code",
   "execution_count": 105,
   "metadata": {},
   "outputs": [
    {
     "data": {
      "text/plain": [
       "([tensor(38.0332), tensor(32.9891), tensor(30.3684)],\n",
       " [tensor(37.7882), tensor(33.5270), tensor(31.5411)])"
      ]
     },
     "execution_count": 105,
     "metadata": {},
     "output_type": "execute_result"
    }
   ],
   "source": [
    "fit_rec(net = tanh_model, \n",
    "        criterion = nn.MSELoss(), \n",
    "        optimizer = optim.SGD(tanh_model.parameters(), lr = 0.03), \n",
    "        train_data = train_loader,\n",
    "        test_data = test_loader,\n",
    "        epochs = 3, \n",
    "        cla = False, \n",
    "        eva = mse_cal)"
   ]
  },
  {
   "cell_type": "markdown",
   "metadata": {},
   "source": [
    "能够顺利导出模型MSE计算结果，说明函数创建成功。另外，该函数也需要写入torchLearning.py中。"
   ]
  },
  {
   "cell_type": "markdown",
   "metadata": {},
   "source": [
    "- 手动动态调整过程"
   ]
  },
  {
   "cell_type": "markdown",
   "metadata": {},
   "source": [
    "&emsp;&emsp;接下来，我们尝试借助Python中的input函数功能，来执行手动动态调整模型训练过程中的学习率。"
   ]
  },
  {
   "cell_type": "markdown",
   "metadata": {},
   "source": [
    "&emsp;&emsp;所谓手动调整学习率，指的是可以在自定义的训练间隔中灵活调整模型学习率，而要将手动输入的数值作为模型当前阶段训练的参数，就需要使用input函数。Python中的input函数通过提供用户可交互的输入窗口来捕捉用户的即时输入，并将其转化为字符串形式传入当前操作空间中。"
   ]
  },
  {
   "cell_type": "code",
   "execution_count": 3,
   "metadata": {},
   "outputs": [
    {
     "name": "stdin",
     "output_type": "stream",
     "text": [
      " 1\n"
     ]
    }
   ],
   "source": [
    "# 输入1，则a为字符串1\n",
    "a = input()"
   ]
  },
  {
   "cell_type": "code",
   "execution_count": 4,
   "metadata": {},
   "outputs": [
    {
     "data": {
      "text/plain": [
       "'1'"
      ]
     },
     "execution_count": 4,
     "metadata": {},
     "output_type": "execute_result"
    }
   ],
   "source": [
    "a"
   ]
  },
  {
   "cell_type": "code",
   "execution_count": 5,
   "metadata": {},
   "outputs": [
    {
     "name": "stdin",
     "output_type": "stream",
     "text": [
      " 1\n"
     ]
    }
   ],
   "source": [
    "# 在外侧嵌套转化为浮点数的函数，则可将输入结果转化为浮点型对象\n",
    "a = float(input())"
   ]
  },
  {
   "cell_type": "code",
   "execution_count": 6,
   "metadata": {},
   "outputs": [
    {
     "data": {
      "text/plain": [
       "1.0"
      ]
     },
     "execution_count": 6,
     "metadata": {},
     "output_type": "execute_result"
    }
   ],
   "source": [
    "a"
   ]
  },
  {
   "cell_type": "markdown",
   "metadata": {},
   "source": [
    "据此，我们可以设计一个简单的计算流程，根据手动输入结果灵活控制每一次迭代的epochs以及对应的学习率数值。并且将每一轮循环结果记录在一个列表中。"
   ]
  },
  {
   "cell_type": "code",
   "execution_count": 8,
   "metadata": {},
   "outputs": [
    {
     "data": {
      "text/plain": [
       "<torch._C.Generator at 0x20fd1c116d0>"
      ]
     },
     "execution_count": 8,
     "metadata": {},
     "output_type": "execute_result"
    }
   ],
   "source": [
    "# 设置随机数种子\n",
    "torch.manual_seed(24)  \n",
    "\n",
    "# 实例化模型  \n",
    "tanh_model = net_class2(act_fun=torch.tanh, in_features=5, BN_model='pre')"
   ]
  },
  {
   "cell_type": "code",
   "execution_count": 9,
   "metadata": {},
   "outputs": [
    {
     "name": "stdin",
     "output_type": "stream",
     "text": [
      "Do you want to continue the iteration? [y/n] y\n"
     ]
    },
    {
     "data": {
      "text/plain": [
       "'y'"
      ]
     },
     "execution_count": 9,
     "metadata": {},
     "output_type": "execute_result"
    }
   ],
   "source": [
    "input(\"Do you want to continue the iteration? [y/n]\") "
   ]
  },
  {
   "cell_type": "code",
   "execution_count": 10,
   "metadata": {},
   "outputs": [],
   "source": [
    "l1 = [1, 2, 3]\n",
    "l2 = [2, 3, 4]"
   ]
  },
  {
   "cell_type": "code",
   "execution_count": 11,
   "metadata": {},
   "outputs": [],
   "source": [
    "l1.extend(l2)"
   ]
  },
  {
   "cell_type": "code",
   "execution_count": 12,
   "metadata": {},
   "outputs": [
    {
     "data": {
      "text/plain": [
       "[1, 2, 3, 2, 3, 4]"
      ]
     },
     "execution_count": 12,
     "metadata": {},
     "output_type": "execute_result"
    }
   ],
   "source": [
    "l1"
   ]
  },
  {
   "cell_type": "code",
   "execution_count": 13,
   "metadata": {},
   "outputs": [],
   "source": [
    "l1.append(l2)"
   ]
  },
  {
   "cell_type": "code",
   "execution_count": 14,
   "metadata": {},
   "outputs": [
    {
     "data": {
      "text/plain": [
       "[1, 2, 3, 2, 3, 4, [2, 3, 4]]"
      ]
     },
     "execution_count": 14,
     "metadata": {},
     "output_type": "execute_result"
    }
   ],
   "source": [
    "l1"
   ]
  },
  {
   "cell_type": "code",
   "execution_count": 15,
   "metadata": {},
   "outputs": [
    {
     "name": "stdin",
     "output_type": "stream",
     "text": [
      "Do you want to continue the iteration? [y/n] y\n",
      "Number of epochs: 30\n",
      "Update learning rate： 0.03\n",
      "Do you want to continue the iteration? [y/n] y\n",
      "Number of epochs: 30\n",
      "Update learning rate： 0.01\n",
      "Do you want to continue the iteration? [y/n] n\n"
     ]
    }
   ],
   "source": [
    "# 创建用于保存记录结果的空列表容器\n",
    "train_mse = []\n",
    "test_mse = []\n",
    "\n",
    "# 创建可以捕捉手动输入数据的模型训练流程\n",
    "while input(\"Do you want to continue the iteration? [y/n]\") == \"y\":    # 询问是否继续迭代\n",
    "    epochs = int(input(\"Number of epochs:\"))                           # 下一轮迭代遍历几次数据\n",
    "    lr = float(input(\"Update learning rate：\"))                        # 设置下一轮迭代的学习率\n",
    "    train_l, test_l = fit_rec(net = tanh_model, \n",
    "                              criterion = nn.MSELoss(), \n",
    "                              optimizer = optim.SGD(tanh_model.parameters(), lr = lr), \n",
    "                              train_data = train_loader,\n",
    "                              test_data = test_loader,\n",
    "                              epochs = epochs, \n",
    "                              cla = False, \n",
    "                              eva = mse_cal)\n",
    "    train_mse.extend(train_l)\n",
    "    test_mse.extend(test_l)"
   ]
  },
  {
   "cell_type": "markdown",
   "metadata": {},
   "source": [
    "查看模型运行结果"
   ]
  },
  {
   "cell_type": "code",
   "execution_count": 16,
   "metadata": {},
   "outputs": [
    {
     "data": {
      "text/plain": [
       "[<matplotlib.lines.Line2D at 0x20fd8514988>]"
      ]
     },
     "execution_count": 16,
     "metadata": {},
     "output_type": "execute_result"
    },
    {
     "data": {
      "text/plain": [
       "<matplotlib.legend.Legend at 0x20fd8185188>"
      ]
     },
     "execution_count": 16,
     "metadata": {},
     "output_type": "execute_result"
    },
    {
     "data": {
      "image/png": "[encoded data removed]",
      "text/plain": [
       "<Figure size 432x288 with 1 Axes>"
      ]
     },
     "metadata": {
      "needs_background": "light"
     },
     "output_type": "display_data"
    }
   ],
   "source": [
    "plt.plot(train_mse, label='train_mse')\n",
    "plt.legend(loc = 1)"
   ]
  },
  {
   "cell_type": "markdown",
   "metadata": {},
   "source": [
    "同时，我们可以让模型以0.03作为学习率迭代60个epochs，对比模型训练效果"
   ]
  },
  {
   "cell_type": "code",
   "execution_count": 17,
   "metadata": {},
   "outputs": [
    {
     "data": {
      "text/plain": [
       "<torch._C.Generator at 0x20fd1c116d0>"
      ]
     },
     "execution_count": 17,
     "metadata": {},
     "output_type": "execute_result"
    }
   ],
   "source": [
    "# 设置随机数种子\n",
    "torch.manual_seed(24)  \n",
    "\n",
    "# 实例化模型  \n",
    "tanh_model = net_class2(act_fun=torch.tanh, in_features=5, BN_model='pre')"
   ]
  },
  {
   "cell_type": "code",
   "execution_count": 18,
   "metadata": {},
   "outputs": [
    {
     "name": "stdin",
     "output_type": "stream",
     "text": [
      "Do you want to continue the iteration? [y/n] y\n",
      "Number of epochs: 60\n",
      "Update learning rate： 0.03\n",
      "Do you want to continue the iteration? [y/n] n\n"
     ]
    }
   ],
   "source": [
    "# 创建用于保存记录结果的空列表容器\n",
    "train_msel = []\n",
    "test_msel = []\n",
    "\n",
    "# 创建可以捕捉手动输入数据的模型训练流程\n",
    "while input(\"Do you want to continue the iteration? [y/n]\") == \"y\":    # 询问是否继续迭代\n",
    "    epochs = int(input(\"Number of epochs:\"))                           # 下一轮迭代遍历几次数据\n",
    "    lr = float(input(\"Update learning rate：\"))                        # 设置下一轮迭代的学习率\n",
    "    train_l, test_l = fit_rec(net = tanh_model, \n",
    "                              criterion = nn.MSELoss(), \n",
    "                              optimizer = optim.SGD(tanh_model.parameters(), lr = lr), \n",
    "                              train_data = train_loader,\n",
    "                              test_data = test_loader,\n",
    "                              epochs = epochs, \n",
    "                              cla = False, \n",
    "                              eva = mse_cal)\n",
    "    train_msel.extend(train_l)\n",
    "    test_msel.extend(test_l)"
   ]
  },
  {
   "cell_type": "code",
   "execution_count": 19,
   "metadata": {},
   "outputs": [
    {
     "data": {
      "text/plain": [
       "[<matplotlib.lines.Line2D at 0x20fd85e0348>]"
      ]
     },
     "execution_count": 19,
     "metadata": {},
     "output_type": "execute_result"
    },
    {
     "data": {
      "text/plain": [
       "[<matplotlib.lines.Line2D at 0x20fd85c2108>]"
      ]
     },
     "execution_count": 19,
     "metadata": {},
     "output_type": "execute_result"
    },
    {
     "data": {
      "text/plain": [
       "Text(0.5, 0, 'epochs')"
      ]
     },
     "execution_count": 19,
     "metadata": {},
     "output_type": "execute_result"
    },
    {
     "data": {
      "text/plain": [
       "Text(0, 0.5, 'MSE')"
      ]
     },
     "execution_count": 19,
     "metadata": {},
     "output_type": "execute_result"
    },
    {
     "data": {
      "text/plain": [
       "<matplotlib.legend.Legend at 0x20fd85f8e48>"
      ]
     },
     "execution_count": 19,
     "metadata": {},
     "output_type": "execute_result"
    },
    {
     "data": {
      "image/png": "[encoded data removed]",
      "text/plain": [
       "<Figure size 432x288 with 1 Axes>"
      ]
     },
     "metadata": {
      "needs_background": "light"
     },
     "output_type": "display_data"
    }
   ],
   "source": [
    "plt.plot(train_mse, label='train_mse')\n",
    "plt.plot(train_msel, label='train_msel')\n",
    "plt.xlabel('epochs')\n",
    "plt.ylabel('MSE')\n",
    "plt.legend(loc = 1)"
   ]
  },
  {
   "cell_type": "markdown",
   "metadata": {},
   "source": [
    "能够看出，手动调整模型学习率的第一个模型在最终模型表现上比第二个模型更好，在同样遍历了60次的情况下，模型一能够收敛至一个更小的MSE。"
   ]
  },
  {
   "cell_type": "markdown",
   "metadata": {},
   "source": [
    "&emsp;&emsp;此外，我们再令模型一直以学习率为0.01进行训练，测试模型最终效果。"
   ]
  },
  {
   "cell_type": "code",
   "execution_count": 2,
   "metadata": {},
   "outputs": [
    {
     "data": {
      "text/plain": [
       "<torch._C.Generator at 0x1689ae716d0>"
      ]
     },
     "execution_count": 2,
     "metadata": {},
     "output_type": "execute_result"
    }
   ],
   "source": [
    "# 设置随机数种子\n",
    "torch.manual_seed(24)  \n",
    "\n",
    "# 实例化模型  \n",
    "tanh_model = net_class2(act_fun=torch.tanh, in_features=5, BN_model='pre')"
   ]
  },
  {
   "cell_type": "code",
   "execution_count": 3,
   "metadata": {},
   "outputs": [
    {
     "name": "stdin",
     "output_type": "stream",
     "text": [
      "Do you want to continue the iteration? [y/n] y\n",
      "Number of epochs: 30\n",
      "Update learning rate： 0.03\n",
      "Do you want to continue the iteration? [y/n] n\n"
     ]
    }
   ],
   "source": [
    "# 创建用于保存记录结果的空列表容器\n",
    "train_mses = []\n",
    "test_mses = []\n",
    "\n",
    "# 创建可以捕捉手动输入数据的模型训练流程\n",
    "while input(\"Do you want to continue the iteration? [y/n]\") == \"y\":    # 询问是否继续迭代\n",
    "    epochs = int(input(\"Number of epochs:\"))                           # 下一轮迭代遍历几次数据\n",
    "    lr = float(input(\"Update learning rate：\"))                        # 设置下一轮迭代的学习率\n",
    "    train_l, test_l = fit_rec(net = tanh_model, \n",
    "                              criterion = nn.MSELoss(), \n",
    "                              optimizer = optim.SGD(tanh_model.parameters(), lr = lr), \n",
    "                              train_data = train_loader,\n",
    "                              test_data = test_loader,\n",
    "                              epochs = epochs, \n",
    "                              cla = False, \n",
    "                              eva = mse_cal)\n",
    "    train_mses.extend(train_l)\n",
    "    test_mses.extend(test_l)"
   ]
  },
  {
   "cell_type": "code",
   "execution_count": 22,
   "metadata": {},
   "outputs": [
    {
     "data": {
      "text/plain": [
       "[<matplotlib.lines.Line2D at 0x20fd86376c8>]"
      ]
     },
     "execution_count": 22,
     "metadata": {},
     "output_type": "execute_result"
    },
    {
     "data": {
      "text/plain": [
       "[<matplotlib.lines.Line2D at 0x20fd8694388>]"
      ]
     },
     "execution_count": 22,
     "metadata": {},
     "output_type": "execute_result"
    },
    {
     "data": {
      "text/plain": [
       "Text(0.5, 0, 'epochs')"
      ]
     },
     "execution_count": 22,
     "metadata": {},
     "output_type": "execute_result"
    },
    {
     "data": {
      "text/plain": [
       "Text(0, 0.5, 'MSE')"
      ]
     },
     "execution_count": 22,
     "metadata": {},
     "output_type": "execute_result"
    },
    {
     "data": {
      "text/plain": [
       "<matplotlib.legend.Legend at 0x20fd86a1f48>"
      ]
     },
     "execution_count": 22,
     "metadata": {},
     "output_type": "execute_result"
    },
    {
     "data": {
      "image/png": "[encoded data removed]",
      "text/plain": [
       "<Figure size 432x288 with 1 Axes>"
      ]
     },
     "metadata": {
      "needs_background": "light"
     },
     "output_type": "display_data"
    }
   ],
   "source": [
    "plt.plot(train_mse, label='train_mse')\n",
    "plt.plot(train_mses, label='train_mses')\n",
    "plt.xlabel('epochs')\n",
    "plt.ylabel('MSE')\n",
    "plt.legend(loc = 1)"
   ]
  },
  {
   "cell_type": "markdown",
   "metadata": {},
   "source": [
    "我们能够发现，第一个模型收敛速度明显快于第二个模型，据此也能说明手动调整模型学习率的有效性。"
   ]
  },
  {
   "cell_type": "markdown",
   "metadata": {},
   "source": [
    "#### 2.2 配合tensorboard实现方法"
   ]
  },
  {
   "cell_type": "markdown",
   "metadata": {},
   "source": [
    "&emsp;&emsp;当然，上述过程中，由于我们只能当模型全部训练完毕之后才能进行绘图，因此上述其实存在一个实践层面的问题——如果我们无法得知当前阶段模型运行情况，我们又如何能够选择适当策略对模型进行调整。要解决该问题，就必须借助此前介绍的tensorboard工具进行即时的数据记录与呈现。"
   ]
  },
  {
   "cell_type": "markdown",
   "metadata": {},
   "source": [
    "&emsp;&emsp;在Python中，尤其是在jupyter中，代码只能逐个cell运行，如果input对应的cell没有执行完毕，则无法进行后续绘图操作。但tensorboard中writer对象却能够即时记录模型中间结果，并且同步呈现在tensorboard的操作面板上。借此功能，我们便能将在某个cell尚未运行结束之前看到当前阶段的运行结果。要完成该过程，则需要在此前代码基础之上进行修改。"
   ]
  },
  {
   "cell_type": "markdown",
   "metadata": {},
   "source": [
    "需要说明的是，这里将用到for循环的多变量同步循环函数zip，也就是多个临时变量同时遍历多个有序对象。"
   ]
  },
  {
   "cell_type": "code",
   "execution_count": 4,
   "metadata": {},
   "outputs": [
    {
     "data": {
      "text/plain": [
       "[0, 1, 2, 3, 4, 5, 6, 7, 8, 9]"
      ]
     },
     "execution_count": 4,
     "metadata": {},
     "output_type": "execute_result"
    }
   ],
   "source": [
    "l1 = list(range(10))\n",
    "l1"
   ]
  },
  {
   "cell_type": "code",
   "execution_count": 5,
   "metadata": {},
   "outputs": [
    {
     "data": {
      "text/plain": [
       "[3, 4]"
      ]
     },
     "execution_count": 5,
     "metadata": {},
     "output_type": "execute_result"
    }
   ],
   "source": [
    "l1[3:5]"
   ]
  },
  {
   "cell_type": "code",
   "execution_count": 6,
   "metadata": {},
   "outputs": [
    {
     "data": {
      "text/plain": [
       "[1, 2]"
      ]
     },
     "execution_count": 6,
     "metadata": {},
     "output_type": "execute_result"
    }
   ],
   "source": [
    "l2 = list(range(1, 3))\n",
    "l2"
   ]
  },
  {
   "cell_type": "code",
   "execution_count": 171,
   "metadata": {},
   "outputs": [
    {
     "name": "stdout",
     "output_type": "stream",
     "text": [
      "1 3\n",
      "2 4\n"
     ]
    }
   ],
   "source": [
    "for i, j in zip(l2, l1[3:5]):\n",
    "    print(i, j)"
   ]
  },
  {
   "cell_type": "markdown",
   "metadata": {},
   "source": [
    "具体修改后代码如下："
   ]
  },
  {
   "cell_type": "code",
   "execution_count": 7,
   "metadata": {},
   "outputs": [
    {
     "data": {
      "text/plain": [
       "<torch._C.Generator at 0x1689ae716d0>"
      ]
     },
     "execution_count": 7,
     "metadata": {},
     "output_type": "execute_result"
    }
   ],
   "source": [
    "# 设置随机数种子\n",
    "torch.manual_seed(24)  \n",
    "\n",
    "# 实例化模型  \n",
    "tanh_model = net_class2(act_fun= torch.tanh, in_features=5, BN_model='pre')"
   ]
  },
  {
   "cell_type": "code",
   "execution_count": 8,
   "metadata": {},
   "outputs": [],
   "source": [
    "# 实例化writer对象\n",
    "writer = SummaryWriter(log_dir='l3')\n",
    "\n",
    "# 创建空列表容器\n",
    "train_mse = []\n",
    "test_mse = []\n",
    "\n",
    "# 创建总遍历次数计数器\n",
    "num_epochs = 0"
   ]
  },
  {
   "cell_type": "markdown",
   "metadata": {},
   "source": [
    "提前打开tensorboard服务，在命令行中输入"
   ]
  },
  {
   "cell_type": "markdown",
   "metadata": {},
   "source": [
    "```shell\n",
    "F:\n",
    "cd \"F:\\Code File\\PyTorch实战\\\"\n",
    "tensorboard --logdir=\"l3\"\n",
    "```"
   ]
  },
  {
   "cell_type": "markdown",
   "metadata": {},
   "source": [
    "待服务启动完成后，即可执行下述代码："
   ]
  },
  {
   "cell_type": "code",
   "execution_count": 9,
   "metadata": {},
   "outputs": [
    {
     "name": "stdin",
     "output_type": "stream",
     "text": [
      "Do you want to continue the iteration? [y/n] y\n",
      "Number of epochs: 30\n",
      "Update learning rate： 0.03\n",
      "Do you want to continue the iteration? [y/n] y\n",
      "Number of epochs: 30\n",
      "Update learning rate： 0.01\n",
      "Do you want to continue the iteration? [y/n] n\n"
     ]
    }
   ],
   "source": [
    "while input(\"Do you want to continue the iteration? [y/n]\") == \"y\":\n",
    "    epochs = int(input(\"Number of epochs:\"))\n",
    "    lr = float(input(\"Update learning rate：\"))\n",
    "    train_l, test_l = fit_rec(net = tanh_model, \n",
    "                              criterion = nn.MSELoss(), \n",
    "                              optimizer = optim.SGD(tanh_model.parameters(), lr = lr), \n",
    "                              train_data = train_loader,\n",
    "                              test_data = test_loader,\n",
    "                              epochs = epochs, \n",
    "                              cla = False, \n",
    "                              eva = mse_cal)\n",
    "    train_mse.extend(train_l)\n",
    "    test_mse.extend(test_l)\n",
    "    for i, j in zip(list(range(num_epochs, num_epochs+epochs)), train_mse[num_epochs: num_epochs+epochs]):\n",
    "        writer.add_scalar('train_mse', j, i)\n",
    "    for i, j in zip(list(range(num_epochs, num_epochs+epochs)), test_mse[num_epochs: num_epochs+epochs]):\n",
    "        writer.add_scalar('test_mse', j, i)\n",
    "    num_epochs += epochs"
   ]
  },
  {
   "cell_type": "markdown",
   "metadata": {},
   "source": [
    "> 注，上述代码中train_mse[num_epochs: num_epochs+epochs]就是本次循环中的train_l，代码中可以用train_l代替。"
   ]
  },
  {
   "cell_type": "markdown",
   "metadata": {},
   "source": [
    "当我们执行完第一阶段的30次遍历之后，我们即可打开浏览器输入`localhost:6006`查看当前记录的模型MSE情况。"
   ]
  },
  {
   "cell_type": "markdown",
   "metadata": {},
   "source": [
    "<center><img src=\"https://i.loli.net/2021/03/29/mEMeOSqluXyQxfC.jpg\" alt=\"70\" style=\"zoom:30%;\" />"
   ]
  },
  {
   "cell_type": "markdown",
   "metadata": {},
   "source": [
    "然后再执行第二阶段的30次遍历数据的训练，执行完成后停止训练，在tensorboard面板中查看前两轮整体训练情况"
   ]
  },
  {
   "cell_type": "markdown",
   "metadata": {},
   "source": [
    "<center><img src=\"https://i.loli.net/2021/03/29/2Up1F4wSqiHsNB9.jpg\" alt=\"71\" style=\"zoom:30%;\" />"
   ]
  },
  {
   "cell_type": "markdown",
   "metadata": {},
   "source": [
    "值得注意的是，当我们在使用add_scalar进行数据记录时，绘制折线图的横纵坐标都是必须的，如果缺失了横坐标，tensorboard中图像绘制的最终结果将呈现一条竖线。"
   ]
  },
  {
   "cell_type": "code",
   "execution_count": 194,
   "metadata": {},
   "outputs": [],
   "source": [
    "for i in range(10):\n",
    "    writer.add_scalar('i',i)"
   ]
  },
  {
   "cell_type": "markdown",
   "metadata": {},
   "source": [
    "<center><img src=\"https://i.loli.net/2021/03/29/HU8a2f36JTFGQD5.jpg\" alt=\"73\" style=\"zoom:30%;\" />"
   ]
  },
  {
   "cell_type": "markdown",
   "metadata": {},
   "source": [
    "并且，为了保证每一轮结果“横坐标”的唯一性，我们需要按照上述方法设置迭代计数器。"
   ]
  },
  {
   "cell_type": "markdown",
   "metadata": {},
   "source": [
    "&emsp;&emsp;至此，我们通过借助tensorboard动态记录的特性，完成了模型训练过程中间结果的查看。当然，由于我们是在循环外设置的遍历次数计数器，因此哪怕上一次循环已经停止，接下来我们仍然可以继续在上一次停止时计数器的数值基础上再开启新的一轮循环。"
   ]
  },
  {
   "cell_type": "code",
   "execution_count": 10,
   "metadata": {},
   "outputs": [
    {
     "data": {
      "text/plain": [
       "60"
      ]
     },
     "execution_count": 10,
     "metadata": {},
     "output_type": "execute_result"
    }
   ],
   "source": [
    "num_epochs          # 上一轮循环截止时总共遍历多少次数据"
   ]
  },
  {
   "cell_type": "markdown",
   "metadata": {},
   "source": [
    "我们再遍历30次数据，并设置学习率为0.005进行模型训练，测试代码性能与模型效果"
   ]
  },
  {
   "cell_type": "code",
   "execution_count": 11,
   "metadata": {},
   "outputs": [
    {
     "name": "stdin",
     "output_type": "stream",
     "text": [
      "Do you want to continue the iteration? [y/n] y\n",
      "Number of epochs: 30\n",
      "Update learning rate： 0.005\n",
      "Do you want to continue the iteration? [y/n] n\n"
     ]
    }
   ],
   "source": [
    "while input(\"Do you want to continue the iteration? [y/n]\") == \"y\":\n",
    "    epochs = int(input(\"Number of epochs:\"))\n",
    "    lr = float(input(\"Update learning rate：\"))\n",
    "    train_l, test_l = fit_rec(net = tanh_model, \n",
    "                              criterion = nn.MSELoss(), \n",
    "                              optimizer = optim.SGD(tanh_model.parameters(), lr = lr), \n",
    "                              train_data = train_loader,\n",
    "                              test_data = test_loader,\n",
    "                              epochs = epochs, \n",
    "                              cla = False, \n",
    "                              eva = mse_cal)\n",
    "    train_mse.extend(train_l)\n",
    "    test_mse.extend(test_l)\n",
    "    for i, j in zip(list(range(num_epochs, num_epochs+epochs)), train_mse[num_epochs: num_epochs+epochs]):\n",
    "        writer.add_scalar('train_mse', j, i)\n",
    "    for i, j in zip(list(range(num_epochs, num_epochs+epochs)), test_mse[num_epochs: num_epochs+epochs]):\n",
    "        writer.add_scalar('test_mse', j, i)\n",
    "    num_epochs += epochs"
   ]
  },
  {
   "cell_type": "markdown",
   "metadata": {},
   "source": [
    "在tensorboard页面中查看总共90轮epochs的训练结果"
   ]
  },
  {
   "cell_type": "markdown",
   "metadata": {},
   "source": [
    "<center><img src=\"https://i.loli.net/2021/03/29/Pq1YdeLcfNhkojn.jpg\" alt=\"72\" style=\"zoom:30%;\" />"
   ]
  },
  {
   "cell_type": "markdown",
   "metadata": {},
   "source": [
    "据此也可验证上述代码的“中断重连”的性能。"
   ]
  },
  {
   "cell_type": "markdown",
   "metadata": {},
   "source": [
    "&emsp;&emsp;至此，我们就完成了学习率手动调度实验。在上述操作流程中，我们不仅可以即时调整每一次训练遍历数据集的次数、同时灵活设置该训练过程的学习率，并且能够借助tensorboard即时呈现模型训练结果。值得注意的是，尽管在大多数建模场景下，我们都会选择直接借助PyTorch中的一些更加高级的方法自动调整学习率，但上述操作过程所涉及到的手动分批训练、模型训练中间结果呈现等方法，除了能够让我们完成学习率调度实验外，其实都是应对大规模数据集训练时为灵活调整模型中间过程而必须掌握的基本技术手段。"
   ]
  },
  {
   "cell_type": "markdown",
   "metadata": {},
   "source": [
    "> 对于算法工程来说，无论有多么先进的自动化处理方法，我们都需要保留一套手动验证的方法。"
   ]
  },
  {
   "cell_type": "markdown",
   "metadata": {},
   "source": [
    "### 3.常用学习率调度思路"
   ]
  },
  {
   "cell_type": "markdown",
   "metadata": {},
   "source": [
    "&emsp;&emsp;根据上述实验，我们基本能够总结得出，伴随模型遍历数据集次数增加、学习率逐渐降低，能够使得模型整体性能有所提升。但是，上述手动实验过程中学习率调整的方法还是相对来说比较粗糙，我们只是每隔30个epochs将学习率调小一次，很多结果也是通过尝试最后得出。在实际生产工作中，我们需要使用理论更加严谨的学习率调度方法。      \n",
    "&emsp;&emsp;在长期的实践经验总结基础上，目前来看，从实现思路上划分，比较通用的学习率调度的策略分为以下五类："
   ]
  },
  {
   "cell_type": "markdown",
   "metadata": {},
   "source": [
    "- 幂调度：        \n",
    "&emsp;&emsp;随着迭代次数增加，学习率呈现幂律变化，例如，$lr$为初始（第一轮）学习率，第二轮迭代时学习率调整为$lr/2$，第三轮迭代时学习率调整为$lr/3$等；（实践过程具体数值有所差异）  "
   ]
  },
  {
   "cell_type": "markdown",
   "metadata": {},
   "source": [
    "- 指数调度：      \n",
    "&emsp;&emsp;随着迭代次数增加，学习率呈现指数变化，例如，$lr$为初始（第一轮）学习率，第二轮迭代时学习率调整为$lr/10^1$，第三轮迭代时学习率调整为$lr/10^2 = lr/100$等；（实践过程具体数值有所差异） "
   ]
  },
  {
   "cell_type": "markdown",
   "metadata": {},
   "source": [
    "- 分段恒定调度：      \n",
    "&emsp;&emsp;即每隔几轮迭代调整一次学习率，例如1-10轮学习率为$lr$，10-20轮时学习率为$lr/100$等，不难发现此前我们所做的实验就是一种特殊的分段恒定调度策略； "
   ]
  },
  {
   "cell_type": "markdown",
   "metadata": {},
   "source": [
    "- 性能调度：      \n",
    "&emsp;&emsp;即每隔一段时间观察误差变化情况，如果误差基本不变，则降低学习率继续迭代；"
   ]
  },
  {
   "cell_type": "markdown",
   "metadata": {},
   "source": [
    "  \n",
    "- 周期调度：      \n",
    "&emsp;&emsp;和前面几种学习率调度策略一味将学习率递减有所不同，周期调度允许学习率在一个周期内进行先递增后递减的变化；"
   ]
  },
  {
   "cell_type": "markdown",
   "metadata": {},
   "source": [
    "下一节，我们尝试在PyTorch中调用相关方法来实现学习率调度。"
   ]
  }
 ],
 "metadata": {
  "kernelspec": {
   "display_name": "Python 3",
   "language": "python",
   "name": "python3"
  },
  "language_info": {
   "codemirror_mode": {
    "name": "ipython",
    "version": 3
   },
   "file_extension": ".py",
   "mimetype": "text/x-python",
   "name": "python",
   "nbconvert_exporter": "python",
   "pygments_lexer": "ipython3",
   "version": "3.7.9"
  }
 },
 "nbformat": 4,
 "nbformat_minor": 4
}
