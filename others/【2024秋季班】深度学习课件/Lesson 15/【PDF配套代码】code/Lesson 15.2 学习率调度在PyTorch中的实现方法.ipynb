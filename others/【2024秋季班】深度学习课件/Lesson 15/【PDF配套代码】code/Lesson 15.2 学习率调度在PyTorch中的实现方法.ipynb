{
 "cells": [
  {
   "cell_type": "markdown",
   "metadata": {},
   "source": [
    "# Lesson 15.2 学习率调度在PyTorch中的实现方法"
   ]
  },
  {
   "cell_type": "markdown",
   "metadata": {},
   "source": [
    "&emsp;&emsp;学习率调度作为模型优化的重要方法，也集成在了PyTorch的`optim`模块中。我们可以通过下述代码将学习率调度模块进行导入。"
   ]
  },
  {
   "cell_type": "code",
   "execution_count": 1,
   "metadata": {},
   "outputs": [],
   "source": [
    "from torch.optim import lr_scheduler"
   ]
  },
  {
   "cell_type": "markdown",
   "metadata": {},
   "source": [
    "&emsp;&emsp;接下来，我们从较为基础的学习率调度方法入手，熟悉PyTorch中实现学习率调度的基本思路与流程。"
   ]
  },
  {
   "cell_type": "markdown",
   "metadata": {},
   "source": [
    "## 一、优化器与状态字典（state_dict）"
   ]
  },
  {
   "cell_type": "markdown",
   "metadata": {},
   "source": [
    "&emsp;&emsp;在此前的模型训练过程中，我们已经基本了解了PyTorch中的模型优化器的基本使用方法。模型优化器是求解损失函数的函数，其中包含了模型训练的诸多关键信息，包括模型参数、模型学习率等，同时在进行模型训练时，我们也是通过优化器调整模型参数、归零模型梯度。而在学习率调度过程中，由于我们需要动态调整学习率，而学习率又是通过传入优化器进而影响模型训练的，因此在利用PyTorch进行学习率调度的时候，核心需要考虑的问题是如何让优化器内的学习率随着迭代次数增加而不断变化。      \n",
    "&emsp;&emsp;为做到这一点，首先我们需要补充关于优化器状态字典内容。"
   ]
  },
  {
   "cell_type": "code",
   "execution_count": 2,
   "metadata": {},
   "outputs": [
    {
     "data": {
      "text/plain": [
       "<torch._C.Generator at 0x287060a2690>"
      ]
     },
     "execution_count": 2,
     "metadata": {},
     "output_type": "execute_result"
    }
   ],
   "source": [
    "# 设置随机数种子\n",
    "torch.manual_seed(420)  \n",
    "\n",
    "# 创建最高项为2的多项式回归数据集\n",
    "features, labels = tensorGenReg(w=[2, -1, 3, 1, 2], bias=False, deg=2)\n",
    "\n",
    "# 进行数据集切分与加载\n",
    "train_loader, test_loader = split_loader(features, labels, batch_size=50)"
   ]
  },
  {
   "cell_type": "code",
   "execution_count": 3,
   "metadata": {},
   "outputs": [
    {
     "data": {
      "text/plain": [
       "<torch._C.Generator at 0x287060a2690>"
      ]
     },
     "execution_count": 3,
     "metadata": {},
     "output_type": "execute_result"
    }
   ],
   "source": [
    "# 设置随机数种子\n",
    "torch.manual_seed(24)  \n",
    "\n",
    "# 实例化模型  \n",
    "tanh_model1 = net_class2(act_fun= torch.tanh, in_features=5, BN_model='pre')"
   ]
  },
  {
   "cell_type": "code",
   "execution_count": 4,
   "metadata": {},
   "outputs": [],
   "source": [
    "# 创建优化器\n",
    "optimizer = torch.optim.SGD(tanh_model1.parameters(), lr=0.01)"
   ]
  },
  {
   "cell_type": "markdown",
   "metadata": {},
   "source": [
    "在优化器创建完成之后，我们可以使用`.state_dict()`方法查看优化器状态。"
   ]
  },
  {
   "cell_type": "code",
   "execution_count": 5,
   "metadata": {},
   "outputs": [
    {
     "data": {
      "text/plain": [
       "{'state': {},\n",
       " 'param_groups': [{'lr': 0.01,\n",
       "   'momentum': 0,\n",
       "   'dampening': 0,\n",
       "   'weight_decay': 0,\n",
       "   'nesterov': False,\n",
       "   'params': [0, 1, 2, 3, 4, 5, 6, 7, 8, 9]}]}"
      ]
     },
     "execution_count": 5,
     "metadata": {},
     "output_type": "execute_result"
    }
   ],
   "source": [
    "optimizer.state_dict()"
   ]
  },
  {
   "cell_type": "markdown",
   "metadata": {},
   "source": [
    "该方法会返回一个包含优化器核心信息的字典，目前为止该字典包含两个元素，第一个是优化器状态（state），第二个是优化器相关参数簇（param_groups），其中，目前为止核心需要关注的是参数簇中的lr对象，该对象代表着下一次模型训练的时候所带入的学习率。当然，我们可以通过如下方法提取lr对应的value"
   ]
  },
  {
   "cell_type": "code",
   "execution_count": 6,
   "metadata": {},
   "outputs": [
    {
     "data": {
      "text/plain": [
       "[{'lr': 0.01,\n",
       "  'momentum': 0,\n",
       "  'dampening': 0,\n",
       "  'weight_decay': 0,\n",
       "  'nesterov': False,\n",
       "  'params': [0, 1, 2, 3, 4, 5, 6, 7, 8, 9]}]"
      ]
     },
     "execution_count": 6,
     "metadata": {},
     "output_type": "execute_result"
    }
   ],
   "source": [
    "optimizer.state_dict()['param_groups']"
   ]
  },
  {
   "cell_type": "code",
   "execution_count": 7,
   "metadata": {},
   "outputs": [
    {
     "data": {
      "text/plain": [
       "{'lr': 0.01,\n",
       " 'momentum': 0,\n",
       " 'dampening': 0,\n",
       " 'weight_decay': 0,\n",
       " 'nesterov': False,\n",
       " 'params': [0, 1, 2, 3, 4, 5, 6, 7, 8, 9]}"
      ]
     },
     "execution_count": 7,
     "metadata": {},
     "output_type": "execute_result"
    }
   ],
   "source": [
    "optimizer.state_dict()['param_groups'][0]"
   ]
  },
  {
   "cell_type": "code",
   "execution_count": 8,
   "metadata": {},
   "outputs": [
    {
     "data": {
      "text/plain": [
       "0.01"
      ]
     },
     "execution_count": 8,
     "metadata": {},
     "output_type": "execute_result"
    }
   ],
   "source": [
    "optimizer.state_dict()['param_groups'][0]['lr']"
   ]
  },
  {
   "cell_type": "markdown",
   "metadata": {},
   "source": [
    "> 参数簇中其他参数包括动量系数、特征权重、是否采用牛顿法及待训练参数索引。"
   ]
  },
  {
   "cell_type": "markdown",
   "metadata": {},
   "source": [
    "另外，params表示训练参数个数（其中一个矩阵算作一个参数），可以通过如下方式进行简单验证。"
   ]
  },
  {
   "cell_type": "code",
   "execution_count": 9,
   "metadata": {},
   "outputs": [
    {
     "data": {
      "text/plain": [
       "[Parameter containing:\n",
       " tensor([[ 0.2365, -0.1118, -0.3801,  0.0275,  0.4168],\n",
       "         [-0.1995, -0.1456,  0.3497, -0.0622, -0.1708],\n",
       "         [-0.0901,  0.0164, -0.3643, -0.1278,  0.4336],\n",
       "         [-0.0959,  0.4073, -0.1746, -0.1799, -0.1333]], requires_grad=True),\n",
       " Parameter containing:\n",
       " tensor([-0.3999, -0.2694,  0.2703, -0.3355], requires_grad=True),\n",
       " Parameter containing:\n",
       " tensor([1., 1., 1., 1.], requires_grad=True),\n",
       " Parameter containing:\n",
       " tensor([0., 0., 0., 0.], requires_grad=True),\n",
       " Parameter containing:\n",
       " tensor([[ 0.1708,  0.4704, -0.0635,  0.2187],\n",
       "         [ 0.2336, -0.3569, -0.1928, -0.1566],\n",
       "         [ 0.4825, -0.4463,  0.3027,  0.4696],\n",
       "         [ 0.3953,  0.2131,  0.2226, -0.0267]], requires_grad=True),\n",
       " Parameter containing:\n",
       " tensor([ 0.2516,  0.4558, -0.1608,  0.4831], requires_grad=True),\n",
       " Parameter containing:\n",
       " tensor([1., 1., 1., 1.], requires_grad=True),\n",
       " Parameter containing:\n",
       " tensor([0., 0., 0., 0.], requires_grad=True),\n",
       " Parameter containing:\n",
       " tensor([[ 0.0795, -0.3507, -0.3589,  0.1764]], requires_grad=True),\n",
       " Parameter containing:\n",
       " tensor([-0.0705], requires_grad=True)]"
      ]
     },
     "execution_count": 9,
     "metadata": {},
     "output_type": "execute_result"
    }
   ],
   "source": [
    "list(tanh_model1.parameters())"
   ]
  },
  {
   "cell_type": "code",
   "execution_count": 10,
   "metadata": {},
   "outputs": [
    {
     "data": {
      "text/plain": [
       "10"
      ]
     },
     "execution_count": 10,
     "metadata": {},
     "output_type": "execute_result"
    }
   ],
   "source": [
    "# 验证带训练参数个数\n",
    "len(list(tanh_model1.parameters()))"
   ]
  },
  {
   "cell_type": "code",
   "execution_count": 16,
   "metadata": {},
   "outputs": [],
   "source": [
    "tanh_model2 = net_class3(act_fun= torch.tanh, in_features=5, BN_model='pre')"
   ]
  },
  {
   "cell_type": "code",
   "execution_count": 17,
   "metadata": {},
   "outputs": [
    {
     "data": {
      "text/plain": [
       "{'state': {},\n",
       " 'param_groups': [{'lr': 0.05,\n",
       "   'momentum': 0,\n",
       "   'dampening': 0,\n",
       "   'weight_decay': 0,\n",
       "   'nesterov': False,\n",
       "   'params': [0, 1, 2, 3, 4, 5, 6, 7, 8, 9, 10, 11, 12, 13]}]}"
      ]
     },
     "execution_count": 17,
     "metadata": {},
     "output_type": "execute_result"
    }
   ],
   "source": [
    "optimizer1 = torch.optim.SGD(tanh_model2.parameters(), lr=0.05)\n",
    "optimizer1.state_dict()"
   ]
  },
  {
   "cell_type": "code",
   "execution_count": 18,
   "metadata": {},
   "outputs": [
    {
     "data": {
      "text/plain": [
       "14"
      ]
     },
     "execution_count": 18,
     "metadata": {},
     "output_type": "execute_result"
    }
   ],
   "source": [
    "len(list(tanh_model2.parameters()))"
   ]
  },
  {
   "cell_type": "markdown",
   "metadata": {},
   "source": [
    "---"
   ]
  },
  {
   "cell_type": "markdown",
   "metadata": {},
   "source": [
    "### <center> 模型本地保存与读取方法 "
   ]
  },
  {
   "cell_type": "markdown",
   "metadata": {},
   "source": [
    "&emsp;&emsp;同时，借助`state_dict()`方法，我们可以实现模型或优化器的本地保存于读取。此处以模型为例，优化器的本地保存相关操作类似。      \n",
    "&emsp;&emsp;对于模型而言，其实也有`state_dict()`方法。通过该方法的调用，可以查看模型全部参数信息。"
   ]
  },
  {
   "cell_type": "markdown",
   "metadata": {},
   "source": [
    "> 值得注意的是，模型的训练和保存，本质上都是针对模型的参数。而模型的`state_dict()`则包含了模型当前全部的参数信息。因此，保存了模型的`state_dict()`就相当于是保存了模型。"
   ]
  },
  {
   "cell_type": "code",
   "execution_count": 74,
   "metadata": {},
   "outputs": [
    {
     "data": {
      "text/plain": [
       "<torch._C.Generator at 0x1d47ba616d0>"
      ]
     },
     "execution_count": 74,
     "metadata": {},
     "output_type": "execute_result"
    }
   ],
   "source": [
    "# 设置随机数种子\n",
    "torch.manual_seed(24)  \n",
    "\n",
    "# 实例化模型  \n",
    "tanh_model1 = net_class2(act_fun= torch.tanh, in_features=5, BN_model='pre')"
   ]
  },
  {
   "cell_type": "code",
   "execution_count": 75,
   "metadata": {},
   "outputs": [
    {
     "data": {
      "text/plain": [
       "OrderedDict([('linear1.weight',\n",
       "              tensor([[ 0.2365, -0.1118, -0.3801,  0.0275,  0.4168],\n",
       "                      [-0.1995, -0.1456,  0.3497, -0.0622, -0.1708],\n",
       "                      [-0.0901,  0.0164, -0.3643, -0.1278,  0.4336],\n",
       "                      [-0.0959,  0.4073, -0.1746, -0.1799, -0.1333]])),\n",
       "             ('linear1.bias', tensor([-0.3999, -0.2694,  0.2703, -0.3355])),\n",
       "             ('normalize1.weight', tensor([1., 1., 1., 1.])),\n",
       "             ('normalize1.bias', tensor([0., 0., 0., 0.])),\n",
       "             ('normalize1.running_mean', tensor([0., 0., 0., 0.])),\n",
       "             ('normalize1.running_var', tensor([1., 1., 1., 1.])),\n",
       "             ('normalize1.num_batches_tracked', tensor(0)),\n",
       "             ('linear2.weight',\n",
       "              tensor([[ 0.1708,  0.4704, -0.0635,  0.2187],\n",
       "                      [ 0.2336, -0.3569, -0.1928, -0.1566],\n",
       "                      [ 0.4825, -0.4463,  0.3027,  0.4696],\n",
       "                      [ 0.3953,  0.2131,  0.2226, -0.0267]])),\n",
       "             ('linear2.bias', tensor([ 0.2516,  0.4558, -0.1608,  0.4831])),\n",
       "             ('normalize2.weight', tensor([1., 1., 1., 1.])),\n",
       "             ('normalize2.bias', tensor([0., 0., 0., 0.])),\n",
       "             ('normalize2.running_mean', tensor([0., 0., 0., 0.])),\n",
       "             ('normalize2.running_var', tensor([1., 1., 1., 1.])),\n",
       "             ('normalize2.num_batches_tracked', tensor(0)),\n",
       "             ('linear3.weight',\n",
       "              tensor([[ 0.0795, -0.3507, -0.3589,  0.1764]])),\n",
       "             ('linear3.bias', tensor([-0.0705]))])"
      ]
     },
     "execution_count": 75,
     "metadata": {},
     "output_type": "execute_result"
    }
   ],
   "source": [
    "tanh_model1.state_dict()"
   ]
  },
  {
   "cell_type": "markdown",
   "metadata": {},
   "source": [
    "首先，我们可以将该存有模型全部参数信息的字典对象赋给某个变量。"
   ]
  },
  {
   "cell_type": "code",
   "execution_count": 76,
   "metadata": {},
   "outputs": [
    {
     "data": {
      "text/plain": [
       "OrderedDict([('linear1.weight',\n",
       "              tensor([[ 0.2365, -0.1118, -0.3801,  0.0275,  0.4168],\n",
       "                      [-0.1995, -0.1456,  0.3497, -0.0622, -0.1708],\n",
       "                      [-0.0901,  0.0164, -0.3643, -0.1278,  0.4336],\n",
       "                      [-0.0959,  0.4073, -0.1746, -0.1799, -0.1333]])),\n",
       "             ('linear1.bias', tensor([-0.3999, -0.2694,  0.2703, -0.3355])),\n",
       "             ('normalize1.weight', tensor([1., 1., 1., 1.])),\n",
       "             ('normalize1.bias', tensor([0., 0., 0., 0.])),\n",
       "             ('normalize1.running_mean', tensor([0., 0., 0., 0.])),\n",
       "             ('normalize1.running_var', tensor([1., 1., 1., 1.])),\n",
       "             ('normalize1.num_batches_tracked', tensor(0)),\n",
       "             ('linear2.weight',\n",
       "              tensor([[ 0.1708,  0.4704, -0.0635,  0.2187],\n",
       "                      [ 0.2336, -0.3569, -0.1928, -0.1566],\n",
       "                      [ 0.4825, -0.4463,  0.3027,  0.4696],\n",
       "                      [ 0.3953,  0.2131,  0.2226, -0.0267]])),\n",
       "             ('linear2.bias', tensor([ 0.2516,  0.4558, -0.1608,  0.4831])),\n",
       "             ('normalize2.weight', tensor([1., 1., 1., 1.])),\n",
       "             ('normalize2.bias', tensor([0., 0., 0., 0.])),\n",
       "             ('normalize2.running_mean', tensor([0., 0., 0., 0.])),\n",
       "             ('normalize2.running_var', tensor([1., 1., 1., 1.])),\n",
       "             ('normalize2.num_batches_tracked', tensor(0)),\n",
       "             ('linear3.weight',\n",
       "              tensor([[ 0.0795, -0.3507, -0.3589,  0.1764]])),\n",
       "             ('linear3.bias', tensor([-0.0705]))])"
      ]
     },
     "execution_count": 76,
     "metadata": {},
     "output_type": "execute_result"
    }
   ],
   "source": [
    "t1 = tanh_model1.state_dict()\n",
    "t1"
   ]
  },
  {
   "cell_type": "markdown",
   "metadata": {},
   "source": [
    "其次，我们也可以通过`torch.save`来将该参数保存至本地。"
   ]
  },
  {
   "cell_type": "code",
   "execution_count": 77,
   "metadata": {},
   "outputs": [],
   "source": [
    "torch.save(tanh_model1.state_dict(), 'tanh1.pt')"
   ]
  },
  {
   "cell_type": "markdown",
   "metadata": {},
   "source": [
    "&emsp;&emsp;对于torch.save函数来说，第一个参数是需要保存的模型参数，而第二个参数则是保存到本地的文件名。一般来说可以令其后缀为`.pt`或`.pth`。而当我们需要读取保存的参数结果时，则可以直接使用load_state_dict方法。该方法的使用我们稍后就会谈到。"
   ]
  },
  {
   "cell_type": "markdown",
   "metadata": {},
   "source": [
    "&emsp;&emsp;接下来进行模型训练，也就是模型参数调整。回顾此前学习内容，当我们进行模型训练时，实际上就是借助损失函数和反向传播机制进行梯度求解，然后利用优化器根据梯度值去更新各线性层参数。"
   ]
  },
  {
   "cell_type": "code",
   "execution_count": 85,
   "metadata": {},
   "outputs": [],
   "source": [
    "criterion = nn.MSELoss()\n",
    "optimizer = torch.optim.SGD(tanh_model1.parameters(), lr=0.05)"
   ]
  },
  {
   "cell_type": "code",
   "execution_count": 86,
   "metadata": {},
   "outputs": [],
   "source": [
    "for X, y in train_loader:\n",
    "    yhat = tanh_model1.forward(X)\n",
    "    loss = criterion(yhat, y)\n",
    "    optimizer.zero_grad()\n",
    "    loss.backward()\n",
    "    optimizer.step()"
   ]
  },
  {
   "cell_type": "markdown",
   "metadata": {},
   "source": [
    "训练完一轮之后，我们可以查看模型状态："
   ]
  },
  {
   "cell_type": "code",
   "execution_count": 87,
   "metadata": {},
   "outputs": [
    {
     "data": {
      "text/plain": [
       "OrderedDict([('linear1.weight',\n",
       "              tensor([[ 0.0436, -0.3587, -0.3227,  0.0310,  0.4388],\n",
       "                      [-0.0870, -0.1146,  0.4255, -0.0052, -0.3548],\n",
       "                      [-0.0154,  0.1517, -0.4181, -0.0605,  0.4350],\n",
       "                      [-0.0627,  0.5445,  0.0345, -0.1221,  0.1262]])),\n",
       "             ('linear1.bias', tensor([-0.3999, -0.2694,  0.2703, -0.3355])),\n",
       "             ('normalize1.weight', tensor([1.0497, 0.9741, 1.0267, 1.0508])),\n",
       "             ('normalize1.bias', tensor([ 0.0358, -0.1734, -0.1451,  0.0043])),\n",
       "             ('normalize1.running_mean',\n",
       "              tensor([-0.3789, -0.2839,  0.2689, -0.3484])),\n",
       "             ('normalize1.running_var',\n",
       "              tensor([0.3839, 0.2907, 0.3761, 0.2507])),\n",
       "             ('normalize1.num_batches_tracked', tensor(42)),\n",
       "             ('linear2.weight',\n",
       "              tensor([[ 0.1514,  0.5047, -0.0870,  0.1669],\n",
       "                      [ 0.2090,  0.0034, -0.3558, -0.4330],\n",
       "                      [ 0.4056, -0.3937,  0.3199,  0.5734],\n",
       "                      [ 0.3083,  0.3801, -0.0587, -0.2878]])),\n",
       "             ('linear2.bias', tensor([ 0.2516,  0.4558, -0.1608,  0.4831])),\n",
       "             ('normalize2.weight', tensor([1.0229, 0.4936, 0.2831, 0.7715])),\n",
       "             ('normalize2.bias', tensor([-0.0817, -1.2150, -1.1698,  0.8213])),\n",
       "             ('normalize2.running_mean',\n",
       "              tensor([ 0.2384,  0.4661, -0.1415,  0.4703])),\n",
       "             ('normalize2.running_var',\n",
       "              tensor([0.0720, 0.1388, 0.6376, 0.0972])),\n",
       "             ('normalize2.num_batches_tracked', tensor(42)),\n",
       "             ('linear3.weight',\n",
       "              tensor([[-0.3395, -1.3164, -1.1326,  0.8836]])),\n",
       "             ('linear3.bias', tensor([4.8350]))])"
      ]
     },
     "execution_count": 87,
     "metadata": {},
     "output_type": "execute_result"
    }
   ],
   "source": [
    "tanh_model1.state_dict()"
   ]
  },
  {
   "cell_type": "markdown",
   "metadata": {},
   "source": [
    "我们发现模型的参数已经发生了变化。当然，此时t1也随之发生了变化"
   ]
  },
  {
   "cell_type": "code",
   "execution_count": 88,
   "metadata": {
    "collapsed": true,
    "jupyter": {
     "outputs_hidden": true
    }
   },
   "outputs": [
    {
     "data": {
      "text/plain": [
       "OrderedDict([('linear1.weight',\n",
       "              tensor([[ 0.0436, -0.3587, -0.3227,  0.0310,  0.4388],\n",
       "                      [-0.0870, -0.1146,  0.4255, -0.0052, -0.3548],\n",
       "                      [-0.0154,  0.1517, -0.4181, -0.0605,  0.4350],\n",
       "                      [-0.0627,  0.5445,  0.0345, -0.1221,  0.1262]])),\n",
       "             ('linear1.bias', tensor([-0.3999, -0.2694,  0.2703, -0.3355])),\n",
       "             ('normalize1.weight', tensor([1.0497, 0.9741, 1.0267, 1.0508])),\n",
       "             ('normalize1.bias', tensor([ 0.0358, -0.1734, -0.1451,  0.0043])),\n",
       "             ('normalize1.running_mean',\n",
       "              tensor([-0.3789, -0.2839,  0.2689, -0.3484])),\n",
       "             ('normalize1.running_var',\n",
       "              tensor([0.3839, 0.2907, 0.3761, 0.2507])),\n",
       "             ('normalize1.num_batches_tracked', tensor(0)),\n",
       "             ('linear2.weight',\n",
       "              tensor([[ 0.1514,  0.5047, -0.0870,  0.1669],\n",
       "                      [ 0.2090,  0.0034, -0.3558, -0.4330],\n",
       "                      [ 0.4056, -0.3937,  0.3199,  0.5734],\n",
       "                      [ 0.3083,  0.3801, -0.0587, -0.2878]])),\n",
       "             ('linear2.bias', tensor([ 0.2516,  0.4558, -0.1608,  0.4831])),\n",
       "             ('normalize2.weight', tensor([1.0229, 0.4936, 0.2831, 0.7715])),\n",
       "             ('normalize2.bias', tensor([-0.0817, -1.2150, -1.1698,  0.8213])),\n",
       "             ('normalize2.running_mean',\n",
       "              tensor([ 0.2384,  0.4661, -0.1415,  0.4703])),\n",
       "             ('normalize2.running_var',\n",
       "              tensor([0.0720, 0.1388, 0.6376, 0.0972])),\n",
       "             ('normalize2.num_batches_tracked', tensor(0)),\n",
       "             ('linear3.weight',\n",
       "              tensor([[-0.3395, -1.3164, -1.1326,  0.8836]])),\n",
       "             ('linear3.bias', tensor([4.8350]))])"
      ]
     },
     "execution_count": 88,
     "metadata": {},
     "output_type": "execute_result"
    }
   ],
   "source": [
    "t1"
   ]
  },
  {
   "cell_type": "markdown",
   "metadata": {},
   "source": [
    "此时，如果我们想还原tanh_model1中原始参数，我们只能考虑通过使用load_state_dict方法，将本次保存的原模型参数替换当前的tanh_model1中参数，具体方法如下："
   ]
  },
  {
   "cell_type": "code",
   "execution_count": 28,
   "metadata": {
    "collapsed": true,
    "jupyter": {
     "outputs_hidden": true
    }
   },
   "outputs": [
    {
     "data": {
      "text/plain": [
       "OrderedDict([('linear1.weight',\n",
       "              tensor([[ 0.2365, -0.1118, -0.3801,  0.0275,  0.4168],\n",
       "                      [-0.1995, -0.1456,  0.3497, -0.0622, -0.1708],\n",
       "                      [-0.0901,  0.0164, -0.3643, -0.1278,  0.4336],\n",
       "                      [-0.0959,  0.4073, -0.1746, -0.1799, -0.1333]])),\n",
       "             ('linear1.bias', tensor([-0.3999, -0.2694,  0.2703, -0.3355])),\n",
       "             ('normalize1.weight', tensor([1., 1., 1., 1.])),\n",
       "             ('normalize1.bias', tensor([0., 0., 0., 0.])),\n",
       "             ('normalize1.running_mean', tensor([0., 0., 0., 0.])),\n",
       "             ('normalize1.running_var', tensor([1., 1., 1., 1.])),\n",
       "             ('normalize1.num_batches_tracked', tensor(0)),\n",
       "             ('linear2.weight',\n",
       "              tensor([[ 0.1708,  0.4704, -0.0635,  0.2187],\n",
       "                      [ 0.2336, -0.3569, -0.1928, -0.1566],\n",
       "                      [ 0.4825, -0.4463,  0.3027,  0.4696],\n",
       "                      [ 0.3953,  0.2131,  0.2226, -0.0267]])),\n",
       "             ('linear2.bias', tensor([ 0.2516,  0.4558, -0.1608,  0.4831])),\n",
       "             ('normalize2.weight', tensor([1., 1., 1., 1.])),\n",
       "             ('normalize2.bias', tensor([0., 0., 0., 0.])),\n",
       "             ('normalize2.running_mean', tensor([0., 0., 0., 0.])),\n",
       "             ('normalize2.running_var', tensor([1., 1., 1., 1.])),\n",
       "             ('normalize2.num_batches_tracked', tensor(0)),\n",
       "             ('linear3.weight',\n",
       "              tensor([[ 0.0795, -0.3507, -0.3589,  0.1764]])),\n",
       "             ('linear3.bias', tensor([-0.0705]))])"
      ]
     },
     "execution_count": 28,
     "metadata": {},
     "output_type": "execute_result"
    }
   ],
   "source": [
    "torch.load('tanh1.pt')"
   ]
  },
  {
   "cell_type": "code",
   "execution_count": 29,
   "metadata": {},
   "outputs": [
    {
     "data": {
      "text/plain": [
       "<All keys matched successfully>"
      ]
     },
     "execution_count": 29,
     "metadata": {},
     "output_type": "execute_result"
    }
   ],
   "source": [
    "tanh_model1.load_state_dict(torch.load('tanh1.pt'))"
   ]
  },
  {
   "cell_type": "code",
   "execution_count": 30,
   "metadata": {},
   "outputs": [
    {
     "data": {
      "text/plain": [
       "OrderedDict([('linear1.weight',\n",
       "              tensor([[ 0.2365, -0.1118, -0.3801,  0.0275,  0.4168],\n",
       "                      [-0.1995, -0.1456,  0.3497, -0.0622, -0.1708],\n",
       "                      [-0.0901,  0.0164, -0.3643, -0.1278,  0.4336],\n",
       "                      [-0.0959,  0.4073, -0.1746, -0.1799, -0.1333]])),\n",
       "             ('linear1.bias', tensor([-0.3999, -0.2694,  0.2703, -0.3355])),\n",
       "             ('normalize1.weight', tensor([1., 1., 1., 1.])),\n",
       "             ('normalize1.bias', tensor([0., 0., 0., 0.])),\n",
       "             ('normalize1.running_mean', tensor([0., 0., 0., 0.])),\n",
       "             ('normalize1.running_var', tensor([1., 1., 1., 1.])),\n",
       "             ('normalize1.num_batches_tracked', tensor(0)),\n",
       "             ('linear2.weight',\n",
       "              tensor([[ 0.1708,  0.4704, -0.0635,  0.2187],\n",
       "                      [ 0.2336, -0.3569, -0.1928, -0.1566],\n",
       "                      [ 0.4825, -0.4463,  0.3027,  0.4696],\n",
       "                      [ 0.3953,  0.2131,  0.2226, -0.0267]])),\n",
       "             ('linear2.bias', tensor([ 0.2516,  0.4558, -0.1608,  0.4831])),\n",
       "             ('normalize2.weight', tensor([1., 1., 1., 1.])),\n",
       "             ('normalize2.bias', tensor([0., 0., 0., 0.])),\n",
       "             ('normalize2.running_mean', tensor([0., 0., 0., 0.])),\n",
       "             ('normalize2.running_var', tensor([1., 1., 1., 1.])),\n",
       "             ('normalize2.num_batches_tracked', tensor(0)),\n",
       "             ('linear3.weight',\n",
       "              tensor([[ 0.0795, -0.3507, -0.3589,  0.1764]])),\n",
       "             ('linear3.bias', tensor([-0.0705]))])"
      ]
     },
     "execution_count": 30,
     "metadata": {},
     "output_type": "execute_result"
    }
   ],
   "source": [
    "tanh_model1.state_dict()"
   ]
  },
  {
   "cell_type": "markdown",
   "metadata": {},
   "source": [
    "至此，我们就完成了模型训练与保存的基本过程。当然，除了模型可以按照上述方法保存外，优化器也可以类似进行本地存储。"
   ]
  },
  {
   "cell_type": "markdown",
   "metadata": {},
   "source": [
    "> 当然，结合此前介绍的深拷贝的相关概念，此处我们能否通过深拷贝的方式将模型参数保存在当前操作空间内然后再替换训练后的模型参数呢？同学们可以自行尝试"
   ]
  },
  {
   "cell_type": "markdown",
   "metadata": {},
   "source": [
    "---"
   ]
  },
  {
   "cell_type": "markdown",
   "metadata": {},
   "source": [
    "接下来，我们通过调用optim模块中lr_scheduler相关函数，来实现优化器中学习率的动态调整。"
   ]
  },
  {
   "cell_type": "markdown",
   "metadata": {},
   "source": [
    "## 二、LambdaLR基本使用方法"
   ]
  },
  {
   "cell_type": "markdown",
   "metadata": {},
   "source": [
    "&emsp;&emsp;让优化器动态调整学习率的类，也被我们称为学习率调度器类，该类实例化的对象也被称为学习率调度器。在所有的学习率调度器中，LambdaLR类是实现学习率调度最简单灵活、同时也是最通用的一种方法。"
   ]
  },
  {
   "cell_type": "markdown",
   "metadata": {},
   "source": [
    "&emsp;&emsp;要使用LambdaLR来完成学习率调度，首先需要准备一个lambda匿名函数，例如："
   ]
  },
  {
   "cell_type": "code",
   "execution_count": 6,
   "metadata": {},
   "outputs": [],
   "source": [
    "lr_lambda = lambda epoch: 0.5 ** epoch"
   ]
  },
  {
   "cell_type": "markdown",
   "metadata": {},
   "source": [
    "此处我们通过lambda创建了一个匿名函数。该函数需要输入一个参数，一般来说我们会将该参数视作模型迭代次数。当然上述匿名函数是个非常简单的匿名函数，输出结果就是0.5的epoch次方。"
   ]
  },
  {
   "cell_type": "code",
   "execution_count": 7,
   "metadata": {},
   "outputs": [
    {
     "data": {
      "text/plain": [
       "1.0"
      ]
     },
     "execution_count": 7,
     "metadata": {},
     "output_type": "execute_result"
    }
   ],
   "source": [
    "# 第一轮迭代时\n",
    "lr_lambda(0)"
   ]
  },
  {
   "cell_type": "code",
   "execution_count": 8,
   "metadata": {},
   "outputs": [
    {
     "data": {
      "text/plain": [
       "0.5"
      ]
     },
     "execution_count": 8,
     "metadata": {},
     "output_type": "execute_result"
    }
   ],
   "source": [
    "# 第二轮迭代时\n",
    "lr_lambda(1)"
   ]
  },
  {
   "cell_type": "markdown",
   "metadata": {},
   "source": [
    "> 此处需要注意，一般来说epoch取值从0开始，并且用于学习率调度的匿名函数参数取值为0时，输出结果不能为0。"
   ]
  },
  {
   "cell_type": "markdown",
   "metadata": {},
   "source": [
    "&emsp;&emsp;在准备好一个匿名函数之后，接下来我们需要实例化一个LambdaLR学习率调度器。同时，由于所有的学习率调度器都是通过修改某个优化器来完成学习率调度，因此我们还需要创建一个对应的优化器（当然为了模型训练，也是要创建优化器的）。优化器的创建无须其他设置，该优化器和学习率调度器的关联主要是通过学习率调度器来体现。"
   ]
  },
  {
   "cell_type": "code",
   "execution_count": 9,
   "metadata": {},
   "outputs": [
    {
     "data": {
      "text/plain": [
       "<torch._C.Generator at 0x287060a2690>"
      ]
     },
     "execution_count": 9,
     "metadata": {},
     "output_type": "execute_result"
    }
   ],
   "source": [
    "# 设置随机数种子\n",
    "torch.manual_seed(24)  \n",
    "\n",
    "# 实例化模型  \n",
    "tanh_model1 = net_class2(act_fun= torch.tanh, in_features=5, BN_model='pre')"
   ]
  },
  {
   "cell_type": "code",
   "execution_count": 10,
   "metadata": {},
   "outputs": [],
   "source": [
    "# 创建优化器\n",
    "optimizer = torch.optim.SGD(tanh_model1.parameters(), lr=0.05)"
   ]
  },
  {
   "cell_type": "code",
   "execution_count": 11,
   "metadata": {},
   "outputs": [
    {
     "data": {
      "text/plain": [
       "{'state': {},\n",
       " 'param_groups': [{'lr': 0.05,\n",
       "   'momentum': 0,\n",
       "   'dampening': 0,\n",
       "   'weight_decay': 0,\n",
       "   'nesterov': False,\n",
       "   'params': [0, 1, 2, 3, 4, 5, 6, 7, 8, 9]}]}"
      ]
     },
     "execution_count": 11,
     "metadata": {},
     "output_type": "execute_result"
    }
   ],
   "source": [
    "# 查看优化器信息\n",
    "optimizer.state_dict()"
   ]
  },
  {
   "cell_type": "code",
   "execution_count": 12,
   "metadata": {},
   "outputs": [],
   "source": [
    "# 创建学习率调度器\n",
    "scheduler = lr_scheduler.LambdaLR(optimizer, lr_lambda)"
   ]
  },
  {
   "cell_type": "markdown",
   "metadata": {},
   "source": [
    "注意，LambdaLR学习率调度器的创建必须要输入一个lambda函数和与之关联的优化器。一旦优化器创建完成，我们即可继续观察优化器optimizer的状态。"
   ]
  },
  {
   "cell_type": "code",
   "execution_count": 13,
   "metadata": {},
   "outputs": [
    {
     "data": {
      "text/plain": [
       "{'state': {},\n",
       " 'param_groups': [{'lr': 0.05,\n",
       "   'momentum': 0,\n",
       "   'dampening': 0,\n",
       "   'weight_decay': 0,\n",
       "   'nesterov': False,\n",
       "   'initial_lr': 0.05,\n",
       "   'params': [0, 1, 2, 3, 4, 5, 6, 7, 8, 9]}]}"
      ]
     },
     "execution_count": 13,
     "metadata": {},
     "output_type": "execute_result"
    }
   ],
   "source": [
    "optimizer.state_dict()"
   ]
  },
  {
   "cell_type": "markdown",
   "metadata": {},
   "source": [
    "&emsp;&emsp;此时优化器的参数簇中多了'initial_lr'元素。该元素代表初始学习率，也就是我们在实例化优化器时输入的学习率。而优化器中的lr，则仍然表示下一次迭代时的学习率。"
   ]
  },
  {
   "cell_type": "markdown",
   "metadata": {},
   "source": [
    "对于LambdaLR学习调度来说，优化器中的lr伴随模型迭代相应调整的方法如下："
   ]
  },
  {
   "cell_type": "markdown",
   "metadata": {},
   "source": [
    "$$lr = lr\\_lambda(epoch) * initial\\_lr$$"
   ]
  },
  {
   "cell_type": "markdown",
   "metadata": {},
   "source": [
    "&emsp;&emsp;并且，第一次实例化LambdaLR时epoch取值为0时，因此此时优化器的lr计算结果如下：$$lr_0 = 0.5^0 * 0.05 = 0.05$$"
   ]
  },
  {
   "cell_type": "markdown",
   "metadata": {},
   "source": [
    "而在后续计算过程中，每当我们调用一次scheduler.step()，epoch数值就会+1。我们可以进行下述实验，即当一轮训练完成时，我们可通过scheduler.step()来更新下一轮迭代时的学习率。"
   ]
  },
  {
   "cell_type": "code",
   "execution_count": 39,
   "metadata": {},
   "outputs": [],
   "source": [
    "for X, y in train_loader:\n",
    "    yhat = tanh_model1.forward(X)\n",
    "    loss = criterion(yhat, y)\n",
    "    optimizer.zero_grad()\n",
    "    loss.backward()\n",
    "    optimizer.step()\n",
    "scheduler.step()"
   ]
  },
  {
   "cell_type": "markdown",
   "metadata": {},
   "source": [
    "> 需要注意，在上述模型训练的代码中，之所以将学习率调度器放在模型小批量梯度下降循环的外侧，也是因为一般来说遍历一次完整训练集（一个epoch）才会对学习率进行一次更新，而不是每次计算完一个小批数据就对模型学习率进行更新。"
   ]
  },
  {
   "cell_type": "code",
   "execution_count": 40,
   "metadata": {},
   "outputs": [
    {
     "data": {
      "text/plain": [
       "{'state': {},\n",
       " 'param_groups': [{'lr': 0.025,\n",
       "   'momentum': 0,\n",
       "   'dampening': 0,\n",
       "   'weight_decay': 0,\n",
       "   'nesterov': False,\n",
       "   'initial_lr': 0.05,\n",
       "   'params': [0, 1, 2, 3, 4, 5, 6, 7, 8, 9]}]}"
      ]
     },
     "execution_count": 40,
     "metadata": {},
     "output_type": "execute_result"
    }
   ],
   "source": [
    "optimizer.state_dict()"
   ]
  },
  {
   "cell_type": "markdown",
   "metadata": {},
   "source": [
    "而此时lr的取值0.025，则是由lr_lambda当epoch取值为1时的输出结果和initial_lr相乘之后的结果。也就是$$lr = 0.5^1 * 0.05 = 0.025$$"
   ]
  },
  {
   "cell_type": "markdown",
   "metadata": {},
   "source": [
    "而如果把上述过程封装为一个循环（也就是此前定义的fit函数），则下次模型训练时学习率就调整为了0.025。"
   ]
  },
  {
   "cell_type": "markdown",
   "metadata": {},
   "source": [
    "&emsp;&emsp;至此，我们也就知道了scheduler.step()的真实作用——令匿名函数的自变量+1，然后令匿名函数的输出结果与initial_lr相乘，并把计算结果传给优化器，作为下一次优化器计算时的学习率。"
   ]
  },
  {
   "cell_type": "markdown",
   "metadata": {},
   "source": [
    "&emsp;&emsp;当然，我们也能简单的重复optimizer.step()与scheduler.step()，即可一次次完成计算新学习率、并将新学习率传输给优化器的过程。"
   ]
  },
  {
   "cell_type": "code",
   "execution_count": 41,
   "metadata": {},
   "outputs": [],
   "source": [
    "optimizer.zero_grad()\n",
    "optimizer.step()\n",
    "scheduler.step()"
   ]
  },
  {
   "cell_type": "code",
   "execution_count": 42,
   "metadata": {},
   "outputs": [],
   "source": [
    "lr_lambda = lambda epoch: 0.5 ** epoch"
   ]
  },
  {
   "cell_type": "code",
   "execution_count": 43,
   "metadata": {},
   "outputs": [
    {
     "data": {
      "text/plain": [
       "0.0125"
      ]
     },
     "execution_count": 43,
     "metadata": {},
     "output_type": "execute_result"
    }
   ],
   "source": [
    "lr_lambda(2) * 0.05"
   ]
  },
  {
   "cell_type": "code",
   "execution_count": 44,
   "metadata": {},
   "outputs": [
    {
     "data": {
      "text/plain": [
       "{'state': {},\n",
       " 'param_groups': [{'lr': 0.0125,\n",
       "   'momentum': 0,\n",
       "   'dampening': 0,\n",
       "   'weight_decay': 0,\n",
       "   'nesterov': False,\n",
       "   'initial_lr': 0.05,\n",
       "   'params': [0, 1, 2, 3, 4, 5, 6, 7, 8, 9]}]}"
      ]
     },
     "execution_count": 44,
     "metadata": {},
     "output_type": "execute_result"
    }
   ],
   "source": [
    "optimizer.state_dict()"
   ]
  },
  {
   "cell_type": "code",
   "execution_count": 45,
   "metadata": {},
   "outputs": [
    {
     "name": "stderr",
     "output_type": "stream",
     "text": [
      "D:\\Users\\ASUS\\anaconda3\\lib\\site-packages\\torch\\optim\\lr_scheduler.py:216: UserWarning: Please also save or load the state of the optimizer when saving or loading the scheduler.\n",
      "  warnings.warn(SAVE_STATE_WARNING, UserWarning)\n"
     ]
    },
    {
     "data": {
      "text/plain": [
       "{'base_lrs': [0.05],\n",
       " 'last_epoch': 2,\n",
       " '_step_count': 3,\n",
       " 'verbose': False,\n",
       " '_get_lr_called_within_step': False,\n",
       " '_last_lr': [0.0125],\n",
       " 'lr_lambdas': [None]}"
      ]
     },
     "execution_count": 45,
     "metadata": {},
     "output_type": "execute_result"
    }
   ],
   "source": [
    "ss = scheduler.state_dict()\n",
    "ss"
   ]
  },
  {
   "cell_type": "markdown",
   "metadata": {},
   "source": [
    "不出意外，在第三次scheduler.step()时，匿名函数输出结果为$0.5^2$，再与initial_lr相乘之后结果为0.0125。"
   ]
  },
  {
   "cell_type": "markdown",
   "metadata": {},
   "source": [
    "> 此处需要注意，PyTorch中要求先进行优化器的step，再进行学习率调度的step，此处需要注意先后顺序。另外，上述过程之所以提前将优化器内保存的模型参数清零，也是为了防止上述实验过程最终导致模型参数被修改（梯度为0时模型无法修改参数）。"
   ]
  },
  {
   "cell_type": "markdown",
   "metadata": {},
   "source": [
    "当然，每一轮epoch都让模型学习率衰减50%其实是非常激进的。我们可以通过绘制图像观察学习率衰减情况。"
   ]
  },
  {
   "cell_type": "code",
   "execution_count": 46,
   "metadata": {},
   "outputs": [],
   "source": [
    "# 创建优化器\n",
    "optimizer = torch.optim.SGD(tanh_model1.parameters(), lr=0.05)"
   ]
  },
  {
   "cell_type": "code",
   "execution_count": 47,
   "metadata": {},
   "outputs": [],
   "source": [
    "# 创建学习率调度器\n",
    "scheduler = lr_scheduler.LambdaLR(optimizer, lr_lambda)"
   ]
  },
  {
   "cell_type": "code",
   "execution_count": 48,
   "metadata": {},
   "outputs": [
    {
     "data": {
      "text/plain": [
       "0.05"
      ]
     },
     "execution_count": 48,
     "metadata": {},
     "output_type": "execute_result"
    }
   ],
   "source": [
    "optimizer.state_dict()['param_groups'][0]['lr']"
   ]
  },
  {
   "cell_type": "code",
   "execution_count": 49,
   "metadata": {},
   "outputs": [],
   "source": [
    "lr_l = [0.05]\n",
    "for i in range(10):\n",
    "    optimizer.step()\n",
    "    scheduler.step()\n",
    "    lr = optimizer.state_dict()['param_groups'][0]['lr']\n",
    "    lr_l.append(lr)"
   ]
  },
  {
   "cell_type": "code",
   "execution_count": 50,
   "metadata": {},
   "outputs": [
    {
     "data": {
      "text/plain": [
       "[<matplotlib.lines.Line2D at 0x1d4009e50c8>]"
      ]
     },
     "execution_count": 50,
     "metadata": {},
     "output_type": "execute_result"
    },
    {
     "data": {
      "text/plain": [
       "Text(0.5, 0, 'epoch')"
      ]
     },
     "execution_count": 50,
     "metadata": {},
     "output_type": "execute_result"
    },
    {
     "data": {
      "text/plain": [
       "Text(0, 0.5, 'Learning rate')"
      ]
     },
     "execution_count": 50,
     "metadata": {},
     "output_type": "execute_result"
    },
    {
     "data": {
      "image/png": "[encoded data removed]",
      "text/plain": [
       "<Figure size 432x288 with 1 Axes>"
      ]
     },
     "metadata": {
      "needs_background": "light"
     },
     "output_type": "display_data"
    }
   ],
   "source": [
    "plt.plot(lr_l)\n",
    "plt.xlabel('epoch')\n",
    "plt.ylabel('Learning rate')"
   ]
  },
  {
   "cell_type": "markdown",
   "metadata": {},
   "source": [
    "接下来，我们放缓学习率衰减速率，进行学习率调度建模实验。"
   ]
  },
  {
   "cell_type": "markdown",
   "metadata": {},
   "source": [
    "## 三、LambdaLR学习率调度实验"
   ]
  },
  {
   "cell_type": "markdown",
   "metadata": {},
   "source": [
    "### 1.前期准备与匿名函数定义"
   ]
  },
  {
   "cell_type": "markdown",
   "metadata": {},
   "source": [
    "&emsp;&emsp;在实验开始前，我们需要将之前定义的fit_rec函数再次进行改写，新函数需要包含学习率调度相关方法。"
   ]
  },
  {
   "cell_type": "code",
   "execution_count": 51,
   "metadata": {},
   "outputs": [],
   "source": [
    "def fit_rec_sc(net, \n",
    "               criterion, \n",
    "               optimizer, \n",
    "               train_data,\n",
    "               test_data,\n",
    "               scheduler,\n",
    "               epochs = 3, \n",
    "               cla = False, \n",
    "               eva = mse_cal):\n",
    "    \"\"\"加入学习率调度后的模型训练函数（记录每一次遍历后模型评估指标）\n",
    "    \n",
    "    :param net：待训练的模型 \n",
    "    :param criterion: 损失函数\n",
    "    :param optimizer：优化算法\n",
    "    :param train_data：训练数据\n",
    "    :param test_data: 测试数据 \n",
    "    :param scheduler: 学习率调度器\n",
    "    :param epochs: 遍历数据次数\n",
    "    :param cla: 是否是分类问题\n",
    "    :param eva: 模型评估方法\n",
    "    :return：模型评估结果\n",
    "    \"\"\"\n",
    "    train_l = []\n",
    "    test_l = []\n",
    "    for epoch  in range(epochs):\n",
    "        net.train()\n",
    "        for X, y in train_data:\n",
    "            if cla == True:\n",
    "                y = y.flatten().long()          # 如果是分类问题，需要对y进行整数转化\n",
    "            yhat = net.forward(X)\n",
    "            loss = criterion(yhat, y)\n",
    "            optimizer.zero_grad()\n",
    "            loss.backward()\n",
    "            optimizer.step()\n",
    "        scheduler.step()\n",
    "        net.eval()\n",
    "        train_l.append(eva(train_data, net).detach())\n",
    "        test_l.append(eva(test_data, net).detach())\n",
    "    return train_l, test_l"
   ]
  },
  {
   "cell_type": "markdown",
   "metadata": {},
   "source": [
    "同样，该函数需要写入torchLearning.py文件中。接下来，我们定义一个衰减速度更加缓慢的学习率调度器。"
   ]
  },
  {
   "cell_type": "code",
   "execution_count": 20,
   "metadata": {},
   "outputs": [],
   "source": [
    "lr_lambda = lambda epoch: 0.95 ** epoch"
   ]
  },
  {
   "cell_type": "code",
   "execution_count": 21,
   "metadata": {},
   "outputs": [
    {
     "data": {
      "text/plain": [
       "1.0"
      ]
     },
     "execution_count": 21,
     "metadata": {},
     "output_type": "execute_result"
    }
   ],
   "source": [
    "# 第一轮迭代时\n",
    "lr_lambda(0)"
   ]
  },
  {
   "cell_type": "code",
   "execution_count": 22,
   "metadata": {},
   "outputs": [
    {
     "data": {
      "text/plain": [
       "0.95"
      ]
     },
     "execution_count": 22,
     "metadata": {},
     "output_type": "execute_result"
    }
   ],
   "source": [
    "# 第二轮迭代时\n",
    "lr_lambda(1)"
   ]
  },
  {
   "cell_type": "code",
   "execution_count": 23,
   "metadata": {},
   "outputs": [
    {
     "data": {
      "text/plain": [
       "0.0059205292203339975"
      ]
     },
     "execution_count": 23,
     "metadata": {},
     "output_type": "execute_result"
    }
   ],
   "source": [
    "lr_lambda(100)"
   ]
  },
  {
   "cell_type": "markdown",
   "metadata": {},
   "source": [
    "> 相当于每迭代一轮学习率衰减5%。"
   ]
  },
  {
   "cell_type": "code",
   "execution_count": 24,
   "metadata": {},
   "outputs": [
    {
     "data": {
      "text/plain": [
       "<torch._C.Generator at 0x287060a2690>"
      ]
     },
     "execution_count": 24,
     "metadata": {},
     "output_type": "execute_result"
    }
   ],
   "source": [
    "# 设置随机数种子\n",
    "torch.manual_seed(24)  \n",
    "\n",
    "# 实例化模型  \n",
    "tanh_model1 = net_class2(act_fun=torch.tanh, in_features=5, BN_model='pre')"
   ]
  },
  {
   "cell_type": "code",
   "execution_count": 25,
   "metadata": {},
   "outputs": [],
   "source": [
    "# 创建优化器\n",
    "optimizer = torch.optim.SGD(tanh_model1.parameters(), lr=0.05)"
   ]
  },
  {
   "cell_type": "code",
   "execution_count": 26,
   "metadata": {},
   "outputs": [],
   "source": [
    "# 创建学习率调度器\n",
    "scheduler = lr_scheduler.LambdaLR(optimizer, lr_lambda)"
   ]
  },
  {
   "cell_type": "markdown",
   "metadata": {},
   "source": [
    "### 3.模型训练与结果比较"
   ]
  },
  {
   "cell_type": "code",
   "execution_count": 27,
   "metadata": {},
   "outputs": [],
   "source": [
    "# 进行模型训练\n",
    "train_l, test_l = fit_rec_sc(net = tanh_model1, \n",
    "                             criterion = nn.MSELoss(), \n",
    "                             optimizer = optimizer, \n",
    "                             train_data = train_loader,\n",
    "                             test_data = test_loader,\n",
    "                             scheduler = scheduler,\n",
    "                             epochs = 60, \n",
    "                             cla = False, \n",
    "                             eva = mse_cal)"
   ]
  },
  {
   "cell_type": "code",
   "execution_count": 28,
   "metadata": {},
   "outputs": [
    {
     "data": {
      "text/plain": [
       "[<matplotlib.lines.Line2D at 0x2870bda7508>]"
      ]
     },
     "execution_count": 28,
     "metadata": {},
     "output_type": "execute_result"
    },
    {
     "data": {
      "text/plain": [
       "Text(0.5, 0, 'epochs')"
      ]
     },
     "execution_count": 28,
     "metadata": {},
     "output_type": "execute_result"
    },
    {
     "data": {
      "text/plain": [
       "Text(0, 0.5, 'MSE')"
      ]
     },
     "execution_count": 28,
     "metadata": {},
     "output_type": "execute_result"
    },
    {
     "data": {
      "text/plain": [
       "<matplotlib.legend.Legend at 0x2870bda7bc8>"
      ]
     },
     "execution_count": 28,
     "metadata": {},
     "output_type": "execute_result"
    },
    {
     "data": {
      "image/png": "[encoded data removed]",
      "text/plain": [
       "<Figure size 432x288 with 1 Axes>"
      ]
     },
     "metadata": {
      "needs_background": "light"
     },
     "output_type": "display_data"
    }
   ],
   "source": [
    "plt.plot(train_l, label='train_mse')\n",
    "plt.xlabel('epochs')\n",
    "plt.ylabel('MSE')\n",
    "plt.legend(loc = 1)"
   ]
  },
  {
   "cell_type": "markdown",
   "metadata": {},
   "source": [
    "简单验证学习率最终调整结果。"
   ]
  },
  {
   "cell_type": "code",
   "execution_count": 29,
   "metadata": {},
   "outputs": [
    {
     "data": {
      "text/plain": [
       "{'state': {},\n",
       " 'param_groups': [{'lr': 0.002303489949347597,\n",
       "   'momentum': 0,\n",
       "   'dampening': 0,\n",
       "   'weight_decay': 0,\n",
       "   'nesterov': False,\n",
       "   'initial_lr': 0.05,\n",
       "   'params': [0, 1, 2, 3, 4, 5, 6, 7, 8, 9]}]}"
      ]
     },
     "execution_count": 29,
     "metadata": {},
     "output_type": "execute_result"
    }
   ],
   "source": [
    "optimizer.state_dict()"
   ]
  },
  {
   "cell_type": "code",
   "execution_count": 30,
   "metadata": {},
   "outputs": [
    {
     "data": {
      "text/plain": [
       "0.002303489949347597"
      ]
     },
     "execution_count": 30,
     "metadata": {},
     "output_type": "execute_result"
    }
   ],
   "source": [
    "lr_lambda(60) * 0.05"
   ]
  },
  {
   "cell_type": "markdown",
   "metadata": {},
   "source": [
    "当然，我们也可以继续进行实验，对比恒定学习率时计算结果"
   ]
  },
  {
   "cell_type": "markdown",
   "metadata": {},
   "source": [
    "- 对比恒定学习率为0.03时模型训练结果"
   ]
  },
  {
   "cell_type": "code",
   "execution_count": 63,
   "metadata": {},
   "outputs": [
    {
     "data": {
      "text/plain": [
       "<torch._C.Generator at 0x1d47ba616d0>"
      ]
     },
     "execution_count": 63,
     "metadata": {},
     "output_type": "execute_result"
    }
   ],
   "source": [
    "# 设置随机数种子\n",
    "torch.manual_seed(24)  \n",
    "\n",
    "# 实例化模型  \n",
    "tanh_model1 = net_class2(act_fun= torch.tanh, in_features=5, BN_model='pre')"
   ]
  },
  {
   "cell_type": "code",
   "execution_count": 64,
   "metadata": {},
   "outputs": [],
   "source": [
    "train_l3, test_l3 = fit_rec(net = tanh_model1, \n",
    "                            criterion = nn.MSELoss(), \n",
    "                            optimizer = optim.SGD(tanh_model1.parameters(), lr = 0.03), \n",
    "                            train_data = train_loader,\n",
    "                            test_data = test_loader,\n",
    "                            epochs = 60, \n",
    "                            cla = False, \n",
    "                            eva = mse_cal)"
   ]
  },
  {
   "cell_type": "code",
   "execution_count": 65,
   "metadata": {},
   "outputs": [
    {
     "data": {
      "text/plain": [
       "[<matplotlib.lines.Line2D at 0x1d400efb048>]"
      ]
     },
     "execution_count": 65,
     "metadata": {},
     "output_type": "execute_result"
    },
    {
     "data": {
      "text/plain": [
       "[<matplotlib.lines.Line2D at 0x1d40027ecc8>]"
      ]
     },
     "execution_count": 65,
     "metadata": {},
     "output_type": "execute_result"
    },
    {
     "data": {
      "text/plain": [
       "Text(0.5, 0, 'epochs')"
      ]
     },
     "execution_count": 65,
     "metadata": {},
     "output_type": "execute_result"
    },
    {
     "data": {
      "text/plain": [
       "Text(0, 0.5, 'MSE')"
      ]
     },
     "execution_count": 65,
     "metadata": {},
     "output_type": "execute_result"
    },
    {
     "data": {
      "text/plain": [
       "<matplotlib.legend.Legend at 0x1d40020f348>"
      ]
     },
     "execution_count": 65,
     "metadata": {},
     "output_type": "execute_result"
    },
    {
     "data": {
      "image/png": "[encoded data removed]",
      "text/plain": [
       "<Figure size 432x288 with 1 Axes>"
      ]
     },
     "metadata": {
      "needs_background": "light"
     },
     "output_type": "display_data"
    }
   ],
   "source": [
    "plt.plot(train_l, label='train_l')\n",
    "plt.plot(train_l3, label='train_l3')\n",
    "plt.xlabel('epochs')\n",
    "plt.ylabel('MSE')\n",
    "plt.legend(loc = 1)"
   ]
  },
  {
   "cell_type": "markdown",
   "metadata": {},
   "source": [
    "我们发现，相比恒定学习为0.03的模型，加入学习率调度策略的模型，模型收敛效果更好、迭代更加平稳，且收敛速度较快。"
   ]
  },
  {
   "cell_type": "markdown",
   "metadata": {},
   "source": [
    "- 对比恒定学习率为0.01时模型训练结果"
   ]
  },
  {
   "cell_type": "code",
   "execution_count": 66,
   "metadata": {},
   "outputs": [
    {
     "data": {
      "text/plain": [
       "<torch._C.Generator at 0x1d47ba616d0>"
      ]
     },
     "execution_count": 66,
     "metadata": {},
     "output_type": "execute_result"
    }
   ],
   "source": [
    "# 设置随机数种子\n",
    "torch.manual_seed(24)  \n",
    "\n",
    "# 实例化模型  \n",
    "tanh_model1 = net_class2(act_fun= torch.tanh, in_features=5, BN_model='pre')"
   ]
  },
  {
   "cell_type": "code",
   "execution_count": 67,
   "metadata": {},
   "outputs": [],
   "source": [
    "train_l1, test_l1 = fit_rec(net = tanh_model1, \n",
    "                            criterion = nn.MSELoss(), \n",
    "                            optimizer = optim.SGD(tanh_model1.parameters(), lr = 0.01), \n",
    "                            train_data = train_loader,\n",
    "                            test_data = test_loader,\n",
    "                            epochs = 60, \n",
    "                            cla = False, \n",
    "                            eva = mse_cal)"
   ]
  },
  {
   "cell_type": "code",
   "execution_count": 68,
   "metadata": {},
   "outputs": [
    {
     "data": {
      "text/plain": [
       "[<matplotlib.lines.Line2D at 0x1d4005a7a08>]"
      ]
     },
     "execution_count": 68,
     "metadata": {},
     "output_type": "execute_result"
    },
    {
     "data": {
      "text/plain": [
       "[<matplotlib.lines.Line2D at 0x1d400e9f988>]"
      ]
     },
     "execution_count": 68,
     "metadata": {},
     "output_type": "execute_result"
    },
    {
     "data": {
      "text/plain": [
       "[<matplotlib.lines.Line2D at 0x1d400eb1248>]"
      ]
     },
     "execution_count": 68,
     "metadata": {},
     "output_type": "execute_result"
    },
    {
     "data": {
      "text/plain": [
       "Text(0.5, 0, 'epochs')"
      ]
     },
     "execution_count": 68,
     "metadata": {},
     "output_type": "execute_result"
    },
    {
     "data": {
      "text/plain": [
       "Text(0, 0.5, 'MSE')"
      ]
     },
     "execution_count": 68,
     "metadata": {},
     "output_type": "execute_result"
    },
    {
     "data": {
      "text/plain": [
       "<matplotlib.legend.Legend at 0x1d400900988>"
      ]
     },
     "execution_count": 68,
     "metadata": {},
     "output_type": "execute_result"
    },
    {
     "data": {
      "image/png": "[encoded data removed]",
      "text/plain": [
       "<Figure size 432x288 with 1 Axes>"
      ]
     },
     "metadata": {
      "needs_background": "light"
     },
     "output_type": "display_data"
    }
   ],
   "source": [
    "plt.plot(train_l, label='train_l')\n",
    "plt.plot(train_l3, label='train_l3')\n",
    "plt.plot(train_l1, label='train_l1')\n",
    "plt.xlabel('epochs')\n",
    "plt.ylabel('MSE')\n",
    "plt.legend(loc = 1)"
   ]
  },
  {
   "cell_type": "markdown",
   "metadata": {},
   "source": [
    "我们发现，相比恒定学习率为0.01的模型，拥有学习率调度的模型结果更优秀。"
   ]
  },
  {
   "cell_type": "markdown",
   "metadata": {},
   "source": [
    "- 对比Lesson 15.1节中学习率调度模型"
   ]
  },
  {
   "cell_type": "code",
   "execution_count": 69,
   "metadata": {},
   "outputs": [
    {
     "data": {
      "text/plain": [
       "<torch._C.Generator at 0x1d47ba616d0>"
      ]
     },
     "execution_count": 69,
     "metadata": {},
     "output_type": "execute_result"
    }
   ],
   "source": [
    "# 设置随机数种子\n",
    "torch.manual_seed(24)  \n",
    "\n",
    "# 实例化模型  \n",
    "tanh_model = net_class2(act_fun=torch.tanh, in_features=5, BN_model='pre')"
   ]
  },
  {
   "cell_type": "code",
   "execution_count": 71,
   "metadata": {},
   "outputs": [
    {
     "name": "stdin",
     "output_type": "stream",
     "text": [
      "Do you want to continue the iteration? [y/n] y\n",
      "Number of epochs: 30\n",
      "Update learning rate： 0.03\n",
      "Do you want to continue the iteration? [y/n] y\n",
      "Number of epochs: 30\n",
      "Update learning rate： 0.01\n",
      "Do you want to continue the iteration? [y/n] n\n"
     ]
    }
   ],
   "source": [
    "# 创建用于保存记录结果的空列表容器\n",
    "train_mse = []\n",
    "test_mse = []\n",
    "\n",
    "# 创建可以捕捉手动输入数据的模型训练流程\n",
    "while input(\"Do you want to continue the iteration? [y/n]\") == \"y\":    # 询问是否继续迭代\n",
    "    epochs = int(input(\"Number of epochs:\"))                           # 下一轮迭代遍历几次数据\n",
    "    lr = float(input(\"Update learning rate：\"))                        # 设置下一轮迭代的学习率\n",
    "    train_l0, test_l0 = fit_rec(net = tanh_model, \n",
    "                                criterion = nn.MSELoss(), \n",
    "                                optimizer = optim.SGD(tanh_model.parameters(), lr = lr), \n",
    "                                train_data = train_loader,\n",
    "                                test_data = test_loader,\n",
    "                                epochs = epochs, \n",
    "                                cla = False, \n",
    "                                eva = mse_cal)\n",
    "    train_mse.extend(train_l0)\n",
    "    test_mse.extend(test_l0)"
   ]
  },
  {
   "cell_type": "code",
   "execution_count": 72,
   "metadata": {},
   "outputs": [
    {
     "data": {
      "text/plain": [
       "[<matplotlib.lines.Line2D at 0x1d400a6bd88>]"
      ]
     },
     "execution_count": 72,
     "metadata": {},
     "output_type": "execute_result"
    },
    {
     "data": {
      "text/plain": [
       "[<matplotlib.lines.Line2D at 0x1d400a76cc8>]"
      ]
     },
     "execution_count": 72,
     "metadata": {},
     "output_type": "execute_result"
    },
    {
     "data": {
      "text/plain": [
       "Text(0.5, 0, 'epochs')"
      ]
     },
     "execution_count": 72,
     "metadata": {},
     "output_type": "execute_result"
    },
    {
     "data": {
      "text/plain": [
       "Text(0, 0.5, 'MSE')"
      ]
     },
     "execution_count": 72,
     "metadata": {},
     "output_type": "execute_result"
    },
    {
     "data": {
      "text/plain": [
       "<matplotlib.legend.Legend at 0x1d400a71cc8>"
      ]
     },
     "execution_count": 72,
     "metadata": {},
     "output_type": "execute_result"
    },
    {
     "data": {
      "image/png": "[encoded data removed]",
      "text/plain": [
       "<Figure size 432x288 with 1 Axes>"
      ]
     },
     "metadata": {
      "needs_background": "light"
     },
     "output_type": "display_data"
    }
   ],
   "source": [
    "plt.plot(train_l, label='train_l')\n",
    "plt.plot(train_mse, label='train_mse')\n",
    "plt.xlabel('epochs')\n",
    "plt.ylabel('MSE')\n",
    "plt.legend(loc = 1)"
   ]
  },
  {
   "cell_type": "markdown",
   "metadata": {},
   "source": [
    "很明显，由于上一节的模型是0.03学习率模型和0.01学习率模型简单叠加结果，在恒定学习率模型效果均不如本节模型的情况下，上一节课中的模型学习率调度策略也无法有更好的表现。"
   ]
  },
  {
   "cell_type": "markdown",
   "metadata": {},
   "source": [
    "&emsp;&emsp;但是，令人惊讶的是，在训练了60轮之后，LambdaLR模型最终学习率在0.02附近，相比上述0.01学习率模型而言学习率更小。但从上述的实验中我们发现，恒定学习率时从恒定0.03到恒定0.01的过程，模型准确率已经发生了明显的下降，但在如果是采用动态调整学习率的策略，则可以在一个最终更小的学习率取值的情况下取得一个更好的模型结果。"
   ]
  },
  {
   "cell_type": "code",
   "execution_count": 31,
   "metadata": {},
   "outputs": [
    {
     "data": {
      "text/plain": [
       "0.002303489949347597"
      ]
     },
     "execution_count": 31,
     "metadata": {},
     "output_type": "execute_result"
    }
   ],
   "source": [
    "lr_lambda(60) * 0.05"
   ]
  },
  {
   "cell_type": "markdown",
   "metadata": {},
   "source": [
    "&emsp;&emsp;这其实说明损失函数在超平面空间的图像比一般的想象要复杂的多，很多时候并不是越靠近全域最小值点附近的通道就越窄，会导致迭代过程落入局部最小值陷阱的学习率大小取值也只是绝对概念。正是由于损失函数的复杂性，才导致很多时候我们认为神经网络的内部训练是个“黑箱”，才进一步导致神经网络的模型训练往往以模型结果为最终依据，这也是神经网络优化算法会诞生诸多基本原理层面比较扎实，但却找不到具体能够证明优化效果的理论依据的方法。     \n",
    "&emsp;&emsp;不过，针对此类方法，和此前介绍的Batch Normalization一样，尽管理论层面无法具体整体优化效果，但对于使用者来说仍然需要在了解其底层原理基础上积累使用经验或者调参经验。因此在后续的课程中，我们将在继续介绍其他学习率优化方法的同时，通过大量的实践来快速积累使用经验，并且在更多事实的基础上找到解释和理解的角度。"
   ]
  }
 ],
 "metadata": {
  "kernelspec": {
   "display_name": "Python 3",
   "language": "python",
   "name": "python3"
  },
  "language_info": {
   "codemirror_mode": {
    "name": "ipython",
    "version": 3
   },
   "file_extension": ".py",
   "mimetype": "text/x-python",
   "name": "python",
   "nbconvert_exporter": "python",
   "pygments_lexer": "ipython3",
   "version": "3.7.9"
  }
 },
 "nbformat": 4,
 "nbformat_minor": 4
}
